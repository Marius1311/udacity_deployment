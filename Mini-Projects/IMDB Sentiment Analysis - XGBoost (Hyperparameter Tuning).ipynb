{
 "cells": [
  {
   "cell_type": "markdown",
   "metadata": {},
   "source": [
    "# Sentiment Analysis\n",
    "\n",
    "## Using XGBoost in SageMaker\n",
    "\n",
    "_Deep Learning Nanodegree Program | Deployment_\n",
    "\n",
    "---\n",
    "\n",
    "In this example of using Amazon's SageMaker service we will construct a random tree model to predict the sentiment of a movie review. You may have seen a version of this example in a pervious lesson although it would have been done using the sklearn package. Instead, we will be using the XGBoost package as it is provided to us by Amazon.\n",
    "\n",
    "## Instructions\n",
    "\n",
    "Some template code has already been provided for you, and you will need to implement additional functionality to successfully complete this notebook. You will not need to modify the included code beyond what is requested. Sections that begin with '**TODO**' in the header indicate that you need to complete or implement some portion within them. Instructions will be provided for each section and the specifics of the implementation are marked in the code block with a `# TODO: ...` comment. Please be sure to read the instructions carefully!\n",
    "\n",
    "In addition to implementing code, there will be questions for you to answer which relate to the task and your implementation. Each section where you will answer a question is preceded by a '**Question:**' header. Carefully read each question and provide your answer below the '**Answer:**' header by editing the Markdown cell.\n",
    "\n",
    "> **Note**: Code and Markdown cells can be executed using the **Shift+Enter** keyboard shortcut. In addition, a cell can be edited by typically clicking it (double-click for Markdown cells) or by pressing **Enter** while it is highlighted."
   ]
  },
  {
   "cell_type": "markdown",
   "metadata": {},
   "source": [
    "## Step 1: Downloading the data\n",
    "\n",
    "The dataset we are going to use is very popular among researchers in Natural Language Processing, usually referred to as the [IMDb dataset](http://ai.stanford.edu/~amaas/data/sentiment/). It consists of movie reviews from the website [imdb.com](http://www.imdb.com/), each labeled as either '**pos**itive', if the reviewer enjoyed the film, or '**neg**ative' otherwise.\n",
    "\n",
    "> Maas, Andrew L., et al. [Learning Word Vectors for Sentiment Analysis](http://ai.stanford.edu/~amaas/data/sentiment/). In _Proceedings of the 49th Annual Meeting of the Association for Computational Linguistics: Human Language Technologies_. Association for Computational Linguistics, 2011.\n",
    "\n",
    "We begin by using some Jupyter Notebook magic to download and extract the dataset."
   ]
  },
  {
   "cell_type": "code",
   "execution_count": 1,
   "metadata": {},
   "outputs": [
    {
     "name": "stdout",
     "output_type": "stream",
     "text": [
      "mkdir: cannot create directory ‘../data’: File exists\n",
      "--2019-04-06 11:00:14--  http://ai.stanford.edu/~amaas/data/sentiment/aclImdb_v1.tar.gz\n",
      "Resolving ai.stanford.edu (ai.stanford.edu)... 171.64.68.10\n",
      "Connecting to ai.stanford.edu (ai.stanford.edu)|171.64.68.10|:80... connected.\n",
      "HTTP request sent, awaiting response... 200 OK\n",
      "Length: 84125825 (80M) [application/x-gzip]\n",
      "Saving to: ‘../data/aclImdb_v1.tar.gz’\n",
      "\n",
      "../data/aclImdb_v1. 100%[===================>]  80.23M  9.93MB/s    in 9.7s    \n",
      "\n",
      "2019-04-06 11:00:24 (8.30 MB/s) - ‘../data/aclImdb_v1.tar.gz’ saved [84125825/84125825]\n",
      "\n"
     ]
    }
   ],
   "source": [
    "%mkdir ../data\n",
    "!wget -O ../data/aclImdb_v1.tar.gz http://ai.stanford.edu/~amaas/data/sentiment/aclImdb_v1.tar.gz\n",
    "!tar -zxf ../data/aclImdb_v1.tar.gz -C ../data"
   ]
  },
  {
   "cell_type": "markdown",
   "metadata": {},
   "source": [
    "## Step 2: Preparing the data\n",
    "\n",
    "The data we have downloaded is split into various files, each of which contains a single review. It will be much easier going forward if we combine these individual files into two large files, one for training and one for testing."
   ]
  },
  {
   "cell_type": "code",
   "execution_count": 2,
   "metadata": {},
   "outputs": [],
   "source": [
    "import os\n",
    "import glob\n",
    "\n",
    "def read_imdb_data(data_dir='../data/aclImdb'):\n",
    "    data = {}\n",
    "    labels = {}\n",
    "    \n",
    "    for data_type in ['train', 'test']:\n",
    "        data[data_type] = {}\n",
    "        labels[data_type] = {}\n",
    "        \n",
    "        for sentiment in ['pos', 'neg']:\n",
    "            data[data_type][sentiment] = []\n",
    "            labels[data_type][sentiment] = []\n",
    "            \n",
    "            path = os.path.join(data_dir, data_type, sentiment, '*.txt')\n",
    "            files = glob.glob(path)\n",
    "            \n",
    "            for f in files:\n",
    "                with open(f) as review:\n",
    "                    data[data_type][sentiment].append(review.read())\n",
    "                    # Here we represent a positive review by '1' and a negative review by '0'\n",
    "                    labels[data_type][sentiment].append(1 if sentiment == 'pos' else 0)\n",
    "                    \n",
    "            assert len(data[data_type][sentiment]) == len(labels[data_type][sentiment]), \\\n",
    "                    \"{}/{} data size does not match labels size\".format(data_type, sentiment)\n",
    "                \n",
    "    return data, labels"
   ]
  },
  {
   "cell_type": "code",
   "execution_count": 3,
   "metadata": {},
   "outputs": [
    {
     "name": "stdout",
     "output_type": "stream",
     "text": [
      "IMDB reviews: train = 12500 pos / 12500 neg, test = 12500 pos / 12500 neg\n"
     ]
    }
   ],
   "source": [
    "data, labels = read_imdb_data()\n",
    "print(\"IMDB reviews: train = {} pos / {} neg, test = {} pos / {} neg\".format(\n",
    "            len(data['train']['pos']), len(data['train']['neg']),\n",
    "            len(data['test']['pos']), len(data['test']['neg'])))"
   ]
  },
  {
   "cell_type": "code",
   "execution_count": 4,
   "metadata": {},
   "outputs": [],
   "source": [
    "from sklearn.utils import shuffle\n",
    "\n",
    "def prepare_imdb_data(data, labels):\n",
    "    \"\"\"Prepare training and test sets from IMDb movie reviews.\"\"\"\n",
    "    \n",
    "    #Combine positive and negative reviews and labels\n",
    "    data_train = data['train']['pos'] + data['train']['neg']\n",
    "    data_test = data['test']['pos'] + data['test']['neg']\n",
    "    labels_train = labels['train']['pos'] + labels['train']['neg']\n",
    "    labels_test = labels['test']['pos'] + labels['test']['neg']\n",
    "    \n",
    "    #Shuffle reviews and corresponding labels within training and test sets\n",
    "    data_train, labels_train = shuffle(data_train, labels_train)\n",
    "    data_test, labels_test = shuffle(data_test, labels_test)\n",
    "    \n",
    "    # Return a unified training data, test data, training labels, test labets\n",
    "    return data_train, data_test, labels_train, labels_test"
   ]
  },
  {
   "cell_type": "code",
   "execution_count": 5,
   "metadata": {},
   "outputs": [
    {
     "name": "stdout",
     "output_type": "stream",
     "text": [
      "IMDb reviews (combined): train = 25000, test = 25000\n"
     ]
    }
   ],
   "source": [
    "train_X, test_X, train_y, test_y = prepare_imdb_data(data, labels)\n",
    "print(\"IMDb reviews (combined): train = {}, test = {}\".format(len(train_X), len(test_X)))"
   ]
  },
  {
   "cell_type": "code",
   "execution_count": 6,
   "metadata": {},
   "outputs": [
    {
     "data": {
      "text/plain": [
       "\"We gave up at the point where George Clooney's character has his finger-nails extracted. We were not squeamish - having sat through an hour of this drivel we just knew what it felt like. To say this film was incomprehensible, boring, pretentious twaddle would be to over-praise it! How did people manage to sit through this confusing, slow, depressing pseud's corner of a film, let alone nominate it for an Oscar? Clooney looked as ill as we felt watching him. What was he thinking? Oh .. and what was with those subtitles? - did we just have a dud DVD or was the original film done like that - sentences left hanging in mid-air? The film was hard enough to follow without that as well. I pity the cast, who obviously did their best with the material available.\""
      ]
     },
     "execution_count": 6,
     "metadata": {},
     "output_type": "execute_result"
    }
   ],
   "source": [
    "train_X[100]"
   ]
  },
  {
   "cell_type": "markdown",
   "metadata": {},
   "source": [
    "## Step 3: Processing the data\n",
    "\n",
    "Now that we have our training and testing datasets merged and ready to use, we need to start processing the raw data into something that will be useable by our machine learning algorithm. To begin with, we remove any html formatting that may appear in the reviews and perform some standard natural language processing in order to homogenize the data."
   ]
  },
  {
   "cell_type": "code",
   "execution_count": 7,
   "metadata": {},
   "outputs": [
    {
     "name": "stdout",
     "output_type": "stream",
     "text": [
      "[nltk_data] Downloading package stopwords to\n",
      "[nltk_data]     /home/ec2-user/nltk_data...\n",
      "[nltk_data]   Package stopwords is already up-to-date!\n"
     ]
    }
   ],
   "source": [
    "import nltk\n",
    "nltk.download(\"stopwords\")\n",
    "from nltk.corpus import stopwords\n",
    "from nltk.stem.porter import *\n",
    "stemmer = PorterStemmer()"
   ]
  },
  {
   "cell_type": "code",
   "execution_count": 8,
   "metadata": {},
   "outputs": [],
   "source": [
    "import re\n",
    "from bs4 import BeautifulSoup\n",
    "\n",
    "def review_to_words(review):\n",
    "    text = BeautifulSoup(review, \"html.parser\").get_text() # Remove HTML tags\n",
    "    text = re.sub(r\"[^a-zA-Z0-9]\", \" \", text.lower()) # Convert to lower case\n",
    "    words = text.split() # Split string into words\n",
    "    words = [w for w in words if w not in stopwords.words(\"english\")] # Remove stopwords\n",
    "    words = [PorterStemmer().stem(w) for w in words] # stem\n",
    "    \n",
    "    return words"
   ]
  },
  {
   "cell_type": "code",
   "execution_count": 9,
   "metadata": {},
   "outputs": [],
   "source": [
    "import pickle\n",
    "\n",
    "cache_dir = os.path.join(\"../cache\", \"sentiment_analysis\")  # where to store cache files\n",
    "os.makedirs(cache_dir, exist_ok=True)  # ensure cache directory exists\n",
    "\n",
    "def preprocess_data(data_train, data_test, labels_train, labels_test,\n",
    "                    cache_dir=cache_dir, cache_file=\"preprocessed_data.pkl\"):\n",
    "    \"\"\"Convert each review to words; read from cache if available.\"\"\"\n",
    "\n",
    "    # If cache_file is not None, try to read from it first\n",
    "    cache_data = None\n",
    "    if cache_file is not None:\n",
    "        try:\n",
    "            with open(os.path.join(cache_dir, cache_file), \"rb\") as f:\n",
    "                cache_data = pickle.load(f)\n",
    "            print(\"Read preprocessed data from cache file:\", cache_file)\n",
    "        except:\n",
    "            pass  # unable to read from cache, but that's okay\n",
    "    \n",
    "    # If cache is missing, then do the heavy lifting\n",
    "    if cache_data is None:\n",
    "        # Preprocess training and test data to obtain words for each review\n",
    "        #words_train = list(map(review_to_words, data_train))\n",
    "        #words_test = list(map(review_to_words, data_test))\n",
    "        words_train = [review_to_words(review) for review in data_train]\n",
    "        words_test = [review_to_words(review) for review in data_test]\n",
    "        \n",
    "        # Write to cache file for future runs\n",
    "        if cache_file is not None:\n",
    "            cache_data = dict(words_train=words_train, words_test=words_test,\n",
    "                              labels_train=labels_train, labels_test=labels_test)\n",
    "            with open(os.path.join(cache_dir, cache_file), \"wb\") as f:\n",
    "                pickle.dump(cache_data, f)\n",
    "            print(\"Wrote preprocessed data to cache file:\", cache_file)\n",
    "    else:\n",
    "        # Unpack data loaded from cache file\n",
    "        words_train, words_test, labels_train, labels_test = (cache_data['words_train'],\n",
    "                cache_data['words_test'], cache_data['labels_train'], cache_data['labels_test'])\n",
    "    \n",
    "    return words_train, words_test, labels_train, labels_test"
   ]
  },
  {
   "cell_type": "code",
   "execution_count": 10,
   "metadata": {},
   "outputs": [
    {
     "name": "stdout",
     "output_type": "stream",
     "text": [
      "Read preprocessed data from cache file: preprocessed_data.pkl\n"
     ]
    }
   ],
   "source": [
    "# Preprocess data\n",
    "train_X, test_X, train_y, test_y = preprocess_data(train_X, test_X, train_y, test_y)"
   ]
  },
  {
   "cell_type": "markdown",
   "metadata": {},
   "source": [
    "### Extract Bag-of-Words features\n",
    "\n",
    "For the model we will be implementing, rather than using the reviews directly, we are going to transform each review into a Bag-of-Words feature representation. Keep in mind that 'in the wild' we will only have access to the training set so our transformer can only use the training set to construct a representation."
   ]
  },
  {
   "cell_type": "code",
   "execution_count": 11,
   "metadata": {},
   "outputs": [],
   "source": [
    "import numpy as np\n",
    "from sklearn.feature_extraction.text import CountVectorizer\n",
    "from sklearn.externals import joblib\n",
    "# joblib is an enhanced version of pickle that is more efficient for storing NumPy arrays\n",
    "\n",
    "def extract_BoW_features(words_train, words_test, vocabulary_size=5000,\n",
    "                         cache_dir=cache_dir, cache_file=\"bow_features.pkl\"):\n",
    "    \"\"\"Extract Bag-of-Words for a given set of documents, already preprocessed into words.\"\"\"\n",
    "    \n",
    "    # If cache_file is not None, try to read from it first\n",
    "    cache_data = None\n",
    "    if cache_file is not None:\n",
    "        try:\n",
    "            with open(os.path.join(cache_dir, cache_file), \"rb\") as f:\n",
    "                cache_data = joblib.load(f)\n",
    "            print(\"Read features from cache file:\", cache_file)\n",
    "        except:\n",
    "            pass  # unable to read from cache, but that's okay\n",
    "    \n",
    "    # If cache is missing, then do the heavy lifting\n",
    "    if cache_data is None:\n",
    "        # Fit a vectorizer to training documents and use it to transform them\n",
    "        # NOTE: Training documents have already been preprocessed and tokenized into words;\n",
    "        #       pass in dummy functions to skip those steps, e.g. preprocessor=lambda x: x\n",
    "        vectorizer = CountVectorizer(max_features=vocabulary_size,\n",
    "                preprocessor=lambda x: x, tokenizer=lambda x: x)  # already preprocessed\n",
    "        features_train = vectorizer.fit_transform(words_train).toarray()\n",
    "\n",
    "        # Apply the same vectorizer to transform the test documents (ignore unknown words)\n",
    "        features_test = vectorizer.transform(words_test).toarray()\n",
    "        \n",
    "        # NOTE: Remember to convert the features using .toarray() for a compact representation\n",
    "        \n",
    "        # Write to cache file for future runs (store vocabulary as well)\n",
    "        if cache_file is not None:\n",
    "            vocabulary = vectorizer.vocabulary_\n",
    "            cache_data = dict(features_train=features_train, features_test=features_test,\n",
    "                             vocabulary=vocabulary)\n",
    "            with open(os.path.join(cache_dir, cache_file), \"wb\") as f:\n",
    "                joblib.dump(cache_data, f)\n",
    "            print(\"Wrote features to cache file:\", cache_file)\n",
    "    else:\n",
    "        # Unpack data loaded from cache file\n",
    "        features_train, features_test, vocabulary = (cache_data['features_train'],\n",
    "                cache_data['features_test'], cache_data['vocabulary'])\n",
    "    \n",
    "    # Return both the extracted features as well as the vocabulary\n",
    "    return features_train, features_test, vocabulary"
   ]
  },
  {
   "cell_type": "code",
   "execution_count": 12,
   "metadata": {},
   "outputs": [
    {
     "name": "stdout",
     "output_type": "stream",
     "text": [
      "Wrote features to cache file: bow_features.pkl\n"
     ]
    }
   ],
   "source": [
    "# Extract Bag of Words features for both training and test datasets\n",
    "train_X, test_X, vocabulary = extract_BoW_features(train_X, test_X)"
   ]
  },
  {
   "cell_type": "markdown",
   "metadata": {},
   "source": [
    "## Step 4: Classification using XGBoost\n",
    "\n",
    "Now that we have created the feature representation of our training (and testing) data, it is time to start setting up and using the XGBoost classifier provided by SageMaker.\n",
    "\n",
    "### Writing the dataset\n",
    "\n",
    "The XGBoost classifier that we will be using requires the dataset to be written to a file and stored using Amazon S3. To do this, we will start by splitting the training dataset into two parts, the data we will train the model with and a validation set. Then, we will write those datasets to a file and upload the files to S3. In addition, we will write the test set input to a file and upload the file to S3. This is so that we can use SageMakers Batch Transform functionality to test our model once we've fit it."
   ]
  },
  {
   "cell_type": "code",
   "execution_count": 13,
   "metadata": {},
   "outputs": [],
   "source": [
    "import pandas as pd\n",
    "\n",
    "val_X = pd.DataFrame(train_X[:10000])\n",
    "train_X = pd.DataFrame(train_X[10000:])\n",
    "\n",
    "val_y = pd.DataFrame(train_y[:10000])\n",
    "train_y = pd.DataFrame(train_y[10000:])\n",
    "\n",
    "test_y = pd.DataFrame(test_y)\n",
    "test_X = pd.DataFrame(test_X)"
   ]
  },
  {
   "cell_type": "markdown",
   "metadata": {},
   "source": [
    "The documentation for the XGBoost algorithm in SageMaker requires that the saved datasets should contain no headers or index and that for the training and validation data, the label should occur first for each sample.\n",
    "\n",
    "For more information about this and other algorithms, the SageMaker developer documentation can be found on __[Amazon's website.](https://docs.aws.amazon.com/sagemaker/latest/dg/)__"
   ]
  },
  {
   "cell_type": "code",
   "execution_count": 14,
   "metadata": {},
   "outputs": [],
   "source": [
    "# First we make sure that the local directory in which we'd like to store the training and validation csv files exists.\n",
    "data_dir = '../data/xgboost'\n",
    "if not os.path.exists(data_dir):\n",
    "    os.makedirs(data_dir)"
   ]
  },
  {
   "cell_type": "code",
   "execution_count": 15,
   "metadata": {},
   "outputs": [],
   "source": [
    "# First, save the test data to test.csv in the data_dir directory. Note that we do not save the associated ground truth\n",
    "# labels, instead we will use them later to compare with our model output.\n",
    "\n",
    "# well this description is wrong because now we do save the labels for testing as well becaue we want sagemaker\n",
    "# to compare between different models for us\n",
    "\n",
    "\n",
    "pd.concat([val_y, val_X], axis=1).to_csv(os.path.join(data_dir, 'validation.csv'), header=False, index=False)\n",
    "pd.concat([train_y, train_X], axis=1).to_csv(os.path.join(data_dir, 'train.csv'), header=False, index=False)"
   ]
  },
  {
   "cell_type": "code",
   "execution_count": 32,
   "metadata": {},
   "outputs": [],
   "source": [
    "test_X.to_csv(os.path.join(data_dir, 'test.csv'), header=False, index=False)"
   ]
  },
  {
   "cell_type": "code",
   "execution_count": 16,
   "metadata": {},
   "outputs": [],
   "source": [
    "# To save a bit of memory we can set text_X, train_X, val_X, train_y and val_y to None.\n",
    "\n",
    "train_X = val_X = train_y = val_y = None"
   ]
  },
  {
   "cell_type": "markdown",
   "metadata": {},
   "source": [
    "### Uploading Training / Validation files to S3\n",
    "\n",
    "Amazon's S3 service allows us to store files that can be access by both the built-in training models such as the XGBoost model we will be using as well as custom models such as the one we will see a little later.\n",
    "\n",
    "For this, and most other tasks we will be doing using SageMaker, there are two methods we could use. The first is to use the low level functionality of SageMaker which requires knowing each of the objects involved in the SageMaker environment. The second is to use the high level functionality in which certain choices have been made on the user's behalf. The low level approach benefits from allowing the user a great deal of flexibility while the high level approach makes development much quicker. For our purposes we will opt to use the high level approach although using the low-level approach is certainly an option.\n",
    "\n",
    "Recall the method `upload_data()` which is a member of object representing our current SageMaker session. What this method does is upload the data to the default bucket (which is created if it does not exist) into the path described by the key_prefix variable. To see this for yourself, once you have uploaded the data files, go to the S3 console and look to see where the files have been uploaded.\n",
    "\n",
    "For additional resources, see the __[SageMaker API documentation](http://sagemaker.readthedocs.io/en/latest/)__ and in addition the __[SageMaker Developer Guide.](https://docs.aws.amazon.com/sagemaker/latest/dg/)__"
   ]
  },
  {
   "cell_type": "code",
   "execution_count": 17,
   "metadata": {},
   "outputs": [],
   "source": [
    "import sagemaker\n",
    "\n",
    "session = sagemaker.Session() # Store the current SageMaker session\n",
    "\n",
    "# S3 prefix (which folder will we use)\n",
    "prefix = 'sentiment-xgboost'\n",
    "\n",
    "\n",
    "val_location = session.upload_data(os.path.join(data_dir, 'validation.csv'), key_prefix=prefix)\n",
    "train_location = session.upload_data(os.path.join(data_dir, 'train.csv'), key_prefix=prefix)"
   ]
  },
  {
   "cell_type": "code",
   "execution_count": 33,
   "metadata": {},
   "outputs": [],
   "source": [
    "test_location = session.upload_data(os.path.join(data_dir, 'test.csv'), key_prefix=prefix)"
   ]
  },
  {
   "cell_type": "code",
   "execution_count": null,
   "metadata": {},
   "outputs": [],
   "source": []
  },
  {
   "cell_type": "markdown",
   "metadata": {},
   "source": [
    "### (TODO) Creating a hypertuned XGBoost model\n",
    "\n",
    "Now that the data has been uploaded it is time to create the XGBoost model. As in the Boston Housing notebook, the first step is to create an estimator object which will be used as the *base* of your hyperparameter tuning job."
   ]
  },
  {
   "cell_type": "code",
   "execution_count": 18,
   "metadata": {},
   "outputs": [],
   "source": [
    "from sagemaker import get_execution_role\n",
    "\n",
    "# Our current execution role is require when creating the model as the training\n",
    "# and inference code will need to access the model artifacts.\n",
    "role = get_execution_role()"
   ]
  },
  {
   "cell_type": "code",
   "execution_count": 19,
   "metadata": {},
   "outputs": [],
   "source": [
    "# We need to retrieve the location of the container which is provided by Amazon for using XGBoost.\n",
    "# As a matter of convenience, the training and inference code both use the same container.\n",
    "from sagemaker.amazon.amazon_estimator import get_image_uri\n",
    "\n",
    "container = get_image_uri(session.boto_region_name, 'xgboost')"
   ]
  },
  {
   "cell_type": "code",
   "execution_count": 20,
   "metadata": {},
   "outputs": [
    {
     "data": {
      "text/plain": [
       "'sentiment-xgboost'"
      ]
     },
     "execution_count": 20,
     "metadata": {},
     "output_type": "execute_result"
    }
   ],
   "source": [
    "prefix"
   ]
  },
  {
   "cell_type": "code",
   "execution_count": 22,
   "metadata": {},
   "outputs": [],
   "source": [
    "# TODO: Create a SageMaker estimator using the container location determined in the previous cell.\n",
    "#       It is recommended that you use a single training instance of type ml.m4.xlarge. It is also\n",
    "#       recommended that you use 's3://{}/{}/output'.format(session.default_bucket(), prefix) as the\n",
    "#       output path.\n",
    "\n",
    "xgb = sagemaker.estimator.Estimator(container, role, 1,  \"ml.m4.xlarge\", \n",
    "                                    output_path='s3://{}/{}/output'.format(session.default_bucket(), prefix), \n",
    "                                    sagemaker_session=session  )\n",
    "\n",
    "# TODO: Set the XGBoost hyperparameters in the xgb object. Don't forget that in this case we have a binary\n",
    "#       label so we should be using the 'binary:logistic' objective.\n",
    "xgb.set_hyperparameters(max_depth=5,\n",
    "                        eta=0.2,\n",
    "                        gamma=4,\n",
    "                        min_child_weight=6,\n",
    "                        subsample=0.8,\n",
    "                        objective='binary:logistic',\n",
    "                        early_stopping_rounds=10,\n",
    "                        num_round=200)"
   ]
  },
  {
   "cell_type": "markdown",
   "metadata": {},
   "source": [
    "### (TODO) Create the hyperparameter tuner\n",
    "\n",
    "Now that the base estimator has been set up we need to construct a hyperparameter tuner object which we will use to request SageMaker construct a hyperparameter tuning job.\n",
    "\n",
    "**Note:** Training a single sentiment analysis XGBoost model takes longer than training a Boston Housing XGBoost model so if you don't want the hyperparameter tuning job to take too long, make sure to not set the total number of models (jobs) too high."
   ]
  },
  {
   "cell_type": "code",
   "execution_count": 23,
   "metadata": {},
   "outputs": [],
   "source": [
    "# First, make sure to import the relevant objects used to construct the tuner\n",
    "from sagemaker.tuner import IntegerParameter, ContinuousParameter, HyperparameterTuner"
   ]
  },
  {
   "cell_type": "code",
   "execution_count": 24,
   "metadata": {},
   "outputs": [],
   "source": [
    "# TODO: Create the hyperparameter tuner object\n",
    "\n",
    "xgb_hyperparameter_tuner = HyperparameterTuner(estimator=xgb, \n",
    "                                               objective_metric_name=\"validation:rmse\", \n",
    "                                               objective_type=\"Minimize\", max_jobs=3, max_parallel_jobs=3, \n",
    "                                              hyperparameter_ranges = {\n",
    "                                                    'max_depth': IntegerParameter(3, 12),\n",
    "                                                    'eta'      : ContinuousParameter(0.05, 0.5),\n",
    "                                                    'min_child_weight': IntegerParameter(2, 8),\n",
    "                                                    'subsample': ContinuousParameter(0.5, 0.9),\n",
    "                                                    'gamma': ContinuousParameter(0, 10),\n",
    "                                               })"
   ]
  },
  {
   "cell_type": "markdown",
   "metadata": {},
   "source": [
    "### Fit the hyperparameter tuner\n",
    "\n",
    "Now that the hyperparameter tuner object has been constructed, it is time to fit the various models and find the best performing model."
   ]
  },
  {
   "cell_type": "code",
   "execution_count": 25,
   "metadata": {},
   "outputs": [],
   "source": [
    "s3_input_train = sagemaker.s3_input(s3_data=train_location, content_type='csv')\n",
    "s3_input_validation = sagemaker.s3_input(s3_data=val_location, content_type='csv')"
   ]
  },
  {
   "cell_type": "code",
   "execution_count": 26,
   "metadata": {},
   "outputs": [
    {
     "name": "stderr",
     "output_type": "stream",
     "text": [
      "INFO:sagemaker:Creating hyperparameter tuning job with name: xgboost-190406-1125\n"
     ]
    }
   ],
   "source": [
    "xgb_hyperparameter_tuner.fit({'train': s3_input_train, 'validation': s3_input_validation})"
   ]
  },
  {
   "cell_type": "markdown",
   "metadata": {},
   "source": [
    "Remember that the tuning job is constructed and run in the background so if we want to see the progress of our training job we need to call the `wait()` method."
   ]
  },
  {
   "cell_type": "code",
   "execution_count": 27,
   "metadata": {},
   "outputs": [
    {
     "name": "stdout",
     "output_type": "stream",
     "text": [
      "..............................................................................................................................................................!\n"
     ]
    }
   ],
   "source": [
    "xgb_hyperparameter_tuner.wait()"
   ]
  },
  {
   "cell_type": "markdown",
   "metadata": {},
   "source": [
    "### (TODO) Testing the model\n",
    "\n",
    "Now that we've run our hyperparameter tuning job, it's time to see how well the best performing model actually performs. To do this we will use SageMaker's Batch Transform functionality. Batch Transform is a convenient way to perform inference on a large dataset in a way that is not realtime. That is, we don't necessarily need to use our model's results immediately and instead we can peform inference on a large number of samples. An example of this in industry might be peforming an end of month report. This method of inference can also be useful to us as it means to can perform inference on our entire test set. \n",
    "\n",
    "Remember that in order to create a transformer object to perform the batch transform job, we need a trained estimator object. We can do that using the `attach()` method, creating an estimator object which is attached to the best trained job."
   ]
  },
  {
   "cell_type": "code",
   "execution_count": 28,
   "metadata": {},
   "outputs": [
    {
     "data": {
      "text/plain": [
       "'xgboost-190406-1125-002-39349424'"
      ]
     },
     "execution_count": 28,
     "metadata": {},
     "output_type": "execute_result"
    }
   ],
   "source": [
    "xgb_hyperparameter_tuner.best_training_job()"
   ]
  },
  {
   "cell_type": "code",
   "execution_count": 29,
   "metadata": {},
   "outputs": [
    {
     "name": "stdout",
     "output_type": "stream",
     "text": [
      "2019-04-06 11:38:22 Starting - Preparing the instances for training\n",
      "2019-04-06 11:38:22 Downloading - Downloading input data\n",
      "2019-04-06 11:38:22 Training - Training image download completed. Training in progress.\n",
      "2019-04-06 11:38:22 Uploading - Uploading generated training model\n",
      "2019-04-06 11:38:22 Completed - Training job completed\u001b[31mArguments: train\u001b[0m\n",
      "\u001b[31m[2019-04-06:11:28:08:INFO] Running standalone xgboost training.\u001b[0m\n",
      "\u001b[31m[2019-04-06:11:28:08:INFO] Setting up HPO optimized metric to be : rmse\u001b[0m\n",
      "\u001b[31m[2019-04-06:11:28:08:INFO] File size need to be processed in the node: 238.47mb. Available memory size in the node: 8417.07mb\u001b[0m\n",
      "\u001b[31m[2019-04-06:11:28:08:INFO] Determined delimiter of CSV input is ','\u001b[0m\n",
      "\u001b[31m[11:28:08] S3DistributionType set as FullyReplicated\u001b[0m\n",
      "\u001b[31m[11:28:10] 15000x5000 matrix with 75000000 entries loaded from /opt/ml/input/data/train?format=csv&label_column=0&delimiter=,\u001b[0m\n",
      "\u001b[31m[2019-04-06:11:28:10:INFO] Determined delimiter of CSV input is ','\u001b[0m\n",
      "\u001b[31m[11:28:10] S3DistributionType set as FullyReplicated\u001b[0m\n",
      "\u001b[31m[11:28:11] 10000x5000 matrix with 50000000 entries loaded from /opt/ml/input/data/validation?format=csv&label_column=0&delimiter=,\u001b[0m\n",
      "\u001b[31m[11:28:16] src/tree/updater_prune.cc:74: tree pruning end, 1 roots, 118 extra nodes, 32 pruned nodes, max_depth=10\u001b[0m\n",
      "\u001b[31m[0]#011train-rmse:0.473688#011validation-rmse:0.476364\u001b[0m\n",
      "\u001b[31mMultiple eval metrics have been passed: 'validation-rmse' will be used for early stopping.\n",
      "\u001b[0m\n",
      "\u001b[31mWill train until validation-rmse hasn't improved in 10 rounds.\u001b[0m\n",
      "\u001b[31m[11:28:19] src/tree/updater_prune.cc:74: tree pruning end, 1 roots, 106 extra nodes, 62 pruned nodes, max_depth=10\u001b[0m\n",
      "\u001b[31m[1]#011train-rmse:0.454148#011validation-rmse:0.458693\u001b[0m\n",
      "\u001b[31m[11:28:23] src/tree/updater_prune.cc:74: tree pruning end, 1 roots, 84 extra nodes, 42 pruned nodes, max_depth=10\u001b[0m\n",
      "\u001b[31m[2]#011train-rmse:0.439017#011validation-rmse:0.445758\u001b[0m\n",
      "\u001b[31m[11:28:25] src/tree/updater_prune.cc:74: tree pruning end, 1 roots, 78 extra nodes, 60 pruned nodes, max_depth=10\u001b[0m\n",
      "\u001b[31m[3]#011train-rmse:0.427454#011validation-rmse:0.435702\u001b[0m\n",
      "\u001b[31m[11:28:28] src/tree/updater_prune.cc:74: tree pruning end, 1 roots, 106 extra nodes, 64 pruned nodes, max_depth=10\u001b[0m\n",
      "\u001b[31m[4]#011train-rmse:0.417177#011validation-rmse:0.427684\u001b[0m\n",
      "\u001b[31m[11:28:31] src/tree/updater_prune.cc:74: tree pruning end, 1 roots, 68 extra nodes, 60 pruned nodes, max_depth=10\u001b[0m\n",
      "\u001b[31m[5]#011train-rmse:0.408863#011validation-rmse:0.420926\u001b[0m\n",
      "\u001b[31m[11:28:34] src/tree/updater_prune.cc:74: tree pruning end, 1 roots, 66 extra nodes, 58 pruned nodes, max_depth=10\u001b[0m\n",
      "\u001b[31m[6]#011train-rmse:0.40146#011validation-rmse:0.414966\u001b[0m\n",
      "\u001b[31m[11:28:37] src/tree/updater_prune.cc:74: tree pruning end, 1 roots, 78 extra nodes, 70 pruned nodes, max_depth=10\u001b[0m\n",
      "\u001b[31m[7]#011train-rmse:0.394875#011validation-rmse:0.409756\u001b[0m\n",
      "\u001b[31m[11:28:40] src/tree/updater_prune.cc:74: tree pruning end, 1 roots, 84 extra nodes, 56 pruned nodes, max_depth=10\u001b[0m\n",
      "\u001b[31m[8]#011train-rmse:0.388709#011validation-rmse:0.405245\u001b[0m\n",
      "\u001b[31m[11:28:43] src/tree/updater_prune.cc:74: tree pruning end, 1 roots, 64 extra nodes, 46 pruned nodes, max_depth=10\u001b[0m\n",
      "\u001b[31m[9]#011train-rmse:0.383376#011validation-rmse:0.401382\u001b[0m\n",
      "\u001b[31m[11:28:45] src/tree/updater_prune.cc:74: tree pruning end, 1 roots, 86 extra nodes, 50 pruned nodes, max_depth=10\u001b[0m\n",
      "\u001b[31m[10]#011train-rmse:0.378019#011validation-rmse:0.397491\u001b[0m\n",
      "\u001b[31m[11:28:48] src/tree/updater_prune.cc:74: tree pruning end, 1 roots, 46 extra nodes, 58 pruned nodes, max_depth=10\u001b[0m\n",
      "\u001b[31m[11]#011train-rmse:0.37386#011validation-rmse:0.394064\u001b[0m\n",
      "\u001b[31m[11:28:51] src/tree/updater_prune.cc:74: tree pruning end, 1 roots, 64 extra nodes, 50 pruned nodes, max_depth=10\u001b[0m\n",
      "\u001b[31m[12]#011train-rmse:0.369306#011validation-rmse:0.391022\u001b[0m\n",
      "\u001b[31m[11:28:54] src/tree/updater_prune.cc:74: tree pruning end, 1 roots, 48 extra nodes, 50 pruned nodes, max_depth=10\u001b[0m\n",
      "\u001b[31m[13]#011train-rmse:0.365663#011validation-rmse:0.38799\u001b[0m\n",
      "\u001b[31m[11:28:57] src/tree/updater_prune.cc:74: tree pruning end, 1 roots, 56 extra nodes, 52 pruned nodes, max_depth=10\u001b[0m\n",
      "\u001b[31m[14]#011train-rmse:0.361992#011validation-rmse:0.385092\u001b[0m\n",
      "\u001b[31m[11:29:00] src/tree/updater_prune.cc:74: tree pruning end, 1 roots, 36 extra nodes, 46 pruned nodes, max_depth=10\u001b[0m\n",
      "\u001b[31m[15]#011train-rmse:0.358852#011validation-rmse:0.382625\u001b[0m\n",
      "\u001b[31m[11:29:03] src/tree/updater_prune.cc:74: tree pruning end, 1 roots, 66 extra nodes, 46 pruned nodes, max_depth=10\u001b[0m\n",
      "\u001b[31m[16]#011train-rmse:0.355186#011validation-rmse:0.37987\u001b[0m\n",
      "\u001b[31m[11:29:05] src/tree/updater_prune.cc:74: tree pruning end, 1 roots, 48 extra nodes, 28 pruned nodes, max_depth=10\u001b[0m\n",
      "\u001b[31m[17]#011train-rmse:0.35223#011validation-rmse:0.377811\u001b[0m\n",
      "\u001b[31m[11:29:08] src/tree/updater_prune.cc:74: tree pruning end, 1 roots, 66 extra nodes, 58 pruned nodes, max_depth=10\u001b[0m\n",
      "\u001b[31m[18]#011train-rmse:0.348712#011validation-rmse:0.375629\u001b[0m\n",
      "\u001b[31m[11:29:11] src/tree/updater_prune.cc:74: tree pruning end, 1 roots, 46 extra nodes, 68 pruned nodes, max_depth=10\u001b[0m\n",
      "\u001b[31m[19]#011train-rmse:0.346014#011validation-rmse:0.374006\u001b[0m\n",
      "\u001b[31m[11:29:14] src/tree/updater_prune.cc:74: tree pruning end, 1 roots, 56 extra nodes, 60 pruned nodes, max_depth=10\u001b[0m\n",
      "\u001b[31m[20]#011train-rmse:0.343529#011validation-rmse:0.372516\u001b[0m\n",
      "\u001b[31m[11:29:17] src/tree/updater_prune.cc:74: tree pruning end, 1 roots, 48 extra nodes, 56 pruned nodes, max_depth=10\u001b[0m\n",
      "\u001b[31m[21]#011train-rmse:0.34106#011validation-rmse:0.370796\u001b[0m\n",
      "\u001b[31m[11:29:20] src/tree/updater_prune.cc:74: tree pruning end, 1 roots, 44 extra nodes, 34 pruned nodes, max_depth=10\u001b[0m\n",
      "\u001b[31m[22]#011train-rmse:0.338429#011validation-rmse:0.368437\u001b[0m\n",
      "\u001b[31m[11:29:22] src/tree/updater_prune.cc:74: tree pruning end, 1 roots, 40 extra nodes, 46 pruned nodes, max_depth=10\u001b[0m\n",
      "\u001b[31m[23]#011train-rmse:0.336244#011validation-rmse:0.366581\u001b[0m\n",
      "\u001b[31m[11:29:25] src/tree/updater_prune.cc:74: tree pruning end, 1 roots, 38 extra nodes, 36 pruned nodes, max_depth=10\u001b[0m\n",
      "\u001b[31m[24]#011train-rmse:0.334149#011validation-rmse:0.364545\u001b[0m\n",
      "\u001b[31m[11:29:28] src/tree/updater_prune.cc:74: tree pruning end, 1 roots, 54 extra nodes, 40 pruned nodes, max_depth=10\u001b[0m\n",
      "\u001b[31m[25]#011train-rmse:0.331573#011validation-rmse:0.362246\u001b[0m\n",
      "\u001b[31m[11:29:31] src/tree/updater_prune.cc:74: tree pruning end, 1 roots, 44 extra nodes, 56 pruned nodes, max_depth=10\u001b[0m\n",
      "\u001b[31m[26]#011train-rmse:0.329774#011validation-rmse:0.361151\u001b[0m\n",
      "\u001b[31m[11:29:34] src/tree/updater_prune.cc:74: tree pruning end, 1 roots, 52 extra nodes, 34 pruned nodes, max_depth=10\u001b[0m\n",
      "\u001b[31m[27]#011train-rmse:0.327503#011validation-rmse:0.359957\u001b[0m\n",
      "\u001b[31m[11:29:37] src/tree/updater_prune.cc:74: tree pruning end, 1 roots, 34 extra nodes, 44 pruned nodes, max_depth=10\u001b[0m\n",
      "\u001b[31m[28]#011train-rmse:0.325813#011validation-rmse:0.358803\u001b[0m\n",
      "\u001b[31m[11:29:40] src/tree/updater_prune.cc:74: tree pruning end, 1 roots, 36 extra nodes, 22 pruned nodes, max_depth=10\u001b[0m\n",
      "\u001b[31m[29]#011train-rmse:0.323968#011validation-rmse:0.357485\u001b[0m\n",
      "\u001b[31m[11:29:42] src/tree/updater_prune.cc:74: tree pruning end, 1 roots, 44 extra nodes, 26 pruned nodes, max_depth=10\u001b[0m\n",
      "\u001b[31m[30]#011train-rmse:0.322134#011validation-rmse:0.356334\u001b[0m\n",
      "\u001b[31m[11:29:45] src/tree/updater_prune.cc:74: tree pruning end, 1 roots, 48 extra nodes, 38 pruned nodes, max_depth=10\u001b[0m\n",
      "\u001b[31m[31]#011train-rmse:0.320217#011validation-rmse:0.355027\u001b[0m\n",
      "\u001b[31m[11:29:48] src/tree/updater_prune.cc:74: tree pruning end, 1 roots, 32 extra nodes, 56 pruned nodes, max_depth=10\u001b[0m\n",
      "\u001b[31m[32]#011train-rmse:0.318675#011validation-rmse:0.353871\u001b[0m\n",
      "\u001b[31m[11:29:51] src/tree/updater_prune.cc:74: tree pruning end, 1 roots, 52 extra nodes, 56 pruned nodes, max_depth=10\u001b[0m\n",
      "\u001b[31m[33]#011train-rmse:0.316822#011validation-rmse:0.35297\u001b[0m\n",
      "\u001b[31m[11:29:54] src/tree/updater_prune.cc:74: tree pruning end, 1 roots, 38 extra nodes, 36 pruned nodes, max_depth=10\u001b[0m\n",
      "\u001b[31m[34]#011train-rmse:0.315339#011validation-rmse:0.352365\u001b[0m\n",
      "\u001b[31m[11:29:57] src/tree/updater_prune.cc:74: tree pruning end, 1 roots, 60 extra nodes, 42 pruned nodes, max_depth=10\u001b[0m\n",
      "\u001b[31m[35]#011train-rmse:0.313214#011validation-rmse:0.351355\u001b[0m\n",
      "\u001b[31m[11:30:00] src/tree/updater_prune.cc:74: tree pruning end, 1 roots, 30 extra nodes, 56 pruned nodes, max_depth=10\u001b[0m\n",
      "\u001b[31m[36]#011train-rmse:0.311867#011validation-rmse:0.350225\u001b[0m\n",
      "\u001b[31m[11:30:02] src/tree/updater_prune.cc:74: tree pruning end, 1 roots, 62 extra nodes, 52 pruned nodes, max_depth=10\u001b[0m\n",
      "\u001b[31m[37]#011train-rmse:0.309837#011validation-rmse:0.349758\u001b[0m\n",
      "\u001b[31m[11:30:05] src/tree/updater_prune.cc:74: tree pruning end, 1 roots, 30 extra nodes, 34 pruned nodes, max_depth=10\u001b[0m\n",
      "\u001b[31m[38]#011train-rmse:0.308596#011validation-rmse:0.348926\u001b[0m\n",
      "\u001b[31m[11:30:08] src/tree/updater_prune.cc:74: tree pruning end, 1 roots, 34 extra nodes, 22 pruned nodes, max_depth=10\u001b[0m\n",
      "\u001b[31m[39]#011train-rmse:0.307311#011validation-rmse:0.347867\u001b[0m\n",
      "\u001b[31m[11:30:11] src/tree/updater_prune.cc:74: tree pruning end, 1 roots, 48 extra nodes, 36 pruned nodes, max_depth=10\u001b[0m\n",
      "\u001b[31m[40]#011train-rmse:0.305622#011validation-rmse:0.346932\u001b[0m\n",
      "\u001b[31m[11:30:14] src/tree/updater_prune.cc:74: tree pruning end, 1 roots, 60 extra nodes, 40 pruned nodes, max_depth=10\u001b[0m\n",
      "\u001b[31m[41]#011train-rmse:0.303609#011validation-rmse:0.346142\u001b[0m\n",
      "\u001b[31m[11:30:17] src/tree/updater_prune.cc:74: tree pruning end, 1 roots, 30 extra nodes, 28 pruned nodes, max_depth=10\u001b[0m\n",
      "\u001b[31m[42]#011train-rmse:0.302446#011validation-rmse:0.345512\u001b[0m\n",
      "\u001b[31m[11:30:19] src/tree/updater_prune.cc:74: tree pruning end, 1 roots, 50 extra nodes, 48 pruned nodes, max_depth=10\u001b[0m\n",
      "\u001b[31m[43]#011train-rmse:0.30076#011validation-rmse:0.344763\u001b[0m\n",
      "\u001b[31m[11:30:22] src/tree/updater_prune.cc:74: tree pruning end, 1 roots, 26 extra nodes, 18 pruned nodes, max_depth=10\u001b[0m\n",
      "\u001b[31m[44]#011train-rmse:0.299706#011validation-rmse:0.343856\u001b[0m\n",
      "\u001b[31m[11:30:25] src/tree/updater_prune.cc:74: tree pruning end, 1 roots, 44 extra nodes, 56 pruned nodes, max_depth=10\u001b[0m\n",
      "\u001b[31m[45]#011train-rmse:0.29815#011validation-rmse:0.3426\u001b[0m\n",
      "\u001b[31m[11:30:28] src/tree/updater_prune.cc:74: tree pruning end, 1 roots, 26 extra nodes, 36 pruned nodes, max_depth=10\u001b[0m\n",
      "\u001b[31m[46]#011train-rmse:0.297123#011validation-rmse:0.341933\u001b[0m\n",
      "\u001b[31m[11:30:31] src/tree/updater_prune.cc:74: tree pruning end, 1 roots, 32 extra nodes, 56 pruned nodes, max_depth=10\u001b[0m\n",
      "\u001b[31m[47]#011train-rmse:0.296062#011validation-rmse:0.341002\u001b[0m\n",
      "\u001b[31m[11:30:34] src/tree/updater_prune.cc:74: tree pruning end, 1 roots, 34 extra nodes, 62 pruned nodes, max_depth=10\u001b[0m\n",
      "\u001b[31m[48]#011train-rmse:0.295002#011validation-rmse:0.340188\u001b[0m\n",
      "\u001b[31m[11:30:37] src/tree/updater_prune.cc:74: tree pruning end, 1 roots, 50 extra nodes, 66 pruned nodes, max_depth=10\u001b[0m\n",
      "\u001b[31m[49]#011train-rmse:0.293647#011validation-rmse:0.339816\u001b[0m\n",
      "\u001b[31m[11:30:39] src/tree/updater_prune.cc:74: tree pruning end, 1 roots, 36 extra nodes, 32 pruned nodes, max_depth=10\u001b[0m\n",
      "\u001b[31m[50]#011train-rmse:0.292597#011validation-rmse:0.339158\u001b[0m\n",
      "\u001b[31m[11:30:42] src/tree/updater_prune.cc:74: tree pruning end, 1 roots, 22 extra nodes, 34 pruned nodes, max_depth=10\u001b[0m\n",
      "\u001b[31m[51]#011train-rmse:0.291835#011validation-rmse:0.338741\u001b[0m\n",
      "\u001b[31m[11:30:45] src/tree/updater_prune.cc:74: tree pruning end, 1 roots, 24 extra nodes, 40 pruned nodes, max_depth=10\u001b[0m\n",
      "\u001b[31m[52]#011train-rmse:0.29109#011validation-rmse:0.338352\u001b[0m\n",
      "\u001b[31m[11:30:48] src/tree/updater_prune.cc:74: tree pruning end, 1 roots, 48 extra nodes, 20 pruned nodes, max_depth=10\u001b[0m\n",
      "\u001b[31m[53]#011train-rmse:0.28981#011validation-rmse:0.337642\u001b[0m\n",
      "\u001b[31m[11:30:51] src/tree/updater_prune.cc:74: tree pruning end, 1 roots, 36 extra nodes, 36 pruned nodes, max_depth=10\u001b[0m\n",
      "\u001b[31m[54]#011train-rmse:0.288767#011validation-rmse:0.337002\u001b[0m\n",
      "\u001b[31m[11:30:54] src/tree/updater_prune.cc:74: tree pruning end, 1 roots, 32 extra nodes, 40 pruned nodes, max_depth=10\u001b[0m\n",
      "\u001b[31m[55]#011train-rmse:0.287786#011validation-rmse:0.336461\u001b[0m\n",
      "\u001b[31m[11:30:57] src/tree/updater_prune.cc:74: tree pruning end, 1 roots, 34 extra nodes, 16 pruned nodes, max_depth=10\u001b[0m\n",
      "\u001b[31m[56]#011train-rmse:0.286688#011validation-rmse:0.335958\u001b[0m\n",
      "\u001b[31m[11:30:59] src/tree/updater_prune.cc:74: tree pruning end, 1 roots, 28 extra nodes, 24 pruned nodes, max_depth=10\u001b[0m\n",
      "\u001b[31m[57]#011train-rmse:0.285928#011validation-rmse:0.335529\u001b[0m\n",
      "\u001b[31m[11:31:02] src/tree/updater_prune.cc:74: tree pruning end, 1 roots, 32 extra nodes, 28 pruned nodes, max_depth=10\u001b[0m\n",
      "\u001b[31m[58]#011train-rmse:0.285106#011validation-rmse:0.335094\u001b[0m\n",
      "\u001b[31m[11:31:05] src/tree/updater_prune.cc:74: tree pruning end, 1 roots, 32 extra nodes, 36 pruned nodes, max_depth=10\u001b[0m\n",
      "\u001b[31m[59]#011train-rmse:0.283883#011validation-rmse:0.333939\u001b[0m\n",
      "\u001b[31m[11:31:08] src/tree/updater_prune.cc:74: tree pruning end, 1 roots, 24 extra nodes, 38 pruned nodes, max_depth=10\u001b[0m\n",
      "\u001b[31m[60]#011train-rmse:0.283133#011validation-rmse:0.333583\u001b[0m\n",
      "\u001b[31m[11:31:11] src/tree/updater_prune.cc:74: tree pruning end, 1 roots, 34 extra nodes, 36 pruned nodes, max_depth=10\u001b[0m\n",
      "\u001b[31m[61]#011train-rmse:0.282151#011validation-rmse:0.333091\u001b[0m\n",
      "\u001b[31m[11:31:14] src/tree/updater_prune.cc:74: tree pruning end, 1 roots, 28 extra nodes, 52 pruned nodes, max_depth=10\u001b[0m\n",
      "\u001b[31m[62]#011train-rmse:0.281354#011validation-rmse:0.332601\u001b[0m\n",
      "\u001b[31m[11:31:17] src/tree/updater_prune.cc:74: tree pruning end, 1 roots, 28 extra nodes, 40 pruned nodes, max_depth=10\u001b[0m\n",
      "\u001b[31m[63]#011train-rmse:0.280692#011validation-rmse:0.332298\u001b[0m\n",
      "\u001b[31m[11:31:19] src/tree/updater_prune.cc:74: tree pruning end, 1 roots, 26 extra nodes, 38 pruned nodes, max_depth=10\u001b[0m\n",
      "\u001b[31m[64]#011train-rmse:0.279873#011validation-rmse:0.331603\u001b[0m\n",
      "\u001b[31m[11:31:22] src/tree/updater_prune.cc:74: tree pruning end, 1 roots, 26 extra nodes, 22 pruned nodes, max_depth=10\u001b[0m\n",
      "\u001b[31m[65]#011train-rmse:0.279099#011validation-rmse:0.330977\u001b[0m\n",
      "\u001b[31m[11:31:25] src/tree/updater_prune.cc:74: tree pruning end, 1 roots, 40 extra nodes, 44 pruned nodes, max_depth=10\u001b[0m\n",
      "\u001b[31m[66]#011train-rmse:0.277916#011validation-rmse:0.330592\u001b[0m\n",
      "\u001b[31m[11:31:28] src/tree/updater_prune.cc:74: tree pruning end, 1 roots, 26 extra nodes, 32 pruned nodes, max_depth=10\u001b[0m\n",
      "\u001b[31m[67]#011train-rmse:0.27715#011validation-rmse:0.330061\u001b[0m\n",
      "\u001b[31m[11:31:31] src/tree/updater_prune.cc:74: tree pruning end, 1 roots, 20 extra nodes, 36 pruned nodes, max_depth=10\u001b[0m\n",
      "\u001b[31m[68]#011train-rmse:0.276636#011validation-rmse:0.329806\u001b[0m\n",
      "\u001b[31m[11:31:34] src/tree/updater_prune.cc:74: tree pruning end, 1 roots, 30 extra nodes, 26 pruned nodes, max_depth=10\u001b[0m\n",
      "\u001b[31m[69]#011train-rmse:0.275817#011validation-rmse:0.329508\u001b[0m\n",
      "\u001b[31m[11:31:36] src/tree/updater_prune.cc:74: tree pruning end, 1 roots, 50 extra nodes, 32 pruned nodes, max_depth=10\u001b[0m\n",
      "\u001b[31m[70]#011train-rmse:0.274769#011validation-rmse:0.329376\u001b[0m\n",
      "\u001b[31m[11:31:39] src/tree/updater_prune.cc:74: tree pruning end, 1 roots, 26 extra nodes, 20 pruned nodes, max_depth=10\u001b[0m\n",
      "\u001b[31m[71]#011train-rmse:0.274034#011validation-rmse:0.328922\u001b[0m\n",
      "\u001b[31m[11:31:42] src/tree/updater_prune.cc:74: tree pruning end, 1 roots, 32 extra nodes, 46 pruned nodes, max_depth=10\u001b[0m\n",
      "\u001b[31m[72]#011train-rmse:0.273195#011validation-rmse:0.328675\u001b[0m\n",
      "\u001b[31m[11:31:45] src/tree/updater_prune.cc:74: tree pruning end, 1 roots, 32 extra nodes, 52 pruned nodes, max_depth=10\u001b[0m\n",
      "\u001b[31m[73]#011train-rmse:0.272346#011validation-rmse:0.328236\u001b[0m\n",
      "\u001b[31m[11:31:48] src/tree/updater_prune.cc:74: tree pruning end, 1 roots, 24 extra nodes, 30 pruned nodes, max_depth=10\u001b[0m\n",
      "\u001b[31m[74]#011train-rmse:0.27167#011validation-rmse:0.3278\u001b[0m\n",
      "\u001b[31m[11:31:51] src/tree/updater_prune.cc:74: tree pruning end, 1 roots, 24 extra nodes, 24 pruned nodes, max_depth=10\u001b[0m\n",
      "\u001b[31m[75]#011train-rmse:0.270943#011validation-rmse:0.327335\u001b[0m\n",
      "\u001b[31m[11:31:54] src/tree/updater_prune.cc:74: tree pruning end, 1 roots, 20 extra nodes, 24 pruned nodes, max_depth=10\u001b[0m\n",
      "\u001b[31m[76]#011train-rmse:0.270412#011validation-rmse:0.32694\u001b[0m\n",
      "\u001b[31m[11:31:56] src/tree/updater_prune.cc:74: tree pruning end, 1 roots, 38 extra nodes, 52 pruned nodes, max_depth=10\u001b[0m\n",
      "\u001b[31m[77]#011train-rmse:0.269462#011validation-rmse:0.326709\u001b[0m\n",
      "\u001b[31m[11:31:59] src/tree/updater_prune.cc:74: tree pruning end, 1 roots, 26 extra nodes, 34 pruned nodes, max_depth=10\u001b[0m\n",
      "\u001b[31m[78]#011train-rmse:0.268844#011validation-rmse:0.326137\u001b[0m\n",
      "\u001b[31m[11:32:02] src/tree/updater_prune.cc:74: tree pruning end, 1 roots, 34 extra nodes, 50 pruned nodes, max_depth=10\u001b[0m\n",
      "\u001b[31m[79]#011train-rmse:0.268028#011validation-rmse:0.325888\u001b[0m\n",
      "\u001b[31m[11:32:05] src/tree/updater_prune.cc:74: tree pruning end, 1 roots, 22 extra nodes, 36 pruned nodes, max_depth=10\u001b[0m\n",
      "\u001b[31m[80]#011train-rmse:0.267452#011validation-rmse:0.325517\u001b[0m\n",
      "\u001b[31m[11:32:08] src/tree/updater_prune.cc:74: tree pruning end, 1 roots, 26 extra nodes, 36 pruned nodes, max_depth=10\u001b[0m\n",
      "\u001b[31m[81]#011train-rmse:0.266789#011validation-rmse:0.325368\u001b[0m\n",
      "\u001b[31m[11:32:11] src/tree/updater_prune.cc:74: tree pruning end, 1 roots, 40 extra nodes, 42 pruned nodes, max_depth=10\u001b[0m\n",
      "\u001b[31m[82]#011train-rmse:0.265831#011validation-rmse:0.325004\u001b[0m\n",
      "\u001b[31m[11:32:13] src/tree/updater_prune.cc:74: tree pruning end, 1 roots, 34 extra nodes, 28 pruned nodes, max_depth=10\u001b[0m\n",
      "\u001b[31m[83]#011train-rmse:0.265116#011validation-rmse:0.324753\u001b[0m\n",
      "\u001b[31m[11:32:16] src/tree/updater_prune.cc:74: tree pruning end, 1 roots, 24 extra nodes, 8 pruned nodes, max_depth=10\u001b[0m\n",
      "\u001b[31m[84]#011train-rmse:0.264476#011validation-rmse:0.324319\u001b[0m\n",
      "\u001b[31m[11:32:19] src/tree/updater_prune.cc:74: tree pruning end, 1 roots, 30 extra nodes, 44 pruned nodes, max_depth=10\u001b[0m\n",
      "\u001b[31m[85]#011train-rmse:0.263749#011validation-rmse:0.323936\u001b[0m\n",
      "\u001b[31m[11:32:22] src/tree/updater_prune.cc:74: tree pruning end, 1 roots, 22 extra nodes, 28 pruned nodes, max_depth=10\u001b[0m\n",
      "\u001b[31m[86]#011train-rmse:0.263211#011validation-rmse:0.3237\u001b[0m\n",
      "\u001b[31m[11:32:25] src/tree/updater_prune.cc:74: tree pruning end, 1 roots, 36 extra nodes, 40 pruned nodes, max_depth=10\u001b[0m\n",
      "\u001b[31m[87]#011train-rmse:0.262366#011validation-rmse:0.323499\u001b[0m\n",
      "\u001b[31m[11:32:28] src/tree/updater_prune.cc:74: tree pruning end, 1 roots, 26 extra nodes, 28 pruned nodes, max_depth=10\u001b[0m\n",
      "\u001b[31m[88]#011train-rmse:0.261848#011validation-rmse:0.323296\u001b[0m\n",
      "\u001b[31m[11:32:30] src/tree/updater_prune.cc:74: tree pruning end, 1 roots, 30 extra nodes, 28 pruned nodes, max_depth=10\u001b[0m\n",
      "\u001b[31m[89]#011train-rmse:0.261173#011validation-rmse:0.322755\u001b[0m\n",
      "\u001b[31m[11:32:33] src/tree/updater_prune.cc:74: tree pruning end, 1 roots, 26 extra nodes, 26 pruned nodes, max_depth=10\u001b[0m\n",
      "\u001b[31m[90]#011train-rmse:0.260501#011validation-rmse:0.322543\u001b[0m\n",
      "\u001b[31m[11:32:36] src/tree/updater_prune.cc:74: tree pruning end, 1 roots, 22 extra nodes, 22 pruned nodes, max_depth=10\u001b[0m\n",
      "\u001b[31m[91]#011train-rmse:0.260018#011validation-rmse:0.322237\u001b[0m\n",
      "\u001b[31m[11:32:39] src/tree/updater_prune.cc:74: tree pruning end, 1 roots, 26 extra nodes, 18 pruned nodes, max_depth=10\u001b[0m\n",
      "\u001b[31m[92]#011train-rmse:0.259465#011validation-rmse:0.321874\u001b[0m\n",
      "\u001b[31m[11:32:42] src/tree/updater_prune.cc:74: tree pruning end, 1 roots, 40 extra nodes, 54 pruned nodes, max_depth=10\u001b[0m\n",
      "\u001b[31m[93]#011train-rmse:0.258638#011validation-rmse:0.321824\u001b[0m\n",
      "\u001b[31m[11:32:45] src/tree/updater_prune.cc:74: tree pruning end, 1 roots, 20 extra nodes, 18 pruned nodes, max_depth=10\u001b[0m\n",
      "\u001b[31m[94]#011train-rmse:0.258189#011validation-rmse:0.321612\u001b[0m\n",
      "\u001b[31m[11:32:47] src/tree/updater_prune.cc:74: tree pruning end, 1 roots, 26 extra nodes, 44 pruned nodes, max_depth=10\u001b[0m\n",
      "\u001b[31m[95]#011train-rmse:0.257675#011validation-rmse:0.32158\u001b[0m\n",
      "\u001b[31m[11:32:50] src/tree/updater_prune.cc:74: tree pruning end, 1 roots, 22 extra nodes, 22 pruned nodes, max_depth=10\u001b[0m\n",
      "\u001b[31m[96]#011train-rmse:0.257174#011validation-rmse:0.321416\u001b[0m\n",
      "\u001b[31m[11:32:53] src/tree/updater_prune.cc:74: tree pruning end, 1 roots, 42 extra nodes, 30 pruned nodes, max_depth=10\u001b[0m\n",
      "\u001b[31m[97]#011train-rmse:0.25622#011validation-rmse:0.321292\u001b[0m\n",
      "\u001b[31m[11:32:56] src/tree/updater_prune.cc:74: tree pruning end, 1 roots, 24 extra nodes, 32 pruned nodes, max_depth=10\u001b[0m\n",
      "\u001b[31m[98]#011train-rmse:0.25575#011validation-rmse:0.321039\u001b[0m\n",
      "\u001b[31m[11:32:59] src/tree/updater_prune.cc:74: tree pruning end, 1 roots, 20 extra nodes, 26 pruned nodes, max_depth=10\u001b[0m\n",
      "\u001b[31m[99]#011train-rmse:0.255338#011validation-rmse:0.320714\u001b[0m\n",
      "\u001b[31m[11:33:02] src/tree/updater_prune.cc:74: tree pruning end, 1 roots, 26 extra nodes, 52 pruned nodes, max_depth=10\u001b[0m\n",
      "\u001b[31m[100]#011train-rmse:0.254797#011validation-rmse:0.320341\u001b[0m\n",
      "\u001b[31m[11:33:04] src/tree/updater_prune.cc:74: tree pruning end, 1 roots, 32 extra nodes, 38 pruned nodes, max_depth=10\u001b[0m\n",
      "\u001b[31m[101]#011train-rmse:0.254116#011validation-rmse:0.31998\u001b[0m\n",
      "\u001b[31m[11:33:07] src/tree/updater_prune.cc:74: tree pruning end, 1 roots, 20 extra nodes, 24 pruned nodes, max_depth=10\u001b[0m\n",
      "\u001b[31m[102]#011train-rmse:0.253692#011validation-rmse:0.319703\u001b[0m\n",
      "\u001b[31m[11:33:10] src/tree/updater_prune.cc:74: tree pruning end, 1 roots, 22 extra nodes, 42 pruned nodes, max_depth=10\u001b[0m\n",
      "\u001b[31m[103]#011train-rmse:0.253163#011validation-rmse:0.319534\u001b[0m\n",
      "\u001b[31m[11:33:13] src/tree/updater_prune.cc:74: tree pruning end, 1 roots, 26 extra nodes, 20 pruned nodes, max_depth=10\u001b[0m\n",
      "\u001b[31m[104]#011train-rmse:0.252475#011validation-rmse:0.319339\u001b[0m\n",
      "\u001b[31m[11:33:16] src/tree/updater_prune.cc:74: tree pruning end, 1 roots, 24 extra nodes, 22 pruned nodes, max_depth=10\u001b[0m\n",
      "\u001b[31m[105]#011train-rmse:0.252005#011validation-rmse:0.319266\u001b[0m\n",
      "\u001b[31m[11:33:19] src/tree/updater_prune.cc:74: tree pruning end, 1 roots, 22 extra nodes, 46 pruned nodes, max_depth=10\u001b[0m\n",
      "\u001b[31m[106]#011train-rmse:0.251636#011validation-rmse:0.319012\u001b[0m\n",
      "\u001b[31m[11:33:22] src/tree/updater_prune.cc:74: tree pruning end, 1 roots, 24 extra nodes, 42 pruned nodes, max_depth=10\u001b[0m\n",
      "\u001b[31m[107]#011train-rmse:0.25129#011validation-rmse:0.318662\u001b[0m\n",
      "\u001b[31m[11:33:24] src/tree/updater_prune.cc:74: tree pruning end, 1 roots, 22 extra nodes, 14 pruned nodes, max_depth=10\u001b[0m\n",
      "\u001b[31m[108]#011train-rmse:0.250902#011validation-rmse:0.318351\u001b[0m\n",
      "\u001b[31m[11:33:27] src/tree/updater_prune.cc:74: tree pruning end, 1 roots, 28 extra nodes, 30 pruned nodes, max_depth=10\u001b[0m\n",
      "\u001b[31m[109]#011train-rmse:0.250351#011validation-rmse:0.318453\u001b[0m\n",
      "\u001b[31m[11:33:30] src/tree/updater_prune.cc:74: tree pruning end, 1 roots, 22 extra nodes, 8 pruned nodes, max_depth=10\u001b[0m\n",
      "\u001b[31m[110]#011train-rmse:0.249964#011validation-rmse:0.31828\u001b[0m\n",
      "\u001b[31m[11:33:33] src/tree/updater_prune.cc:74: tree pruning end, 1 roots, 24 extra nodes, 26 pruned nodes, max_depth=10\u001b[0m\n",
      "\u001b[31m[111]#011train-rmse:0.249483#011validation-rmse:0.317956\u001b[0m\n",
      "\u001b[31m[11:33:36] src/tree/updater_prune.cc:74: tree pruning end, 1 roots, 24 extra nodes, 22 pruned nodes, max_depth=10\u001b[0m\n",
      "\u001b[31m[112]#011train-rmse:0.248997#011validation-rmse:0.31775\u001b[0m\n",
      "\u001b[31m[11:33:39] src/tree/updater_prune.cc:74: tree pruning end, 1 roots, 22 extra nodes, 66 pruned nodes, max_depth=10\u001b[0m\n",
      "\u001b[31m[113]#011train-rmse:0.24863#011validation-rmse:0.317506\u001b[0m\n",
      "\u001b[31m[11:33:42] src/tree/updater_prune.cc:74: tree pruning end, 1 roots, 20 extra nodes, 28 pruned nodes, max_depth=10\u001b[0m\n",
      "\u001b[31m[114]#011train-rmse:0.248263#011validation-rmse:0.317429\u001b[0m\n",
      "\u001b[31m[11:33:45] src/tree/updater_prune.cc:74: tree pruning end, 1 roots, 20 extra nodes, 34 pruned nodes, max_depth=10\u001b[0m\n",
      "\u001b[31m[115]#011train-rmse:0.24793#011validation-rmse:0.317306\u001b[0m\n",
      "\u001b[31m[11:33:48] src/tree/updater_prune.cc:74: tree pruning end, 1 roots, 24 extra nodes, 56 pruned nodes, max_depth=10\u001b[0m\n",
      "\u001b[31m[116]#011train-rmse:0.247345#011validation-rmse:0.317096\u001b[0m\n",
      "\u001b[31m[11:33:50] src/tree/updater_prune.cc:74: tree pruning end, 1 roots, 20 extra nodes, 20 pruned nodes, max_depth=10\u001b[0m\n",
      "\u001b[31m[117]#011train-rmse:0.247089#011validation-rmse:0.317103\u001b[0m\n",
      "\u001b[31m[11:33:53] src/tree/updater_prune.cc:74: tree pruning end, 1 roots, 24 extra nodes, 40 pruned nodes, max_depth=10\u001b[0m\n",
      "\u001b[31m[118]#011train-rmse:0.246718#011validation-rmse:0.317051\u001b[0m\n",
      "\u001b[31m[11:33:56] src/tree/updater_prune.cc:74: tree pruning end, 1 roots, 28 extra nodes, 58 pruned nodes, max_depth=10\u001b[0m\n",
      "\u001b[31m[119]#011train-rmse:0.246087#011validation-rmse:0.316843\u001b[0m\n",
      "\u001b[31m[11:33:59] src/tree/updater_prune.cc:74: tree pruning end, 1 roots, 38 extra nodes, 46 pruned nodes, max_depth=10\u001b[0m\n",
      "\u001b[31m[120]#011train-rmse:0.245197#011validation-rmse:0.316672\u001b[0m\n",
      "\u001b[31m[11:34:02] src/tree/updater_prune.cc:74: tree pruning end, 1 roots, 24 extra nodes, 18 pruned nodes, max_depth=10\u001b[0m\n",
      "\u001b[31m[121]#011train-rmse:0.244748#011validation-rmse:0.316447\u001b[0m\n",
      "\u001b[31m[11:34:05] src/tree/updater_prune.cc:74: tree pruning end, 1 roots, 20 extra nodes, 10 pruned nodes, max_depth=10\u001b[0m\n",
      "\u001b[31m[122]#011train-rmse:0.244399#011validation-rmse:0.3163\u001b[0m\n",
      "\u001b[31m[11:34:07] src/tree/updater_prune.cc:74: tree pruning end, 1 roots, 36 extra nodes, 32 pruned nodes, max_depth=10\u001b[0m\n",
      "\u001b[31m[123]#011train-rmse:0.24365#011validation-rmse:0.31612\u001b[0m\n",
      "\u001b[31m[11:34:10] src/tree/updater_prune.cc:74: tree pruning end, 1 roots, 20 extra nodes, 20 pruned nodes, max_depth=10\u001b[0m\n",
      "\u001b[31m[124]#011train-rmse:0.243315#011validation-rmse:0.316072\u001b[0m\n",
      "\u001b[31m[11:34:13] src/tree/updater_prune.cc:74: tree pruning end, 1 roots, 24 extra nodes, 30 pruned nodes, max_depth=10\u001b[0m\n",
      "\u001b[31m[125]#011train-rmse:0.242849#011validation-rmse:0.315781\u001b[0m\n",
      "\u001b[31m[11:34:16] src/tree/updater_prune.cc:74: tree pruning end, 1 roots, 24 extra nodes, 12 pruned nodes, max_depth=10\u001b[0m\n",
      "\u001b[31m[126]#011train-rmse:0.242469#011validation-rmse:0.315652\u001b[0m\n",
      "\u001b[31m[11:34:19] src/tree/updater_prune.cc:74: tree pruning end, 1 roots, 20 extra nodes, 22 pruned nodes, max_depth=10\u001b[0m\n",
      "\u001b[31m[127]#011train-rmse:0.242007#011validation-rmse:0.315481\u001b[0m\n",
      "\u001b[31m[11:34:22] src/tree/updater_prune.cc:74: tree pruning end, 1 roots, 22 extra nodes, 14 pruned nodes, max_depth=10\u001b[0m\n",
      "\u001b[31m[128]#011train-rmse:0.241563#011validation-rmse:0.315364\u001b[0m\n",
      "\u001b[31m[11:34:25] src/tree/updater_prune.cc:74: tree pruning end, 1 roots, 20 extra nodes, 40 pruned nodes, max_depth=10\u001b[0m\n",
      "\u001b[31m[129]#011train-rmse:0.241196#011validation-rmse:0.315287\u001b[0m\n",
      "\u001b[31m[11:34:27] src/tree/updater_prune.cc:74: tree pruning end, 1 roots, 20 extra nodes, 28 pruned nodes, max_depth=10\u001b[0m\n",
      "\u001b[31m[130]#011train-rmse:0.240886#011validation-rmse:0.315206\u001b[0m\n",
      "\u001b[31m[11:34:30] src/tree/updater_prune.cc:74: tree pruning end, 1 roots, 20 extra nodes, 22 pruned nodes, max_depth=10\u001b[0m\n",
      "\u001b[31m[131]#011train-rmse:0.24049#011validation-rmse:0.315037\u001b[0m\n",
      "\u001b[31m[11:34:33] src/tree/updater_prune.cc:74: tree pruning end, 1 roots, 20 extra nodes, 28 pruned nodes, max_depth=10\u001b[0m\n",
      "\u001b[31m[132]#011train-rmse:0.240205#011validation-rmse:0.314923\u001b[0m\n",
      "\u001b[31m[11:34:36] src/tree/updater_prune.cc:74: tree pruning end, 1 roots, 26 extra nodes, 42 pruned nodes, max_depth=10\u001b[0m\n",
      "\u001b[31m[133]#011train-rmse:0.23973#011validation-rmse:0.314752\u001b[0m\n",
      "\u001b[31m[11:34:39] src/tree/updater_prune.cc:74: tree pruning end, 1 roots, 20 extra nodes, 32 pruned nodes, max_depth=9\u001b[0m\n",
      "\u001b[31m[134]#011train-rmse:0.239473#011validation-rmse:0.314583\u001b[0m\n",
      "\u001b[31m[11:34:42] src/tree/updater_prune.cc:74: tree pruning end, 1 roots, 20 extra nodes, 32 pruned nodes, max_depth=10\u001b[0m\n",
      "\u001b[31m[135]#011train-rmse:0.239049#011validation-rmse:0.314397\u001b[0m\n",
      "\u001b[31m[11:34:45] src/tree/updater_prune.cc:74: tree pruning end, 1 roots, 22 extra nodes, 32 pruned nodes, max_depth=10\u001b[0m\n",
      "\u001b[31m[136]#011train-rmse:0.238619#011validation-rmse:0.31422\u001b[0m\n",
      "\u001b[31m[11:34:47] src/tree/updater_prune.cc:74: tree pruning end, 1 roots, 18 extra nodes, 26 pruned nodes, max_depth=9\u001b[0m\n",
      "\u001b[31m[137]#011train-rmse:0.238334#011validation-rmse:0.31421\u001b[0m\n",
      "\u001b[31m[11:34:50] src/tree/updater_prune.cc:74: tree pruning end, 1 roots, 22 extra nodes, 24 pruned nodes, max_depth=10\u001b[0m\n",
      "\u001b[31m[138]#011train-rmse:0.237936#011validation-rmse:0.314092\u001b[0m\n",
      "\u001b[31m[11:34:53] src/tree/updater_prune.cc:74: tree pruning end, 1 roots, 32 extra nodes, 34 pruned nodes, max_depth=10\u001b[0m\n",
      "\u001b[31m[139]#011train-rmse:0.23737#011validation-rmse:0.314091\u001b[0m\n",
      "\u001b[31m[11:34:56] src/tree/updater_prune.cc:74: tree pruning end, 1 roots, 18 extra nodes, 14 pruned nodes, max_depth=9\u001b[0m\n",
      "\u001b[31m[140]#011train-rmse:0.237134#011validation-rmse:0.31395\u001b[0m\n",
      "\u001b[31m[11:34:59] src/tree/updater_prune.cc:74: tree pruning end, 1 roots, 20 extra nodes, 28 pruned nodes, max_depth=10\u001b[0m\n",
      "\u001b[31m[141]#011train-rmse:0.23687#011validation-rmse:0.313915\u001b[0m\n",
      "\u001b[31m[11:35:02] src/tree/updater_prune.cc:74: tree pruning end, 1 roots, 18 extra nodes, 24 pruned nodes, max_depth=7\u001b[0m\n",
      "\u001b[31m[142]#011train-rmse:0.236544#011validation-rmse:0.313948\u001b[0m\n",
      "\u001b[31m[11:35:05] src/tree/updater_prune.cc:74: tree pruning end, 1 roots, 28 extra nodes, 34 pruned nodes, max_depth=10\u001b[0m\n",
      "\u001b[31m[143]#011train-rmse:0.236046#011validation-rmse:0.313908\u001b[0m\n",
      "\u001b[31m[11:35:07] src/tree/updater_prune.cc:74: tree pruning end, 1 roots, 20 extra nodes, 42 pruned nodes, max_depth=10\u001b[0m\n",
      "\u001b[31m[144]#011train-rmse:0.235637#011validation-rmse:0.313854\u001b[0m\n",
      "\u001b[31m[11:35:10] src/tree/updater_prune.cc:74: tree pruning end, 1 roots, 16 extra nodes, 30 pruned nodes, max_depth=8\u001b[0m\n",
      "\u001b[31m[145]#011train-rmse:0.235453#011validation-rmse:0.313803\u001b[0m\n",
      "\u001b[31m[11:35:13] src/tree/updater_prune.cc:74: tree pruning end, 1 roots, 16 extra nodes, 34 pruned nodes, max_depth=8\u001b[0m\n",
      "\u001b[31m[146]#011train-rmse:0.235232#011validation-rmse:0.313682\u001b[0m\n",
      "\u001b[31m[11:35:16] src/tree/updater_prune.cc:74: tree pruning end, 1 roots, 16 extra nodes, 22 pruned nodes, max_depth=8\u001b[0m\n",
      "\u001b[31m[147]#011train-rmse:0.235014#011validation-rmse:0.313797\u001b[0m\n",
      "\u001b[31m[11:35:19] src/tree/updater_prune.cc:74: tree pruning end, 1 roots, 14 extra nodes, 16 pruned nodes, max_depth=7\u001b[0m\n",
      "\u001b[31m[148]#011train-rmse:0.234841#011validation-rmse:0.313646\u001b[0m\n",
      "\u001b[31m[11:35:22] src/tree/updater_prune.cc:74: tree pruning end, 1 roots, 18 extra nodes, 26 pruned nodes, max_depth=7\u001b[0m\n",
      "\u001b[31m[149]#011train-rmse:0.234563#011validation-rmse:0.313345\u001b[0m\n",
      "\u001b[31m[11:35:25] src/tree/updater_prune.cc:74: tree pruning end, 1 roots, 20 extra nodes, 36 pruned nodes, max_depth=10\u001b[0m\n",
      "\u001b[31m[150]#011train-rmse:0.23426#011validation-rmse:0.313325\u001b[0m\n",
      "\u001b[31m[11:35:27] src/tree/updater_prune.cc:74: tree pruning end, 1 roots, 20 extra nodes, 28 pruned nodes, max_depth=9\u001b[0m\n",
      "\u001b[31m[151]#011train-rmse:0.233967#011validation-rmse:0.313214\u001b[0m\n",
      "\u001b[31m[11:35:30] src/tree/updater_prune.cc:74: tree pruning end, 1 roots, 20 extra nodes, 38 pruned nodes, max_depth=10\u001b[0m\n",
      "\u001b[31m[152]#011train-rmse:0.233665#011validation-rmse:0.312932\u001b[0m\n",
      "\u001b[31m[11:35:33] src/tree/updater_prune.cc:74: tree pruning end, 1 roots, 20 extra nodes, 22 pruned nodes, max_depth=9\u001b[0m\n",
      "\u001b[31m[153]#011train-rmse:0.233438#011validation-rmse:0.31292\u001b[0m\n",
      "\u001b[31m[11:35:36] src/tree/updater_prune.cc:74: tree pruning end, 1 roots, 24 extra nodes, 44 pruned nodes, max_depth=10\u001b[0m\n",
      "\u001b[31m[154]#011train-rmse:0.233067#011validation-rmse:0.31285\u001b[0m\n",
      "\u001b[31m[11:35:39] src/tree/updater_prune.cc:74: tree pruning end, 1 roots, 30 extra nodes, 40 pruned nodes, max_depth=10\u001b[0m\n",
      "\u001b[31m[155]#011train-rmse:0.232566#011validation-rmse:0.312685\u001b[0m\n",
      "\u001b[31m[11:35:42] src/tree/updater_prune.cc:74: tree pruning end, 1 roots, 18 extra nodes, 8 pruned nodes, max_depth=9\u001b[0m\n",
      "\u001b[31m[156]#011train-rmse:0.232366#011validation-rmse:0.312494\u001b[0m\n",
      "\u001b[31m[11:35:45] src/tree/updater_prune.cc:74: tree pruning end, 1 roots, 14 extra nodes, 66 pruned nodes, max_depth=6\u001b[0m\n",
      "\u001b[31m[157]#011train-rmse:0.232136#011validation-rmse:0.312515\u001b[0m\n",
      "\u001b[31m[11:35:48] src/tree/updater_prune.cc:74: tree pruning end, 1 roots, 2 extra nodes, 52 pruned nodes, max_depth=1\u001b[0m\n",
      "\u001b[31m[158]#011train-rmse:0.232105#011validation-rmse:0.312496\u001b[0m\n",
      "\u001b[31m[11:35:51] src/tree/updater_prune.cc:74: tree pruning end, 1 roots, 22 extra nodes, 48 pruned nodes, max_depth=10\u001b[0m\n",
      "\u001b[31m[159]#011train-rmse:0.231736#011validation-rmse:0.312143\u001b[0m\n",
      "\u001b[31m[11:35:53] src/tree/updater_prune.cc:74: tree pruning end, 1 roots, 6 extra nodes, 26 pruned nodes, max_depth=3\u001b[0m\n",
      "\u001b[31m[160]#011train-rmse:0.231651#011validation-rmse:0.312151\u001b[0m\n",
      "\u001b[31m[11:35:56] src/tree/updater_prune.cc:74: tree pruning end, 1 roots, 16 extra nodes, 18 pruned nodes, max_depth=8\u001b[0m\n",
      "\u001b[31m[161]#011train-rmse:0.231431#011validation-rmse:0.312061\u001b[0m\n",
      "\u001b[31m[11:35:59] src/tree/updater_prune.cc:74: tree pruning end, 1 roots, 10 extra nodes, 20 pruned nodes, max_depth=5\u001b[0m\n",
      "\u001b[31m[162]#011train-rmse:0.231268#011validation-rmse:0.311912\u001b[0m\n",
      "\u001b[31m[11:36:02] src/tree/updater_prune.cc:74: tree pruning end, 1 roots, 24 extra nodes, 34 pruned nodes, max_depth=10\u001b[0m\n",
      "\u001b[31m[163]#011train-rmse:0.230841#011validation-rmse:0.311817\u001b[0m\n",
      "\u001b[31m[11:36:05] src/tree/updater_prune.cc:74: tree pruning end, 1 roots, 22 extra nodes, 8 pruned nodes, max_depth=10\u001b[0m\n",
      "\u001b[31m[164]#011train-rmse:0.230501#011validation-rmse:0.311487\u001b[0m\n",
      "\u001b[31m[11:36:08] src/tree/updater_prune.cc:74: tree pruning end, 1 roots, 18 extra nodes, 28 pruned nodes, max_depth=7\u001b[0m\n",
      "\u001b[31m[165]#011train-rmse:0.230248#011validation-rmse:0.311462\u001b[0m\n",
      "\u001b[31m[11:36:10] src/tree/updater_prune.cc:74: tree pruning end, 1 roots, 4 extra nodes, 30 pruned nodes, max_depth=2\u001b[0m\n",
      "\u001b[31m[166]#011train-rmse:0.230202#011validation-rmse:0.311475\u001b[0m\n",
      "\u001b[31m[11:36:13] src/tree/updater_prune.cc:74: tree pruning end, 1 roots, 36 extra nodes, 14 pruned nodes, max_depth=10\u001b[0m\n",
      "\u001b[31m[167]#011train-rmse:0.229577#011validation-rmse:0.311366\u001b[0m\n",
      "\u001b[31m[11:36:16] src/tree/updater_prune.cc:74: tree pruning end, 1 roots, 4 extra nodes, 28 pruned nodes, max_depth=2\u001b[0m\n",
      "\u001b[31m[168]#011train-rmse:0.229529#011validation-rmse:0.311399\u001b[0m\n",
      "\u001b[31m[11:36:19] src/tree/updater_prune.cc:74: tree pruning end, 1 roots, 20 extra nodes, 46 pruned nodes, max_depth=10\u001b[0m\n",
      "\u001b[31m[169]#011train-rmse:0.229177#011validation-rmse:0.31145\u001b[0m\n",
      "\u001b[31m[11:36:22] src/tree/updater_prune.cc:74: tree pruning end, 1 roots, 0 extra nodes, 36 pruned nodes, max_depth=0\u001b[0m\n",
      "\u001b[31m[170]#011train-rmse:0.229186#011validation-rmse:0.31145\u001b[0m\n",
      "\u001b[31m[11:36:25] src/tree/updater_prune.cc:74: tree pruning end, 1 roots, 30 extra nodes, 48 pruned nodes, max_depth=10\u001b[0m\n",
      "\u001b[31m[171]#011train-rmse:0.228616#011validation-rmse:0.31148\u001b[0m\n",
      "\u001b[31m[11:36:28] src/tree/updater_prune.cc:74: tree pruning end, 1 roots, 26 extra nodes, 32 pruned nodes, max_depth=10\u001b[0m\n",
      "\u001b[31m[172]#011train-rmse:0.228161#011validation-rmse:0.311469\u001b[0m\n",
      "\u001b[31m[11:36:31] src/tree/updater_prune.cc:74: tree pruning end, 1 roots, 20 extra nodes, 50 pruned nodes, max_depth=8\u001b[0m\n",
      "\u001b[31m[173]#011train-rmse:0.227896#011validation-rmse:0.311603\u001b[0m\n",
      "\u001b[31m[11:36:34] src/tree/updater_prune.cc:74: tree pruning end, 1 roots, 12 extra nodes, 36 pruned nodes, max_depth=6\u001b[0m\n",
      "\u001b[31m[174]#011train-rmse:0.227749#011validation-rmse:0.311518\u001b[0m\n",
      "\u001b[31m[11:36:37] src/tree/updater_prune.cc:74: tree pruning end, 1 roots, 20 extra nodes, 10 pruned nodes, max_depth=10\u001b[0m\n",
      "\u001b[31m[175]#011train-rmse:0.227482#011validation-rmse:0.3114\u001b[0m\n",
      "\u001b[31m[11:36:40] src/tree/updater_prune.cc:74: tree pruning end, 1 roots, 16 extra nodes, 40 pruned nodes, max_depth=8\u001b[0m\n",
      "\u001b[31m[176]#011train-rmse:0.227239#011validation-rmse:0.311384\u001b[0m\n",
      "\u001b[31m[11:36:43] src/tree/updater_prune.cc:74: tree pruning end, 1 roots, 24 extra nodes, 32 pruned nodes, max_depth=10\u001b[0m\n",
      "\u001b[31m[177]#011train-rmse:0.22684#011validation-rmse:0.311338\u001b[0m\n",
      "\u001b[31m[11:36:46] src/tree/updater_prune.cc:74: tree pruning end, 1 roots, 6 extra nodes, 22 pruned nodes, max_depth=3\u001b[0m\n",
      "\u001b[31m[178]#011train-rmse:0.226777#011validation-rmse:0.311341\u001b[0m\n",
      "\u001b[31m[11:36:49] src/tree/updater_prune.cc:74: tree pruning end, 1 roots, 2 extra nodes, 40 pruned nodes, max_depth=1\u001b[0m\n",
      "\u001b[31m[179]#011train-rmse:0.226736#011validation-rmse:0.311354\u001b[0m\n",
      "\u001b[31m[11:36:52] src/tree/updater_prune.cc:74: tree pruning end, 1 roots, 0 extra nodes, 36 pruned nodes, max_depth=0\u001b[0m\n",
      "\u001b[31m[180]#011train-rmse:0.226738#011validation-rmse:0.311354\u001b[0m\n",
      "\u001b[31m[11:36:55] src/tree/updater_prune.cc:74: tree pruning end, 1 roots, 20 extra nodes, 26 pruned nodes, max_depth=10\u001b[0m\n",
      "\u001b[31m[181]#011train-rmse:0.226458#011validation-rmse:0.311216\u001b[0m\n",
      "\u001b[31m[11:36:57] src/tree/updater_prune.cc:74: tree pruning end, 1 roots, 8 extra nodes, 36 pruned nodes, max_depth=3\u001b[0m\n",
      "\u001b[31m[182]#011train-rmse:0.226365#011validation-rmse:0.311105\u001b[0m\n",
      "\u001b[31m[11:37:00] src/tree/updater_prune.cc:74: tree pruning end, 1 roots, 20 extra nodes, 16 pruned nodes, max_depth=10\u001b[0m\n",
      "\u001b[31m[183]#011train-rmse:0.226125#011validation-rmse:0.311114\u001b[0m\n",
      "\u001b[31m[11:37:03] src/tree/updater_prune.cc:74: tree pruning end, 1 roots, 20 extra nodes, 32 pruned nodes, max_depth=10\u001b[0m\n",
      "\u001b[31m[184]#011train-rmse:0.225872#011validation-rmse:0.310975\u001b[0m\n",
      "\u001b[31m[11:37:06] src/tree/updater_prune.cc:74: tree pruning end, 1 roots, 18 extra nodes, 20 pruned nodes, max_depth=9\u001b[0m\n",
      "\u001b[31m[185]#011train-rmse:0.225572#011validation-rmse:0.31095\u001b[0m\n",
      "\u001b[31m[11:37:09] src/tree/updater_prune.cc:74: tree pruning end, 1 roots, 20 extra nodes, 26 pruned nodes, max_depth=10\u001b[0m\n",
      "\u001b[31m[186]#011train-rmse:0.22529#011validation-rmse:0.310714\u001b[0m\n",
      "\u001b[31m[11:37:12] src/tree/updater_prune.cc:74: tree pruning end, 1 roots, 4 extra nodes, 18 pruned nodes, max_depth=2\u001b[0m\n",
      "\u001b[31m[187]#011train-rmse:0.225229#011validation-rmse:0.310667\u001b[0m\n",
      "\u001b[31m[11:37:15] src/tree/updater_prune.cc:74: tree pruning end, 1 roots, 20 extra nodes, 30 pruned nodes, max_depth=10\u001b[0m\n",
      "\u001b[31m[188]#011train-rmse:0.224942#011validation-rmse:0.310687\u001b[0m\n",
      "\u001b[31m[11:37:17] src/tree/updater_prune.cc:74: tree pruning end, 1 roots, 22 extra nodes, 46 pruned nodes, max_depth=10\u001b[0m\n",
      "\u001b[31m[189]#011train-rmse:0.224522#011validation-rmse:0.310565\u001b[0m\n",
      "\u001b[31m[11:37:20] src/tree/updater_prune.cc:74: tree pruning end, 1 roots, 10 extra nodes, 42 pruned nodes, max_depth=5\u001b[0m\n",
      "\u001b[31m[190]#011train-rmse:0.224413#011validation-rmse:0.310544\u001b[0m\n",
      "\u001b[31m[11:37:23] src/tree/updater_prune.cc:74: tree pruning end, 1 roots, 24 extra nodes, 40 pruned nodes, max_depth=10\u001b[0m\n",
      "\u001b[31m[191]#011train-rmse:0.224071#011validation-rmse:0.310433\u001b[0m\n",
      "\u001b[31m[11:37:26] src/tree/updater_prune.cc:74: tree pruning end, 1 roots, 20 extra nodes, 22 pruned nodes, max_depth=10\u001b[0m\n",
      "\u001b[31m[192]#011train-rmse:0.223818#011validation-rmse:0.31026\u001b[0m\n",
      "\u001b[31m[11:37:29] src/tree/updater_prune.cc:74: tree pruning end, 1 roots, 0 extra nodes, 42 pruned nodes, max_depth=0\u001b[0m\n",
      "\u001b[31m[193]#011train-rmse:0.223811#011validation-rmse:0.310261\u001b[0m\n",
      "\u001b[31m[11:37:32] src/tree/updater_prune.cc:74: tree pruning end, 1 roots, 14 extra nodes, 62 pruned nodes, max_depth=7\u001b[0m\n",
      "\u001b[31m[194]#011train-rmse:0.223644#011validation-rmse:0.31028\u001b[0m\n",
      "\u001b[31m[11:37:34] src/tree/updater_prune.cc:74: tree pruning end, 1 roots, 10 extra nodes, 60 pruned nodes, max_depth=5\u001b[0m\n",
      "\u001b[31m[195]#011train-rmse:0.22358#011validation-rmse:0.31026\u001b[0m\n",
      "\u001b[31m[11:37:37] src/tree/updater_prune.cc:74: tree pruning end, 1 roots, 2 extra nodes, 40 pruned nodes, max_depth=1\u001b[0m\n",
      "\u001b[31m[196]#011train-rmse:0.22355#011validation-rmse:0.310255\u001b[0m\n",
      "\u001b[31m[11:37:40] src/tree/updater_prune.cc:74: tree pruning end, 1 roots, 0 extra nodes, 26 pruned nodes, max_depth=0\u001b[0m\n",
      "\u001b[31m[197]#011train-rmse:0.223546#011validation-rmse:0.310255\u001b[0m\n",
      "\u001b[31m[11:37:43] src/tree/updater_prune.cc:74: tree pruning end, 1 roots, 8 extra nodes, 42 pruned nodes, max_depth=4\u001b[0m\n",
      "\u001b[31m[198]#011train-rmse:0.22347#011validation-rmse:0.310239\u001b[0m\n",
      "\u001b[31m[11:37:46] src/tree/updater_prune.cc:74: tree pruning end, 1 roots, 10 extra nodes, 28 pruned nodes, max_depth=5\u001b[0m\n",
      "\u001b[31m[199]#011train-rmse:0.223379#011validation-rmse:0.310121\u001b[0m\n",
      "Billable seconds: 643\n"
     ]
    }
   ],
   "source": [
    "# TODO: Create a new estimator object attached to the best training job found during hyperparameter tuning\n",
    "\n",
    "xgb_attached = sagemaker.estimator.Estimator.attach(xgb_hyperparameter_tuner.best_training_job())\n"
   ]
  },
  {
   "cell_type": "markdown",
   "metadata": {},
   "source": [
    "Now that we have an estimator object attached to the correct training job, we can proceed as we normally would and create a transformer object."
   ]
  },
  {
   "cell_type": "code",
   "execution_count": 38,
   "metadata": {},
   "outputs": [
    {
     "name": "stderr",
     "output_type": "stream",
     "text": [
      "INFO:sagemaker:Creating model with name: xgboost-190406-1125-002-39349424\n",
      "WARNING:sagemaker:Using already existing model: xgboost-190406-1125-002-39349424\n"
     ]
    }
   ],
   "source": [
    "# TODO: Create a transformer object from the attached estimator. Using an instance count of 1 and an instance type of ml.m4.xlarge\n",
    "#       should be more than enough.\n",
    "\n",
    "xgb_transformer = xgb_attached.transformer(1, \"ml.m4.xlarge\")\n"
   ]
  },
  {
   "cell_type": "markdown",
   "metadata": {},
   "source": [
    "Next we actually perform the transform job. When doing so we need to make sure to specify the type of data we are sending so that it is serialized correctly in the background. In our case we are providing our model with csv data so we specify `text/csv`. Also, if the test data that we have provided is too large to process all at once then we need to specify how the data file should be split up. Since each line is a single entry in our data set we tell SageMaker that it can split the input on each line."
   ]
  },
  {
   "cell_type": "code",
   "execution_count": 39,
   "metadata": {},
   "outputs": [
    {
     "name": "stderr",
     "output_type": "stream",
     "text": [
      "INFO:sagemaker:Creating transform job with name: xgboost-190406-1125-002-39349424-2019-04-06-11-55-02-387\n"
     ]
    }
   ],
   "source": [
    "# TODO: Start the transform job. Make sure to specify the content type and the split type of the test data.\n",
    "# this does not work because we should not have uploaded the test labels as well.\n",
    "xgb_transformer.transform(test_location, content_type='text/csv', split_type='Line')"
   ]
  },
  {
   "cell_type": "markdown",
   "metadata": {},
   "source": [
    "Currently the transform job is running but it is doing so in the background. Since we wish to wait until the transform job is done and we would like a bit of feedback we can run the `wait()` method."
   ]
  },
  {
   "cell_type": "code",
   "execution_count": 40,
   "metadata": {},
   "outputs": [
    {
     "name": "stdout",
     "output_type": "stream",
     "text": [
      "..............................................!\n"
     ]
    }
   ],
   "source": [
    "xgb_transformer.wait()"
   ]
  },
  {
   "cell_type": "markdown",
   "metadata": {},
   "source": [
    "Now the transform job has executed and the result, the estimated sentiment of each review, has been saved on S3. Since we would rather work on this file locally we can perform a bit of notebook magic to copy the file to the `data_dir`."
   ]
  },
  {
   "cell_type": "code",
   "execution_count": 41,
   "metadata": {},
   "outputs": [
    {
     "name": "stdout",
     "output_type": "stream",
     "text": [
      "Completed 256.0 KiB/372.6 KiB (2.9 MiB/s) with 1 file(s) remaining\r",
      "Completed 372.6 KiB/372.6 KiB (4.2 MiB/s) with 1 file(s) remaining\r",
      "download: s3://sagemaker-eu-west-1-288115630859/xgboost-190406-1125-002-39349424-2019-04-06-11-55-02-387/test.csv.out to ../data/xgboost/test.csv.out\r\n"
     ]
    }
   ],
   "source": [
    "!aws s3 cp --recursive $xgb_transformer.output_path $data_dir"
   ]
  },
  {
   "cell_type": "markdown",
   "metadata": {},
   "source": [
    "The last step is now to read in the output from our model, convert the output to something a little more usable, in this case we want the sentiment to be either `1` (positive) or `0` (negative), and then compare to the ground truth labels."
   ]
  },
  {
   "cell_type": "code",
   "execution_count": 42,
   "metadata": {},
   "outputs": [],
   "source": [
    "predictions = pd.read_csv(os.path.join(data_dir, 'test.csv.out'), header=None)\n",
    "predictions = [round(num) for num in predictions.squeeze().values]"
   ]
  },
  {
   "cell_type": "code",
   "execution_count": 43,
   "metadata": {},
   "outputs": [
    {
     "data": {
      "text/plain": [
       "0.86844"
      ]
     },
     "execution_count": 43,
     "metadata": {},
     "output_type": "execute_result"
    }
   ],
   "source": [
    "from sklearn.metrics import accuracy_score\n",
    "accuracy_score(test_y, predictions)"
   ]
  },
  {
   "cell_type": "markdown",
   "metadata": {},
   "source": [
    "## Optional: Clean up\n",
    "\n",
    "The default notebook instance on SageMaker doesn't have a lot of excess disk space available. As you continue to complete and execute notebooks you will eventually fill up this disk space, leading to errors which can be difficult to diagnose. Once you are completely finished using a notebook it is a good idea to remove the files that you created along the way. Of course, you can do this from the terminal or from the notebook hub if you would like. The cell below contains some commands to clean up the created files from within the notebook."
   ]
  },
  {
   "cell_type": "code",
   "execution_count": 44,
   "metadata": {},
   "outputs": [],
   "source": [
    "# First we will remove all of the files contained in the data_dir directory\n",
    "!rm $data_dir/*\n",
    "\n",
    "# And then we delete the directory itself\n",
    "!rmdir $data_dir"
   ]
  },
  {
   "cell_type": "code",
   "execution_count": null,
   "metadata": {},
   "outputs": [],
   "source": [
    "# Similarly we will remove the files in the cache_dir directory and the directory itself\n",
    "!rm $cache_dir/*\n",
    "!rmdir $cache_dir"
   ]
  },
  {
   "cell_type": "code",
   "execution_count": null,
   "metadata": {},
   "outputs": [],
   "source": []
  }
 ],
 "metadata": {
  "kernelspec": {
   "display_name": "conda_python3",
   "language": "python",
   "name": "conda_python3"
  },
  "language_info": {
   "codemirror_mode": {
    "name": "ipython",
    "version": 3
   },
   "file_extension": ".py",
   "mimetype": "text/x-python",
   "name": "python",
   "nbconvert_exporter": "python",
   "pygments_lexer": "ipython3",
   "version": "3.6.5"
  }
 },
 "nbformat": 4,
 "nbformat_minor": 2
}
