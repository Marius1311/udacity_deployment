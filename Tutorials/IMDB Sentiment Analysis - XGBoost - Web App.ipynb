{
 "cells": [
  {
   "cell_type": "markdown",
   "metadata": {},
   "source": [
    "# Sentiment Analysis Web App\n",
    "\n",
    "_Deep Learning Nanodegree Program | Deployment_\n",
    "\n",
    "---\n",
    "\n",
    "In this notebook we will use Amazon's SageMaker service to construct a random tree model to predict the sentiment of a movie review. In addition, we will deploy this model to an endpoint and construct a very simple web app which will interact with our model's deployed endpoint.\n",
    "\n",
    "## General Outline\n",
    "\n",
    "Typically, when using a notebook instance with SageMaker, you will proceed through the following steps. Of course, not every step will need to be done with each project. Also, there is quite a lot of room for variation in many of the steps, as you will see throughout these lessons.\n",
    "\n",
    "1. Download or otherwise retrieve the data.\n",
    "2. Process / Prepare the data.\n",
    "3. Upload the processed data to S3.\n",
    "4. Train a chosen model.\n",
    "5. Test the trained model (typically using a batch transform job).\n",
    "6. Deploy the trained model.\n",
    "7. Use the deployed model.\n",
    "\n",
    "In this notebook we will progress through each of the steps above. We will also see that the final step, using the deployed model, can be quite challenging."
   ]
  },
  {
   "cell_type": "markdown",
   "metadata": {},
   "source": [
    "## Step 1: Downloading the data\n",
    "\n",
    "The dataset we are going to use is very popular among researchers in Natural Language Processing, usually referred to as the [IMDb dataset](http://ai.stanford.edu/~amaas/data/sentiment/). It consists of movie reviews from the website [imdb.com](http://www.imdb.com/), each labeled as either '**pos**itive', if the reviewer enjoyed the film, or '**neg**ative' otherwise.\n",
    "\n",
    "> Maas, Andrew L., et al. [Learning Word Vectors for Sentiment Analysis](http://ai.stanford.edu/~amaas/data/sentiment/). In _Proceedings of the 49th Annual Meeting of the Association for Computational Linguistics: Human Language Technologies_. Association for Computational Linguistics, 2011.\n",
    "\n",
    "We begin by using some Jupyter Notebook magic to download and extract the dataset."
   ]
  },
  {
   "cell_type": "code",
   "execution_count": 1,
   "metadata": {},
   "outputs": [
    {
     "name": "stdout",
     "output_type": "stream",
     "text": [
      "mkdir: cannot create directory ‘../data’: File exists\n",
      "--2019-04-05 13:12:38--  http://ai.stanford.edu/~amaas/data/sentiment/aclImdb_v1.tar.gz\n",
      "Resolving ai.stanford.edu (ai.stanford.edu)... 171.64.68.10\n",
      "Connecting to ai.stanford.edu (ai.stanford.edu)|171.64.68.10|:80... connected.\n",
      "HTTP request sent, awaiting response... 200 OK\n",
      "Length: 84125825 (80M) [application/x-gzip]\n",
      "Saving to: ‘../data/aclImdb_v1.tar.gz’\n",
      "\n",
      "../data/aclImdb_v1. 100%[===================>]  80.23M  10.0MB/s    in 13s     \n",
      "\n",
      "2019-04-05 13:12:52 (5.95 MB/s) - ‘../data/aclImdb_v1.tar.gz’ saved [84125825/84125825]\n",
      "\n"
     ]
    }
   ],
   "source": [
    "%mkdir ../data\n",
    "!wget -O ../data/aclImdb_v1.tar.gz http://ai.stanford.edu/~amaas/data/sentiment/aclImdb_v1.tar.gz\n",
    "!tar -zxf ../data/aclImdb_v1.tar.gz -C ../data"
   ]
  },
  {
   "cell_type": "markdown",
   "metadata": {},
   "source": [
    "## Step 2: Preparing and Processing the data\n",
    "\n",
    "The data we have downloaded is split into various files, each of which contains a single review. It will be much easier going forward if we combine these individual files into two large files, one for training and one for testing."
   ]
  },
  {
   "cell_type": "code",
   "execution_count": 2,
   "metadata": {},
   "outputs": [],
   "source": [
    "import os\n",
    "import glob\n",
    "\n",
    "def read_imdb_data(data_dir='../data/aclImdb'):\n",
    "    data = {}\n",
    "    labels = {}\n",
    "    \n",
    "    for data_type in ['train', 'test']:\n",
    "        data[data_type] = {}\n",
    "        labels[data_type] = {}\n",
    "        \n",
    "        for sentiment in ['pos', 'neg']:\n",
    "            data[data_type][sentiment] = []\n",
    "            labels[data_type][sentiment] = []\n",
    "            \n",
    "            path = os.path.join(data_dir, data_type, sentiment, '*.txt')\n",
    "            files = glob.glob(path)\n",
    "            \n",
    "            for f in files:\n",
    "                with open(f) as review:\n",
    "                    data[data_type][sentiment].append(review.read())\n",
    "                    # Here we represent a positive review by '1' and a negative review by '0'\n",
    "                    labels[data_type][sentiment].append(1 if sentiment == 'pos' else 0)\n",
    "                    \n",
    "            assert len(data[data_type][sentiment]) == len(labels[data_type][sentiment]), \\\n",
    "                    \"{}/{} data size does not match labels size\".format(data_type, sentiment)\n",
    "                \n",
    "    return data, labels"
   ]
  },
  {
   "cell_type": "code",
   "execution_count": 3,
   "metadata": {},
   "outputs": [
    {
     "name": "stdout",
     "output_type": "stream",
     "text": [
      "IMDB reviews: train = 12500 pos / 12500 neg, test = 12500 pos / 12500 neg\n"
     ]
    }
   ],
   "source": [
    "data, labels = read_imdb_data()\n",
    "print(\"IMDB reviews: train = {} pos / {} neg, test = {} pos / {} neg\".format(\n",
    "            len(data['train']['pos']), len(data['train']['neg']),\n",
    "            len(data['test']['pos']), len(data['test']['neg'])))"
   ]
  },
  {
   "cell_type": "code",
   "execution_count": 4,
   "metadata": {},
   "outputs": [],
   "source": [
    "from sklearn.utils import shuffle\n",
    "\n",
    "def prepare_imdb_data(data, labels):\n",
    "    \"\"\"Prepare training and test sets from IMDb movie reviews.\"\"\"\n",
    "    \n",
    "    #Combine positive and negative reviews and labels\n",
    "    data_train = data['train']['pos'] + data['train']['neg']\n",
    "    data_test = data['test']['pos'] + data['test']['neg']\n",
    "    labels_train = labels['train']['pos'] + labels['train']['neg']\n",
    "    labels_test = labels['test']['pos'] + labels['test']['neg']\n",
    "    \n",
    "    #Shuffle reviews and corresponding labels within training and test sets\n",
    "    data_train, labels_train = shuffle(data_train, labels_train)\n",
    "    data_test, labels_test = shuffle(data_test, labels_test)\n",
    "    \n",
    "    # Return a unified training data, test data, training labels, test labets\n",
    "    return data_train, data_test, labels_train, labels_test"
   ]
  },
  {
   "cell_type": "code",
   "execution_count": 5,
   "metadata": {},
   "outputs": [
    {
     "name": "stdout",
     "output_type": "stream",
     "text": [
      "IMDb reviews (combined): train = 25000, test = 25000\n"
     ]
    }
   ],
   "source": [
    "train_X, test_X, train_y, test_y = prepare_imdb_data(data, labels)\n",
    "print(\"IMDb reviews (combined): train = {}, test = {}\".format(len(train_X), len(test_X)))"
   ]
  },
  {
   "cell_type": "code",
   "execution_count": 6,
   "metadata": {},
   "outputs": [
    {
     "data": {
      "text/plain": [
       "'This story had a different angle that intrigued me, enough to buy a previously-viewed VHS sight-unseen. That was a mistake.<br /><br />In what could have been a very nice story - about badly crippled people at a hospital, and their various personalities - turned quickly into a very profane soap opera with unlikeable characters.<br /><br />We have \"Bloss\" (William Forsythe) the stereotype racist white person, who says the f-word every other sentence and is so despicable they didn\\'t give him a first name in the movie. He\\'s a lot of fun to be around. Then, there is \"Raymond Hill\" (Wesley Snipes), a fast-talking womanizer. Snipes must have liked those fast-talking \"hip\" arrogant roles because he played in a number of them, like in \"White Men Can\\'t Jump.\" Then there is sweet Helen Hunt playing \"Anna\" that wonderful caring, loving person who is having an adulterous affair with the leading character in the film, \"Joel Garcia\" (Eric Stoltz).<br /><br />Yup, this is heartwarming, feel-good type stuff. It just makes my heart melt watching these nice folks. But, if you are one of those who loves sleazy characters portrayed by sleazy people in this sleazy film.....you might really like this! Add in a dose of Hollywood political correctness and there you go! What more could anyone want?'"
      ]
     },
     "execution_count": 6,
     "metadata": {},
     "output_type": "execute_result"
    }
   ],
   "source": [
    "train_X[100]"
   ]
  },
  {
   "cell_type": "markdown",
   "metadata": {},
   "source": [
    "## Processing the data\n",
    "\n",
    "Now that we have our training and testing datasets merged and ready to use, we need to start processing the raw data into something that will be useable by our machine learning algorithm. To begin with, we remove any html formatting and any non-alpha numeric characters that may appear in the reviews. We will do this in a very simplistic way using Python's regular expression module. We will discuss the reason for this rather simplistic pre-processing later on."
   ]
  },
  {
   "cell_type": "code",
   "execution_count": 7,
   "metadata": {},
   "outputs": [],
   "source": [
    "import re\n",
    "\n",
    "REPLACE_NO_SPACE = re.compile(\"(\\.)|(\\;)|(\\:)|(\\!)|(\\')|(\\?)|(\\,)|(\\\")|(\\()|(\\))|(\\[)|(\\])\")\n",
    "REPLACE_WITH_SPACE = re.compile(\"(<br\\s*/><br\\s*/>)|(\\-)|(\\/)\")\n",
    "\n",
    "def review_to_words(review):\n",
    "    # sub does replacements. It takes the compiled string from above, searches for it in review.lower()\n",
    "    # and replaces occurences with either \"\" or \" \"\n",
    "    words = REPLACE_NO_SPACE.sub(\"\", review.lower())\n",
    "    words = REPLACE_WITH_SPACE.sub(\" \", words)\n",
    "    return words"
   ]
  },
  {
   "cell_type": "code",
   "execution_count": 8,
   "metadata": {},
   "outputs": [
    {
     "data": {
      "text/plain": [
       "'this story had a different angle that intrigued me enough to buy a previously viewed vhs sight unseen that was a mistake in what could have been a very nice story   about badly crippled people at a hospital and their various personalities   turned quickly into a very profane soap opera with unlikeable characters we have bloss william forsythe the stereotype racist white person who says the f word every other sentence and is so despicable they didnt give him a first name in the movie hes a lot of fun to be around then there is raymond hill wesley snipes a fast talking womanizer snipes must have liked those fast talking hip arrogant roles because he played in a number of them like in white men cant jump then there is sweet helen hunt playing anna that wonderful caring loving person who is having an adulterous affair with the leading character in the film joel garcia eric stoltz yup this is heartwarming feel good type stuff it just makes my heart melt watching these nice folks but if you are one of those who loves sleazy characters portrayed by sleazy people in this sleazy filmyou might really like this add in a dose of hollywood political correctness and there you go what more could anyone want'"
      ]
     },
     "execution_count": 8,
     "metadata": {},
     "output_type": "execute_result"
    }
   ],
   "source": [
    "review_to_words(train_X[100])"
   ]
  },
  {
   "cell_type": "code",
   "execution_count": 9,
   "metadata": {},
   "outputs": [],
   "source": [
    "import pickle\n",
    "\n",
    "cache_dir = os.path.join(\"../cache\", \"sentiment_web_app\")  # where to store cache files\n",
    "os.makedirs(cache_dir, exist_ok=True)  # ensure cache directory exists\n",
    "\n",
    "def preprocess_data(data_train, data_test, labels_train, labels_test,\n",
    "                    cache_dir=cache_dir, cache_file=\"preprocessed_data.pkl\"):\n",
    "    \"\"\"Convert each review to words; read from cache if available.\"\"\"\n",
    "\n",
    "    # If cache_file is not None, try to read from it first\n",
    "    cache_data = None\n",
    "    if cache_file is not None:\n",
    "        try:\n",
    "            with open(os.path.join(cache_dir, cache_file), \"rb\") as f:\n",
    "                cache_data = pickle.load(f)\n",
    "            print(\"Read preprocessed data from cache file:\", cache_file)\n",
    "        except:\n",
    "            pass  # unable to read from cache, but that's okay\n",
    "    \n",
    "    # If cache is missing, then do the heavy lifting\n",
    "    if cache_data is None:\n",
    "        # Preprocess training and test data to obtain words for each review\n",
    "        #words_train = list(map(review_to_words, data_train))\n",
    "        #words_test = list(map(review_to_words, data_test))\n",
    "        words_train = [review_to_words(review) for review in data_train]\n",
    "        words_test = [review_to_words(review) for review in data_test]\n",
    "        \n",
    "        # Write to cache file for future runs\n",
    "        if cache_file is not None:\n",
    "            cache_data = dict(words_train=words_train, words_test=words_test,\n",
    "                              labels_train=labels_train, labels_test=labels_test)\n",
    "            with open(os.path.join(cache_dir, cache_file), \"wb\") as f:\n",
    "                pickle.dump(cache_data, f)\n",
    "            print(\"Wrote preprocessed data to cache file:\", cache_file)\n",
    "    else:\n",
    "        # Unpack data loaded from cache file\n",
    "        words_train, words_test, labels_train, labels_test = (cache_data['words_train'],\n",
    "                cache_data['words_test'], cache_data['labels_train'], cache_data['labels_test'])\n",
    "    \n",
    "    return words_train, words_test, labels_train, labels_test"
   ]
  },
  {
   "cell_type": "code",
   "execution_count": 10,
   "metadata": {},
   "outputs": [
    {
     "name": "stdout",
     "output_type": "stream",
     "text": [
      "Wrote preprocessed data to cache file: preprocessed_data.pkl\n"
     ]
    }
   ],
   "source": [
    "# Preprocess data\n",
    "train_X, test_X, train_y, test_y = preprocess_data(train_X, test_X, train_y, test_y)"
   ]
  },
  {
   "cell_type": "markdown",
   "metadata": {},
   "source": [
    "### Extract Bag-of-Words features\n",
    "\n",
    "For the model we will be implementing, rather than using the reviews directly, we are going to transform each review into a Bag-of-Words feature representation. Keep in mind that 'in the wild' we will only have access to the training set so our transformer can only use the training set to construct a representation."
   ]
  },
  {
   "cell_type": "code",
   "execution_count": 11,
   "metadata": {},
   "outputs": [],
   "source": [
    "import numpy as np\n",
    "from sklearn.feature_extraction.text import CountVectorizer\n",
    "from sklearn.externals import joblib\n",
    "# joblib is an enhanced version of pickle that is more efficient for storing NumPy arrays\n",
    "\n",
    "def extract_BoW_features(words_train, words_test, vocabulary_size=5000,\n",
    "                         cache_dir=cache_dir, cache_file=\"bow_features.pkl\"):\n",
    "    \"\"\"Extract Bag-of-Words for a given set of documents, already preprocessed into words.\"\"\"\n",
    "    \n",
    "    # If cache_file is not None, try to read from it first\n",
    "    cache_data = None\n",
    "    if cache_file is not None:\n",
    "        try:\n",
    "            with open(os.path.join(cache_dir, cache_file), \"rb\") as f:\n",
    "                cache_data = joblib.load(f)\n",
    "            print(\"Read features from cache file:\", cache_file)\n",
    "        except:\n",
    "            pass  # unable to read from cache, but that's okay\n",
    "    \n",
    "    # If cache is missing, then do the heavy lifting\n",
    "    if cache_data is None:\n",
    "        # Fit a vectorizer to training documents and use it to transform them\n",
    "        # NOTE: Training documents have already been preprocessed and tokenized into words;\n",
    "        #       pass in dummy functions to skip those steps, e.g. preprocessor=lambda x: x\n",
    "        vectorizer = CountVectorizer(max_features=vocabulary_size)\n",
    "        features_train = vectorizer.fit_transform(words_train).toarray()\n",
    "\n",
    "        # Apply the same vectorizer to transform the test documents (ignore unknown words)\n",
    "        features_test = vectorizer.transform(words_test).toarray()\n",
    "        \n",
    "        # NOTE: Remember to convert the features using .toarray() for a compact representation\n",
    "        \n",
    "        # Write to cache file for future runs (store vocabulary as well)\n",
    "        if cache_file is not None:\n",
    "            vocabulary = vectorizer.vocabulary_\n",
    "            cache_data = dict(features_train=features_train, features_test=features_test,\n",
    "                             vocabulary=vocabulary)\n",
    "            with open(os.path.join(cache_dir, cache_file), \"wb\") as f:\n",
    "                joblib.dump(cache_data, f)\n",
    "            print(\"Wrote features to cache file:\", cache_file)\n",
    "    else:\n",
    "        # Unpack data loaded from cache file\n",
    "        features_train, features_test, vocabulary = (cache_data['features_train'],\n",
    "                cache_data['features_test'], cache_data['vocabulary'])\n",
    "    \n",
    "    # Return both the extracted features as well as the vocabulary\n",
    "    return features_train, features_test, vocabulary"
   ]
  },
  {
   "cell_type": "code",
   "execution_count": 12,
   "metadata": {},
   "outputs": [
    {
     "name": "stdout",
     "output_type": "stream",
     "text": [
      "Wrote features to cache file: bow_features.pkl\n"
     ]
    }
   ],
   "source": [
    "# Extract Bag of Words features for both training and test datasets\n",
    "train_X, test_X, vocabulary = extract_BoW_features(train_X, test_X)"
   ]
  },
  {
   "cell_type": "code",
   "execution_count": 13,
   "metadata": {},
   "outputs": [
    {
     "data": {
      "text/plain": [
       "5000"
      ]
     },
     "execution_count": 13,
     "metadata": {},
     "output_type": "execute_result"
    }
   ],
   "source": [
    "len(train_X[100])"
   ]
  },
  {
   "cell_type": "markdown",
   "metadata": {},
   "source": [
    "## Step 3: Upload data to S3\n",
    "\n",
    "Now that we have created the feature representation of our training (and testing) data, it is time to start setting up and using the XGBoost classifier provided by SageMaker.\n",
    "\n",
    "### Writing the datasets\n",
    "\n",
    "The XGBoost classifier that we will be using requires the dataset to be written to a file and stored using Amazon S3. To do this, we will start by splitting the training dataset into two parts, the data we will train the model with and a validation set. Then, we will write those datasets to a file locally and then upload the files to S3. In addition, we will write the test set to a file and upload that file to S3. This is so that we can use SageMakers Batch Transform functionality to test our model once we've fit it."
   ]
  },
  {
   "cell_type": "code",
   "execution_count": 19,
   "metadata": {
    "collapsed": true
   },
   "outputs": [
    {
     "ename": "TypeError",
     "evalue": "'NoneType' object is not subscriptable",
     "output_type": "error",
     "traceback": [
      "\u001b[0;31m---------------------------------------------------------------------------\u001b[0m",
      "\u001b[0;31mTypeError\u001b[0m                                 Traceback (most recent call last)",
      "\u001b[0;32m<ipython-input-19-4eca64f87870>\u001b[0m in \u001b[0;36m<module>\u001b[0;34m()\u001b[0m\n\u001b[1;32m      3\u001b[0m \u001b[0;31m# Earlier we shuffled the training dataset so to make things simple we can just assign\u001b[0m\u001b[0;34m\u001b[0m\u001b[0;34m\u001b[0m\u001b[0m\n\u001b[1;32m      4\u001b[0m \u001b[0;31m# the first 10 000 reviews to the validation set and use the remaining reviews for training.\u001b[0m\u001b[0;34m\u001b[0m\u001b[0;34m\u001b[0m\u001b[0m\n\u001b[0;32m----> 5\u001b[0;31m \u001b[0mval_X\u001b[0m \u001b[0;34m=\u001b[0m \u001b[0mpd\u001b[0m\u001b[0;34m.\u001b[0m\u001b[0mDataFrame\u001b[0m\u001b[0;34m(\u001b[0m\u001b[0mtrain_X\u001b[0m\u001b[0;34m[\u001b[0m\u001b[0;34m:\u001b[0m\u001b[0;36m10000\u001b[0m\u001b[0;34m]\u001b[0m\u001b[0;34m)\u001b[0m\u001b[0;34m\u001b[0m\u001b[0m\n\u001b[0m\u001b[1;32m      6\u001b[0m \u001b[0mtrain_X\u001b[0m \u001b[0;34m=\u001b[0m \u001b[0mpd\u001b[0m\u001b[0;34m.\u001b[0m\u001b[0mDataFrame\u001b[0m\u001b[0;34m(\u001b[0m\u001b[0mtrain_X\u001b[0m\u001b[0;34m[\u001b[0m\u001b[0;36m10000\u001b[0m\u001b[0;34m:\u001b[0m\u001b[0;34m]\u001b[0m\u001b[0;34m)\u001b[0m\u001b[0;34m\u001b[0m\u001b[0m\n\u001b[1;32m      7\u001b[0m \u001b[0;34m\u001b[0m\u001b[0m\n",
      "\u001b[0;31mTypeError\u001b[0m: 'NoneType' object is not subscriptable"
     ]
    }
   ],
   "source": [
    "import pandas as pd\n",
    "\n",
    "# Earlier we shuffled the training dataset so to make things simple we can just assign\n",
    "# the first 10 000 reviews to the validation set and use the remaining reviews for training.\n",
    "val_X = pd.DataFrame(train_X[:10000])\n",
    "train_X = pd.DataFrame(train_X[10000:])\n",
    "\n",
    "val_y = pd.DataFrame(train_y[:10000])\n",
    "train_y = pd.DataFrame(train_y[10000:])"
   ]
  },
  {
   "cell_type": "markdown",
   "metadata": {},
   "source": [
    "The documentation for the XGBoost algorithm in SageMaker requires that the training and validation datasets should contain no headers or index and that the label should occur first for each sample.\n",
    "\n",
    "For more information about this and other algorithms, the SageMaker developer documentation can be found on __[Amazon's website.](https://docs.aws.amazon.com/sagemaker/latest/dg/)__"
   ]
  },
  {
   "cell_type": "code",
   "execution_count": 15,
   "metadata": {},
   "outputs": [],
   "source": [
    "# First we make sure that the local directory in which we'd like to store the training and validation csv files exists.\n",
    "data_dir = '../data/sentiment_web_app'\n",
    "if not os.path.exists(data_dir):\n",
    "    os.makedirs(data_dir)"
   ]
  },
  {
   "cell_type": "code",
   "execution_count": 16,
   "metadata": {},
   "outputs": [],
   "source": [
    "pd.DataFrame(test_X).to_csv(os.path.join(data_dir, 'test.csv'), header=False, index=False)\n",
    "\n",
    "pd.concat([val_y, val_X], axis=1).to_csv(os.path.join(data_dir, 'validation.csv'), header=False, index=False)\n",
    "pd.concat([train_y, train_X], axis=1).to_csv(os.path.join(data_dir, 'train.csv'), header=False, index=False)"
   ]
  },
  {
   "cell_type": "code",
   "execution_count": 17,
   "metadata": {},
   "outputs": [],
   "source": [
    "# To save a bit of memory we can set text_X, train_X, val_X, train_y and val_y to None.\n",
    "\n",
    "test_X = train_X = val_X = train_y = val_y = None"
   ]
  },
  {
   "cell_type": "markdown",
   "metadata": {},
   "source": [
    "### Uploading Training / Validation files to S3\n",
    "\n",
    "Amazon's S3 service allows us to store files that can be accessed by both the built-in training models such as the XGBoost model we will be using as well as custom models such as the one we will see a little later.\n",
    "\n",
    "For this and most other tasks we will be doing using SageMaker, there are two methods we could use. The first is to use the low level functionality of SageMaker which requires knowing each of the objects involved in the SageMaker environment. The second is to use the high level functionality in which certain choices have been made on the user's behalf. The low level approach benefits from allowing the user a great deal of flexibility while the high level approach makes development much quicker. For our purposes we will opt to use the high level approach although using the low-level approach is certainly an option.\n",
    "\n",
    "Recall the method `upload_data()` which is a member of the object representing our current SageMaker session. What this method does is upload the data to the default bucket (which is created if it does not exist) into the path described by the key_prefix variable. To see this for yourself, once you have uploaded the data files, go to the S3 console and look to see where the files have been uploaded.\n",
    "\n",
    "For additional resources, see the __[SageMaker API documentation](http://sagemaker.readthedocs.io/en/latest/)__ and in addition the __[SageMaker Developer Guide.](https://docs.aws.amazon.com/sagemaker/latest/dg/)__"
   ]
  },
  {
   "cell_type": "code",
   "execution_count": 18,
   "metadata": {},
   "outputs": [],
   "source": [
    "import sagemaker\n",
    "\n",
    "session = sagemaker.Session() # Store the current SageMaker session\n",
    "\n",
    "# S3 prefix (which folder will we use)\n",
    "prefix = 'sentiment-web-app'\n",
    "\n",
    "test_location = session.upload_data(os.path.join(data_dir, 'test.csv'), key_prefix=prefix)\n",
    "val_location = session.upload_data(os.path.join(data_dir, 'validation.csv'), key_prefix=prefix)\n",
    "train_location = session.upload_data(os.path.join(data_dir, 'train.csv'), key_prefix=prefix)"
   ]
  },
  {
   "cell_type": "markdown",
   "metadata": {},
   "source": [
    "## Step 4: Creating the XGBoost model\n",
    "\n",
    "Now that the data has been uploaded it is time to create the XGBoost model. To begin with, we need to do some setup. At this point it is worth discussing what a model is in SageMaker. It is easiest to think of a model of comprising three different objects in the SageMaker ecosystem, which interact with one another.\n",
    "\n",
    "- Model Artifacts\n",
    "- Training Code (Container)\n",
    "- Inference Code (Container)\n",
    "\n",
    "The Model Artifacts are what you might think of as the actual model itself. For example, if you were building a neural network, the model artifacts would be the weights of the various layers. In our case, for an XGBoost model, the artifacts are the actual trees that are created during training.\n",
    "\n",
    "The other two objects, the training code and the inference code are then used to manipulate the training artifacts. More precisely, the training code uses the training data that is provided and creates the model artifacts, while the inference code uses the model artifacts to make predictions on new data.\n",
    "\n",
    "The way that SageMaker runs the training and inference code is by making use of Docker containers. For now, think of a container as being a way of packaging code up so that dependencies aren't an issue."
   ]
  },
  {
   "cell_type": "code",
   "execution_count": 20,
   "metadata": {},
   "outputs": [],
   "source": [
    "from sagemaker import get_execution_role\n",
    "\n",
    "# Our current execution role is required when creating the model as the training\n",
    "# and inference code will need to access the model artifacts.\n",
    "role = get_execution_role()"
   ]
  },
  {
   "cell_type": "code",
   "execution_count": 21,
   "metadata": {},
   "outputs": [],
   "source": [
    "# We need to retrieve the location of the container which is provided by Amazon for using XGBoost.\n",
    "# As a matter of convenience, the training and inference code both use the same container.\n",
    "from sagemaker.amazon.amazon_estimator import get_image_uri\n",
    "\n",
    "container = get_image_uri(session.boto_region_name, 'xgboost')"
   ]
  },
  {
   "cell_type": "code",
   "execution_count": 22,
   "metadata": {},
   "outputs": [],
   "source": [
    "# First we create a SageMaker estimator object for our model.\n",
    "xgb = sagemaker.estimator.Estimator(container, # The location of the container we wish to use\n",
    "                                    role,                                    # What is our current IAM Role\n",
    "                                    train_instance_count=1,                  # How many compute instances\n",
    "                                    train_instance_type='ml.m4.xlarge',      # What kind of compute instances\n",
    "                                    output_path='s3://{}/{}/output'.format(session.default_bucket(), prefix),\n",
    "                                    sagemaker_session=session)\n",
    "\n",
    "# And then set the algorithm specific parameters.\n",
    "xgb.set_hyperparameters(max_depth=5,\n",
    "                        eta=0.2,\n",
    "                        gamma=4,\n",
    "                        min_child_weight=6,\n",
    "                        subsample=0.8,\n",
    "                        silent=0,\n",
    "                        objective='binary:logistic',\n",
    "                        early_stopping_rounds=10,\n",
    "                        num_round=500)"
   ]
  },
  {
   "cell_type": "markdown",
   "metadata": {},
   "source": [
    "### Fit the XGBoost model\n",
    "\n",
    "Now that our model has been set up we simply need to attach the training and validation datasets and then ask SageMaker to set up the computation."
   ]
  },
  {
   "cell_type": "code",
   "execution_count": 23,
   "metadata": {},
   "outputs": [],
   "source": [
    "s3_input_train = sagemaker.s3_input(s3_data=train_location, content_type='csv')\n",
    "s3_input_validation = sagemaker.s3_input(s3_data=val_location, content_type='csv')"
   ]
  },
  {
   "cell_type": "code",
   "execution_count": 24,
   "metadata": {},
   "outputs": [
    {
     "name": "stderr",
     "output_type": "stream",
     "text": [
      "INFO:sagemaker:Creating training-job with name: xgboost-2019-04-05-13-29-32-676\n"
     ]
    },
    {
     "name": "stdout",
     "output_type": "stream",
     "text": [
      "2019-04-05 13:29:32 Starting - Starting the training job...\n",
      "2019-04-05 13:29:34 Starting - Launching requested ML instances......\n",
      "2019-04-05 13:30:35 Starting - Preparing the instances for training...\n",
      "2019-04-05 13:31:29 Downloading - Downloading input data...\n",
      "2019-04-05 13:32:01 Training - Training image download completed. Training in progress..\n",
      "\u001b[31mArguments: train\u001b[0m\n",
      "\u001b[31m[2019-04-05:13:32:02:INFO] Running standalone xgboost training.\u001b[0m\n",
      "\u001b[31m[2019-04-05:13:32:02:INFO] File size need to be processed in the node: 238.5mb. Available memory size in the node: 8387.84mb\u001b[0m\n",
      "\u001b[31m[2019-04-05:13:32:02:INFO] Determined delimiter of CSV input is ','\u001b[0m\n",
      "\u001b[31m[13:32:02] S3DistributionType set as FullyReplicated\u001b[0m\n",
      "\u001b[31m[13:32:04] 15000x5000 matrix with 75000000 entries loaded from /opt/ml/input/data/train?format=csv&label_column=0&delimiter=,\u001b[0m\n",
      "\u001b[31m[2019-04-05:13:32:04:INFO] Determined delimiter of CSV input is ','\u001b[0m\n",
      "\u001b[31m[13:32:04] S3DistributionType set as FullyReplicated\u001b[0m\n",
      "\u001b[31m[13:32:06] 10000x5000 matrix with 50000000 entries loaded from /opt/ml/input/data/validation?format=csv&label_column=0&delimiter=,\u001b[0m\n",
      "\u001b[31m[13:32:09] src/tree/updater_prune.cc:74: tree pruning end, 1 roots, 36 extra nodes, 8 pruned nodes, max_depth=5\u001b[0m\n",
      "\u001b[31m[0]#011train-error:0.306933#011validation-error:0.3119\u001b[0m\n",
      "\u001b[31mMultiple eval metrics have been passed: 'validation-error' will be used for early stopping.\n",
      "\u001b[0m\n",
      "\u001b[31mWill train until validation-error hasn't improved in 10 rounds.\u001b[0m\n",
      "\u001b[31m[13:32:11] src/tree/updater_prune.cc:74: tree pruning end, 1 roots, 42 extra nodes, 10 pruned nodes, max_depth=5\u001b[0m\n",
      "\u001b[31m[1]#011train-error:0.302733#011validation-error:0.3075\u001b[0m\n",
      "\u001b[31m[13:32:12] src/tree/updater_prune.cc:74: tree pruning end, 1 roots, 40 extra nodes, 6 pruned nodes, max_depth=5\u001b[0m\n",
      "\u001b[31m[2]#011train-error:0.289067#011validation-error:0.2943\u001b[0m\n",
      "\u001b[31m[13:32:13] src/tree/updater_prune.cc:74: tree pruning end, 1 roots, 28 extra nodes, 12 pruned nodes, max_depth=5\u001b[0m\n",
      "\u001b[31m[3]#011train-error:0.278867#011validation-error:0.2829\u001b[0m\n",
      "\u001b[31m[13:32:15] src/tree/updater_prune.cc:74: tree pruning end, 1 roots, 36 extra nodes, 2 pruned nodes, max_depth=5\u001b[0m\n",
      "\u001b[31m[4]#011train-error:0.274067#011validation-error:0.2811\u001b[0m\n",
      "\u001b[31m[13:32:16] src/tree/updater_prune.cc:74: tree pruning end, 1 roots, 42 extra nodes, 4 pruned nodes, max_depth=5\u001b[0m\n",
      "\u001b[31m[5]#011train-error:0.2564#011validation-error:0.2668\u001b[0m\n",
      "\u001b[31m[13:32:17] src/tree/updater_prune.cc:74: tree pruning end, 1 roots, 30 extra nodes, 0 pruned nodes, max_depth=5\u001b[0m\n",
      "\u001b[31m[6]#011train-error:0.248333#011validation-error:0.2601\u001b[0m\n",
      "\u001b[31m[13:32:19] src/tree/updater_prune.cc:74: tree pruning end, 1 roots, 28 extra nodes, 6 pruned nodes, max_depth=5\u001b[0m\n",
      "\u001b[31m[7]#011train-error:0.239067#011validation-error:0.2524\u001b[0m\n",
      "\u001b[31m[13:32:20] src/tree/updater_prune.cc:74: tree pruning end, 1 roots, 40 extra nodes, 6 pruned nodes, max_depth=5\u001b[0m\n",
      "\u001b[31m[8]#011train-error:0.2318#011validation-error:0.2453\u001b[0m\n",
      "\u001b[31m[13:32:21] src/tree/updater_prune.cc:74: tree pruning end, 1 roots, 32 extra nodes, 6 pruned nodes, max_depth=5\u001b[0m\n",
      "\u001b[31m[9]#011train-error:0.225333#011validation-error:0.2388\u001b[0m\n",
      "\u001b[31m[13:32:23] src/tree/updater_prune.cc:74: tree pruning end, 1 roots, 26 extra nodes, 6 pruned nodes, max_depth=5\u001b[0m\n",
      "\u001b[31m[10]#011train-error:0.221933#011validation-error:0.2345\u001b[0m\n",
      "\u001b[31m[13:32:24] src/tree/updater_prune.cc:74: tree pruning end, 1 roots, 44 extra nodes, 6 pruned nodes, max_depth=5\u001b[0m\n",
      "\u001b[31m[11]#011train-error:0.220133#011validation-error:0.2321\u001b[0m\n",
      "\u001b[31m[13:32:25] src/tree/updater_prune.cc:74: tree pruning end, 1 roots, 42 extra nodes, 4 pruned nodes, max_depth=5\u001b[0m\n",
      "\u001b[31m[12]#011train-error:0.2128#011validation-error:0.2278\u001b[0m\n",
      "\u001b[31m[13:32:26] src/tree/updater_prune.cc:74: tree pruning end, 1 roots, 28 extra nodes, 4 pruned nodes, max_depth=5\u001b[0m\n",
      "\u001b[31m[13]#011train-error:0.208867#011validation-error:0.2245\u001b[0m\n",
      "\u001b[31m[13:32:28] src/tree/updater_prune.cc:74: tree pruning end, 1 roots, 24 extra nodes, 14 pruned nodes, max_depth=5\u001b[0m\n",
      "\u001b[31m[14]#011train-error:0.205067#011validation-error:0.2223\u001b[0m\n",
      "\u001b[31m[13:32:29] src/tree/updater_prune.cc:74: tree pruning end, 1 roots, 36 extra nodes, 8 pruned nodes, max_depth=5\u001b[0m\n",
      "\u001b[31m[15]#011train-error:0.2016#011validation-error:0.2177\u001b[0m\n",
      "\u001b[31m[13:32:30] src/tree/updater_prune.cc:74: tree pruning end, 1 roots, 24 extra nodes, 8 pruned nodes, max_depth=5\u001b[0m\n",
      "\u001b[31m[16]#011train-error:0.199867#011validation-error:0.2155\u001b[0m\n",
      "\u001b[31m[13:32:32] src/tree/updater_prune.cc:74: tree pruning end, 1 roots, 40 extra nodes, 4 pruned nodes, max_depth=5\u001b[0m\n",
      "\u001b[31m[17]#011train-error:0.196333#011validation-error:0.2118\u001b[0m\n",
      "\u001b[31m[13:32:33] src/tree/updater_prune.cc:74: tree pruning end, 1 roots, 30 extra nodes, 10 pruned nodes, max_depth=5\u001b[0m\n",
      "\u001b[31m[18]#011train-error:0.193533#011validation-error:0.2088\u001b[0m\n",
      "\u001b[31m[13:32:34] src/tree/updater_prune.cc:74: tree pruning end, 1 roots, 24 extra nodes, 8 pruned nodes, max_depth=5\u001b[0m\n",
      "\u001b[31m[19]#011train-error:0.190467#011validation-error:0.2069\u001b[0m\n",
      "\u001b[31m[13:32:36] src/tree/updater_prune.cc:74: tree pruning end, 1 roots, 22 extra nodes, 4 pruned nodes, max_depth=5\u001b[0m\n",
      "\u001b[31m[20]#011train-error:0.1896#011validation-error:0.2064\u001b[0m\n",
      "\u001b[31m[13:32:37] src/tree/updater_prune.cc:74: tree pruning end, 1 roots, 38 extra nodes, 8 pruned nodes, max_depth=5\u001b[0m\n",
      "\u001b[31m[21]#011train-error:0.185667#011validation-error:0.2069\u001b[0m\n",
      "\u001b[31m[13:32:38] src/tree/updater_prune.cc:74: tree pruning end, 1 roots, 40 extra nodes, 4 pruned nodes, max_depth=5\u001b[0m\n",
      "\u001b[31m[22]#011train-error:0.1828#011validation-error:0.2042\u001b[0m\n",
      "\u001b[31m[13:32:40] src/tree/updater_prune.cc:74: tree pruning end, 1 roots, 24 extra nodes, 4 pruned nodes, max_depth=5\u001b[0m\n",
      "\u001b[31m[23]#011train-error:0.180333#011validation-error:0.2028\u001b[0m\n",
      "\u001b[31m[13:32:41] src/tree/updater_prune.cc:74: tree pruning end, 1 roots, 20 extra nodes, 10 pruned nodes, max_depth=5\u001b[0m\n",
      "\u001b[31m[24]#011train-error:0.176733#011validation-error:0.2008\u001b[0m\n",
      "\u001b[31m[13:32:42] src/tree/updater_prune.cc:74: tree pruning end, 1 roots, 24 extra nodes, 2 pruned nodes, max_depth=5\u001b[0m\n",
      "\u001b[31m[25]#011train-error:0.175333#011validation-error:0.1993\u001b[0m\n",
      "\u001b[31m[13:32:44] src/tree/updater_prune.cc:74: tree pruning end, 1 roots, 32 extra nodes, 6 pruned nodes, max_depth=5\u001b[0m\n",
      "\u001b[31m[26]#011train-error:0.1742#011validation-error:0.1983\u001b[0m\n",
      "\u001b[31m[13:32:45] src/tree/updater_prune.cc:74: tree pruning end, 1 roots, 22 extra nodes, 8 pruned nodes, max_depth=5\u001b[0m\n",
      "\u001b[31m[27]#011train-error:0.172933#011validation-error:0.1951\u001b[0m\n",
      "\u001b[31m[13:32:46] src/tree/updater_prune.cc:74: tree pruning end, 1 roots, 28 extra nodes, 8 pruned nodes, max_depth=5\u001b[0m\n",
      "\u001b[31m[28]#011train-error:0.1718#011validation-error:0.1946\u001b[0m\n",
      "\u001b[31m[13:32:47] src/tree/updater_prune.cc:74: tree pruning end, 1 roots, 30 extra nodes, 14 pruned nodes, max_depth=5\u001b[0m\n",
      "\u001b[31m[29]#011train-error:0.169133#011validation-error:0.1917\u001b[0m\n",
      "\u001b[31m[13:32:49] src/tree/updater_prune.cc:74: tree pruning end, 1 roots, 32 extra nodes, 6 pruned nodes, max_depth=5\u001b[0m\n",
      "\u001b[31m[30]#011train-error:0.1666#011validation-error:0.1903\u001b[0m\n",
      "\u001b[31m[13:32:50] src/tree/updater_prune.cc:74: tree pruning end, 1 roots, 20 extra nodes, 10 pruned nodes, max_depth=5\u001b[0m\n",
      "\u001b[31m[31]#011train-error:0.165867#011validation-error:0.1899\u001b[0m\n",
      "\u001b[31m[13:32:51] src/tree/updater_prune.cc:74: tree pruning end, 1 roots, 18 extra nodes, 8 pruned nodes, max_depth=5\u001b[0m\n",
      "\u001b[31m[32]#011train-error:0.163333#011validation-error:0.1893\u001b[0m\n",
      "\u001b[31m[13:32:53] src/tree/updater_prune.cc:74: tree pruning end, 1 roots, 36 extra nodes, 10 pruned nodes, max_depth=5\u001b[0m\n",
      "\u001b[31m[33]#011train-error:0.162267#011validation-error:0.1875\u001b[0m\n",
      "\u001b[31m[13:32:54] src/tree/updater_prune.cc:74: tree pruning end, 1 roots, 16 extra nodes, 14 pruned nodes, max_depth=5\u001b[0m\n",
      "\u001b[31m[34]#011train-error:0.1606#011validation-error:0.1853\u001b[0m\n",
      "\u001b[31m[13:32:55] src/tree/updater_prune.cc:74: tree pruning end, 1 roots, 26 extra nodes, 4 pruned nodes, max_depth=5\u001b[0m\n",
      "\u001b[31m[35]#011train-error:0.159933#011validation-error:0.1848\u001b[0m\n",
      "\u001b[31m[13:32:57] src/tree/updater_prune.cc:74: tree pruning end, 1 roots, 18 extra nodes, 2 pruned nodes, max_depth=5\u001b[0m\n",
      "\u001b[31m[36]#011train-error:0.159533#011validation-error:0.1838\u001b[0m\n",
      "\u001b[31m[13:32:58] src/tree/updater_prune.cc:74: tree pruning end, 1 roots, 26 extra nodes, 8 pruned nodes, max_depth=5\u001b[0m\n",
      "\u001b[31m[37]#011train-error:0.1578#011validation-error:0.1817\u001b[0m\n"
     ]
    },
    {
     "name": "stdout",
     "output_type": "stream",
     "text": [
      "\u001b[31m[13:32:59] src/tree/updater_prune.cc:74: tree pruning end, 1 roots, 12 extra nodes, 16 pruned nodes, max_depth=5\u001b[0m\n",
      "\u001b[31m[38]#011train-error:0.1562#011validation-error:0.1807\u001b[0m\n",
      "\u001b[31m[13:33:01] src/tree/updater_prune.cc:74: tree pruning end, 1 roots, 36 extra nodes, 4 pruned nodes, max_depth=5\u001b[0m\n",
      "\u001b[31m[39]#011train-error:0.153933#011validation-error:0.18\u001b[0m\n",
      "\u001b[31m[13:33:02] src/tree/updater_prune.cc:74: tree pruning end, 1 roots, 22 extra nodes, 4 pruned nodes, max_depth=5\u001b[0m\n",
      "\u001b[31m[40]#011train-error:0.152733#011validation-error:0.1795\u001b[0m\n",
      "\u001b[31m[13:33:03] src/tree/updater_prune.cc:74: tree pruning end, 1 roots, 18 extra nodes, 12 pruned nodes, max_depth=5\u001b[0m\n",
      "\u001b[31m[41]#011train-error:0.151933#011validation-error:0.1784\u001b[0m\n",
      "\u001b[31m[13:33:05] src/tree/updater_prune.cc:74: tree pruning end, 1 roots, 34 extra nodes, 6 pruned nodes, max_depth=5\u001b[0m\n",
      "\u001b[31m[42]#011train-error:0.149867#011validation-error:0.1772\u001b[0m\n",
      "\u001b[31m[13:33:06] src/tree/updater_prune.cc:74: tree pruning end, 1 roots, 28 extra nodes, 8 pruned nodes, max_depth=5\u001b[0m\n",
      "\u001b[31m[43]#011train-error:0.1492#011validation-error:0.1779\u001b[0m\n",
      "\u001b[31m[13:33:07] src/tree/updater_prune.cc:74: tree pruning end, 1 roots, 24 extra nodes, 12 pruned nodes, max_depth=5\u001b[0m\n",
      "\u001b[31m[44]#011train-error:0.147267#011validation-error:0.1761\u001b[0m\n",
      "\u001b[31m[13:33:08] src/tree/updater_prune.cc:74: tree pruning end, 1 roots, 18 extra nodes, 8 pruned nodes, max_depth=5\u001b[0m\n",
      "\u001b[31m[45]#011train-error:0.146533#011validation-error:0.1754\u001b[0m\n",
      "\u001b[31m[13:33:10] src/tree/updater_prune.cc:74: tree pruning end, 1 roots, 26 extra nodes, 2 pruned nodes, max_depth=5\u001b[0m\n",
      "\u001b[31m[46]#011train-error:0.145#011validation-error:0.1753\u001b[0m\n",
      "\u001b[31m[13:33:11] src/tree/updater_prune.cc:74: tree pruning end, 1 roots, 18 extra nodes, 10 pruned nodes, max_depth=5\u001b[0m\n",
      "\u001b[31m[47]#011train-error:0.143733#011validation-error:0.1745\u001b[0m\n",
      "\u001b[31m[13:33:12] src/tree/updater_prune.cc:74: tree pruning end, 1 roots, 16 extra nodes, 10 pruned nodes, max_depth=5\u001b[0m\n",
      "\u001b[31m[48]#011train-error:0.143467#011validation-error:0.1734\u001b[0m\n",
      "\u001b[31m[13:33:14] src/tree/updater_prune.cc:74: tree pruning end, 1 roots, 16 extra nodes, 4 pruned nodes, max_depth=5\u001b[0m\n",
      "\u001b[31m[49]#011train-error:0.143133#011validation-error:0.1738\u001b[0m\n",
      "\u001b[31m[13:33:15] src/tree/updater_prune.cc:74: tree pruning end, 1 roots, 30 extra nodes, 8 pruned nodes, max_depth=5\u001b[0m\n",
      "\u001b[31m[50]#011train-error:0.142733#011validation-error:0.1737\u001b[0m\n",
      "\u001b[31m[13:33:16] src/tree/updater_prune.cc:74: tree pruning end, 1 roots, 30 extra nodes, 10 pruned nodes, max_depth=5\u001b[0m\n",
      "\u001b[31m[51]#011train-error:0.1416#011validation-error:0.1722\u001b[0m\n",
      "\u001b[31m[13:33:18] src/tree/updater_prune.cc:74: tree pruning end, 1 roots, 16 extra nodes, 12 pruned nodes, max_depth=5\u001b[0m\n",
      "\u001b[31m[52]#011train-error:0.141133#011validation-error:0.1718\u001b[0m\n",
      "\u001b[31m[13:33:19] src/tree/updater_prune.cc:74: tree pruning end, 1 roots, 14 extra nodes, 18 pruned nodes, max_depth=5\u001b[0m\n",
      "\u001b[31m[53]#011train-error:0.1402#011validation-error:0.1696\u001b[0m\n",
      "\u001b[31m[13:33:20] src/tree/updater_prune.cc:74: tree pruning end, 1 roots, 22 extra nodes, 6 pruned nodes, max_depth=5\u001b[0m\n",
      "\u001b[31m[54]#011train-error:0.138267#011validation-error:0.1694\u001b[0m\n",
      "\u001b[31m[13:33:22] src/tree/updater_prune.cc:74: tree pruning end, 1 roots, 12 extra nodes, 12 pruned nodes, max_depth=5\u001b[0m\n",
      "\u001b[31m[55]#011train-error:0.137933#011validation-error:0.1691\u001b[0m\n",
      "\u001b[31m[13:33:23] src/tree/updater_prune.cc:74: tree pruning end, 1 roots, 26 extra nodes, 4 pruned nodes, max_depth=5\u001b[0m\n",
      "\u001b[31m[56]#011train-error:0.1362#011validation-error:0.1695\u001b[0m\n",
      "\u001b[31m[13:33:24] src/tree/updater_prune.cc:74: tree pruning end, 1 roots, 20 extra nodes, 8 pruned nodes, max_depth=5\u001b[0m\n",
      "\u001b[31m[57]#011train-error:0.1352#011validation-error:0.1687\u001b[0m\n",
      "\u001b[31m[13:33:25] src/tree/updater_prune.cc:74: tree pruning end, 1 roots, 28 extra nodes, 12 pruned nodes, max_depth=5\u001b[0m\n",
      "\u001b[31m[58]#011train-error:0.133467#011validation-error:0.1694\u001b[0m\n",
      "\u001b[31m[13:33:27] src/tree/updater_prune.cc:74: tree pruning end, 1 roots, 24 extra nodes, 12 pruned nodes, max_depth=5\u001b[0m\n",
      "\u001b[31m[59]#011train-error:0.132733#011validation-error:0.1683\u001b[0m\n",
      "\u001b[31m[13:33:28] src/tree/updater_prune.cc:74: tree pruning end, 1 roots, 16 extra nodes, 2 pruned nodes, max_depth=5\u001b[0m\n",
      "\u001b[31m[60]#011train-error:0.132467#011validation-error:0.1682\u001b[0m\n",
      "\u001b[31m[13:33:29] src/tree/updater_prune.cc:74: tree pruning end, 1 roots, 14 extra nodes, 12 pruned nodes, max_depth=5\u001b[0m\n",
      "\u001b[31m[61]#011train-error:0.132267#011validation-error:0.1665\u001b[0m\n",
      "\u001b[31m[13:33:31] src/tree/updater_prune.cc:74: tree pruning end, 1 roots, 30 extra nodes, 8 pruned nodes, max_depth=5\u001b[0m\n",
      "\u001b[31m[62]#011train-error:0.1304#011validation-error:0.1664\u001b[0m\n",
      "\u001b[31m[13:33:32] src/tree/updater_prune.cc:74: tree pruning end, 1 roots, 26 extra nodes, 8 pruned nodes, max_depth=5\u001b[0m\n",
      "\u001b[31m[63]#011train-error:0.129533#011validation-error:0.1655\u001b[0m\n",
      "\u001b[31m[13:33:33] src/tree/updater_prune.cc:74: tree pruning end, 1 roots, 22 extra nodes, 10 pruned nodes, max_depth=5\u001b[0m\n",
      "\u001b[31m[64]#011train-error:0.1274#011validation-error:0.1643\u001b[0m\n",
      "\u001b[31m[13:33:35] src/tree/updater_prune.cc:74: tree pruning end, 1 roots, 16 extra nodes, 6 pruned nodes, max_depth=5\u001b[0m\n",
      "\u001b[31m[65]#011train-error:0.127333#011validation-error:0.164\u001b[0m\n",
      "\u001b[31m[13:33:36] src/tree/updater_prune.cc:74: tree pruning end, 1 roots, 18 extra nodes, 10 pruned nodes, max_depth=5\u001b[0m\n",
      "\u001b[31m[66]#011train-error:0.126067#011validation-error:0.1634\u001b[0m\n",
      "\u001b[31m[13:33:37] src/tree/updater_prune.cc:74: tree pruning end, 1 roots, 18 extra nodes, 4 pruned nodes, max_depth=5\u001b[0m\n",
      "\u001b[31m[67]#011train-error:0.126467#011validation-error:0.1637\u001b[0m\n",
      "\u001b[31m[13:33:39] src/tree/updater_prune.cc:74: tree pruning end, 1 roots, 40 extra nodes, 12 pruned nodes, max_depth=5\u001b[0m\n",
      "\u001b[31m[68]#011train-error:0.124733#011validation-error:0.1629\u001b[0m\n",
      "\u001b[31m[13:33:40] src/tree/updater_prune.cc:74: tree pruning end, 1 roots, 10 extra nodes, 12 pruned nodes, max_depth=5\u001b[0m\n",
      "\u001b[31m[69]#011train-error:0.123667#011validation-error:0.1628\u001b[0m\n",
      "\u001b[31m[13:33:41] src/tree/updater_prune.cc:74: tree pruning end, 1 roots, 24 extra nodes, 4 pruned nodes, max_depth=5\u001b[0m\n",
      "\u001b[31m[70]#011train-error:0.123067#011validation-error:0.1626\u001b[0m\n",
      "\u001b[31m[13:33:42] src/tree/updater_prune.cc:74: tree pruning end, 1 roots, 18 extra nodes, 10 pruned nodes, max_depth=5\u001b[0m\n",
      "\u001b[31m[71]#011train-error:0.122533#011validation-error:0.1623\u001b[0m\n",
      "\u001b[31m[13:33:44] src/tree/updater_prune.cc:74: tree pruning end, 1 roots, 22 extra nodes, 6 pruned nodes, max_depth=5\u001b[0m\n",
      "\u001b[31m[72]#011train-error:0.121933#011validation-error:0.1613\u001b[0m\n",
      "\u001b[31m[13:33:45] src/tree/updater_prune.cc:74: tree pruning end, 1 roots, 26 extra nodes, 10 pruned nodes, max_depth=5\u001b[0m\n",
      "\u001b[31m[73]#011train-error:0.122133#011validation-error:0.1614\u001b[0m\n",
      "\u001b[31m[13:33:46] src/tree/updater_prune.cc:74: tree pruning end, 1 roots, 36 extra nodes, 6 pruned nodes, max_depth=5\u001b[0m\n",
      "\u001b[31m[74]#011train-error:0.1204#011validation-error:0.1613\u001b[0m\n",
      "\u001b[31m[13:33:48] src/tree/updater_prune.cc:74: tree pruning end, 1 roots, 14 extra nodes, 10 pruned nodes, max_depth=5\u001b[0m\n",
      "\u001b[31m[75]#011train-error:0.120267#011validation-error:0.1613\u001b[0m\n",
      "\u001b[31m[13:33:49] src/tree/updater_prune.cc:74: tree pruning end, 1 roots, 16 extra nodes, 10 pruned nodes, max_depth=5\u001b[0m\n",
      "\u001b[31m[76]#011train-error:0.119067#011validation-error:0.1615\u001b[0m\n",
      "\u001b[31m[13:33:50] src/tree/updater_prune.cc:74: tree pruning end, 1 roots, 18 extra nodes, 16 pruned nodes, max_depth=5\u001b[0m\n",
      "\u001b[31m[77]#011train-error:0.119133#011validation-error:0.1599\u001b[0m\n",
      "\u001b[31m[13:33:52] src/tree/updater_prune.cc:74: tree pruning end, 1 roots, 12 extra nodes, 10 pruned nodes, max_depth=5\u001b[0m\n",
      "\u001b[31m[78]#011train-error:0.118133#011validation-error:0.159\u001b[0m\n",
      "\u001b[31m[13:33:53] src/tree/updater_prune.cc:74: tree pruning end, 1 roots, 20 extra nodes, 4 pruned nodes, max_depth=5\u001b[0m\n",
      "\u001b[31m[79]#011train-error:0.1174#011validation-error:0.1586\u001b[0m\n",
      "\u001b[31m[13:33:54] src/tree/updater_prune.cc:74: tree pruning end, 1 roots, 24 extra nodes, 10 pruned nodes, max_depth=5\u001b[0m\n",
      "\u001b[31m[80]#011train-error:0.116467#011validation-error:0.1583\u001b[0m\n",
      "\u001b[31m[13:33:55] src/tree/updater_prune.cc:74: tree pruning end, 1 roots, 26 extra nodes, 16 pruned nodes, max_depth=5\u001b[0m\n",
      "\u001b[31m[81]#011train-error:0.115867#011validation-error:0.1572\u001b[0m\n",
      "\u001b[31m[13:33:57] src/tree/updater_prune.cc:74: tree pruning end, 1 roots, 12 extra nodes, 4 pruned nodes, max_depth=5\u001b[0m\n",
      "\u001b[31m[82]#011train-error:0.115467#011validation-error:0.1573\u001b[0m\n",
      "\u001b[31m[13:33:58] src/tree/updater_prune.cc:74: tree pruning end, 1 roots, 42 extra nodes, 8 pruned nodes, max_depth=5\u001b[0m\n",
      "\u001b[31m[83]#011train-error:0.1136#011validation-error:0.1574\u001b[0m\n",
      "\u001b[31m[13:33:59] src/tree/updater_prune.cc:74: tree pruning end, 1 roots, 16 extra nodes, 10 pruned nodes, max_depth=5\u001b[0m\n",
      "\u001b[31m[84]#011train-error:0.113067#011validation-error:0.1569\u001b[0m\n",
      "\u001b[31m[13:34:01] src/tree/updater_prune.cc:74: tree pruning end, 1 roots, 36 extra nodes, 8 pruned nodes, max_depth=5\u001b[0m\n",
      "\u001b[31m[85]#011train-error:0.112667#011validation-error:0.1566\u001b[0m\n"
     ]
    },
    {
     "name": "stdout",
     "output_type": "stream",
     "text": [
      "\u001b[31m[13:34:02] src/tree/updater_prune.cc:74: tree pruning end, 1 roots, 12 extra nodes, 6 pruned nodes, max_depth=5\u001b[0m\n",
      "\u001b[31m[86]#011train-error:0.112333#011validation-error:0.1565\u001b[0m\n",
      "\u001b[31m[13:34:03] src/tree/updater_prune.cc:74: tree pruning end, 1 roots, 30 extra nodes, 8 pruned nodes, max_depth=5\u001b[0m\n",
      "\u001b[31m[87]#011train-error:0.111667#011validation-error:0.1573\u001b[0m\n",
      "\u001b[31m[13:34:05] src/tree/updater_prune.cc:74: tree pruning end, 1 roots, 38 extra nodes, 14 pruned nodes, max_depth=5\u001b[0m\n",
      "\u001b[31m[88]#011train-error:0.109333#011validation-error:0.1561\u001b[0m\n",
      "\u001b[31m[13:34:06] src/tree/updater_prune.cc:74: tree pruning end, 1 roots, 24 extra nodes, 12 pruned nodes, max_depth=5\u001b[0m\n",
      "\u001b[31m[89]#011train-error:0.108133#011validation-error:0.1553\u001b[0m\n",
      "\u001b[31m[13:34:07] src/tree/updater_prune.cc:74: tree pruning end, 1 roots, 20 extra nodes, 10 pruned nodes, max_depth=5\u001b[0m\n",
      "\u001b[31m[90]#011train-error:0.108267#011validation-error:0.1533\u001b[0m\n",
      "\u001b[31m[13:34:08] src/tree/updater_prune.cc:74: tree pruning end, 1 roots, 18 extra nodes, 12 pruned nodes, max_depth=5\u001b[0m\n",
      "\u001b[31m[91]#011train-error:0.106933#011validation-error:0.1545\u001b[0m\n",
      "\u001b[31m[13:34:10] src/tree/updater_prune.cc:74: tree pruning end, 1 roots, 20 extra nodes, 8 pruned nodes, max_depth=5\u001b[0m\n",
      "\u001b[31m[92]#011train-error:0.1072#011validation-error:0.1531\u001b[0m\n",
      "\u001b[31m[13:34:11] src/tree/updater_prune.cc:74: tree pruning end, 1 roots, 18 extra nodes, 16 pruned nodes, max_depth=5\u001b[0m\n",
      "\u001b[31m[93]#011train-error:0.105867#011validation-error:0.1536\u001b[0m\n",
      "\u001b[31m[13:34:12] src/tree/updater_prune.cc:74: tree pruning end, 1 roots, 18 extra nodes, 14 pruned nodes, max_depth=5\u001b[0m\n",
      "\u001b[31m[94]#011train-error:0.104667#011validation-error:0.1529\u001b[0m\n",
      "\u001b[31m[13:34:14] src/tree/updater_prune.cc:74: tree pruning end, 1 roots, 22 extra nodes, 8 pruned nodes, max_depth=5\u001b[0m\n",
      "\u001b[31m[95]#011train-error:0.104667#011validation-error:0.1533\u001b[0m\n",
      "\u001b[31m[13:34:15] src/tree/updater_prune.cc:74: tree pruning end, 1 roots, 30 extra nodes, 4 pruned nodes, max_depth=5\u001b[0m\n",
      "\u001b[31m[96]#011train-error:0.103933#011validation-error:0.1538\u001b[0m\n",
      "\u001b[31m[13:34:16] src/tree/updater_prune.cc:74: tree pruning end, 1 roots, 20 extra nodes, 14 pruned nodes, max_depth=5\u001b[0m\n",
      "\u001b[31m[97]#011train-error:0.103733#011validation-error:0.1535\u001b[0m\n",
      "\u001b[31m[13:34:18] src/tree/updater_prune.cc:74: tree pruning end, 1 roots, 14 extra nodes, 6 pruned nodes, max_depth=5\u001b[0m\n",
      "\u001b[31m[98]#011train-error:0.103333#011validation-error:0.1535\u001b[0m\n",
      "\u001b[31m[13:34:19] src/tree/updater_prune.cc:74: tree pruning end, 1 roots, 26 extra nodes, 4 pruned nodes, max_depth=5\u001b[0m\n",
      "\u001b[31m[99]#011train-error:0.102267#011validation-error:0.153\u001b[0m\n",
      "\u001b[31m[13:34:20] src/tree/updater_prune.cc:74: tree pruning end, 1 roots, 14 extra nodes, 10 pruned nodes, max_depth=5\u001b[0m\n",
      "\u001b[31m[100]#011train-error:0.102067#011validation-error:0.1527\u001b[0m\n",
      "\u001b[31m[13:34:21] src/tree/updater_prune.cc:74: tree pruning end, 1 roots, 18 extra nodes, 6 pruned nodes, max_depth=5\u001b[0m\n",
      "\u001b[31m[101]#011train-error:0.101333#011validation-error:0.1528\u001b[0m\n",
      "\u001b[31m[13:34:23] src/tree/updater_prune.cc:74: tree pruning end, 1 roots, 20 extra nodes, 6 pruned nodes, max_depth=5\u001b[0m\n",
      "\u001b[31m[102]#011train-error:0.100667#011validation-error:0.1522\u001b[0m\n",
      "\u001b[31m[13:34:24] src/tree/updater_prune.cc:74: tree pruning end, 1 roots, 14 extra nodes, 6 pruned nodes, max_depth=5\u001b[0m\n",
      "\u001b[31m[103]#011train-error:0.100067#011validation-error:0.1517\u001b[0m\n",
      "\u001b[31m[13:34:25] src/tree/updater_prune.cc:74: tree pruning end, 1 roots, 18 extra nodes, 8 pruned nodes, max_depth=5\u001b[0m\n",
      "\u001b[31m[104]#011train-error:0.1002#011validation-error:0.1514\u001b[0m\n",
      "\u001b[31m[13:34:27] src/tree/updater_prune.cc:74: tree pruning end, 1 roots, 10 extra nodes, 10 pruned nodes, max_depth=5\u001b[0m\n",
      "\u001b[31m[105]#011train-error:0.100533#011validation-error:0.151\u001b[0m\n",
      "\u001b[31m[13:34:28] src/tree/updater_prune.cc:74: tree pruning end, 1 roots, 14 extra nodes, 14 pruned nodes, max_depth=5\u001b[0m\n",
      "\u001b[31m[106]#011train-error:0.100467#011validation-error:0.1506\u001b[0m\n",
      "\u001b[31m[13:34:29] src/tree/updater_prune.cc:74: tree pruning end, 1 roots, 14 extra nodes, 6 pruned nodes, max_depth=5\u001b[0m\n",
      "\u001b[31m[107]#011train-error:0.099867#011validation-error:0.1509\u001b[0m\n",
      "\u001b[31m[13:34:31] src/tree/updater_prune.cc:74: tree pruning end, 1 roots, 20 extra nodes, 6 pruned nodes, max_depth=5\u001b[0m\n",
      "\u001b[31m[108]#011train-error:0.099067#011validation-error:0.1506\u001b[0m\n",
      "\u001b[31m[13:34:32] src/tree/updater_prune.cc:74: tree pruning end, 1 roots, 14 extra nodes, 12 pruned nodes, max_depth=5\u001b[0m\n",
      "\u001b[31m[109]#011train-error:0.099267#011validation-error:0.1503\u001b[0m\n",
      "\u001b[31m[13:34:33] src/tree/updater_prune.cc:74: tree pruning end, 1 roots, 30 extra nodes, 10 pruned nodes, max_depth=5\u001b[0m\n",
      "\u001b[31m[110]#011train-error:0.0978#011validation-error:0.1502\u001b[0m\n",
      "\u001b[31m[13:34:35] src/tree/updater_prune.cc:74: tree pruning end, 1 roots, 16 extra nodes, 2 pruned nodes, max_depth=5\u001b[0m\n",
      "\u001b[31m[111]#011train-error:0.097733#011validation-error:0.1504\u001b[0m\n",
      "\u001b[31m[13:34:36] src/tree/updater_prune.cc:74: tree pruning end, 1 roots, 14 extra nodes, 4 pruned nodes, max_depth=5\u001b[0m\n",
      "\u001b[31m[112]#011train-error:0.0974#011validation-error:0.1503\u001b[0m\n",
      "\u001b[31m[13:34:37] src/tree/updater_prune.cc:74: tree pruning end, 1 roots, 20 extra nodes, 12 pruned nodes, max_depth=5\u001b[0m\n",
      "\u001b[31m[113]#011train-error:0.097333#011validation-error:0.1493\u001b[0m\n",
      "\u001b[31m[13:34:38] src/tree/updater_prune.cc:74: tree pruning end, 1 roots, 22 extra nodes, 18 pruned nodes, max_depth=5\u001b[0m\n",
      "\u001b[31m[114]#011train-error:0.097067#011validation-error:0.1501\u001b[0m\n",
      "\u001b[31m[13:34:40] src/tree/updater_prune.cc:74: tree pruning end, 1 roots, 12 extra nodes, 6 pruned nodes, max_depth=5\u001b[0m\n",
      "\u001b[31m[115]#011train-error:0.097133#011validation-error:0.1493\u001b[0m\n",
      "\u001b[31m[13:34:41] src/tree/updater_prune.cc:74: tree pruning end, 1 roots, 26 extra nodes, 12 pruned nodes, max_depth=5\u001b[0m\n",
      "\u001b[31m[116]#011train-error:0.095467#011validation-error:0.1501\u001b[0m\n",
      "\u001b[31m[13:34:42] src/tree/updater_prune.cc:74: tree pruning end, 1 roots, 18 extra nodes, 8 pruned nodes, max_depth=5\u001b[0m\n",
      "\u001b[31m[117]#011train-error:0.0946#011validation-error:0.1493\u001b[0m\n",
      "\u001b[31m[13:34:44] src/tree/updater_prune.cc:74: tree pruning end, 1 roots, 22 extra nodes, 6 pruned nodes, max_depth=5\u001b[0m\n",
      "\u001b[31m[118]#011train-error:0.093733#011validation-error:0.1486\u001b[0m\n",
      "\u001b[31m[13:34:45] src/tree/updater_prune.cc:74: tree pruning end, 1 roots, 18 extra nodes, 16 pruned nodes, max_depth=5\u001b[0m\n",
      "\u001b[31m[119]#011train-error:0.092533#011validation-error:0.1482\u001b[0m\n",
      "\u001b[31m[13:34:46] src/tree/updater_prune.cc:74: tree pruning end, 1 roots, 10 extra nodes, 6 pruned nodes, max_depth=5\u001b[0m\n",
      "\u001b[31m[120]#011train-error:0.092533#011validation-error:0.1479\u001b[0m\n",
      "\u001b[31m[13:34:48] src/tree/updater_prune.cc:74: tree pruning end, 1 roots, 16 extra nodes, 8 pruned nodes, max_depth=5\u001b[0m\n",
      "\u001b[31m[121]#011train-error:0.0918#011validation-error:0.1471\u001b[0m\n",
      "\u001b[31m[13:34:49] src/tree/updater_prune.cc:74: tree pruning end, 1 roots, 12 extra nodes, 12 pruned nodes, max_depth=5\u001b[0m\n",
      "\u001b[31m[122]#011train-error:0.0918#011validation-error:0.148\u001b[0m\n",
      "\u001b[31m[13:34:50] src/tree/updater_prune.cc:74: tree pruning end, 1 roots, 22 extra nodes, 10 pruned nodes, max_depth=5\u001b[0m\n",
      "\u001b[31m[123]#011train-error:0.091267#011validation-error:0.1472\u001b[0m\n",
      "\u001b[31m[13:34:51] src/tree/updater_prune.cc:74: tree pruning end, 1 roots, 14 extra nodes, 14 pruned nodes, max_depth=5\u001b[0m\n",
      "\u001b[31m[124]#011train-error:0.090933#011validation-error:0.1474\u001b[0m\n",
      "\u001b[31m[13:34:53] src/tree/updater_prune.cc:74: tree pruning end, 1 roots, 18 extra nodes, 0 pruned nodes, max_depth=5\u001b[0m\n",
      "\u001b[31m[125]#011train-error:0.090733#011validation-error:0.1471\u001b[0m\n",
      "\u001b[31m[13:34:54] src/tree/updater_prune.cc:74: tree pruning end, 1 roots, 20 extra nodes, 10 pruned nodes, max_depth=5\u001b[0m\n",
      "\u001b[31m[126]#011train-error:0.0892#011validation-error:0.1467\u001b[0m\n",
      "\u001b[31m[13:34:56] src/tree/updater_prune.cc:74: tree pruning end, 1 roots, 22 extra nodes, 10 pruned nodes, max_depth=5\u001b[0m\n",
      "\u001b[31m[127]#011train-error:0.088867#011validation-error:0.1468\u001b[0m\n",
      "\u001b[31m[13:34:57] src/tree/updater_prune.cc:74: tree pruning end, 1 roots, 26 extra nodes, 10 pruned nodes, max_depth=5\u001b[0m\n",
      "\u001b[31m[128]#011train-error:0.0884#011validation-error:0.1469\u001b[0m\n",
      "\u001b[31m[13:34:58] src/tree/updater_prune.cc:74: tree pruning end, 1 roots, 14 extra nodes, 6 pruned nodes, max_depth=5\u001b[0m\n",
      "\u001b[31m[129]#011train-error:0.088333#011validation-error:0.1466\u001b[0m\n",
      "\u001b[31m[13:34:59] src/tree/updater_prune.cc:74: tree pruning end, 1 roots, 14 extra nodes, 8 pruned nodes, max_depth=5\u001b[0m\n",
      "\u001b[31m[130]#011train-error:0.088#011validation-error:0.1463\u001b[0m\n",
      "\u001b[31m[13:35:01] src/tree/updater_prune.cc:74: tree pruning end, 1 roots, 14 extra nodes, 8 pruned nodes, max_depth=5\u001b[0m\n",
      "\u001b[31m[131]#011train-error:0.087467#011validation-error:0.1455\u001b[0m\n",
      "\u001b[31m[13:35:02] src/tree/updater_prune.cc:74: tree pruning end, 1 roots, 10 extra nodes, 4 pruned nodes, max_depth=5\u001b[0m\n",
      "\u001b[31m[132]#011train-error:0.086733#011validation-error:0.1457\u001b[0m\n",
      "\u001b[31m[13:35:03] src/tree/updater_prune.cc:74: tree pruning end, 1 roots, 32 extra nodes, 14 pruned nodes, max_depth=5\u001b[0m\n",
      "\u001b[31m[133]#011train-error:0.085867#011validation-error:0.1453\u001b[0m\n",
      "\u001b[31m[13:35:05] src/tree/updater_prune.cc:74: tree pruning end, 1 roots, 16 extra nodes, 10 pruned nodes, max_depth=5\u001b[0m\n",
      "\u001b[31m[134]#011train-error:0.086#011validation-error:0.145\u001b[0m\n",
      "\u001b[31m[13:35:06] src/tree/updater_prune.cc:74: tree pruning end, 1 roots, 12 extra nodes, 12 pruned nodes, max_depth=5\u001b[0m\n",
      "\u001b[31m[135]#011train-error:0.085533#011validation-error:0.1452\u001b[0m\n",
      "\u001b[31m[13:35:07] src/tree/updater_prune.cc:74: tree pruning end, 1 roots, 16 extra nodes, 2 pruned nodes, max_depth=5\u001b[0m\n",
      "\u001b[31m[136]#011train-error:0.0848#011validation-error:0.1454\u001b[0m\n"
     ]
    },
    {
     "name": "stdout",
     "output_type": "stream",
     "text": [
      "\u001b[31m[13:35:09] src/tree/updater_prune.cc:74: tree pruning end, 1 roots, 10 extra nodes, 4 pruned nodes, max_depth=5\u001b[0m\n",
      "\u001b[31m[137]#011train-error:0.085#011validation-error:0.1449\u001b[0m\n",
      "\u001b[31m[13:35:10] src/tree/updater_prune.cc:74: tree pruning end, 1 roots, 12 extra nodes, 12 pruned nodes, max_depth=5\u001b[0m\n",
      "\u001b[31m[138]#011train-error:0.085133#011validation-error:0.1452\u001b[0m\n",
      "\u001b[31m[13:35:11] src/tree/updater_prune.cc:74: tree pruning end, 1 roots, 14 extra nodes, 10 pruned nodes, max_depth=5\u001b[0m\n",
      "\u001b[31m[139]#011train-error:0.085#011validation-error:0.1448\u001b[0m\n",
      "\u001b[31m[13:35:13] src/tree/updater_prune.cc:74: tree pruning end, 1 roots, 12 extra nodes, 6 pruned nodes, max_depth=5\u001b[0m\n",
      "\u001b[31m[140]#011train-error:0.085#011validation-error:0.1449\u001b[0m\n",
      "\u001b[31m[13:35:14] src/tree/updater_prune.cc:74: tree pruning end, 1 roots, 16 extra nodes, 10 pruned nodes, max_depth=5\u001b[0m\n",
      "\u001b[31m[141]#011train-error:0.0846#011validation-error:0.1456\u001b[0m\n",
      "\u001b[31m[13:35:15] src/tree/updater_prune.cc:74: tree pruning end, 1 roots, 12 extra nodes, 2 pruned nodes, max_depth=5\u001b[0m\n",
      "\u001b[31m[142]#011train-error:0.0842#011validation-error:0.1444\u001b[0m\n",
      "\u001b[31m[13:35:17] src/tree/updater_prune.cc:74: tree pruning end, 1 roots, 12 extra nodes, 4 pruned nodes, max_depth=5\u001b[0m\n",
      "\u001b[31m[143]#011train-error:0.084#011validation-error:0.1443\u001b[0m\n",
      "\u001b[31m[13:35:18] src/tree/updater_prune.cc:74: tree pruning end, 1 roots, 10 extra nodes, 2 pruned nodes, max_depth=5\u001b[0m\n",
      "\u001b[31m[144]#011train-error:0.0836#011validation-error:0.1443\u001b[0m\n",
      "\u001b[31m[13:35:19] src/tree/updater_prune.cc:74: tree pruning end, 1 roots, 14 extra nodes, 6 pruned nodes, max_depth=5\u001b[0m\n",
      "\u001b[31m[145]#011train-error:0.0836#011validation-error:0.1437\u001b[0m\n",
      "\u001b[31m[13:35:21] src/tree/updater_prune.cc:74: tree pruning end, 1 roots, 10 extra nodes, 4 pruned nodes, max_depth=5\u001b[0m\n",
      "\u001b[31m[146]#011train-error:0.083533#011validation-error:0.1433\u001b[0m\n",
      "\u001b[31m[13:35:22] src/tree/updater_prune.cc:74: tree pruning end, 1 roots, 18 extra nodes, 8 pruned nodes, max_depth=5\u001b[0m\n",
      "\u001b[31m[147]#011train-error:0.0834#011validation-error:0.1429\u001b[0m\n",
      "\u001b[31m[13:35:23] src/tree/updater_prune.cc:74: tree pruning end, 1 roots, 10 extra nodes, 2 pruned nodes, max_depth=5\u001b[0m\n",
      "\u001b[31m[148]#011train-error:0.082933#011validation-error:0.1431\u001b[0m\n",
      "\u001b[31m[13:35:24] src/tree/updater_prune.cc:74: tree pruning end, 1 roots, 30 extra nodes, 2 pruned nodes, max_depth=5\u001b[0m\n",
      "\u001b[31m[149]#011train-error:0.081533#011validation-error:0.1427\u001b[0m\n",
      "\u001b[31m[13:35:26] src/tree/updater_prune.cc:74: tree pruning end, 1 roots, 24 extra nodes, 4 pruned nodes, max_depth=5\u001b[0m\n",
      "\u001b[31m[150]#011train-error:0.0806#011validation-error:0.1414\u001b[0m\n",
      "\u001b[31m[13:35:27] src/tree/updater_prune.cc:74: tree pruning end, 1 roots, 14 extra nodes, 10 pruned nodes, max_depth=5\u001b[0m\n",
      "\u001b[31m[151]#011train-error:0.080867#011validation-error:0.1412\u001b[0m\n",
      "\u001b[31m[13:35:28] src/tree/updater_prune.cc:74: tree pruning end, 1 roots, 18 extra nodes, 4 pruned nodes, max_depth=5\u001b[0m\n",
      "\u001b[31m[152]#011train-error:0.080333#011validation-error:0.1412\u001b[0m\n",
      "\u001b[31m[13:35:30] src/tree/updater_prune.cc:74: tree pruning end, 1 roots, 12 extra nodes, 10 pruned nodes, max_depth=5\u001b[0m\n",
      "\u001b[31m[153]#011train-error:0.080533#011validation-error:0.1402\u001b[0m\n",
      "\u001b[31m[13:35:31] src/tree/updater_prune.cc:74: tree pruning end, 1 roots, 10 extra nodes, 2 pruned nodes, max_depth=5\u001b[0m\n",
      "\u001b[31m[154]#011train-error:0.0808#011validation-error:0.1402\u001b[0m\n",
      "\u001b[31m[13:35:32] src/tree/updater_prune.cc:74: tree pruning end, 1 roots, 18 extra nodes, 8 pruned nodes, max_depth=5\u001b[0m\n",
      "\u001b[31m[155]#011train-error:0.0806#011validation-error:0.1403\u001b[0m\n",
      "\u001b[31m[13:35:34] src/tree/updater_prune.cc:74: tree pruning end, 1 roots, 12 extra nodes, 4 pruned nodes, max_depth=5\u001b[0m\n",
      "\u001b[31m[156]#011train-error:0.080733#011validation-error:0.1408\u001b[0m\n",
      "\u001b[31m[13:35:35] src/tree/updater_prune.cc:74: tree pruning end, 1 roots, 14 extra nodes, 8 pruned nodes, max_depth=5\u001b[0m\n",
      "\u001b[31m[157]#011train-error:0.080333#011validation-error:0.1411\u001b[0m\n",
      "\u001b[31m[13:35:36] src/tree/updater_prune.cc:74: tree pruning end, 1 roots, 14 extra nodes, 8 pruned nodes, max_depth=5\u001b[0m\n",
      "\u001b[31m[158]#011train-error:0.080333#011validation-error:0.1412\u001b[0m\n",
      "\u001b[31m[13:35:37] src/tree/updater_prune.cc:74: tree pruning end, 1 roots, 16 extra nodes, 10 pruned nodes, max_depth=5\u001b[0m\n",
      "\u001b[31m[159]#011train-error:0.0804#011validation-error:0.1409\u001b[0m\n",
      "\u001b[31m[13:35:39] src/tree/updater_prune.cc:74: tree pruning end, 1 roots, 16 extra nodes, 18 pruned nodes, max_depth=5\u001b[0m\n",
      "\u001b[31m[160]#011train-error:0.079867#011validation-error:0.1408\u001b[0m\n",
      "\u001b[31m[13:35:40] src/tree/updater_prune.cc:74: tree pruning end, 1 roots, 10 extra nodes, 10 pruned nodes, max_depth=5\u001b[0m\n",
      "\u001b[31m[161]#011train-error:0.079533#011validation-error:0.1404\u001b[0m\n",
      "\u001b[31m[13:35:41] src/tree/updater_prune.cc:74: tree pruning end, 1 roots, 16 extra nodes, 4 pruned nodes, max_depth=5\u001b[0m\n",
      "\u001b[31m[162]#011train-error:0.078733#011validation-error:0.1404\u001b[0m\n",
      "\u001b[31m[13:35:43] src/tree/updater_prune.cc:74: tree pruning end, 1 roots, 22 extra nodes, 8 pruned nodes, max_depth=5\u001b[0m\n",
      "\u001b[31m[163]#011train-error:0.0786#011validation-error:0.1407\u001b[0m\n",
      "\u001b[31mStopping. Best iteration:\u001b[0m\n",
      "\u001b[31m[153]#011train-error:0.080533#011validation-error:0.1402\n",
      "\u001b[0m\n",
      "\n",
      "2019-04-05 13:35:52 Uploading - Uploading generated training model\n",
      "2019-04-05 13:35:52 Completed - Training job completed\n",
      "Billable seconds: 264\n"
     ]
    }
   ],
   "source": [
    "xgb.fit({'train': s3_input_train, 'validation': s3_input_validation})"
   ]
  },
  {
   "cell_type": "markdown",
   "metadata": {},
   "source": [
    "## Step 5: Testing the model\n",
    "\n",
    "Now that we've fit our XGBoost model, it's time to see how well it performs. To do this we will use SageMakers Batch Transform functionality. Batch Transform is a convenient way to perform inference on a large dataset in a way that is not realtime. That is, we don't necessarily need to use our model's results immediately and instead we can perform inference on a large number of samples. An example of this in industry might be performing an end of month report. This method of inference can also be useful to us as it means that we can perform inference on our entire test set. \n",
    "\n",
    "To perform a Batch Transformation we need to first create a transformer objects from our trained estimator object."
   ]
  },
  {
   "cell_type": "code",
   "execution_count": 26,
   "metadata": {},
   "outputs": [
    {
     "name": "stderr",
     "output_type": "stream",
     "text": [
      "INFO:sagemaker:Creating model with name: xgboost-2019-04-05-13-29-32-676\n",
      "WARNING:sagemaker:Using already existing model: xgboost-2019-04-05-13-29-32-676\n"
     ]
    }
   ],
   "source": [
    "xgb_transformer = xgb.transformer(instance_count = 1, instance_type = 'ml.m4.xlarge')"
   ]
  },
  {
   "cell_type": "markdown",
   "metadata": {},
   "source": [
    "Next we actually perform the transform job. When doing so we need to make sure to specify the type of data we are sending so that it is serialized correctly in the background. In our case we are providing our model with csv data so we specify `text/csv`. Also, if the test data that we have provided is too large to process all at once then we need to specify how the data file should be split up. Since each line is a single entry in our data set we tell SageMaker that it can split the input on each line."
   ]
  },
  {
   "cell_type": "code",
   "execution_count": 27,
   "metadata": {},
   "outputs": [
    {
     "name": "stderr",
     "output_type": "stream",
     "text": [
      "INFO:sagemaker:Creating transform job with name: xgboost-2019-04-05-13-36-44-120\n"
     ]
    }
   ],
   "source": [
    "xgb_transformer.transform(test_location, content_type='text/csv', split_type='Line')"
   ]
  },
  {
   "cell_type": "markdown",
   "metadata": {},
   "source": [
    "Currently the transform job is running but it is doing so in the background. Since we wish to wait until the transform job is done and we would like a bit of feedback we can run the `wait()` method."
   ]
  },
  {
   "cell_type": "code",
   "execution_count": 28,
   "metadata": {},
   "outputs": [
    {
     "name": "stdout",
     "output_type": "stream",
     "text": [
      "...............................................!\n"
     ]
    }
   ],
   "source": [
    "xgb_transformer.wait()"
   ]
  },
  {
   "cell_type": "markdown",
   "metadata": {},
   "source": [
    "Now the transform job has executed and the result, the estimated sentiment of each review, has been saved on S3. Since we would rather work on this file locally we can perform a bit of notebook magic to copy the file to the `data_dir`."
   ]
  },
  {
   "cell_type": "code",
   "execution_count": 29,
   "metadata": {},
   "outputs": [
    {
     "name": "stdout",
     "output_type": "stream",
     "text": [
      "Completed 256.0 KiB/370.1 KiB (3.9 MiB/s) with 1 file(s) remaining\r",
      "Completed 370.1 KiB/370.1 KiB (5.5 MiB/s) with 1 file(s) remaining\r",
      "download: s3://sagemaker-eu-west-1-288115630859/xgboost-2019-04-05-13-36-44-120/test.csv.out to ../data/sentiment_web_app/test.csv.out\r\n"
     ]
    }
   ],
   "source": [
    "!aws s3 cp --recursive $xgb_transformer.output_path $data_dir"
   ]
  },
  {
   "cell_type": "markdown",
   "metadata": {},
   "source": [
    "The last step is now to read in the output from our model, convert the output to something a little more usable, in this case we want the sentiment to be either `1` (positive) or `0` (negative), and then compare to the ground truth labels."
   ]
  },
  {
   "cell_type": "code",
   "execution_count": 30,
   "metadata": {},
   "outputs": [],
   "source": [
    "predictions = pd.read_csv(os.path.join(data_dir, 'test.csv.out'), header=None)\n",
    "predictions = [round(num) for num in predictions.squeeze().values]"
   ]
  },
  {
   "cell_type": "code",
   "execution_count": 31,
   "metadata": {},
   "outputs": [
    {
     "data": {
      "text/plain": [
       "0.85876"
      ]
     },
     "execution_count": 31,
     "metadata": {},
     "output_type": "execute_result"
    }
   ],
   "source": [
    "from sklearn.metrics import accuracy_score\n",
    "accuracy_score(test_y, predictions)"
   ]
  },
  {
   "cell_type": "markdown",
   "metadata": {},
   "source": [
    "## Step 6: Deploying the model\n",
    "\n",
    "Once we construct and fit our model, SageMaker stores the resulting model artifacts and we can use those to deploy an endpoint (inference code). To see this, look in the SageMaker console and you should see that a model has been created along with a link to the S3 location where the model artifacts have been stored.\n",
    "\n",
    "Deploying an endpoint is a lot like training the model with a few important differences. The first is that a deployed model doesn't change the model artifacts, so as you send it various testing instances the model won't change. Another difference is that since we aren't performing a fixed computation, as we were in the training step or while performing a batch transform, the compute instance that gets started stays running until we tell it to stop. This is important to note as if we forget and leave it running we will be charged the entire time.\n",
    "\n",
    "In other words **If you are no longer using a deployed endpoint, shut it down!**"
   ]
  },
  {
   "cell_type": "code",
   "execution_count": 32,
   "metadata": {},
   "outputs": [
    {
     "name": "stderr",
     "output_type": "stream",
     "text": [
      "INFO:sagemaker:Creating model with name: xgboost-2019-04-05-13-43-29-605\n",
      "INFO:sagemaker:Creating endpoint with name xgboost-2019-04-05-13-29-32-676\n"
     ]
    },
    {
     "name": "stdout",
     "output_type": "stream",
     "text": [
      "--------------------------------------------------------------------------!"
     ]
    }
   ],
   "source": [
    "xgb_predictor = xgb.deploy(initial_instance_count = 1, instance_type = 'ml.m4.xlarge')"
   ]
  },
  {
   "cell_type": "markdown",
   "metadata": {},
   "source": [
    "### Testing the model (again)\n",
    "\n",
    "Now that we have deployed our endpoint, we can send the testing data to it and get back the inference results. We already did this earlier using the batch transform functionality of SageMaker, however, we will test our model again using the newly deployed endpoint so that we can make sure that it works properly and to get a bit of a feel for how the endpoint works.\n",
    "\n",
    "When using the created endpoint it is important to know that we are limited in the amount of information we can send in each call so we need to break the testing data up into chunks and then send each chunk. Also, we need to serialize our data before we send it to the endpoint to ensure that our data is transmitted properly. Fortunately, SageMaker can do the serialization part for us provided we tell it the format of our data."
   ]
  },
  {
   "cell_type": "code",
   "execution_count": 33,
   "metadata": {},
   "outputs": [],
   "source": [
    "from sagemaker.predictor import csv_serializer\n",
    "\n",
    "# We need to tell the endpoint what format the data we are sending is in so that SageMaker can perform the serialization.\n",
    "xgb_predictor.content_type = 'text/csv'\n",
    "xgb_predictor.serializer = csv_serializer"
   ]
  },
  {
   "cell_type": "code",
   "execution_count": 34,
   "metadata": {},
   "outputs": [],
   "source": [
    "# We split the data into chunks and send each chunk seperately, accumulating the results.\n",
    "\n",
    "def predict(data, rows=512):\n",
    "    split_array = np.array_split(data, int(data.shape[0] / float(rows) + 1))\n",
    "    predictions = ''\n",
    "    for array in split_array:\n",
    "        predictions = ','.join([predictions, xgb_predictor.predict(array).decode('utf-8')])\n",
    "    \n",
    "    return np.fromstring(predictions[1:], sep=',')"
   ]
  },
  {
   "cell_type": "code",
   "execution_count": 35,
   "metadata": {},
   "outputs": [],
   "source": [
    "test_X = pd.read_csv(os.path.join(data_dir, 'test.csv'), header=None).values\n",
    "\n",
    "predictions = predict(test_X)\n",
    "predictions = [round(num) for num in predictions]"
   ]
  },
  {
   "cell_type": "markdown",
   "metadata": {},
   "source": [
    "Lastly, we check to see what the accuracy of our model is."
   ]
  },
  {
   "cell_type": "code",
   "execution_count": 36,
   "metadata": {},
   "outputs": [
    {
     "data": {
      "text/plain": [
       "0.85876"
      ]
     },
     "execution_count": 36,
     "metadata": {},
     "output_type": "execute_result"
    }
   ],
   "source": [
    "from sklearn.metrics import accuracy_score\n",
    "accuracy_score(test_y, predictions)"
   ]
  },
  {
   "cell_type": "markdown",
   "metadata": {},
   "source": [
    "And the results here should agree with the model testing that we did earlier using the batch transform job.\n",
    "\n",
    "### Cleaning up\n",
    "\n",
    "Now that we've determined that deploying our model works as expected, we are going to shut it down. Remember that the longer the endpoint is left running, the greater the cost and since we have a bit more work to do before we are able to use our endpoint with our simple web app, we should shut everything down."
   ]
  },
  {
   "cell_type": "code",
   "execution_count": 37,
   "metadata": {},
   "outputs": [
    {
     "name": "stderr",
     "output_type": "stream",
     "text": [
      "INFO:sagemaker:Deleting endpoint configuration with name: xgboost-2019-04-05-13-29-32-676\n",
      "INFO:sagemaker:Deleting endpoint with name: xgboost-2019-04-05-13-29-32-676\n"
     ]
    }
   ],
   "source": [
    "xgb_predictor.delete_endpoint()"
   ]
  },
  {
   "cell_type": "markdown",
   "metadata": {},
   "source": [
    "## Step 7: Putting our model to work\n",
    "\n",
    "As we've mentioned a few times now, our goal is to have our model deployed and then access it using a very simple web app. The intent is for this web app to take some user submitted data (a review), send it off to our endpoint (the model) and then display the result.\n",
    "\n",
    "However, there is a small catch. Currently the only way we can access the endpoint to send it data is using the SageMaker API. We can, if we wish, expose the actual URL that our model's endpoint is receiving data from, however, if we just send it data ourselves we will not get anything in return. This is because the endpoint created by SageMaker requires the entity accessing it have the correct permissions. So, we would need to somehow authenticate our web app with AWS.\n",
    "\n",
    "Having a website that authenticates to AWS seems a bit beyond the scope of this lesson so we will opt for an alternative approach. Namely, we will create a new endpoint which does not require authentication and which acts as a proxy for the SageMaker endpoint.\n",
    "\n",
    "As an additional constraint, we will try to avoid doing any data processing in the web app itself. Remember that when we constructed and tested our model we started with a movie review, then we simplified it by removing any html formatting and punctuation, then we constructed a bag of words embedding and the resulting vector is what we sent to our model. All of this needs to be done to our user input as well.\n",
    "\n",
    "Fortunately we can do all of this data processing in the backend, using Amazon's Lambda service.\n",
    "\n",
    "<img src=\"Web App Diagram.svg\">\n",
    "\n",
    "The diagram above gives an overview of how the various services will work together. On the far right is the model which we trained above and which will be deployed using SageMaker. On the far left is our web app that collects a user's movie review, sends it off and expects a positive or negative sentiment in return.\n",
    "\n",
    "In the middle is where some of the magic happens. We will construct a Lambda function, which you can think of as a straightforward Python function that can be executed whenever a specified event occurs. This Python function will do the data processing we need to perform on a user submitted review. In addition, we will give this function permission to send and recieve data from a SageMaker endpoint.\n",
    "\n",
    "Lastly, the method we will use to execute the Lambda function is a new endpoint that we will create using API Gateway. This endpoint will be a url that listens for data to be sent to it. Once it gets some data it will pass that data on to the Lambda function and then return whatever the Lambda function returns. Essentially it will act as an interface that lets our web app communicate with the Lambda function.\n",
    "\n",
    "### Processing a single review\n",
    "\n",
    "For now, suppose we are given a movie review by our user in the form of a string, like so:"
   ]
  },
  {
   "cell_type": "code",
   "execution_count": 38,
   "metadata": {},
   "outputs": [],
   "source": [
    "test_review = \"Nothing but a disgusting materialistic pageant of glistening abed remote control greed zombies, totally devoid of any heart or heat. A romantic comedy that has zero romantic chemestry and zero laughs!\""
   ]
  },
  {
   "cell_type": "markdown",
   "metadata": {},
   "source": [
    "How do we go from this string to the bag of words feature vector that is expected by our model?\n",
    "\n",
    "If we recall at the beginning of this notebook, the first step is to remove any unnecessary characters using the `review_to_words` method. Remember that we intentionally did this in a very simplistic way. This is because we are going to have to copy this method to our (eventual) Lambda function (we will go into more detail later) and this means it needs to be rather simplistic."
   ]
  },
  {
   "cell_type": "code",
   "execution_count": 39,
   "metadata": {},
   "outputs": [
    {
     "name": "stdout",
     "output_type": "stream",
     "text": [
      "nothing but a disgusting materialistic pageant of glistening abed remote control greed zombies totally devoid of any heart or heat a romantic comedy that has zero romantic chemestry and zero laughs\n"
     ]
    }
   ],
   "source": [
    "test_words = review_to_words(test_review)\n",
    "print(test_words)"
   ]
  },
  {
   "cell_type": "markdown",
   "metadata": {},
   "source": [
    "Next, we need to construct a bag of words embedding of the `test_words` string. To do this, remember that a bag of words embedding uses a `vocabulary` consisting of the most frequently appearing words in a set of documents. Then, for each word in the vocabulary we record the number of times that word appears in `test_words`. We constructed the `vocabulary` earlier using the training set for our problem so encoding `test_words` is relatively straightforward."
   ]
  },
  {
   "cell_type": "code",
   "execution_count": 40,
   "metadata": {},
   "outputs": [],
   "source": [
    "def bow_encoding(words, vocabulary):\n",
    "    bow = [0] * len(vocabulary) # Start by setting the count for each word in the vocabulary to zero.\n",
    "    for word in words.split():  # For each word in the string\n",
    "        if word in vocabulary:  # If the word is one that occurs in the vocabulary, increase its count.\n",
    "            bow[vocabulary[word]] += 1\n",
    "    return bow"
   ]
  },
  {
   "cell_type": "code",
   "execution_count": 41,
   "metadata": {},
   "outputs": [
    {
     "name": "stdout",
     "output_type": "stream",
     "text": [
      "[0, 0, 0, 0, 0, 0, 0, 0, 0, 0, 0, 0, 0, 0, 0, 0, 0, 0, 0, 0, 0, 0, 0, 0, 0, 0, 0, 0, 0, 0, 0, 0, 0, 0, 0, 0, 0, 0, 0, 0, 0, 0, 0, 0, 0, 0, 0, 0, 0, 0, 0, 0, 0, 0, 0, 0, 0, 0, 0, 0, 0, 0, 0, 0, 0, 0, 0, 0, 0, 0, 0, 0, 0, 0, 0, 0, 0, 0, 0, 0, 0, 0, 0, 0, 0, 0, 0, 0, 0, 0, 0, 0, 0, 0, 0, 0, 0, 0, 0, 0, 0, 0, 0, 0, 0, 0, 0, 0, 0, 0, 0, 0, 0, 0, 0, 0, 0, 0, 0, 0, 0, 0, 0, 0, 0, 0, 0, 0, 0, 0, 0, 0, 0, 0, 0, 0, 0, 0, 0, 0, 0, 0, 0, 0, 0, 0, 0, 0, 0, 0, 0, 0, 0, 0, 0, 0, 0, 0, 0, 0, 0, 0, 0, 0, 0, 0, 0, 0, 0, 0, 0, 0, 0, 0, 0, 0, 0, 0, 0, 0, 0, 0, 0, 0, 0, 0, 0, 0, 0, 0, 0, 0, 0, 0, 0, 0, 0, 0, 0, 0, 0, 0, 0, 0, 0, 0, 0, 0, 0, 0, 0, 0, 0, 0, 0, 0, 0, 0, 0, 0, 0, 0, 0, 0, 0, 0, 1, 0, 0, 0, 0, 0, 0, 0, 0, 0, 0, 0, 0, 0, 0, 0, 0, 0, 0, 0, 0, 0, 0, 0, 0, 0, 0, 0, 0, 0, 1, 0, 0, 0, 0, 0, 0, 0, 0, 0, 0, 0, 0, 0, 0, 0, 0, 0, 0, 0, 0, 0, 0, 0, 0, 0, 0, 0, 0, 0, 0, 0, 0, 0, 0, 0, 0, 0, 0, 0, 0, 0, 0, 0, 0, 0, 0, 0, 0, 0, 0, 0, 0, 0, 0, 0, 0, 0, 0, 0, 0, 0, 0, 0, 0, 0, 0, 0, 0, 0, 0, 0, 0, 0, 0, 0, 0, 0, 0, 0, 0, 0, 0, 0, 0, 0, 0, 0, 0, 0, 0, 0, 0, 0, 0, 0, 0, 0, 0, 0, 0, 0, 0, 0, 0, 0, 0, 0, 0, 0, 0, 0, 0, 0, 0, 0, 0, 0, 0, 0, 0, 0, 0, 0, 0, 0, 0, 0, 0, 0, 0, 0, 0, 0, 0, 0, 0, 0, 0, 0, 0, 0, 0, 0, 0, 0, 0, 0, 0, 0, 0, 0, 0, 0, 0, 0, 0, 0, 0, 0, 0, 0, 0, 0, 0, 0, 0, 0, 0, 0, 0, 0, 0, 0, 0, 0, 0, 0, 0, 0, 0, 0, 0, 0, 0, 0, 0, 0, 0, 0, 0, 0, 0, 0, 0, 0, 0, 0, 0, 0, 0, 0, 0, 0, 0, 0, 0, 0, 0, 0, 0, 0, 0, 0, 0, 0, 0, 0, 0, 0, 0, 0, 0, 0, 0, 0, 0, 0, 0, 0, 0, 0, 0, 0, 0, 0, 0, 0, 0, 0, 0, 0, 0, 0, 0, 0, 0, 0, 0, 0, 0, 0, 0, 0, 0, 0, 0, 0, 0, 0, 0, 0, 0, 0, 0, 0, 0, 0, 0, 0, 0, 0, 0, 0, 0, 0, 0, 0, 0, 0, 0, 0, 0, 0, 0, 0, 0, 0, 0, 0, 0, 0, 0, 0, 0, 0, 0, 0, 0, 0, 0, 0, 0, 0, 0, 0, 0, 0, 0, 0, 0, 0, 0, 0, 0, 0, 0, 0, 0, 0, 0, 0, 0, 0, 0, 0, 0, 0, 0, 0, 0, 0, 0, 0, 0, 0, 0, 0, 0, 0, 0, 0, 0, 0, 0, 0, 0, 0, 0, 0, 0, 0, 0, 0, 0, 0, 0, 0, 0, 0, 0, 0, 0, 0, 0, 0, 0, 0, 0, 0, 0, 0, 0, 0, 0, 0, 0, 0, 0, 0, 1, 0, 0, 0, 0, 0, 0, 0, 0, 0, 0, 0, 0, 0, 0, 0, 0, 0, 0, 0, 0, 0, 0, 0, 0, 0, 0, 0, 0, 0, 0, 0, 0, 0, 0, 0, 0, 0, 0, 0, 0, 0, 0, 0, 0, 0, 0, 0, 0, 0, 0, 0, 0, 0, 0, 0, 0, 0, 0, 0, 0, 0, 0, 0, 0, 0, 0, 0, 0, 0, 0, 0, 0, 0, 0, 0, 0, 0, 0, 0, 0, 0, 0, 0, 0, 0, 0, 0, 0, 0, 0, 0, 0, 0, 0, 0, 0, 0, 0, 0, 0, 0, 0, 0, 0, 0, 0, 0, 0, 0, 0, 0, 0, 0, 0, 0, 0, 0, 0, 0, 0, 0, 0, 0, 0, 0, 0, 0, 0, 0, 0, 0, 0, 0, 0, 0, 0, 0, 0, 0, 0, 0, 0, 0, 0, 0, 0, 0, 0, 0, 0, 0, 0, 0, 0, 0, 0, 0, 0, 0, 0, 0, 0, 0, 0, 0, 0, 0, 0, 0, 0, 0, 0, 0, 0, 0, 0, 0, 0, 0, 0, 0, 0, 0, 0, 0, 0, 0, 0, 0, 0, 0, 0, 0, 0, 0, 0, 0, 0, 0, 0, 0, 0, 0, 0, 0, 0, 0, 0, 0, 0, 0, 0, 0, 0, 0, 0, 0, 0, 0, 0, 0, 0, 0, 0, 0, 0, 0, 0, 0, 0, 0, 0, 0, 0, 0, 0, 0, 0, 0, 0, 0, 0, 0, 0, 0, 0, 0, 0, 0, 0, 0, 0, 0, 1, 0, 0, 0, 0, 0, 0, 0, 0, 0, 0, 0, 0, 0, 0, 0, 0, 0, 0, 0, 0, 0, 0, 0, 0, 0, 0, 0, 0, 0, 0, 0, 0, 0, 0, 0, 0, 0, 0, 0, 0, 0, 0, 0, 0, 0, 0, 0, 0, 0, 0, 0, 0, 0, 0, 0, 0, 0, 0, 0, 0, 0, 0, 0, 0, 0, 0, 0, 0, 0, 0, 0, 0, 0, 0, 0, 0, 0, 0, 0, 0, 0, 0, 0, 0, 0, 0, 1, 0, 0, 0, 0, 0, 0, 0, 0, 0, 0, 0, 0, 0, 0, 0, 0, 0, 0, 0, 0, 0, 0, 0, 0, 0, 0, 0, 0, 0, 0, 0, 0, 0, 0, 0, 0, 0, 0, 0, 0, 0, 0, 0, 0, 0, 0, 0, 0, 0, 0, 0, 0, 0, 0, 0, 0, 0, 0, 0, 0, 0, 0, 0, 0, 0, 0, 0, 0, 0, 0, 0, 0, 0, 0, 0, 0, 0, 0, 0, 0, 0, 0, 0, 0, 0, 0, 0, 0, 0, 0, 0, 0, 0, 0, 0, 0, 0, 0, 0, 0, 0, 0, 0, 0, 0, 0, 0, 0, 0, 0, 0, 0, 0, 0, 0, 0, 0, 0, 0, 0, 0, 0, 0, 0, 0, 0, 0, 0, 0, 0, 0, 0, 0, 0, 0, 0, 0, 0, 0, 0, 0, 0, 0, 0, 0, 0, 0, 0, 0, 0, 0, 0, 0, 0, 0, 0, 0, 0, 0, 0, 0, 0, 0, 0, 0, 0, 0, 0, 0, 0, 0, 0, 0, 0, 0, 0, 0, 0, 0, 0, 0, 0, 0, 0, 0, 0, 0, 0, 0, 0, 0, 0, 0, 0, 0, 0, 0, 0, 0, 0, 0, 0, 0, 0, 0, 0, 0, 0, 0, 0, 0, 0, 0, 0, 0, 0, 0, 0, 0, 0, 0, 0, 0, 0, 0, 0, 0, 0, 0, 0, 0, 0, 0, 0, 0, 0, 0, 0, 0, 0, 0, 0, 0, 0, 0, 0, 0, 0, 0, 0, 0, 0, 1, 0, 0, 0, 0, 0, 0, 0, 0, 0, 0, 0, 0, 0, 0, 0, 0, 0, 0, 0, 0, 0, 0, 0, 0, 0, 0, 0, 0, 0, 0, 0, 0, 0, 0, 0, 0, 0, 0, 0, 0, 0, 0, 0, 0, 0, 0, 0, 0, 0, 0, 0, 0, 0, 0, 0, 1, 0, 0, 0, 0, 0, 0, 0, 0, 0, 0, 0, 0, 0, 0, 0, 0, 0, 0, 0, 0, 0, 0, 0, 0, 0, 0, 0, 0, 0, 0, 0, 0, 0, 0, 0, 0, 0, 0, 0, 0, 0, 0, 0, 0, 0, 0, 0, 0, 0, 0, 0, 0, 0, 0, 0, 0, 0, 0, 0, 0, 0, 0, 0, 0, 0, 0, 0, 0, 0, 0, 0, 0, 0, 0, 0, 0, 0, 0, 0, 0, 0, 0, 0, 0, 0, 0, 0, 0, 0, 0, 0, 0, 0, 0, 0, 0, 0, 0, 0, 0, 0, 0, 0, 0, 0, 0, 0, 0, 0, 0, 0, 0, 0, 0, 0, 0, 0, 0, 0, 0, 0, 0, 0, 0, 0, 0, 0, 0, 0, 0, 0, 0, 0, 0, 0, 0, 0, 0, 0, 0, 0, 0, 0, 0, 0, 0, 0, 0, 0, 0, 0, 0, 0, 0, 0, 0, 0, 0, 0, 0, 0, 0, 0, 0, 0, 0, 0, 0, 0, 0, 0, 0, 0, 0, 0, 0, 0, 0, 0, 0, 0, 0, 0, 0, 0, 0, 0, 0, 0, 0, 0, 0, 0, 0, 0, 0, 0, 0, 0, 0, 0, 0, 0, 0, 0, 0, 0, 0, 0, 0, 0, 0, 0, 0, 0, 0, 0, 0, 0, 0, 0, 0, 0, 0, 0, 0, 0, 0, 0, 0, 0, 0, 0, 0, 0, 0, 0, 0, 0, 0, 0, 0, 0, 0, 0, 0, 0, 0, 0, 0, 0, 0, 0, 0, 0, 0, 0, 0, 0, 0, 0, 0, 0, 0, 0, 0, 0, 0, 0, 0, 0, 0, 0, 0, 0, 0, 0, 0, 0, 0, 0, 0, 0, 0, 0, 0, 0, 0, 0, 0, 0, 0, 0, 0, 0, 0, 0, 0, 0, 0, 0, 0, 0, 0, 0, 0, 0, 0, 0, 0, 0, 0, 0, 0, 0, 0, 0, 0, 0, 0, 0, 0, 0, 0, 0, 0, 0, 0, 0, 0, 0, 0, 0, 0, 0, 0, 0, 0, 0, 0, 0, 0, 0, 0, 0, 0, 0, 0, 0, 0, 0, 0, 0, 0, 0, 0, 0, 0, 0, 0, 0, 0, 0, 0, 0, 0, 0, 0, 0, 0, 0, 0, 0, 0, 0, 0, 0, 0, 0, 0, 0, 0, 0, 0, 0, 0, 0, 0, 0, 0, 0, 0, 0, 0, 0, 0, 0, 0, 0, 0, 0, 0, 0, 0, 0, 0, 0, 0, 0, 0, 0, 0, 0, 0, 0, 0, 0, 0, 0, 0, 0, 0, 0, 0, 0, 0, 0, 0, 0, 0, 0, 0, 0, 0, 0, 0, 0, 0, 0, 0, 0, 0, 0, 0, 0, 0, 0, 0, 0, 0, 0, 0, 0, 0, 0, 0, 0, 0, 0, 0, 0, 0, 0, 0, 0, 0, 0, 0, 0, 0, 0, 0, 0, 0, 0, 0, 0, 0, 0, 0, 0, 0, 0, 0, 0, 0, 0, 0, 0, 0, 0, 0, 0, 0, 0, 0, 0, 0, 0, 0, 0, 0, 0, 0, 0, 0, 0, 0, 0, 0, 0, 0, 0, 0, 0, 0, 0, 0, 0, 0, 0, 0, 0, 0, 0, 0, 0, 0, 0, 0, 0, 0, 0, 0, 0, 0, 0, 0, 0, 0, 0, 0, 0, 0, 0, 0, 0, 0, 0, 0, 0, 0, 0, 0, 0, 0, 0, 0, 0, 0, 0, 0, 0, 0, 0, 0, 0, 0, 0, 0, 0, 0, 0, 0, 0, 0, 0, 0, 0, 0, 0, 0, 0, 0, 0, 0, 0, 0, 0, 0, 0, 0, 0, 0, 0, 0, 0, 0, 0, 0, 0, 0, 0, 0, 0, 0, 0, 0, 0, 0, 0, 0, 0, 0, 0, 0, 0, 0, 0, 0, 0, 0, 0, 0, 0, 0, 0, 0, 0, 0, 0, 0, 0, 0, 0, 0, 0, 0, 0, 0, 0, 0, 0, 0, 0, 0, 0, 0, 0, 0, 0, 0, 0, 0, 0, 0, 0, 0, 0, 0, 0, 0, 0, 0, 0, 0, 0, 0, 0, 0, 0, 0, 0, 0, 0, 0, 0, 0, 0, 0, 0, 1, 0, 0, 0, 0, 0, 0, 0, 0, 0, 0, 0, 0, 0, 0, 0, 0, 0, 0, 0, 0, 0, 0, 0, 0, 0, 0, 0, 0, 0, 0, 0, 0, 0, 0, 0, 0, 0, 0, 0, 0, 0, 0, 0, 0, 0, 0, 0, 0, 0, 0, 0, 0, 0, 0, 0, 0, 0, 0, 0, 0, 0, 0, 0, 0, 0, 0, 0, 0, 0, 0, 0, 0, 0, 0, 1, 0, 0, 0, 0, 0, 0, 0, 0, 0, 0, 0, 0, 0, 0, 0, 0, 0, 0, 0, 0, 1, 0, 0, 1, 0, 0, 0, 0, 0, 0, 0, 0, 0, 0, 0, 0, 0, 0, 0, 0, 0, 0, 0, 0, 0, 0, 0, 0, 0, 0, 0, 0, 0, 0, 0, 0, 0, 0, 0, 0, 0, 0, 0, 0, 0, 0, 0, 0, 0, 0, 0, 0, 0, 0, 0, 0, 0, 0, 0, 0, 0, 0, 0, 0, 0, 0, 0, 0, 0, 0, 0, 0, 0, 0, 0, 0, 0, 0, 0, 0, 0, 0, 0, 0, 0, 0, 0, 0, 0, 0, 0, 0, 0, 0, 0, 0, 0, 0, 0, 0, 0, 0, 0, 0, 0, 0, 0, 0, 0, 0, 0, 0, 0, 0, 0, 0, 0, 0, 0, 0, 0, 0, 0, 0, 0, 0, 0, 0, 0, 0, 0, 0, 0, 0, 0, 0, 0, 0, 0, 0, 0, 0, 0, 0, 0, 0, 0, 0, 0, 0, 0, 0, 0, 0, 0, 0, 0, 0, 0, 0, 0, 0, 0, 0, 0, 0, 0, 0, 0, 0, 0, 0, 0, 0, 0, 0, 0, 0, 0, 0, 0, 0, 0, 0, 0, 0, 0, 0, 0, 0, 0, 0, 0, 0, 0, 0, 0, 0, 0, 0, 0, 0, 0, 0, 0, 0, 0, 0, 0, 0, 0, 0, 0, 0, 0, 0, 0, 0, 0, 0, 0, 0, 0, 0, 0, 0, 0, 0, 0, 0, 0, 0, 0, 0, 0, 0, 0, 0, 0, 0, 0, 0, 0, 0, 0, 0, 0, 0, 0, 0, 0, 0, 0, 0, 0, 0, 0, 0, 0, 0, 0, 0, 0, 0, 0, 0, 0, 0, 0, 0, 0, 0, 0, 0, 0, 0, 0, 0, 0, 0, 0, 0, 0, 0, 0, 0, 0, 0, 0, 0, 0, 0, 0, 0, 0, 0, 0, 0, 0, 0, 0, 0, 0, 0, 0, 0, 0, 0, 0, 0, 0, 0, 0, 0, 0, 0, 0, 0, 0, 0, 0, 0, 0, 0, 0, 0, 0, 0, 0, 0, 0, 0, 0, 0, 0, 0, 0, 0, 0, 0, 0, 0, 0, 0, 0, 0, 0, 0, 0, 0, 0, 0, 0, 0, 0, 0, 0, 0, 0, 0, 0, 0, 0, 0, 0, 0, 0, 0, 0, 0, 0, 0, 0, 0, 0, 0, 0, 0, 0, 0, 0, 0, 0, 0, 0, 0, 0, 0, 0, 0, 0, 0, 0, 0, 0, 0, 0, 0, 0, 0, 0, 0, 0, 0, 0, 0, 0, 0, 0, 0, 0, 0, 0, 0, 0, 0, 0, 0, 0, 0, 0, 0, 0, 0, 0, 0, 0, 0, 0, 0, 0, 0, 0, 0, 0, 0, 0, 0, 0, 0, 0, 0, 0, 0, 0, 0, 0, 0, 0, 0, 0, 0, 0, 0, 0, 0, 0, 0, 0, 0, 0, 0, 0, 0, 0, 0, 0, 0, 0, 0, 1, 0, 0, 0, 0, 0, 0, 0, 0, 0, 0, 0, 0, 0, 0, 0, 0, 0, 0, 0, 0, 0, 0, 0, 0, 0, 0, 0, 0, 0, 0, 0, 0, 0, 0, 0, 0, 0, 0, 0, 0, 0, 0, 0, 0, 0, 0, 0, 0, 0, 0, 0, 0, 0, 0, 0, 0, 0, 0, 0, 0, 0, 0, 0, 0, 0, 0, 0, 0, 0, 0, 0, 0, 0, 0, 0, 0, 0, 0, 0, 0, 0, 0, 0, 0, 0, 0, 0, 0, 0, 0, 0, 0, 0, 0, 0, 0, 0, 0, 0, 0, 0, 0, 0, 0, 0, 0, 0, 0, 0, 0, 0, 0, 0, 0, 0, 0, 0, 0, 0, 0, 0, 0, 0, 0, 0, 0, 0, 0, 0, 0, 0, 0, 0, 0, 0, 0, 0, 0, 0, 0, 0, 0, 0, 0, 0, 0, 0, 0, 0, 0, 0, 0, 0, 0, 0, 0, 0, 0, 0, 0, 0, 0, 0, 0, 0, 0, 0, 0, 0, 0, 0, 0, 0, 0, 0, 0, 0, 0, 0, 0, 0, 0, 0, 0, 0, 0, 0, 0, 0, 0, 0, 0, 0, 0, 0, 0, 0, 0, 0, 0, 0, 0, 0, 0, 0, 0, 0, 0, 0, 0, 0, 0, 0, 0, 0, 0, 0, 0, 0, 0, 0, 0, 0, 0, 0, 0, 0, 0, 0, 0, 0, 0, 0, 0, 0, 0, 0, 0, 0, 0, 0, 0, 0, 0, 0, 0, 0, 0, 0, 0, 0, 0, 0, 0, 0, 0, 0, 0, 0, 0, 0, 0, 0, 0, 0, 0, 0, 0, 0, 0, 0, 0, 0, 0, 0, 0, 0, 0, 0, 0, 0, 0, 0, 0, 0, 0, 0, 0, 0, 0, 0, 0, 0, 0, 0, 0, 0, 0, 0, 0, 0, 0, 0, 0, 0, 0, 0, 0, 0, 0, 0, 0, 0, 0, 0, 0, 0, 0, 0, 0, 0, 0, 0, 0, 0, 0, 0, 0, 0, 0, 0, 0, 0, 0, 0, 0, 0, 0, 0, 0, 0, 0, 0, 0, 0, 0, 0, 0, 0, 0, 0, 0, 0, 0, 0, 0, 0, 0, 0, 0, 0, 0, 0, 0, 0, 0, 0, 0, 0, 0, 0, 0, 0, 0, 0, 0, 0, 0, 0, 0, 0, 0, 0, 0, 0, 0, 0, 0, 0, 0, 0, 0, 0, 0, 0, 0, 0, 0, 0, 0, 0, 0, 0, 0, 0, 0, 0, 0, 0, 0, 0, 0, 0, 0, 0, 0, 0, 0, 0, 0, 0, 0, 0, 0, 0, 0, 0, 0, 0, 0, 0, 0, 0, 0, 0, 0, 0, 0, 0, 0, 0, 0, 0, 0, 0, 0, 0, 0, 0, 0, 0, 0, 0, 0, 0, 0, 0, 0, 0, 0, 0, 0, 0, 0, 0, 0, 0, 0, 0, 0, 0, 0, 0, 0, 0, 0, 0, 0, 0, 0, 0, 0, 0, 0, 0, 0, 0, 0, 0, 0, 0, 0, 0, 0, 0, 0, 0, 0, 0, 0, 0, 0, 0, 0, 0, 0, 0, 0, 0, 0, 0, 0, 1, 0, 0, 0, 0, 0, 0, 0, 0, 0, 0, 0, 0, 0, 0, 0, 0, 0, 0, 0, 0, 0, 0, 0, 0, 0, 0, 0, 0, 0, 0, 0, 0, 0, 0, 0, 2, 0, 0, 0, 0, 0, 0, 0, 0, 0, 0, 0, 0, 0, 0, 0, 0, 0, 0, 0, 0, 0, 0, 0, 0, 0, 0, 0, 0, 0, 0, 0, 0, 0, 0, 0, 0, 0, 0, 0, 0, 1, 0, 0, 0, 0, 0, 0, 0, 0, 0, 0, 0, 0, 0, 0, 0, 0, 0, 0, 0, 0, 0, 0, 0, 0, 0, 0, 0, 0, 0, 0, 0, 0, 0, 0, 0, 0, 0, 0, 0, 0, 0, 0, 0, 0, 0, 0, 0, 0, 0, 0, 0, 0, 0, 0, 0, 0, 0, 0, 0, 0, 0, 0, 0, 0, 0, 0, 0, 0, 0, 0, 0, 0, 0, 0, 0, 0, 0, 0, 0, 0, 0, 0, 0, 0, 0, 0, 0, 0, 0, 0, 0, 0, 0, 0, 0, 0, 0, 0, 0, 0, 0, 0, 0, 0, 0, 0, 0, 0, 0, 0, 0, 0, 0, 0, 0, 0, 0, 0, 0, 0, 0, 0, 0, 0, 0, 0, 0, 0, 0, 0, 0, 0, 0, 0, 0, 0, 0, 0, 0, 0, 0, 0, 0, 0, 0, 0, 0, 0, 0, 0, 0, 0, 0, 0, 0, 0, 0, 0, 0, 0, 0, 0, 0, 0, 0, 0, 0, 0, 0, 0, 0, 0, 0, 0, 0, 0, 0, 0, 0, 0, 0, 0, 0, 0, 0, 0, 0, 0, 0, 0, 0, 0, 0, 0, 0, 0, 0, 0, 0, 0, 0, 0, 0, 0, 0, 0, 0, 0, 0, 0, 0, 0, 0, 0, 0, 0, 0, 0, 0, 0, 0, 0, 0, 0, 0, 0, 0, 0, 0, 0, 0, 0, 0, 0, 0, 0, 0, 0, 0, 0, 0, 0, 0, 0, 0, 0, 0, 0, 0, 0, 0, 0, 0, 0, 0, 0, 0, 0, 0, 0, 0, 0, 0, 0, 0, 0, 0, 0, 0, 0, 0, 0, 0, 0, 0, 0, 0, 0, 0, 0, 0, 0, 0, 0, 0, 0, 0, 0, 0, 0, 0, 0, 0, 0, 0, 0, 0, 0, 0, 0, 0, 0, 0, 0, 0, 0, 0, 0, 0, 0, 0, 0, 0, 0, 0, 0, 0, 0, 0, 0, 0, 0, 0, 0, 0, 0, 0, 0, 0, 0, 0, 0, 0, 0, 0, 0, 0, 0, 0, 0, 0, 0, 0, 0, 0, 0, 0, 0, 0, 0, 0, 0, 0, 0, 0, 0, 0, 0, 0, 0, 0, 0, 0, 0, 0, 0, 0, 0, 0, 0, 0, 0, 0, 0, 0, 0, 0, 0, 0, 0, 0, 0, 0, 0, 0, 0, 0, 0, 0, 0, 0, 0, 0, 0, 0, 0, 0, 0, 0, 0, 0, 0, 0, 0, 0, 0, 0, 0, 0, 0, 0, 0, 0, 0, 0, 0, 0, 0, 0, 0, 0, 0, 0, 0, 0, 0, 0, 0, 0, 0, 0, 0, 0, 0, 0, 0, 0, 0, 0, 0, 0, 0, 0, 0, 0, 0, 0, 0, 0, 0, 0, 0, 0, 0, 0, 0, 0, 0, 0, 0, 0, 0, 0, 0, 0, 0, 0, 0, 0, 0, 0, 0, 0, 0, 0, 0, 0, 0, 0, 0, 0, 0, 0, 0, 0, 0, 0, 0, 0, 0, 0, 0, 0, 0, 0, 0, 0, 1, 0, 0, 0, 0, 0, 0, 0, 0, 0, 0, 0, 0, 0, 0, 0, 0, 0, 0, 0, 0, 0, 0, 0, 0, 0, 0, 0, 0, 0, 0, 0, 0, 0, 0, 0, 0, 0, 0, 0, 0, 0, 0, 0, 0, 0, 0, 0, 0, 0, 0, 0, 0, 0, 0, 0, 0, 0, 0, 0, 0, 0, 0, 0, 0, 0, 0, 0, 0, 0, 0, 0, 0, 0, 0, 0, 0, 0, 0, 0, 0, 0, 0, 0, 0, 0, 0, 0, 0, 0, 0, 0, 0, 0, 0, 0, 0, 0, 0, 0, 0, 0, 0, 0, 0, 0, 0, 0, 0, 0, 0, 2, 0, 0, 0, 0, 0, 0, 0, 0, 0, 0, 0, 0, 0, 0, 0, 0, 0, 0, 0, 0, 0, 0, 0, 0, 0, 0, 0, 0, 0, 0, 0, 0, 0, 0, 0, 0, 0, 0, 0, 0, 0, 0, 0, 0, 0, 0, 0, 0, 0, 0, 0, 0, 0, 0, 0, 0, 0, 0, 0, 0, 0, 0, 0, 0, 0, 0, 0, 0, 0, 0, 0, 0, 0, 0, 0, 0, 0, 0, 0, 0, 0, 0, 0, 0, 0, 0, 0, 0, 0, 0, 0, 0, 0, 0, 0, 0, 0, 0, 0, 0, 0, 0, 0, 0, 0, 0, 0, 0, 0, 0, 0, 0, 0, 0, 0, 0, 0, 0, 0, 0, 0, 0, 0, 0, 0, 0, 0, 0, 0, 0, 0, 0, 0, 0, 0, 0, 0, 0, 0, 0, 0, 0, 0, 0, 0, 0, 0, 0, 0, 0, 0, 0, 0, 0, 0, 0, 0, 0, 0, 0, 0, 0, 0, 0, 0, 0, 0, 0, 0, 0, 0, 0, 0, 0, 0, 0, 0, 0, 0, 0, 0, 0, 0, 0, 0, 0, 0, 0, 0, 0, 0, 0, 0, 0, 0, 0, 0, 0, 0, 0, 0, 0, 0, 0, 0, 0, 0, 0, 0, 0, 0, 0, 0, 0, 0, 0, 0, 0, 0, 0, 0, 0, 0, 0, 0, 0, 0, 0, 0, 0, 0, 0, 0, 0, 0, 0, 0, 0, 0, 0, 0, 0, 0, 0, 0, 0, 0, 0, 0, 0, 0, 0, 0, 0, 0, 0, 0, 0, 0, 0, 0, 0, 0, 0, 0, 0, 0, 0, 0, 0, 0, 0, 0, 0, 0, 0, 0, 0, 0, 0, 0, 0, 0, 0, 0, 0, 0, 0, 0, 0, 0, 0, 0, 0, 0, 0, 0, 0, 0, 0, 0, 0, 0, 0, 0, 0, 0, 0, 0, 0, 0, 0, 0, 0, 0, 0, 0, 0, 0, 0, 0, 0, 0, 0, 0, 0, 0, 0, 0, 0, 0, 0, 0, 0, 0, 0, 0, 0, 0, 0, 0, 0, 0, 0, 0, 0, 0, 0, 0, 0, 0, 0, 0, 0, 0, 0, 0, 0, 0, 0, 0, 0, 0, 0, 0, 0, 0, 0, 0, 0, 0, 0, 0, 0, 0, 0, 0, 0, 0, 0, 0, 0, 0, 0, 0, 0, 0, 0, 0, 0, 0, 0, 0, 0, 0, 0, 0, 0, 0, 0, 0, 0, 0, 0, 0, 0, 0, 0, 0, 0, 0, 0, 0, 0, 0, 0, 0, 0, 0, 0, 0, 0, 0, 0, 0, 0, 0, 0, 0, 0, 0, 0, 0, 0, 0, 0, 0, 0, 0, 0, 0, 0, 0, 0, 0, 0, 0, 0, 0, 0, 0, 0, 0, 0, 0, 0, 0, 0, 0, 0, 0, 0, 0, 0, 0, 0, 0, 0, 0, 0, 0, 0, 0, 0, 0, 0, 0, 0, 0, 0, 0, 0, 0, 0, 0, 0, 0, 0, 0, 0, 0, 0, 0, 0, 0, 0, 0, 0, 0, 0, 0, 0, 0, 0, 0, 0, 0, 0, 0, 0, 0, 0, 0, 0, 0, 0, 0, 0, 0, 0, 0, 0, 0, 0, 0, 0, 0, 0, 0, 0, 0, 0, 0, 0, 0, 0, 0, 0, 0, 0, 0, 0, 0, 0, 0, 0, 0, 0, 0, 0, 0, 0, 0, 0, 0, 0, 0, 0, 0, 0, 0, 0, 0, 0, 0, 0, 0, 0, 0, 0, 0, 0, 0, 0, 0, 0, 0, 0, 0, 0, 0, 0, 0, 0, 0, 0, 0, 0, 0, 0, 0, 0, 0, 0, 0, 0, 0, 0, 0, 0, 0, 0, 0, 0, 0, 0, 0, 0, 0, 0, 0, 0, 0, 0, 0, 0, 0, 0, 0, 0, 0, 0, 0, 0, 0, 0, 0, 0, 0, 0, 0, 0, 0, 0, 0, 0, 0, 0, 0, 0, 0, 0, 0, 0, 0, 0, 0, 0, 0, 0, 0, 0, 0, 0, 0, 0, 0, 0, 0, 0, 0, 0, 0, 0, 0, 0, 0, 0, 0, 0, 0, 0, 0, 0, 0, 0, 0, 0, 0, 0, 0, 0, 0, 0, 0, 0, 0, 0, 0, 0, 1, 0, 0, 0, 0, 0, 0, 0, 0, 0, 0, 0, 0, 0, 0, 0, 0, 0, 0, 0, 0, 0, 0, 0, 0, 0, 0, 0, 0, 0, 0, 0, 0, 0, 0, 0, 0, 0, 0, 0, 0, 0, 0, 0, 0, 0, 0, 0, 0, 0, 0, 0, 0, 0, 0, 0, 0, 0, 0, 0, 0, 0, 0, 0, 0, 0, 0, 0, 0, 0, 0, 0, 0, 0, 0, 0, 0, 0, 0, 0, 0, 0, 0, 0, 0, 0, 0, 0, 0, 0, 0, 0, 0, 0, 0, 0, 0, 0, 0, 0, 0, 0, 0, 0, 0, 0, 0, 0, 1, 0, 0, 0, 0, 0, 0, 0, 0, 0, 0, 0, 0, 0, 0, 0, 0, 0, 0, 0, 0, 0, 0, 0, 0, 0, 0, 0, 0, 0, 0, 0, 0, 0, 0, 0, 0, 0, 0, 0, 0, 0, 0, 0, 0, 0, 0, 0, 0, 0, 0, 0, 0, 0, 0, 0, 0, 0, 0, 0, 0, 0, 0, 0, 0, 0, 0, 0, 0, 0, 0, 0, 0, 0, 0, 0, 0, 0, 0, 0, 0, 0, 0, 0, 0, 0, 0, 0, 0, 0, 0, 0, 0, 0, 0, 0, 0, 0, 0, 0, 0, 0, 0, 0, 0, 0, 0, 0, 0, 0, 0, 0, 0, 0, 0, 0, 0, 0, 0, 0, 0, 0, 0, 0, 0, 0, 0, 0, 0, 0, 0, 0, 0, 0, 0, 0, 0, 0, 0, 0, 0, 0, 0, 0, 0, 0, 0, 0, 0, 0, 0, 0, 0, 0, 0, 0, 0, 0, 0, 0, 0, 0, 0, 0, 0, 0, 0, 0, 0, 0, 0, 0, 0, 0, 0, 0, 0, 0, 0, 0, 0, 0, 0, 0, 0, 0, 0, 0, 0, 0, 0, 0, 0, 0, 0, 0, 0, 0, 0, 0, 0, 0, 0, 0, 0, 0, 0, 0, 0, 0, 0, 0, 0, 0, 0, 0, 0, 0, 0, 0, 0, 0, 0, 0, 0, 0, 0, 0, 0, 0, 0, 0, 0, 0, 0, 0, 0, 0, 0, 0, 0, 0, 0, 0, 0, 0, 0, 0, 0, 0, 0, 0, 0, 0, 0, 0, 0, 0, 0, 0, 0, 0, 0, 0, 0, 0, 0, 0, 0, 0, 0, 0, 0, 0, 0, 0, 0, 0, 0, 0, 0, 0, 0, 0, 0, 0, 0, 0, 0, 0, 0, 0, 0, 0, 0, 0, 0, 0, 0, 0, 0, 0, 0, 0, 0, 0, 0, 0, 0, 0, 0, 0, 0, 0, 0, 0, 0, 0, 0, 0, 0, 0, 0, 0, 0, 0, 0, 0, 0, 0, 0, 0, 0, 0, 0, 0, 0, 0, 0, 0, 0, 0, 0, 0, 0, 0, 0, 0, 0, 0, 0, 0, 0, 0, 0, 0, 0, 0, 0, 0, 0, 0, 0, 0, 0, 0, 0, 0, 0, 0, 0, 0, 0, 0, 0, 0, 0, 0, 0, 0, 0, 0, 0, 0, 0, 0, 0, 0, 0, 0, 0, 0, 0, 0, 0, 0, 0, 0, 0, 0, 0, 0, 0, 0, 0, 0, 0, 0, 0, 0, 0, 0, 0, 0, 0, 0, 0, 0, 0, 0, 0, 0, 0, 0, 0, 0, 0, 0, 0, 0, 0, 0, 0, 0, 0, 0, 0, 0, 0, 0, 0, 0, 0, 0, 0, 0, 0, 0, 0, 0, 0, 0, 0, 0, 0, 0, 0, 0, 0, 0, 0, 0, 0, 0, 2, 0, 1, 0]\n"
     ]
    }
   ],
   "source": [
    "test_bow = bow_encoding(test_words, vocabulary)\n",
    "print(test_bow)"
   ]
  },
  {
   "cell_type": "code",
   "execution_count": 42,
   "metadata": {},
   "outputs": [
    {
     "data": {
      "text/plain": [
       "5000"
      ]
     },
     "execution_count": 42,
     "metadata": {},
     "output_type": "execute_result"
    }
   ],
   "source": [
    "len(test_bow)"
   ]
  },
  {
   "cell_type": "markdown",
   "metadata": {},
   "source": [
    "So now we know how to construct a bag of words encoding of a user provided review, how to we send it to our endpoint? First, we need to start the endpoint back up."
   ]
  },
  {
   "cell_type": "code",
   "execution_count": 43,
   "metadata": {},
   "outputs": [
    {
     "name": "stderr",
     "output_type": "stream",
     "text": [
      "INFO:sagemaker:Creating model with name: xgboost-2019-04-05-13-52-07-547\n",
      "INFO:sagemaker:Creating endpoint with name xgboost-2019-04-05-13-29-32-676\n"
     ]
    },
    {
     "name": "stdout",
     "output_type": "stream",
     "text": [
      "---------------------------------------------------------------!"
     ]
    }
   ],
   "source": [
    "xgb_predictor = xgb.deploy(initial_instance_count = 1, instance_type = 'ml.m4.xlarge')"
   ]
  },
  {
   "cell_type": "markdown",
   "metadata": {},
   "source": [
    "> The easies way to do this would be to use the predict function of the deployed model. However, that's not going to work becaue we won't be able to send data to this object later on because our deployed model won't have permission to send to this url. So we have to do something else."
   ]
  },
  {
   "cell_type": "markdown",
   "metadata": {},
   "source": [
    "At this point we could just do the same thing that we did earlier when we tested our deployed model and send `test_bow` to our endpoint using the `xgb_predictor` object. However, when we eventually construct our Lambda function we won't have access to this object, so how do we call a SageMaker endpoint?\n",
    "\n",
    "It turns out that Python functions that are used in Lambda have access to another Amazon library called `boto3`. This library provides an API for working with Amazon services, including SageMaker. To start with, we need to get a handle to the SageMaker runtime."
   ]
  },
  {
   "cell_type": "code",
   "execution_count": 44,
   "metadata": {},
   "outputs": [],
   "source": [
    "import boto3\n",
    "\n",
    "runtime = boto3.Session().client('sagemaker-runtime')"
   ]
  },
  {
   "cell_type": "markdown",
   "metadata": {},
   "source": [
    "And now that we have access to the SageMaker runtime, we can ask it to make use of (invoke) an endpoint that has already been created. However, we need to provide SageMaker with the name of the deployed endpoint. To find this out we can print it out using the `xgb_predictor` object."
   ]
  },
  {
   "cell_type": "code",
   "execution_count": 45,
   "metadata": {},
   "outputs": [
    {
     "data": {
      "text/plain": [
       "'xgboost-2019-04-05-13-29-32-676'"
      ]
     },
     "execution_count": 45,
     "metadata": {},
     "output_type": "execute_result"
    }
   ],
   "source": [
    "xgb_predictor.endpoint"
   ]
  },
  {
   "cell_type": "markdown",
   "metadata": {},
   "source": [
    "Using the SageMaker runtime and the name of our endpoint, we can invoke the endpoint and send it the `test_bow` data."
   ]
  },
  {
   "cell_type": "code",
   "execution_count": 46,
   "metadata": {},
   "outputs": [
    {
     "ename": "ParamValidationError",
     "evalue": "Parameter validation failed:\nInvalid type for parameter Body, value: [0, 0, 0, 0, 0, 0, 0, 0, 0, 0, 0, 0, 0, 0, 0, 0, 0, 0, 0, 0, 0, 0, 0, 0, 0, 0, 0, 0, 0, 0, 0, 0, 0, 0, 0, 0, 0, 0, 0, 0, 0, 0, 0, 0, 0, 0, 0, 0, 0, 0, 0, 0, 0, 0, 0, 0, 0, 0, 0, 0, 0, 0, 0, 0, 0, 0, 0, 0, 0, 0, 0, 0, 0, 0, 0, 0, 0, 0, 0, 0, 0, 0, 0, 0, 0, 0, 0, 0, 0, 0, 0, 0, 0, 0, 0, 0, 0, 0, 0, 0, 0, 0, 0, 0, 0, 0, 0, 0, 0, 0, 0, 0, 0, 0, 0, 0, 0, 0, 0, 0, 0, 0, 0, 0, 0, 0, 0, 0, 0, 0, 0, 0, 0, 0, 0, 0, 0, 0, 0, 0, 0, 0, 0, 0, 0, 0, 0, 0, 0, 0, 0, 0, 0, 0, 0, 0, 0, 0, 0, 0, 0, 0, 0, 0, 0, 0, 0, 0, 0, 0, 0, 0, 0, 0, 0, 0, 0, 0, 0, 0, 0, 0, 0, 0, 0, 0, 0, 0, 0, 0, 0, 0, 0, 0, 0, 0, 0, 0, 0, 0, 0, 0, 0, 0, 0, 0, 0, 0, 0, 0, 0, 0, 0, 0, 0, 0, 0, 0, 0, 0, 0, 0, 0, 0, 0, 0, 1, 0, 0, 0, 0, 0, 0, 0, 0, 0, 0, 0, 0, 0, 0, 0, 0, 0, 0, 0, 0, 0, 0, 0, 0, 0, 0, 0, 0, 0, 1, 0, 0, 0, 0, 0, 0, 0, 0, 0, 0, 0, 0, 0, 0, 0, 0, 0, 0, 0, 0, 0, 0, 0, 0, 0, 0, 0, 0, 0, 0, 0, 0, 0, 0, 0, 0, 0, 0, 0, 0, 0, 0, 0, 0, 0, 0, 0, 0, 0, 0, 0, 0, 0, 0, 0, 0, 0, 0, 0, 0, 0, 0, 0, 0, 0, 0, 0, 0, 0, 0, 0, 0, 0, 0, 0, 0, 0, 0, 0, 0, 0, 0, 0, 0, 0, 0, 0, 0, 0, 0, 0, 0, 0, 0, 0, 0, 0, 0, 0, 0, 0, 0, 0, 0, 0, 0, 0, 0, 0, 0, 0, 0, 0, 0, 0, 0, 0, 0, 0, 0, 0, 0, 0, 0, 0, 0, 0, 0, 0, 0, 0, 0, 0, 0, 0, 0, 0, 0, 0, 0, 0, 0, 0, 0, 0, 0, 0, 0, 0, 0, 0, 0, 0, 0, 0, 0, 0, 0, 0, 0, 0, 0, 0, 0, 0, 0, 0, 0, 0, 0, 0, 0, 0, 0, 0, 0, 0, 0, 0, 0, 0, 0, 0, 0, 0, 0, 0, 0, 0, 0, 0, 0, 0, 0, 0, 0, 0, 0, 0, 0, 0, 0, 0, 0, 0, 0, 0, 0, 0, 0, 0, 0, 0, 0, 0, 0, 0, 0, 0, 0, 0, 0, 0, 0, 0, 0, 0, 0, 0, 0, 0, 0, 0, 0, 0, 0, 0, 0, 0, 0, 0, 0, 0, 0, 0, 0, 0, 0, 0, 0, 0, 0, 0, 0, 0, 0, 0, 0, 0, 0, 0, 0, 0, 0, 0, 0, 0, 0, 0, 0, 0, 0, 0, 0, 0, 0, 0, 0, 0, 0, 0, 0, 0, 0, 0, 0, 0, 0, 0, 0, 0, 0, 0, 0, 0, 0, 0, 0, 0, 0, 0, 0, 0, 0, 0, 0, 0, 0, 0, 0, 0, 0, 0, 0, 0, 0, 0, 0, 0, 0, 0, 0, 0, 0, 0, 0, 0, 0, 0, 0, 0, 0, 0, 0, 0, 0, 0, 0, 0, 0, 0, 0, 0, 0, 0, 0, 0, 0, 0, 0, 0, 0, 0, 0, 0, 0, 0, 0, 0, 0, 0, 0, 0, 0, 0, 0, 0, 0, 0, 0, 0, 0, 0, 0, 0, 0, 0, 0, 0, 1, 0, 0, 0, 0, 0, 0, 0, 0, 0, 0, 0, 0, 0, 0, 0, 0, 0, 0, 0, 0, 0, 0, 0, 0, 0, 0, 0, 0, 0, 0, 0, 0, 0, 0, 0, 0, 0, 0, 0, 0, 0, 0, 0, 0, 0, 0, 0, 0, 0, 0, 0, 0, 0, 0, 0, 0, 0, 0, 0, 0, 0, 0, 0, 0, 0, 0, 0, 0, 0, 0, 0, 0, 0, 0, 0, 0, 0, 0, 0, 0, 0, 0, 0, 0, 0, 0, 0, 0, 0, 0, 0, 0, 0, 0, 0, 0, 0, 0, 0, 0, 0, 0, 0, 0, 0, 0, 0, 0, 0, 0, 0, 0, 0, 0, 0, 0, 0, 0, 0, 0, 0, 0, 0, 0, 0, 0, 0, 0, 0, 0, 0, 0, 0, 0, 0, 0, 0, 0, 0, 0, 0, 0, 0, 0, 0, 0, 0, 0, 0, 0, 0, 0, 0, 0, 0, 0, 0, 0, 0, 0, 0, 0, 0, 0, 0, 0, 0, 0, 0, 0, 0, 0, 0, 0, 0, 0, 0, 0, 0, 0, 0, 0, 0, 0, 0, 0, 0, 0, 0, 0, 0, 0, 0, 0, 0, 0, 0, 0, 0, 0, 0, 0, 0, 0, 0, 0, 0, 0, 0, 0, 0, 0, 0, 0, 0, 0, 0, 0, 0, 0, 0, 0, 0, 0, 0, 0, 0, 0, 0, 0, 0, 0, 0, 0, 0, 0, 0, 0, 0, 0, 0, 0, 0, 0, 0, 0, 0, 0, 0, 0, 0, 0, 0, 1, 0, 0, 0, 0, 0, 0, 0, 0, 0, 0, 0, 0, 0, 0, 0, 0, 0, 0, 0, 0, 0, 0, 0, 0, 0, 0, 0, 0, 0, 0, 0, 0, 0, 0, 0, 0, 0, 0, 0, 0, 0, 0, 0, 0, 0, 0, 0, 0, 0, 0, 0, 0, 0, 0, 0, 0, 0, 0, 0, 0, 0, 0, 0, 0, 0, 0, 0, 0, 0, 0, 0, 0, 0, 0, 0, 0, 0, 0, 0, 0, 0, 0, 0, 0, 0, 0, 1, 0, 0, 0, 0, 0, 0, 0, 0, 0, 0, 0, 0, 0, 0, 0, 0, 0, 0, 0, 0, 0, 0, 0, 0, 0, 0, 0, 0, 0, 0, 0, 0, 0, 0, 0, 0, 0, 0, 0, 0, 0, 0, 0, 0, 0, 0, 0, 0, 0, 0, 0, 0, 0, 0, 0, 0, 0, 0, 0, 0, 0, 0, 0, 0, 0, 0, 0, 0, 0, 0, 0, 0, 0, 0, 0, 0, 0, 0, 0, 0, 0, 0, 0, 0, 0, 0, 0, 0, 0, 0, 0, 0, 0, 0, 0, 0, 0, 0, 0, 0, 0, 0, 0, 0, 0, 0, 0, 0, 0, 0, 0, 0, 0, 0, 0, 0, 0, 0, 0, 0, 0, 0, 0, 0, 0, 0, 0, 0, 0, 0, 0, 0, 0, 0, 0, 0, 0, 0, 0, 0, 0, 0, 0, 0, 0, 0, 0, 0, 0, 0, 0, 0, 0, 0, 0, 0, 0, 0, 0, 0, 0, 0, 0, 0, 0, 0, 0, 0, 0, 0, 0, 0, 0, 0, 0, 0, 0, 0, 0, 0, 0, 0, 0, 0, 0, 0, 0, 0, 0, 0, 0, 0, 0, 0, 0, 0, 0, 0, 0, 0, 0, 0, 0, 0, 0, 0, 0, 0, 0, 0, 0, 0, 0, 0, 0, 0, 0, 0, 0, 0, 0, 0, 0, 0, 0, 0, 0, 0, 0, 0, 0, 0, 0, 0, 0, 0, 0, 0, 0, 0, 0, 0, 0, 0, 0, 0, 0, 0, 0, 0, 0, 0, 1, 0, 0, 0, 0, 0, 0, 0, 0, 0, 0, 0, 0, 0, 0, 0, 0, 0, 0, 0, 0, 0, 0, 0, 0, 0, 0, 0, 0, 0, 0, 0, 0, 0, 0, 0, 0, 0, 0, 0, 0, 0, 0, 0, 0, 0, 0, 0, 0, 0, 0, 0, 0, 0, 0, 0, 1, 0, 0, 0, 0, 0, 0, 0, 0, 0, 0, 0, 0, 0, 0, 0, 0, 0, 0, 0, 0, 0, 0, 0, 0, 0, 0, 0, 0, 0, 0, 0, 0, 0, 0, 0, 0, 0, 0, 0, 0, 0, 0, 0, 0, 0, 0, 0, 0, 0, 0, 0, 0, 0, 0, 0, 0, 0, 0, 0, 0, 0, 0, 0, 0, 0, 0, 0, 0, 0, 0, 0, 0, 0, 0, 0, 0, 0, 0, 0, 0, 0, 0, 0, 0, 0, 0, 0, 0, 0, 0, 0, 0, 0, 0, 0, 0, 0, 0, 0, 0, 0, 0, 0, 0, 0, 0, 0, 0, 0, 0, 0, 0, 0, 0, 0, 0, 0, 0, 0, 0, 0, 0, 0, 0, 0, 0, 0, 0, 0, 0, 0, 0, 0, 0, 0, 0, 0, 0, 0, 0, 0, 0, 0, 0, 0, 0, 0, 0, 0, 0, 0, 0, 0, 0, 0, 0, 0, 0, 0, 0, 0, 0, 0, 0, 0, 0, 0, 0, 0, 0, 0, 0, 0, 0, 0, 0, 0, 0, 0, 0, 0, 0, 0, 0, 0, 0, 0, 0, 0, 0, 0, 0, 0, 0, 0, 0, 0, 0, 0, 0, 0, 0, 0, 0, 0, 0, 0, 0, 0, 0, 0, 0, 0, 0, 0, 0, 0, 0, 0, 0, 0, 0, 0, 0, 0, 0, 0, 0, 0, 0, 0, 0, 0, 0, 0, 0, 0, 0, 0, 0, 0, 0, 0, 0, 0, 0, 0, 0, 0, 0, 0, 0, 0, 0, 0, 0, 0, 0, 0, 0, 0, 0, 0, 0, 0, 0, 0, 0, 0, 0, 0, 0, 0, 0, 0, 0, 0, 0, 0, 0, 0, 0, 0, 0, 0, 0, 0, 0, 0, 0, 0, 0, 0, 0, 0, 0, 0, 0, 0, 0, 0, 0, 0, 0, 0, 0, 0, 0, 0, 0, 0, 0, 0, 0, 0, 0, 0, 0, 0, 0, 0, 0, 0, 0, 0, 0, 0, 0, 0, 0, 0, 0, 0, 0, 0, 0, 0, 0, 0, 0, 0, 0, 0, 0, 0, 0, 0, 0, 0, 0, 0, 0, 0, 0, 0, 0, 0, 0, 0, 0, 0, 0, 0, 0, 0, 0, 0, 0, 0, 0, 0, 0, 0, 0, 0, 0, 0, 0, 0, 0, 0, 0, 0, 0, 0, 0, 0, 0, 0, 0, 0, 0, 0, 0, 0, 0, 0, 0, 0, 0, 0, 0, 0, 0, 0, 0, 0, 0, 0, 0, 0, 0, 0, 0, 0, 0, 0, 0, 0, 0, 0, 0, 0, 0, 0, 0, 0, 0, 0, 0, 0, 0, 0, 0, 0, 0, 0, 0, 0, 0, 0, 0, 0, 0, 0, 0, 0, 0, 0, 0, 0, 0, 0, 0, 0, 0, 0, 0, 0, 0, 0, 0, 0, 0, 0, 0, 0, 0, 0, 0, 0, 0, 0, 0, 0, 0, 0, 0, 0, 0, 0, 0, 0, 0, 0, 0, 0, 0, 0, 0, 0, 0, 0, 0, 0, 0, 0, 0, 0, 0, 0, 0, 0, 0, 0, 0, 0, 0, 0, 0, 0, 0, 0, 0, 0, 0, 0, 0, 0, 0, 0, 0, 0, 0, 0, 0, 0, 0, 0, 0, 0, 0, 0, 0, 0, 0, 0, 0, 0, 0, 0, 0, 0, 0, 0, 0, 0, 0, 0, 0, 0, 0, 0, 0, 0, 0, 0, 0, 0, 0, 0, 0, 0, 0, 0, 0, 0, 0, 0, 0, 0, 0, 0, 0, 0, 0, 0, 0, 0, 0, 0, 0, 0, 0, 0, 0, 0, 0, 0, 0, 0, 0, 0, 0, 0, 0, 0, 0, 0, 0, 0, 0, 0, 0, 0, 0, 0, 0, 0, 0, 0, 0, 0, 0, 0, 0, 0, 0, 0, 0, 0, 0, 0, 0, 0, 0, 0, 0, 0, 0, 0, 0, 0, 0, 0, 0, 0, 0, 0, 0, 0, 0, 0, 0, 0, 0, 0, 0, 0, 0, 0, 0, 0, 0, 0, 0, 0, 0, 0, 0, 0, 0, 0, 0, 0, 0, 0, 0, 0, 0, 0, 0, 0, 0, 0, 0, 0, 0, 0, 0, 0, 1, 0, 0, 0, 0, 0, 0, 0, 0, 0, 0, 0, 0, 0, 0, 0, 0, 0, 0, 0, 0, 0, 0, 0, 0, 0, 0, 0, 0, 0, 0, 0, 0, 0, 0, 0, 0, 0, 0, 0, 0, 0, 0, 0, 0, 0, 0, 0, 0, 0, 0, 0, 0, 0, 0, 0, 0, 0, 0, 0, 0, 0, 0, 0, 0, 0, 0, 0, 0, 0, 0, 0, 0, 0, 0, 1, 0, 0, 0, 0, 0, 0, 0, 0, 0, 0, 0, 0, 0, 0, 0, 0, 0, 0, 0, 0, 1, 0, 0, 1, 0, 0, 0, 0, 0, 0, 0, 0, 0, 0, 0, 0, 0, 0, 0, 0, 0, 0, 0, 0, 0, 0, 0, 0, 0, 0, 0, 0, 0, 0, 0, 0, 0, 0, 0, 0, 0, 0, 0, 0, 0, 0, 0, 0, 0, 0, 0, 0, 0, 0, 0, 0, 0, 0, 0, 0, 0, 0, 0, 0, 0, 0, 0, 0, 0, 0, 0, 0, 0, 0, 0, 0, 0, 0, 0, 0, 0, 0, 0, 0, 0, 0, 0, 0, 0, 0, 0, 0, 0, 0, 0, 0, 0, 0, 0, 0, 0, 0, 0, 0, 0, 0, 0, 0, 0, 0, 0, 0, 0, 0, 0, 0, 0, 0, 0, 0, 0, 0, 0, 0, 0, 0, 0, 0, 0, 0, 0, 0, 0, 0, 0, 0, 0, 0, 0, 0, 0, 0, 0, 0, 0, 0, 0, 0, 0, 0, 0, 0, 0, 0, 0, 0, 0, 0, 0, 0, 0, 0, 0, 0, 0, 0, 0, 0, 0, 0, 0, 0, 0, 0, 0, 0, 0, 0, 0, 0, 0, 0, 0, 0, 0, 0, 0, 0, 0, 0, 0, 0, 0, 0, 0, 0, 0, 0, 0, 0, 0, 0, 0, 0, 0, 0, 0, 0, 0, 0, 0, 0, 0, 0, 0, 0, 0, 0, 0, 0, 0, 0, 0, 0, 0, 0, 0, 0, 0, 0, 0, 0, 0, 0, 0, 0, 0, 0, 0, 0, 0, 0, 0, 0, 0, 0, 0, 0, 0, 0, 0, 0, 0, 0, 0, 0, 0, 0, 0, 0, 0, 0, 0, 0, 0, 0, 0, 0, 0, 0, 0, 0, 0, 0, 0, 0, 0, 0, 0, 0, 0, 0, 0, 0, 0, 0, 0, 0, 0, 0, 0, 0, 0, 0, 0, 0, 0, 0, 0, 0, 0, 0, 0, 0, 0, 0, 0, 0, 0, 0, 0, 0, 0, 0, 0, 0, 0, 0, 0, 0, 0, 0, 0, 0, 0, 0, 0, 0, 0, 0, 0, 0, 0, 0, 0, 0, 0, 0, 0, 0, 0, 0, 0, 0, 0, 0, 0, 0, 0, 0, 0, 0, 0, 0, 0, 0, 0, 0, 0, 0, 0, 0, 0, 0, 0, 0, 0, 0, 0, 0, 0, 0, 0, 0, 0, 0, 0, 0, 0, 0, 0, 0, 0, 0, 0, 0, 0, 0, 0, 0, 0, 0, 0, 0, 0, 0, 0, 0, 0, 0, 0, 0, 0, 0, 0, 0, 0, 0, 0, 0, 0, 0, 0, 0, 0, 0, 0, 0, 0, 0, 0, 0, 0, 0, 0, 0, 0, 0, 0, 0, 0, 0, 0, 0, 0, 0, 0, 0, 0, 0, 0, 0, 0, 0, 0, 0, 0, 0, 0, 0, 0, 0, 0, 0, 0, 0, 0, 0, 0, 0, 0, 0, 0, 0, 0, 0, 0, 0, 0, 0, 1, 0, 0, 0, 0, 0, 0, 0, 0, 0, 0, 0, 0, 0, 0, 0, 0, 0, 0, 0, 0, 0, 0, 0, 0, 0, 0, 0, 0, 0, 0, 0, 0, 0, 0, 0, 0, 0, 0, 0, 0, 0, 0, 0, 0, 0, 0, 0, 0, 0, 0, 0, 0, 0, 0, 0, 0, 0, 0, 0, 0, 0, 0, 0, 0, 0, 0, 0, 0, 0, 0, 0, 0, 0, 0, 0, 0, 0, 0, 0, 0, 0, 0, 0, 0, 0, 0, 0, 0, 0, 0, 0, 0, 0, 0, 0, 0, 0, 0, 0, 0, 0, 0, 0, 0, 0, 0, 0, 0, 0, 0, 0, 0, 0, 0, 0, 0, 0, 0, 0, 0, 0, 0, 0, 0, 0, 0, 0, 0, 0, 0, 0, 0, 0, 0, 0, 0, 0, 0, 0, 0, 0, 0, 0, 0, 0, 0, 0, 0, 0, 0, 0, 0, 0, 0, 0, 0, 0, 0, 0, 0, 0, 0, 0, 0, 0, 0, 0, 0, 0, 0, 0, 0, 0, 0, 0, 0, 0, 0, 0, 0, 0, 0, 0, 0, 0, 0, 0, 0, 0, 0, 0, 0, 0, 0, 0, 0, 0, 0, 0, 0, 0, 0, 0, 0, 0, 0, 0, 0, 0, 0, 0, 0, 0, 0, 0, 0, 0, 0, 0, 0, 0, 0, 0, 0, 0, 0, 0, 0, 0, 0, 0, 0, 0, 0, 0, 0, 0, 0, 0, 0, 0, 0, 0, 0, 0, 0, 0, 0, 0, 0, 0, 0, 0, 0, 0, 0, 0, 0, 0, 0, 0, 0, 0, 0, 0, 0, 0, 0, 0, 0, 0, 0, 0, 0, 0, 0, 0, 0, 0, 0, 0, 0, 0, 0, 0, 0, 0, 0, 0, 0, 0, 0, 0, 0, 0, 0, 0, 0, 0, 0, 0, 0, 0, 0, 0, 0, 0, 0, 0, 0, 0, 0, 0, 0, 0, 0, 0, 0, 0, 0, 0, 0, 0, 0, 0, 0, 0, 0, 0, 0, 0, 0, 0, 0, 0, 0, 0, 0, 0, 0, 0, 0, 0, 0, 0, 0, 0, 0, 0, 0, 0, 0, 0, 0, 0, 0, 0, 0, 0, 0, 0, 0, 0, 0, 0, 0, 0, 0, 0, 0, 0, 0, 0, 0, 0, 0, 0, 0, 0, 0, 0, 0, 0, 0, 0, 0, 0, 0, 0, 0, 0, 0, 0, 0, 0, 0, 0, 0, 0, 0, 0, 0, 0, 0, 0, 0, 0, 0, 0, 0, 0, 0, 0, 0, 0, 0, 0, 0, 0, 0, 0, 0, 0, 0, 0, 0, 0, 0, 0, 0, 0, 0, 0, 0, 0, 0, 0, 0, 0, 0, 0, 0, 0, 0, 0, 0, 0, 0, 0, 0, 0, 0, 0, 0, 0, 0, 0, 0, 0, 0, 0, 0, 0, 0, 0, 0, 0, 0, 0, 0, 0, 0, 0, 0, 0, 0, 0, 0, 0, 0, 0, 0, 0, 0, 0, 0, 0, 0, 0, 0, 0, 0, 0, 0, 0, 0, 0, 0, 0, 0, 0, 0, 0, 0, 0, 0, 0, 0, 0, 0, 0, 0, 1, 0, 0, 0, 0, 0, 0, 0, 0, 0, 0, 0, 0, 0, 0, 0, 0, 0, 0, 0, 0, 0, 0, 0, 0, 0, 0, 0, 0, 0, 0, 0, 0, 0, 0, 0, 2, 0, 0, 0, 0, 0, 0, 0, 0, 0, 0, 0, 0, 0, 0, 0, 0, 0, 0, 0, 0, 0, 0, 0, 0, 0, 0, 0, 0, 0, 0, 0, 0, 0, 0, 0, 0, 0, 0, 0, 0, 1, 0, 0, 0, 0, 0, 0, 0, 0, 0, 0, 0, 0, 0, 0, 0, 0, 0, 0, 0, 0, 0, 0, 0, 0, 0, 0, 0, 0, 0, 0, 0, 0, 0, 0, 0, 0, 0, 0, 0, 0, 0, 0, 0, 0, 0, 0, 0, 0, 0, 0, 0, 0, 0, 0, 0, 0, 0, 0, 0, 0, 0, 0, 0, 0, 0, 0, 0, 0, 0, 0, 0, 0, 0, 0, 0, 0, 0, 0, 0, 0, 0, 0, 0, 0, 0, 0, 0, 0, 0, 0, 0, 0, 0, 0, 0, 0, 0, 0, 0, 0, 0, 0, 0, 0, 0, 0, 0, 0, 0, 0, 0, 0, 0, 0, 0, 0, 0, 0, 0, 0, 0, 0, 0, 0, 0, 0, 0, 0, 0, 0, 0, 0, 0, 0, 0, 0, 0, 0, 0, 0, 0, 0, 0, 0, 0, 0, 0, 0, 0, 0, 0, 0, 0, 0, 0, 0, 0, 0, 0, 0, 0, 0, 0, 0, 0, 0, 0, 0, 0, 0, 0, 0, 0, 0, 0, 0, 0, 0, 0, 0, 0, 0, 0, 0, 0, 0, 0, 0, 0, 0, 0, 0, 0, 0, 0, 0, 0, 0, 0, 0, 0, 0, 0, 0, 0, 0, 0, 0, 0, 0, 0, 0, 0, 0, 0, 0, 0, 0, 0, 0, 0, 0, 0, 0, 0, 0, 0, 0, 0, 0, 0, 0, 0, 0, 0, 0, 0, 0, 0, 0, 0, 0, 0, 0, 0, 0, 0, 0, 0, 0, 0, 0, 0, 0, 0, 0, 0, 0, 0, 0, 0, 0, 0, 0, 0, 0, 0, 0, 0, 0, 0, 0, 0, 0, 0, 0, 0, 0, 0, 0, 0, 0, 0, 0, 0, 0, 0, 0, 0, 0, 0, 0, 0, 0, 0, 0, 0, 0, 0, 0, 0, 0, 0, 0, 0, 0, 0, 0, 0, 0, 0, 0, 0, 0, 0, 0, 0, 0, 0, 0, 0, 0, 0, 0, 0, 0, 0, 0, 0, 0, 0, 0, 0, 0, 0, 0, 0, 0, 0, 0, 0, 0, 0, 0, 0, 0, 0, 0, 0, 0, 0, 0, 0, 0, 0, 0, 0, 0, 0, 0, 0, 0, 0, 0, 0, 0, 0, 0, 0, 0, 0, 0, 0, 0, 0, 0, 0, 0, 0, 0, 0, 0, 0, 0, 0, 0, 0, 0, 0, 0, 0, 0, 0, 0, 0, 0, 0, 0, 0, 0, 0, 0, 0, 0, 0, 0, 0, 0, 0, 0, 0, 0, 0, 0, 0, 0, 0, 0, 0, 0, 0, 0, 0, 0, 0, 0, 0, 0, 0, 0, 0, 0, 0, 0, 0, 0, 0, 0, 0, 0, 0, 0, 0, 0, 0, 0, 0, 0, 0, 0, 0, 0, 0, 0, 0, 0, 0, 0, 0, 0, 0, 0, 0, 0, 0, 0, 0, 0, 0, 0, 0, 0, 0, 0, 0, 0, 0, 0, 0, 0, 0, 0, 0, 0, 0, 0, 0, 0, 0, 0, 0, 0, 0, 0, 0, 0, 0, 1, 0, 0, 0, 0, 0, 0, 0, 0, 0, 0, 0, 0, 0, 0, 0, 0, 0, 0, 0, 0, 0, 0, 0, 0, 0, 0, 0, 0, 0, 0, 0, 0, 0, 0, 0, 0, 0, 0, 0, 0, 0, 0, 0, 0, 0, 0, 0, 0, 0, 0, 0, 0, 0, 0, 0, 0, 0, 0, 0, 0, 0, 0, 0, 0, 0, 0, 0, 0, 0, 0, 0, 0, 0, 0, 0, 0, 0, 0, 0, 0, 0, 0, 0, 0, 0, 0, 0, 0, 0, 0, 0, 0, 0, 0, 0, 0, 0, 0, 0, 0, 0, 0, 0, 0, 0, 0, 0, 0, 0, 0, 2, 0, 0, 0, 0, 0, 0, 0, 0, 0, 0, 0, 0, 0, 0, 0, 0, 0, 0, 0, 0, 0, 0, 0, 0, 0, 0, 0, 0, 0, 0, 0, 0, 0, 0, 0, 0, 0, 0, 0, 0, 0, 0, 0, 0, 0, 0, 0, 0, 0, 0, 0, 0, 0, 0, 0, 0, 0, 0, 0, 0, 0, 0, 0, 0, 0, 0, 0, 0, 0, 0, 0, 0, 0, 0, 0, 0, 0, 0, 0, 0, 0, 0, 0, 0, 0, 0, 0, 0, 0, 0, 0, 0, 0, 0, 0, 0, 0, 0, 0, 0, 0, 0, 0, 0, 0, 0, 0, 0, 0, 0, 0, 0, 0, 0, 0, 0, 0, 0, 0, 0, 0, 0, 0, 0, 0, 0, 0, 0, 0, 0, 0, 0, 0, 0, 0, 0, 0, 0, 0, 0, 0, 0, 0, 0, 0, 0, 0, 0, 0, 0, 0, 0, 0, 0, 0, 0, 0, 0, 0, 0, 0, 0, 0, 0, 0, 0, 0, 0, 0, 0, 0, 0, 0, 0, 0, 0, 0, 0, 0, 0, 0, 0, 0, 0, 0, 0, 0, 0, 0, 0, 0, 0, 0, 0, 0, 0, 0, 0, 0, 0, 0, 0, 0, 0, 0, 0, 0, 0, 0, 0, 0, 0, 0, 0, 0, 0, 0, 0, 0, 0, 0, 0, 0, 0, 0, 0, 0, 0, 0, 0, 0, 0, 0, 0, 0, 0, 0, 0, 0, 0, 0, 0, 0, 0, 0, 0, 0, 0, 0, 0, 0, 0, 0, 0, 0, 0, 0, 0, 0, 0, 0, 0, 0, 0, 0, 0, 0, 0, 0, 0, 0, 0, 0, 0, 0, 0, 0, 0, 0, 0, 0, 0, 0, 0, 0, 0, 0, 0, 0, 0, 0, 0, 0, 0, 0, 0, 0, 0, 0, 0, 0, 0, 0, 0, 0, 0, 0, 0, 0, 0, 0, 0, 0, 0, 0, 0, 0, 0, 0, 0, 0, 0, 0, 0, 0, 0, 0, 0, 0, 0, 0, 0, 0, 0, 0, 0, 0, 0, 0, 0, 0, 0, 0, 0, 0, 0, 0, 0, 0, 0, 0, 0, 0, 0, 0, 0, 0, 0, 0, 0, 0, 0, 0, 0, 0, 0, 0, 0, 0, 0, 0, 0, 0, 0, 0, 0, 0, 0, 0, 0, 0, 0, 0, 0, 0, 0, 0, 0, 0, 0, 0, 0, 0, 0, 0, 0, 0, 0, 0, 0, 0, 0, 0, 0, 0, 0, 0, 0, 0, 0, 0, 0, 0, 0, 0, 0, 0, 0, 0, 0, 0, 0, 0, 0, 0, 0, 0, 0, 0, 0, 0, 0, 0, 0, 0, 0, 0, 0, 0, 0, 0, 0, 0, 0, 0, 0, 0, 0, 0, 0, 0, 0, 0, 0, 0, 0, 0, 0, 0, 0, 0, 0, 0, 0, 0, 0, 0, 0, 0, 0, 0, 0, 0, 0, 0, 0, 0, 0, 0, 0, 0, 0, 0, 0, 0, 0, 0, 0, 0, 0, 0, 0, 0, 0, 0, 0, 0, 0, 0, 0, 0, 0, 0, 0, 0, 0, 0, 0, 0, 0, 0, 0, 0, 0, 0, 0, 0, 0, 0, 0, 0, 0, 0, 0, 0, 0, 0, 0, 0, 0, 0, 0, 0, 0, 0, 0, 0, 0, 0, 0, 0, 0, 0, 0, 0, 0, 0, 0, 0, 0, 0, 0, 0, 0, 0, 0, 0, 0, 0, 0, 0, 0, 0, 0, 0, 0, 0, 0, 0, 0, 0, 0, 0, 0, 0, 0, 0, 0, 0, 0, 0, 0, 0, 0, 0, 0, 0, 0, 0, 0, 0, 0, 0, 0, 0, 0, 0, 0, 0, 0, 0, 0, 0, 0, 0, 0, 0, 0, 0, 0, 0, 0, 0, 0, 0, 0, 0, 0, 0, 0, 0, 0, 0, 0, 0, 0, 0, 0, 0, 0, 0, 0, 0, 0, 0, 0, 0, 0, 0, 0, 0, 0, 0, 0, 0, 0, 0, 0, 0, 0, 0, 0, 0, 0, 0, 0, 0, 0, 0, 0, 0, 0, 0, 0, 0, 0, 0, 0, 0, 0, 0, 0, 0, 0, 0, 0, 0, 0, 0, 0, 0, 0, 0, 0, 0, 0, 0, 0, 0, 0, 1, 0, 0, 0, 0, 0, 0, 0, 0, 0, 0, 0, 0, 0, 0, 0, 0, 0, 0, 0, 0, 0, 0, 0, 0, 0, 0, 0, 0, 0, 0, 0, 0, 0, 0, 0, 0, 0, 0, 0, 0, 0, 0, 0, 0, 0, 0, 0, 0, 0, 0, 0, 0, 0, 0, 0, 0, 0, 0, 0, 0, 0, 0, 0, 0, 0, 0, 0, 0, 0, 0, 0, 0, 0, 0, 0, 0, 0, 0, 0, 0, 0, 0, 0, 0, 0, 0, 0, 0, 0, 0, 0, 0, 0, 0, 0, 0, 0, 0, 0, 0, 0, 0, 0, 0, 0, 0, 0, 1, 0, 0, 0, 0, 0, 0, 0, 0, 0, 0, 0, 0, 0, 0, 0, 0, 0, 0, 0, 0, 0, 0, 0, 0, 0, 0, 0, 0, 0, 0, 0, 0, 0, 0, 0, 0, 0, 0, 0, 0, 0, 0, 0, 0, 0, 0, 0, 0, 0, 0, 0, 0, 0, 0, 0, 0, 0, 0, 0, 0, 0, 0, 0, 0, 0, 0, 0, 0, 0, 0, 0, 0, 0, 0, 0, 0, 0, 0, 0, 0, 0, 0, 0, 0, 0, 0, 0, 0, 0, 0, 0, 0, 0, 0, 0, 0, 0, 0, 0, 0, 0, 0, 0, 0, 0, 0, 0, 0, 0, 0, 0, 0, 0, 0, 0, 0, 0, 0, 0, 0, 0, 0, 0, 0, 0, 0, 0, 0, 0, 0, 0, 0, 0, 0, 0, 0, 0, 0, 0, 0, 0, 0, 0, 0, 0, 0, 0, 0, 0, 0, 0, 0, 0, 0, 0, 0, 0, 0, 0, 0, 0, 0, 0, 0, 0, 0, 0, 0, 0, 0, 0, 0, 0, 0, 0, 0, 0, 0, 0, 0, 0, 0, 0, 0, 0, 0, 0, 0, 0, 0, 0, 0, 0, 0, 0, 0, 0, 0, 0, 0, 0, 0, 0, 0, 0, 0, 0, 0, 0, 0, 0, 0, 0, 0, 0, 0, 0, 0, 0, 0, 0, 0, 0, 0, 0, 0, 0, 0, 0, 0, 0, 0, 0, 0, 0, 0, 0, 0, 0, 0, 0, 0, 0, 0, 0, 0, 0, 0, 0, 0, 0, 0, 0, 0, 0, 0, 0, 0, 0, 0, 0, 0, 0, 0, 0, 0, 0, 0, 0, 0, 0, 0, 0, 0, 0, 0, 0, 0, 0, 0, 0, 0, 0, 0, 0, 0, 0, 0, 0, 0, 0, 0, 0, 0, 0, 0, 0, 0, 0, 0, 0, 0, 0, 0, 0, 0, 0, 0, 0, 0, 0, 0, 0, 0, 0, 0, 0, 0, 0, 0, 0, 0, 0, 0, 0, 0, 0, 0, 0, 0, 0, 0, 0, 0, 0, 0, 0, 0, 0, 0, 0, 0, 0, 0, 0, 0, 0, 0, 0, 0, 0, 0, 0, 0, 0, 0, 0, 0, 0, 0, 0, 0, 0, 0, 0, 0, 0, 0, 0, 0, 0, 0, 0, 0, 0, 0, 0, 0, 0, 0, 0, 0, 0, 0, 0, 0, 0, 0, 0, 0, 0, 0, 0, 0, 0, 0, 0, 0, 0, 0, 0, 0, 0, 0, 0, 0, 0, 0, 0, 0, 0, 0, 0, 0, 0, 0, 0, 0, 0, 0, 0, 0, 0, 0, 0, 0, 0, 0, 0, 0, 0, 0, 0, 0, 0, 0, 0, 0, 0, 0, 0, 0, 0, 0, 0, 0, 0, 0, 0, 0, 0, 0, 0, 0, 0, 0, 0, 0, 0, 0, 0, 0, 0, 2, 0, 1, 0], type: <class 'list'>, valid types: <class 'bytes'>, <class 'bytearray'>, file-like object",
     "output_type": "error",
     "traceback": [
      "\u001b[0;31m---------------------------------------------------------------------------\u001b[0m",
      "\u001b[0;31mParamValidationError\u001b[0m                      Traceback (most recent call last)",
      "\u001b[0;32m<ipython-input-46-c9ab54ae3a48>\u001b[0m in \u001b[0;36m<module>\u001b[0;34m()\u001b[0m\n\u001b[1;32m      1\u001b[0m response = runtime.invoke_endpoint(EndpointName = xgb_predictor.endpoint, # The name of the endpoint we created\n\u001b[1;32m      2\u001b[0m                                        \u001b[0mContentType\u001b[0m \u001b[0;34m=\u001b[0m \u001b[0;34m'text/csv'\u001b[0m\u001b[0;34m,\u001b[0m                     \u001b[0;31m# The data format that is expected\u001b[0m\u001b[0;34m\u001b[0m\u001b[0m\n\u001b[0;32m----> 3\u001b[0;31m                                        Body = test_bow)\n\u001b[0m",
      "\u001b[0;32m~/anaconda3/envs/python3/lib/python3.6/site-packages/botocore/client.py\u001b[0m in \u001b[0;36m_api_call\u001b[0;34m(self, *args, **kwargs)\u001b[0m\n\u001b[1;32m    355\u001b[0m                     \"%s() only accepts keyword arguments.\" % py_operation_name)\n\u001b[1;32m    356\u001b[0m             \u001b[0;31m# The \"self\" in this scope is referring to the BaseClient.\u001b[0m\u001b[0;34m\u001b[0m\u001b[0;34m\u001b[0m\u001b[0m\n\u001b[0;32m--> 357\u001b[0;31m             \u001b[0;32mreturn\u001b[0m \u001b[0mself\u001b[0m\u001b[0;34m.\u001b[0m\u001b[0m_make_api_call\u001b[0m\u001b[0;34m(\u001b[0m\u001b[0moperation_name\u001b[0m\u001b[0;34m,\u001b[0m \u001b[0mkwargs\u001b[0m\u001b[0;34m)\u001b[0m\u001b[0;34m\u001b[0m\u001b[0m\n\u001b[0m\u001b[1;32m    358\u001b[0m \u001b[0;34m\u001b[0m\u001b[0m\n\u001b[1;32m    359\u001b[0m         \u001b[0m_api_call\u001b[0m\u001b[0;34m.\u001b[0m\u001b[0m__name__\u001b[0m \u001b[0;34m=\u001b[0m \u001b[0mstr\u001b[0m\u001b[0;34m(\u001b[0m\u001b[0mpy_operation_name\u001b[0m\u001b[0;34m)\u001b[0m\u001b[0;34m\u001b[0m\u001b[0m\n",
      "\u001b[0;32m~/anaconda3/envs/python3/lib/python3.6/site-packages/botocore/client.py\u001b[0m in \u001b[0;36m_make_api_call\u001b[0;34m(self, operation_name, api_params)\u001b[0m\n\u001b[1;32m    632\u001b[0m         }\n\u001b[1;32m    633\u001b[0m         request_dict = self._convert_to_request_dict(\n\u001b[0;32m--> 634\u001b[0;31m             api_params, operation_model, context=request_context)\n\u001b[0m\u001b[1;32m    635\u001b[0m \u001b[0;34m\u001b[0m\u001b[0m\n\u001b[1;32m    636\u001b[0m         \u001b[0mservice_id\u001b[0m \u001b[0;34m=\u001b[0m \u001b[0mself\u001b[0m\u001b[0;34m.\u001b[0m\u001b[0m_service_model\u001b[0m\u001b[0;34m.\u001b[0m\u001b[0mservice_id\u001b[0m\u001b[0;34m.\u001b[0m\u001b[0mhyphenize\u001b[0m\u001b[0;34m(\u001b[0m\u001b[0;34m)\u001b[0m\u001b[0;34m\u001b[0m\u001b[0m\n",
      "\u001b[0;32m~/anaconda3/envs/python3/lib/python3.6/site-packages/botocore/client.py\u001b[0m in \u001b[0;36m_convert_to_request_dict\u001b[0;34m(self, api_params, operation_model, context)\u001b[0m\n\u001b[1;32m    680\u001b[0m             api_params, operation_model, context)\n\u001b[1;32m    681\u001b[0m         request_dict = self._serializer.serialize_to_request(\n\u001b[0;32m--> 682\u001b[0;31m             api_params, operation_model)\n\u001b[0m\u001b[1;32m    683\u001b[0m         \u001b[0;32mif\u001b[0m \u001b[0;32mnot\u001b[0m \u001b[0mself\u001b[0m\u001b[0;34m.\u001b[0m\u001b[0m_client_config\u001b[0m\u001b[0;34m.\u001b[0m\u001b[0minject_host_prefix\u001b[0m\u001b[0;34m:\u001b[0m\u001b[0;34m\u001b[0m\u001b[0m\n\u001b[1;32m    684\u001b[0m             \u001b[0mrequest_dict\u001b[0m\u001b[0;34m.\u001b[0m\u001b[0mpop\u001b[0m\u001b[0;34m(\u001b[0m\u001b[0;34m'host_prefix'\u001b[0m\u001b[0;34m,\u001b[0m \u001b[0;32mNone\u001b[0m\u001b[0;34m)\u001b[0m\u001b[0;34m\u001b[0m\u001b[0m\n",
      "\u001b[0;32m~/anaconda3/envs/python3/lib/python3.6/site-packages/botocore/validate.py\u001b[0m in \u001b[0;36mserialize_to_request\u001b[0;34m(self, parameters, operation_model)\u001b[0m\n\u001b[1;32m    295\u001b[0m                                                     operation_model.input_shape)\n\u001b[1;32m    296\u001b[0m             \u001b[0;32mif\u001b[0m \u001b[0mreport\u001b[0m\u001b[0;34m.\u001b[0m\u001b[0mhas_errors\u001b[0m\u001b[0;34m(\u001b[0m\u001b[0;34m)\u001b[0m\u001b[0;34m:\u001b[0m\u001b[0;34m\u001b[0m\u001b[0m\n\u001b[0;32m--> 297\u001b[0;31m                 \u001b[0;32mraise\u001b[0m \u001b[0mParamValidationError\u001b[0m\u001b[0;34m(\u001b[0m\u001b[0mreport\u001b[0m\u001b[0;34m=\u001b[0m\u001b[0mreport\u001b[0m\u001b[0;34m.\u001b[0m\u001b[0mgenerate_report\u001b[0m\u001b[0;34m(\u001b[0m\u001b[0;34m)\u001b[0m\u001b[0;34m)\u001b[0m\u001b[0;34m\u001b[0m\u001b[0m\n\u001b[0m\u001b[1;32m    298\u001b[0m         return self._serializer.serialize_to_request(parameters,\n\u001b[1;32m    299\u001b[0m                                                      operation_model)\n",
      "\u001b[0;31mParamValidationError\u001b[0m: Parameter validation failed:\nInvalid type for parameter Body, value: [0, 0, 0, 0, 0, 0, 0, 0, 0, 0, 0, 0, 0, 0, 0, 0, 0, 0, 0, 0, 0, 0, 0, 0, 0, 0, 0, 0, 0, 0, 0, 0, 0, 0, 0, 0, 0, 0, 0, 0, 0, 0, 0, 0, 0, 0, 0, 0, 0, 0, 0, 0, 0, 0, 0, 0, 0, 0, 0, 0, 0, 0, 0, 0, 0, 0, 0, 0, 0, 0, 0, 0, 0, 0, 0, 0, 0, 0, 0, 0, 0, 0, 0, 0, 0, 0, 0, 0, 0, 0, 0, 0, 0, 0, 0, 0, 0, 0, 0, 0, 0, 0, 0, 0, 0, 0, 0, 0, 0, 0, 0, 0, 0, 0, 0, 0, 0, 0, 0, 0, 0, 0, 0, 0, 0, 0, 0, 0, 0, 0, 0, 0, 0, 0, 0, 0, 0, 0, 0, 0, 0, 0, 0, 0, 0, 0, 0, 0, 0, 0, 0, 0, 0, 0, 0, 0, 0, 0, 0, 0, 0, 0, 0, 0, 0, 0, 0, 0, 0, 0, 0, 0, 0, 0, 0, 0, 0, 0, 0, 0, 0, 0, 0, 0, 0, 0, 0, 0, 0, 0, 0, 0, 0, 0, 0, 0, 0, 0, 0, 0, 0, 0, 0, 0, 0, 0, 0, 0, 0, 0, 0, 0, 0, 0, 0, 0, 0, 0, 0, 0, 0, 0, 0, 0, 0, 0, 1, 0, 0, 0, 0, 0, 0, 0, 0, 0, 0, 0, 0, 0, 0, 0, 0, 0, 0, 0, 0, 0, 0, 0, 0, 0, 0, 0, 0, 0, 1, 0, 0, 0, 0, 0, 0, 0, 0, 0, 0, 0, 0, 0, 0, 0, 0, 0, 0, 0, 0, 0, 0, 0, 0, 0, 0, 0, 0, 0, 0, 0, 0, 0, 0, 0, 0, 0, 0, 0, 0, 0, 0, 0, 0, 0, 0, 0, 0, 0, 0, 0, 0, 0, 0, 0, 0, 0, 0, 0, 0, 0, 0, 0, 0, 0, 0, 0, 0, 0, 0, 0, 0, 0, 0, 0, 0, 0, 0, 0, 0, 0, 0, 0, 0, 0, 0, 0, 0, 0, 0, 0, 0, 0, 0, 0, 0, 0, 0, 0, 0, 0, 0, 0, 0, 0, 0, 0, 0, 0, 0, 0, 0, 0, 0, 0, 0, 0, 0, 0, 0, 0, 0, 0, 0, 0, 0, 0, 0, 0, 0, 0, 0, 0, 0, 0, 0, 0, 0, 0, 0, 0, 0, 0, 0, 0, 0, 0, 0, 0, 0, 0, 0, 0, 0, 0, 0, 0, 0, 0, 0, 0, 0, 0, 0, 0, 0, 0, 0, 0, 0, 0, 0, 0, 0, 0, 0, 0, 0, 0, 0, 0, 0, 0, 0, 0, 0, 0, 0, 0, 0, 0, 0, 0, 0, 0, 0, 0, 0, 0, 0, 0, 0, 0, 0, 0, 0, 0, 0, 0, 0, 0, 0, 0, 0, 0, 0, 0, 0, 0, 0, 0, 0, 0, 0, 0, 0, 0, 0, 0, 0, 0, 0, 0, 0, 0, 0, 0, 0, 0, 0, 0, 0, 0, 0, 0, 0, 0, 0, 0, 0, 0, 0, 0, 0, 0, 0, 0, 0, 0, 0, 0, 0, 0, 0, 0, 0, 0, 0, 0, 0, 0, 0, 0, 0, 0, 0, 0, 0, 0, 0, 0, 0, 0, 0, 0, 0, 0, 0, 0, 0, 0, 0, 0, 0, 0, 0, 0, 0, 0, 0, 0, 0, 0, 0, 0, 0, 0, 0, 0, 0, 0, 0, 0, 0, 0, 0, 0, 0, 0, 0, 0, 0, 0, 0, 0, 0, 0, 0, 0, 0, 0, 0, 0, 0, 0, 0, 0, 0, 0, 0, 0, 0, 0, 0, 0, 0, 0, 0, 0, 0, 0, 0, 0, 0, 0, 0, 0, 0, 0, 0, 0, 0, 0, 0, 0, 0, 0, 0, 0, 0, 0, 0, 0, 0, 0, 0, 0, 0, 0, 1, 0, 0, 0, 0, 0, 0, 0, 0, 0, 0, 0, 0, 0, 0, 0, 0, 0, 0, 0, 0, 0, 0, 0, 0, 0, 0, 0, 0, 0, 0, 0, 0, 0, 0, 0, 0, 0, 0, 0, 0, 0, 0, 0, 0, 0, 0, 0, 0, 0, 0, 0, 0, 0, 0, 0, 0, 0, 0, 0, 0, 0, 0, 0, 0, 0, 0, 0, 0, 0, 0, 0, 0, 0, 0, 0, 0, 0, 0, 0, 0, 0, 0, 0, 0, 0, 0, 0, 0, 0, 0, 0, 0, 0, 0, 0, 0, 0, 0, 0, 0, 0, 0, 0, 0, 0, 0, 0, 0, 0, 0, 0, 0, 0, 0, 0, 0, 0, 0, 0, 0, 0, 0, 0, 0, 0, 0, 0, 0, 0, 0, 0, 0, 0, 0, 0, 0, 0, 0, 0, 0, 0, 0, 0, 0, 0, 0, 0, 0, 0, 0, 0, 0, 0, 0, 0, 0, 0, 0, 0, 0, 0, 0, 0, 0, 0, 0, 0, 0, 0, 0, 0, 0, 0, 0, 0, 0, 0, 0, 0, 0, 0, 0, 0, 0, 0, 0, 0, 0, 0, 0, 0, 0, 0, 0, 0, 0, 0, 0, 0, 0, 0, 0, 0, 0, 0, 0, 0, 0, 0, 0, 0, 0, 0, 0, 0, 0, 0, 0, 0, 0, 0, 0, 0, 0, 0, 0, 0, 0, 0, 0, 0, 0, 0, 0, 0, 0, 0, 0, 0, 0, 0, 0, 0, 0, 0, 0, 0, 0, 0, 0, 0, 0, 0, 1, 0, 0, 0, 0, 0, 0, 0, 0, 0, 0, 0, 0, 0, 0, 0, 0, 0, 0, 0, 0, 0, 0, 0, 0, 0, 0, 0, 0, 0, 0, 0, 0, 0, 0, 0, 0, 0, 0, 0, 0, 0, 0, 0, 0, 0, 0, 0, 0, 0, 0, 0, 0, 0, 0, 0, 0, 0, 0, 0, 0, 0, 0, 0, 0, 0, 0, 0, 0, 0, 0, 0, 0, 0, 0, 0, 0, 0, 0, 0, 0, 0, 0, 0, 0, 0, 0, 1, 0, 0, 0, 0, 0, 0, 0, 0, 0, 0, 0, 0, 0, 0, 0, 0, 0, 0, 0, 0, 0, 0, 0, 0, 0, 0, 0, 0, 0, 0, 0, 0, 0, 0, 0, 0, 0, 0, 0, 0, 0, 0, 0, 0, 0, 0, 0, 0, 0, 0, 0, 0, 0, 0, 0, 0, 0, 0, 0, 0, 0, 0, 0, 0, 0, 0, 0, 0, 0, 0, 0, 0, 0, 0, 0, 0, 0, 0, 0, 0, 0, 0, 0, 0, 0, 0, 0, 0, 0, 0, 0, 0, 0, 0, 0, 0, 0, 0, 0, 0, 0, 0, 0, 0, 0, 0, 0, 0, 0, 0, 0, 0, 0, 0, 0, 0, 0, 0, 0, 0, 0, 0, 0, 0, 0, 0, 0, 0, 0, 0, 0, 0, 0, 0, 0, 0, 0, 0, 0, 0, 0, 0, 0, 0, 0, 0, 0, 0, 0, 0, 0, 0, 0, 0, 0, 0, 0, 0, 0, 0, 0, 0, 0, 0, 0, 0, 0, 0, 0, 0, 0, 0, 0, 0, 0, 0, 0, 0, 0, 0, 0, 0, 0, 0, 0, 0, 0, 0, 0, 0, 0, 0, 0, 0, 0, 0, 0, 0, 0, 0, 0, 0, 0, 0, 0, 0, 0, 0, 0, 0, 0, 0, 0, 0, 0, 0, 0, 0, 0, 0, 0, 0, 0, 0, 0, 0, 0, 0, 0, 0, 0, 0, 0, 0, 0, 0, 0, 0, 0, 0, 0, 0, 0, 0, 0, 0, 0, 0, 0, 0, 0, 0, 1, 0, 0, 0, 0, 0, 0, 0, 0, 0, 0, 0, 0, 0, 0, 0, 0, 0, 0, 0, 0, 0, 0, 0, 0, 0, 0, 0, 0, 0, 0, 0, 0, 0, 0, 0, 0, 0, 0, 0, 0, 0, 0, 0, 0, 0, 0, 0, 0, 0, 0, 0, 0, 0, 0, 0, 1, 0, 0, 0, 0, 0, 0, 0, 0, 0, 0, 0, 0, 0, 0, 0, 0, 0, 0, 0, 0, 0, 0, 0, 0, 0, 0, 0, 0, 0, 0, 0, 0, 0, 0, 0, 0, 0, 0, 0, 0, 0, 0, 0, 0, 0, 0, 0, 0, 0, 0, 0, 0, 0, 0, 0, 0, 0, 0, 0, 0, 0, 0, 0, 0, 0, 0, 0, 0, 0, 0, 0, 0, 0, 0, 0, 0, 0, 0, 0, 0, 0, 0, 0, 0, 0, 0, 0, 0, 0, 0, 0, 0, 0, 0, 0, 0, 0, 0, 0, 0, 0, 0, 0, 0, 0, 0, 0, 0, 0, 0, 0, 0, 0, 0, 0, 0, 0, 0, 0, 0, 0, 0, 0, 0, 0, 0, 0, 0, 0, 0, 0, 0, 0, 0, 0, 0, 0, 0, 0, 0, 0, 0, 0, 0, 0, 0, 0, 0, 0, 0, 0, 0, 0, 0, 0, 0, 0, 0, 0, 0, 0, 0, 0, 0, 0, 0, 0, 0, 0, 0, 0, 0, 0, 0, 0, 0, 0, 0, 0, 0, 0, 0, 0, 0, 0, 0, 0, 0, 0, 0, 0, 0, 0, 0, 0, 0, 0, 0, 0, 0, 0, 0, 0, 0, 0, 0, 0, 0, 0, 0, 0, 0, 0, 0, 0, 0, 0, 0, 0, 0, 0, 0, 0, 0, 0, 0, 0, 0, 0, 0, 0, 0, 0, 0, 0, 0, 0, 0, 0, 0, 0, 0, 0, 0, 0, 0, 0, 0, 0, 0, 0, 0, 0, 0, 0, 0, 0, 0, 0, 0, 0, 0, 0, 0, 0, 0, 0, 0, 0, 0, 0, 0, 0, 0, 0, 0, 0, 0, 0, 0, 0, 0, 0, 0, 0, 0, 0, 0, 0, 0, 0, 0, 0, 0, 0, 0, 0, 0, 0, 0, 0, 0, 0, 0, 0, 0, 0, 0, 0, 0, 0, 0, 0, 0, 0, 0, 0, 0, 0, 0, 0, 0, 0, 0, 0, 0, 0, 0, 0, 0, 0, 0, 0, 0, 0, 0, 0, 0, 0, 0, 0, 0, 0, 0, 0, 0, 0, 0, 0, 0, 0, 0, 0, 0, 0, 0, 0, 0, 0, 0, 0, 0, 0, 0, 0, 0, 0, 0, 0, 0, 0, 0, 0, 0, 0, 0, 0, 0, 0, 0, 0, 0, 0, 0, 0, 0, 0, 0, 0, 0, 0, 0, 0, 0, 0, 0, 0, 0, 0, 0, 0, 0, 0, 0, 0, 0, 0, 0, 0, 0, 0, 0, 0, 0, 0, 0, 0, 0, 0, 0, 0, 0, 0, 0, 0, 0, 0, 0, 0, 0, 0, 0, 0, 0, 0, 0, 0, 0, 0, 0, 0, 0, 0, 0, 0, 0, 0, 0, 0, 0, 0, 0, 0, 0, 0, 0, 0, 0, 0, 0, 0, 0, 0, 0, 0, 0, 0, 0, 0, 0, 0, 0, 0, 0, 0, 0, 0, 0, 0, 0, 0, 0, 0, 0, 0, 0, 0, 0, 0, 0, 0, 0, 0, 0, 0, 0, 0, 0, 0, 0, 0, 0, 0, 0, 0, 0, 0, 0, 0, 0, 0, 0, 0, 0, 0, 0, 0, 0, 0, 0, 0, 0, 0, 0, 0, 0, 0, 0, 0, 0, 0, 0, 0, 0, 0, 0, 0, 0, 0, 0, 0, 0, 0, 0, 0, 0, 0, 0, 0, 0, 0, 0, 0, 0, 0, 0, 0, 0, 0, 0, 0, 0, 0, 0, 0, 0, 0, 0, 0, 0, 0, 0, 0, 0, 0, 0, 0, 0, 0, 0, 0, 0, 0, 0, 0, 0, 0, 0, 0, 0, 0, 0, 0, 0, 0, 0, 0, 0, 0, 0, 0, 0, 0, 0, 0, 0, 0, 0, 0, 0, 0, 0, 0, 0, 0, 0, 0, 0, 0, 0, 0, 0, 0, 0, 0, 0, 0, 0, 0, 0, 0, 0, 0, 0, 0, 0, 0, 0, 0, 0, 0, 0, 0, 0, 0, 0, 0, 0, 0, 0, 0, 0, 0, 0, 0, 0, 0, 0, 0, 0, 0, 0, 0, 0, 0, 0, 0, 0, 0, 0, 0, 0, 0, 0, 0, 0, 0, 0, 0, 0, 0, 1, 0, 0, 0, 0, 0, 0, 0, 0, 0, 0, 0, 0, 0, 0, 0, 0, 0, 0, 0, 0, 0, 0, 0, 0, 0, 0, 0, 0, 0, 0, 0, 0, 0, 0, 0, 0, 0, 0, 0, 0, 0, 0, 0, 0, 0, 0, 0, 0, 0, 0, 0, 0, 0, 0, 0, 0, 0, 0, 0, 0, 0, 0, 0, 0, 0, 0, 0, 0, 0, 0, 0, 0, 0, 0, 1, 0, 0, 0, 0, 0, 0, 0, 0, 0, 0, 0, 0, 0, 0, 0, 0, 0, 0, 0, 0, 1, 0, 0, 1, 0, 0, 0, 0, 0, 0, 0, 0, 0, 0, 0, 0, 0, 0, 0, 0, 0, 0, 0, 0, 0, 0, 0, 0, 0, 0, 0, 0, 0, 0, 0, 0, 0, 0, 0, 0, 0, 0, 0, 0, 0, 0, 0, 0, 0, 0, 0, 0, 0, 0, 0, 0, 0, 0, 0, 0, 0, 0, 0, 0, 0, 0, 0, 0, 0, 0, 0, 0, 0, 0, 0, 0, 0, 0, 0, 0, 0, 0, 0, 0, 0, 0, 0, 0, 0, 0, 0, 0, 0, 0, 0, 0, 0, 0, 0, 0, 0, 0, 0, 0, 0, 0, 0, 0, 0, 0, 0, 0, 0, 0, 0, 0, 0, 0, 0, 0, 0, 0, 0, 0, 0, 0, 0, 0, 0, 0, 0, 0, 0, 0, 0, 0, 0, 0, 0, 0, 0, 0, 0, 0, 0, 0, 0, 0, 0, 0, 0, 0, 0, 0, 0, 0, 0, 0, 0, 0, 0, 0, 0, 0, 0, 0, 0, 0, 0, 0, 0, 0, 0, 0, 0, 0, 0, 0, 0, 0, 0, 0, 0, 0, 0, 0, 0, 0, 0, 0, 0, 0, 0, 0, 0, 0, 0, 0, 0, 0, 0, 0, 0, 0, 0, 0, 0, 0, 0, 0, 0, 0, 0, 0, 0, 0, 0, 0, 0, 0, 0, 0, 0, 0, 0, 0, 0, 0, 0, 0, 0, 0, 0, 0, 0, 0, 0, 0, 0, 0, 0, 0, 0, 0, 0, 0, 0, 0, 0, 0, 0, 0, 0, 0, 0, 0, 0, 0, 0, 0, 0, 0, 0, 0, 0, 0, 0, 0, 0, 0, 0, 0, 0, 0, 0, 0, 0, 0, 0, 0, 0, 0, 0, 0, 0, 0, 0, 0, 0, 0, 0, 0, 0, 0, 0, 0, 0, 0, 0, 0, 0, 0, 0, 0, 0, 0, 0, 0, 0, 0, 0, 0, 0, 0, 0, 0, 0, 0, 0, 0, 0, 0, 0, 0, 0, 0, 0, 0, 0, 0, 0, 0, 0, 0, 0, 0, 0, 0, 0, 0, 0, 0, 0, 0, 0, 0, 0, 0, 0, 0, 0, 0, 0, 0, 0, 0, 0, 0, 0, 0, 0, 0, 0, 0, 0, 0, 0, 0, 0, 0, 0, 0, 0, 0, 0, 0, 0, 0, 0, 0, 0, 0, 0, 0, 0, 0, 0, 0, 0, 0, 0, 0, 0, 0, 0, 0, 0, 0, 0, 0, 0, 0, 0, 0, 0, 0, 0, 0, 0, 0, 0, 0, 0, 0, 0, 0, 0, 0, 0, 0, 0, 0, 0, 0, 0, 0, 0, 0, 0, 0, 0, 0, 0, 0, 0, 0, 0, 0, 0, 0, 0, 0, 0, 0, 0, 0, 0, 0, 0, 0, 0, 0, 0, 0, 0, 0, 0, 0, 0, 0, 0, 0, 0, 0, 0, 0, 0, 0, 0, 0, 1, 0, 0, 0, 0, 0, 0, 0, 0, 0, 0, 0, 0, 0, 0, 0, 0, 0, 0, 0, 0, 0, 0, 0, 0, 0, 0, 0, 0, 0, 0, 0, 0, 0, 0, 0, 0, 0, 0, 0, 0, 0, 0, 0, 0, 0, 0, 0, 0, 0, 0, 0, 0, 0, 0, 0, 0, 0, 0, 0, 0, 0, 0, 0, 0, 0, 0, 0, 0, 0, 0, 0, 0, 0, 0, 0, 0, 0, 0, 0, 0, 0, 0, 0, 0, 0, 0, 0, 0, 0, 0, 0, 0, 0, 0, 0, 0, 0, 0, 0, 0, 0, 0, 0, 0, 0, 0, 0, 0, 0, 0, 0, 0, 0, 0, 0, 0, 0, 0, 0, 0, 0, 0, 0, 0, 0, 0, 0, 0, 0, 0, 0, 0, 0, 0, 0, 0, 0, 0, 0, 0, 0, 0, 0, 0, 0, 0, 0, 0, 0, 0, 0, 0, 0, 0, 0, 0, 0, 0, 0, 0, 0, 0, 0, 0, 0, 0, 0, 0, 0, 0, 0, 0, 0, 0, 0, 0, 0, 0, 0, 0, 0, 0, 0, 0, 0, 0, 0, 0, 0, 0, 0, 0, 0, 0, 0, 0, 0, 0, 0, 0, 0, 0, 0, 0, 0, 0, 0, 0, 0, 0, 0, 0, 0, 0, 0, 0, 0, 0, 0, 0, 0, 0, 0, 0, 0, 0, 0, 0, 0, 0, 0, 0, 0, 0, 0, 0, 0, 0, 0, 0, 0, 0, 0, 0, 0, 0, 0, 0, 0, 0, 0, 0, 0, 0, 0, 0, 0, 0, 0, 0, 0, 0, 0, 0, 0, 0, 0, 0, 0, 0, 0, 0, 0, 0, 0, 0, 0, 0, 0, 0, 0, 0, 0, 0, 0, 0, 0, 0, 0, 0, 0, 0, 0, 0, 0, 0, 0, 0, 0, 0, 0, 0, 0, 0, 0, 0, 0, 0, 0, 0, 0, 0, 0, 0, 0, 0, 0, 0, 0, 0, 0, 0, 0, 0, 0, 0, 0, 0, 0, 0, 0, 0, 0, 0, 0, 0, 0, 0, 0, 0, 0, 0, 0, 0, 0, 0, 0, 0, 0, 0, 0, 0, 0, 0, 0, 0, 0, 0, 0, 0, 0, 0, 0, 0, 0, 0, 0, 0, 0, 0, 0, 0, 0, 0, 0, 0, 0, 0, 0, 0, 0, 0, 0, 0, 0, 0, 0, 0, 0, 0, 0, 0, 0, 0, 0, 0, 0, 0, 0, 0, 0, 0, 0, 0, 0, 0, 0, 0, 0, 0, 0, 0, 0, 0, 0, 0, 0, 0, 0, 0, 0, 0, 0, 0, 0, 0, 0, 0, 0, 0, 0, 0, 0, 0, 0, 0, 0, 0, 0, 0, 0, 0, 0, 0, 0, 0, 0, 0, 0, 0, 0, 0, 0, 0, 0, 0, 0, 0, 0, 0, 0, 0, 0, 0, 0, 0, 0, 0, 0, 0, 0, 0, 0, 0, 0, 0, 0, 0, 0, 0, 0, 0, 0, 0, 0, 0, 0, 0, 0, 0, 0, 0, 0, 0, 0, 0, 0, 0, 0, 0, 0, 0, 0, 0, 0, 0, 0, 0, 0, 0, 0, 0, 1, 0, 0, 0, 0, 0, 0, 0, 0, 0, 0, 0, 0, 0, 0, 0, 0, 0, 0, 0, 0, 0, 0, 0, 0, 0, 0, 0, 0, 0, 0, 0, 0, 0, 0, 0, 2, 0, 0, 0, 0, 0, 0, 0, 0, 0, 0, 0, 0, 0, 0, 0, 0, 0, 0, 0, 0, 0, 0, 0, 0, 0, 0, 0, 0, 0, 0, 0, 0, 0, 0, 0, 0, 0, 0, 0, 0, 1, 0, 0, 0, 0, 0, 0, 0, 0, 0, 0, 0, 0, 0, 0, 0, 0, 0, 0, 0, 0, 0, 0, 0, 0, 0, 0, 0, 0, 0, 0, 0, 0, 0, 0, 0, 0, 0, 0, 0, 0, 0, 0, 0, 0, 0, 0, 0, 0, 0, 0, 0, 0, 0, 0, 0, 0, 0, 0, 0, 0, 0, 0, 0, 0, 0, 0, 0, 0, 0, 0, 0, 0, 0, 0, 0, 0, 0, 0, 0, 0, 0, 0, 0, 0, 0, 0, 0, 0, 0, 0, 0, 0, 0, 0, 0, 0, 0, 0, 0, 0, 0, 0, 0, 0, 0, 0, 0, 0, 0, 0, 0, 0, 0, 0, 0, 0, 0, 0, 0, 0, 0, 0, 0, 0, 0, 0, 0, 0, 0, 0, 0, 0, 0, 0, 0, 0, 0, 0, 0, 0, 0, 0, 0, 0, 0, 0, 0, 0, 0, 0, 0, 0, 0, 0, 0, 0, 0, 0, 0, 0, 0, 0, 0, 0, 0, 0, 0, 0, 0, 0, 0, 0, 0, 0, 0, 0, 0, 0, 0, 0, 0, 0, 0, 0, 0, 0, 0, 0, 0, 0, 0, 0, 0, 0, 0, 0, 0, 0, 0, 0, 0, 0, 0, 0, 0, 0, 0, 0, 0, 0, 0, 0, 0, 0, 0, 0, 0, 0, 0, 0, 0, 0, 0, 0, 0, 0, 0, 0, 0, 0, 0, 0, 0, 0, 0, 0, 0, 0, 0, 0, 0, 0, 0, 0, 0, 0, 0, 0, 0, 0, 0, 0, 0, 0, 0, 0, 0, 0, 0, 0, 0, 0, 0, 0, 0, 0, 0, 0, 0, 0, 0, 0, 0, 0, 0, 0, 0, 0, 0, 0, 0, 0, 0, 0, 0, 0, 0, 0, 0, 0, 0, 0, 0, 0, 0, 0, 0, 0, 0, 0, 0, 0, 0, 0, 0, 0, 0, 0, 0, 0, 0, 0, 0, 0, 0, 0, 0, 0, 0, 0, 0, 0, 0, 0, 0, 0, 0, 0, 0, 0, 0, 0, 0, 0, 0, 0, 0, 0, 0, 0, 0, 0, 0, 0, 0, 0, 0, 0, 0, 0, 0, 0, 0, 0, 0, 0, 0, 0, 0, 0, 0, 0, 0, 0, 0, 0, 0, 0, 0, 0, 0, 0, 0, 0, 0, 0, 0, 0, 0, 0, 0, 0, 0, 0, 0, 0, 0, 0, 0, 0, 0, 0, 0, 0, 0, 0, 0, 0, 0, 0, 0, 0, 0, 0, 0, 0, 0, 0, 0, 0, 0, 0, 0, 0, 0, 0, 0, 0, 0, 0, 0, 0, 0, 0, 0, 0, 0, 0, 0, 0, 0, 0, 0, 0, 0, 0, 0, 0, 0, 0, 0, 0, 0, 0, 0, 0, 0, 0, 0, 0, 0, 0, 0, 0, 0, 0, 0, 0, 0, 0, 0, 0, 0, 0, 0, 0, 0, 0, 0, 0, 0, 0, 0, 0, 0, 0, 0, 0, 0, 0, 0, 0, 0, 0, 0, 0, 0, 0, 0, 0, 0, 0, 0, 0, 0, 0, 0, 1, 0, 0, 0, 0, 0, 0, 0, 0, 0, 0, 0, 0, 0, 0, 0, 0, 0, 0, 0, 0, 0, 0, 0, 0, 0, 0, 0, 0, 0, 0, 0, 0, 0, 0, 0, 0, 0, 0, 0, 0, 0, 0, 0, 0, 0, 0, 0, 0, 0, 0, 0, 0, 0, 0, 0, 0, 0, 0, 0, 0, 0, 0, 0, 0, 0, 0, 0, 0, 0, 0, 0, 0, 0, 0, 0, 0, 0, 0, 0, 0, 0, 0, 0, 0, 0, 0, 0, 0, 0, 0, 0, 0, 0, 0, 0, 0, 0, 0, 0, 0, 0, 0, 0, 0, 0, 0, 0, 0, 0, 0, 2, 0, 0, 0, 0, 0, 0, 0, 0, 0, 0, 0, 0, 0, 0, 0, 0, 0, 0, 0, 0, 0, 0, 0, 0, 0, 0, 0, 0, 0, 0, 0, 0, 0, 0, 0, 0, 0, 0, 0, 0, 0, 0, 0, 0, 0, 0, 0, 0, 0, 0, 0, 0, 0, 0, 0, 0, 0, 0, 0, 0, 0, 0, 0, 0, 0, 0, 0, 0, 0, 0, 0, 0, 0, 0, 0, 0, 0, 0, 0, 0, 0, 0, 0, 0, 0, 0, 0, 0, 0, 0, 0, 0, 0, 0, 0, 0, 0, 0, 0, 0, 0, 0, 0, 0, 0, 0, 0, 0, 0, 0, 0, 0, 0, 0, 0, 0, 0, 0, 0, 0, 0, 0, 0, 0, 0, 0, 0, 0, 0, 0, 0, 0, 0, 0, 0, 0, 0, 0, 0, 0, 0, 0, 0, 0, 0, 0, 0, 0, 0, 0, 0, 0, 0, 0, 0, 0, 0, 0, 0, 0, 0, 0, 0, 0, 0, 0, 0, 0, 0, 0, 0, 0, 0, 0, 0, 0, 0, 0, 0, 0, 0, 0, 0, 0, 0, 0, 0, 0, 0, 0, 0, 0, 0, 0, 0, 0, 0, 0, 0, 0, 0, 0, 0, 0, 0, 0, 0, 0, 0, 0, 0, 0, 0, 0, 0, 0, 0, 0, 0, 0, 0, 0, 0, 0, 0, 0, 0, 0, 0, 0, 0, 0, 0, 0, 0, 0, 0, 0, 0, 0, 0, 0, 0, 0, 0, 0, 0, 0, 0, 0, 0, 0, 0, 0, 0, 0, 0, 0, 0, 0, 0, 0, 0, 0, 0, 0, 0, 0, 0, 0, 0, 0, 0, 0, 0, 0, 0, 0, 0, 0, 0, 0, 0, 0, 0, 0, 0, 0, 0, 0, 0, 0, 0, 0, 0, 0, 0, 0, 0, 0, 0, 0, 0, 0, 0, 0, 0, 0, 0, 0, 0, 0, 0, 0, 0, 0, 0, 0, 0, 0, 0, 0, 0, 0, 0, 0, 0, 0, 0, 0, 0, 0, 0, 0, 0, 0, 0, 0, 0, 0, 0, 0, 0, 0, 0, 0, 0, 0, 0, 0, 0, 0, 0, 0, 0, 0, 0, 0, 0, 0, 0, 0, 0, 0, 0, 0, 0, 0, 0, 0, 0, 0, 0, 0, 0, 0, 0, 0, 0, 0, 0, 0, 0, 0, 0, 0, 0, 0, 0, 0, 0, 0, 0, 0, 0, 0, 0, 0, 0, 0, 0, 0, 0, 0, 0, 0, 0, 0, 0, 0, 0, 0, 0, 0, 0, 0, 0, 0, 0, 0, 0, 0, 0, 0, 0, 0, 0, 0, 0, 0, 0, 0, 0, 0, 0, 0, 0, 0, 0, 0, 0, 0, 0, 0, 0, 0, 0, 0, 0, 0, 0, 0, 0, 0, 0, 0, 0, 0, 0, 0, 0, 0, 0, 0, 0, 0, 0, 0, 0, 0, 0, 0, 0, 0, 0, 0, 0, 0, 0, 0, 0, 0, 0, 0, 0, 0, 0, 0, 0, 0, 0, 0, 0, 0, 0, 0, 0, 0, 0, 0, 0, 0, 0, 0, 0, 0, 0, 0, 0, 0, 0, 0, 0, 0, 0, 0, 0, 0, 0, 0, 0, 0, 0, 0, 0, 0, 0, 0, 0, 0, 0, 0, 0, 0, 0, 0, 0, 0, 0, 0, 0, 0, 0, 0, 0, 0, 0, 0, 0, 0, 0, 0, 0, 0, 0, 0, 0, 0, 0, 0, 0, 0, 0, 0, 0, 0, 0, 0, 0, 0, 0, 0, 0, 0, 0, 0, 0, 0, 0, 0, 0, 0, 0, 0, 0, 0, 0, 0, 0, 0, 0, 0, 0, 0, 0, 0, 0, 0, 0, 0, 0, 0, 0, 0, 0, 0, 0, 0, 0, 0, 0, 0, 0, 0, 0, 0, 0, 0, 0, 0, 0, 0, 0, 0, 0, 0, 0, 0, 0, 0, 0, 0, 0, 0, 0, 0, 0, 0, 0, 0, 0, 0, 0, 0, 0, 0, 0, 0, 0, 0, 0, 0, 0, 0, 0, 0, 0, 0, 0, 0, 0, 0, 0, 0, 0, 0, 0, 0, 0, 0, 0, 0, 0, 0, 0, 0, 0, 0, 0, 0, 0, 0, 0, 0, 0, 0, 0, 0, 0, 0, 1, 0, 0, 0, 0, 0, 0, 0, 0, 0, 0, 0, 0, 0, 0, 0, 0, 0, 0, 0, 0, 0, 0, 0, 0, 0, 0, 0, 0, 0, 0, 0, 0, 0, 0, 0, 0, 0, 0, 0, 0, 0, 0, 0, 0, 0, 0, 0, 0, 0, 0, 0, 0, 0, 0, 0, 0, 0, 0, 0, 0, 0, 0, 0, 0, 0, 0, 0, 0, 0, 0, 0, 0, 0, 0, 0, 0, 0, 0, 0, 0, 0, 0, 0, 0, 0, 0, 0, 0, 0, 0, 0, 0, 0, 0, 0, 0, 0, 0, 0, 0, 0, 0, 0, 0, 0, 0, 0, 1, 0, 0, 0, 0, 0, 0, 0, 0, 0, 0, 0, 0, 0, 0, 0, 0, 0, 0, 0, 0, 0, 0, 0, 0, 0, 0, 0, 0, 0, 0, 0, 0, 0, 0, 0, 0, 0, 0, 0, 0, 0, 0, 0, 0, 0, 0, 0, 0, 0, 0, 0, 0, 0, 0, 0, 0, 0, 0, 0, 0, 0, 0, 0, 0, 0, 0, 0, 0, 0, 0, 0, 0, 0, 0, 0, 0, 0, 0, 0, 0, 0, 0, 0, 0, 0, 0, 0, 0, 0, 0, 0, 0, 0, 0, 0, 0, 0, 0, 0, 0, 0, 0, 0, 0, 0, 0, 0, 0, 0, 0, 0, 0, 0, 0, 0, 0, 0, 0, 0, 0, 0, 0, 0, 0, 0, 0, 0, 0, 0, 0, 0, 0, 0, 0, 0, 0, 0, 0, 0, 0, 0, 0, 0, 0, 0, 0, 0, 0, 0, 0, 0, 0, 0, 0, 0, 0, 0, 0, 0, 0, 0, 0, 0, 0, 0, 0, 0, 0, 0, 0, 0, 0, 0, 0, 0, 0, 0, 0, 0, 0, 0, 0, 0, 0, 0, 0, 0, 0, 0, 0, 0, 0, 0, 0, 0, 0, 0, 0, 0, 0, 0, 0, 0, 0, 0, 0, 0, 0, 0, 0, 0, 0, 0, 0, 0, 0, 0, 0, 0, 0, 0, 0, 0, 0, 0, 0, 0, 0, 0, 0, 0, 0, 0, 0, 0, 0, 0, 0, 0, 0, 0, 0, 0, 0, 0, 0, 0, 0, 0, 0, 0, 0, 0, 0, 0, 0, 0, 0, 0, 0, 0, 0, 0, 0, 0, 0, 0, 0, 0, 0, 0, 0, 0, 0, 0, 0, 0, 0, 0, 0, 0, 0, 0, 0, 0, 0, 0, 0, 0, 0, 0, 0, 0, 0, 0, 0, 0, 0, 0, 0, 0, 0, 0, 0, 0, 0, 0, 0, 0, 0, 0, 0, 0, 0, 0, 0, 0, 0, 0, 0, 0, 0, 0, 0, 0, 0, 0, 0, 0, 0, 0, 0, 0, 0, 0, 0, 0, 0, 0, 0, 0, 0, 0, 0, 0, 0, 0, 0, 0, 0, 0, 0, 0, 0, 0, 0, 0, 0, 0, 0, 0, 0, 0, 0, 0, 0, 0, 0, 0, 0, 0, 0, 0, 0, 0, 0, 0, 0, 0, 0, 0, 0, 0, 0, 0, 0, 0, 0, 0, 0, 0, 0, 0, 0, 0, 0, 0, 0, 0, 0, 0, 0, 0, 0, 0, 0, 0, 0, 0, 0, 0, 0, 0, 0, 0, 0, 0, 0, 0, 0, 0, 0, 0, 0, 0, 0, 0, 0, 0, 0, 0, 0, 0, 0, 0, 0, 0, 0, 0, 0, 0, 0, 0, 0, 0, 0, 0, 0, 0, 0, 0, 0, 0, 0, 0, 0, 0, 0, 0, 0, 0, 0, 0, 2, 0, 1, 0], type: <class 'list'>, valid types: <class 'bytes'>, <class 'bytearray'>, file-like object"
     ]
    }
   ],
   "source": [
    "response = runtime.invoke_endpoint(EndpointName = xgb_predictor.endpoint, # The name of the endpoint we created\n",
    "                                       ContentType = 'text/csv',                     # The data format that is expected\n",
    "                                       Body = test_bow)"
   ]
  },
  {
   "cell_type": "markdown",
   "metadata": {},
   "source": [
    "So why did we get an error?\n",
    "\n",
    "Because we tried to send the endpoint a list of integers but it expected us to send data of type `text/csv`. So, we need to convert it."
   ]
  },
  {
   "cell_type": "markdown",
   "metadata": {},
   "source": [
    "Okay, so it basically woudl like to get a string a input."
   ]
  },
  {
   "cell_type": "code",
   "execution_count": 47,
   "metadata": {},
   "outputs": [],
   "source": [
    "response = runtime.invoke_endpoint(EndpointName = xgb_predictor.endpoint, # The name of the endpoint we created\n",
    "                                       ContentType = 'text/csv',                     # The data format that is expected\n",
    "                                       Body = ','.join([str(val) for val in test_bow]).encode('utf-8'))"
   ]
  },
  {
   "cell_type": "code",
   "execution_count": 48,
   "metadata": {},
   "outputs": [
    {
     "name": "stdout",
     "output_type": "stream",
     "text": [
      "{'ResponseMetadata': {'RequestId': 'e2e4dbf8-5686-4b2e-9504-bf25298bf879', 'HTTPStatusCode': 200, 'HTTPHeaders': {'x-amzn-requestid': 'e2e4dbf8-5686-4b2e-9504-bf25298bf879', 'x-amzn-invoked-production-variant': 'AllTraffic', 'date': 'Fri, 5 Apr 2019 13:57:58 GMT', 'content-type': 'text/csv; charset=utf-8', 'content-length': '14'}, 'RetryAttempts': 0}, 'ContentType': 'text/csv; charset=utf-8', 'InvokedProductionVariant': 'AllTraffic', 'Body': <botocore.response.StreamingBody object at 0x7fb6e86e9c50>}\n"
     ]
    }
   ],
   "source": [
    "print(response)"
   ]
  },
  {
   "cell_type": "markdown",
   "metadata": {},
   "source": [
    "As we can see, the response from our model is a somewhat complicated looking dict that contains a bunch of information. The bit that we are most interested in is `'Body'` object which is a streaming object that we need to `read` in order to make use of."
   ]
  },
  {
   "cell_type": "code",
   "execution_count": 49,
   "metadata": {},
   "outputs": [
    {
     "name": "stdout",
     "output_type": "stream",
     "text": [
      "0.409047186375\n"
     ]
    }
   ],
   "source": [
    "response = response['Body'].read().decode('utf-8')\n",
    "print(response)"
   ]
  },
  {
   "cell_type": "markdown",
   "metadata": {},
   "source": [
    "Now that we know how to process the incoming user data we can start setting up the infrastructure to make our simple web app work. To do this we will make use of two different services. Amazon's Lambda and API Gateway services.\n",
    "\n",
    "Lambda is a service which allows someone to write some relatively simple code and have it executed whenever a chosen trigger occurs. For example, you may want to update a database whenever new data is uploaded to a folder stored on S3.\n",
    "\n",
    "API Gateway is a service that allows you to create HTTP endpoints (url addresses) which are connected to other AWS services. One of the benefits to this is that you get to decide what credentials, if any, are required to access these endpoints.\n",
    "\n",
    "In our case we are going to set up an HTTP endpoint through API Gateway which is open to the public. Then, whenever anyone sends data to our public endpoint we will trigger a Lambda function which will send the input (in our case a review) to our model's endpoint and then return the result."
   ]
  },
  {
   "cell_type": "markdown",
   "metadata": {},
   "source": [
    "### Setting up a Lambda function\n",
    "\n",
    "The first thing we are going to do is set up a Lambda function. This Lambda function will be executed whenever our public API has data sent to it. When it is executed it will receive the data, perform any sort of processing that is required, send the data (the review) to the SageMaker endpoint we've created and then return the result.\n",
    "\n",
    "#### Part A: Create an IAM Role for the Lambda function\n",
    "\n",
    "Since we want the Lambda function to call a SageMaker endpoint, we need to make sure that it has permission to do so. To do this, we will construct a role that we can later give the Lambda function.\n",
    "\n",
    "Using the AWS Console, navigate to the **IAM** page and click on **Roles**. Then, click on **Create role**. Make sure that the **AWS service** is the type of trusted entity selected and choose **Lambda** as the service that will use this role, then click **Next: Permissions**.\n",
    "\n",
    "In the search box type `sagemaker` and select the check box next to the **AmazonSageMakerFullAccess** policy. Then, click on **Next: Review**.\n",
    "\n",
    "Lastly, give this role a name. Make sure you use a name that you will remember later on, for example `LambdaSageMakerRole`. Then, click on **Create role**."
   ]
  },
  {
   "cell_type": "markdown",
   "metadata": {},
   "source": [
    "#### Part B: Create a Lambda function\n",
    "\n",
    "Now it is time to actually create the Lambda function. Remember from earlier that in order to process the user provided input and send it to our endpoint we need to gather two pieces of information:\n",
    "\n",
    " - The name of the endpoint, and\n",
    " - the vocabulary object.\n",
    "\n",
    "We will copy these pieces of information to our Lambda function after we create it.\n",
    "\n",
    "To start, using the AWS Console, navigate to the AWS Lambda page and click on **Create a function**. When you get to the next page, make sure that **Author from scratch** is selected. Now, name your Lambda function, using a name that you will remember later on, for example `sentiment_analysis_xgboost_func`. Make sure that the **Python 3.6** runtime is selected and then choose the role that you created in the previous part. Then, click on **Create Function**.\n",
    "\n",
    "On the next page you will see some information about the Lambda function you've just created. If you scroll down you should see an editor in which you can write the code that will be executed when your Lambda function is triggered. Collecting the code we wrote above to process a single review and adding it to the provided example `lambda_handler` we arrive at the following.\n",
    "\n",
    "```python\n",
    "# We need to use the low-level library to interact with SageMaker since the SageMaker API\n",
    "# is not available natively through Lambda.\n",
    "import boto3\n",
    "\n",
    "# And we need the regular expression library to do some of the data processing\n",
    "import re\n",
    "\n",
    "REPLACE_NO_SPACE = re.compile(\"(\\.)|(\\;)|(\\:)|(\\!)|(\\')|(\\?)|(\\,)|(\\\")|(\\()|(\\))|(\\[)|(\\])\")\n",
    "REPLACE_WITH_SPACE = re.compile(\"(<br\\s*/><br\\s*/>)|(\\-)|(\\/)\")\n",
    "\n",
    "def review_to_words(review):\n",
    "    words = REPLACE_NO_SPACE.sub(\"\", review.lower())\n",
    "    words = REPLACE_WITH_SPACE.sub(\" \", words)\n",
    "    return words\n",
    "    \n",
    "def bow_encoding(words, vocabulary):\n",
    "    bow = [0] * len(vocabulary) # Start by setting the count for each word in the vocabulary to zero.\n",
    "    for word in words.split():  # For each word in the string\n",
    "        if word in vocabulary:  # If the word is one that occurs in the vocabulary, increase its count.\n",
    "            bow[vocabulary[word]] += 1\n",
    "    return bow\n",
    "\n",
    "\n",
    "def lambda_handler(event, context):\n",
    "    \n",
    "    vocab = \"*** ACTUAL VOCABULARY GOES HERE ***\"\n",
    "    \n",
    "    words = review_to_words(event['body'])\n",
    "    bow = bow_encoding(words, vocab)\n",
    "\n",
    "    # The SageMaker runtime is what allows us to invoke the endpoint that we've created.\n",
    "    runtime = boto3.Session().client('sagemaker-runtime')\n",
    "\n",
    "    # Now we use the SageMaker runtime to invoke our endpoint, sending the review we were given\n",
    "    response = runtime.invoke_endpoint(EndpointName = '***ENDPOINT NAME HERE***',# The name of the endpoint we created\n",
    "                                       ContentType = 'text/csv',                 # The data format that is expected\n",
    "                                       Body = ','.join([str(val) for val in bow]).encode('utf-8')) # The actual review\n",
    "\n",
    "    # The response is an HTTP response whose body contains the result of our inference\n",
    "    result = response['Body'].read().decode('utf-8')\n",
    "    \n",
    "    # Round the result so that our web app only gets '1' or '0' as a response.\n",
    "    result = round(float(result))\n",
    "\n",
    "    return {\n",
    "        'statusCode' : 200,\n",
    "        'headers' : { 'Content-Type' : 'text/plain', 'Access-Control-Allow-Origin' : '*' },\n",
    "        'body' : str(result)\n",
    "    }\n",
    "```"
   ]
  },
  {
   "cell_type": "markdown",
   "metadata": {},
   "source": [
    "Once you have copy and pasted the code above into the Lambda code editor, replace the `**ENDPOINT NAME HERE**` portion with the name of the endpoint that we deployed earlier. You can determine the name of the endpoint using the code cell below."
   ]
  },
  {
   "cell_type": "code",
   "execution_count": 50,
   "metadata": {},
   "outputs": [
    {
     "data": {
      "text/plain": [
       "'xgboost-2019-04-05-13-29-32-676'"
      ]
     },
     "execution_count": 50,
     "metadata": {},
     "output_type": "execute_result"
    }
   ],
   "source": [
    "xgb_predictor.endpoint"
   ]
  },
  {
   "cell_type": "markdown",
   "metadata": {},
   "source": [
    "In addition, you will need to copy the vocabulary dict to the appropriate place in the code at the beginning of the `lambda_handler` method. The cell below prints out the vocabulary dict in a way that is easy to copy and paste."
   ]
  },
  {
   "cell_type": "code",
   "execution_count": 51,
   "metadata": {},
   "outputs": [
    {
     "name": "stdout",
     "output_type": "stream",
     "text": [
      "{'what': 4858, 'weekend': 4838, 'two': 4620, 'days': 1130, 'ago': 154, 'watched': 4813, 'the': 4426, 'first': 1736, 'half': 2007, 'of': 3083, 'war': 4792, 'games': 1865, 'dead': 1132, 'code': 869, 'now': 3054, 'while': 4868, 'she': 3923, 'was': 4805, 'out': 3141, 'am': 204, 'trying': 4601, 'to': 4507, 'come': 886, 'decision': 1151, 'which': 4867, 'one': 3107, 'worse': 4951, 'in': 2257, 'terms': 4406, 'pain': 3170, 'my': 2951, 'mind': 2849, 'watching': 4815, 'guess': 1989, 'it': 2366, 'has': 2043, 'all': 187, 'been': 438, 'said': 3774, 'before': 440, 'other': 3135, 'comments': 901, 'unrealistic': 4677, 'illogical': 2231, 'etc': 1527, 'only': 3110, 'thing': 4450, 'really': 3556, 'have': 2052, 'add': 115, 'is': 2360, 'that': 4424, 'at': 331, 'some': 4061, 'point': 3316, 'started': 4157, 'feeling': 1685, 'more': 2904, 'for': 1784, 'evil': 1548, 'guys': 2001, 'than': 4420, 'woman': 4921, 'because': 432, 'would': 4957, 'recommended': 3572, 'her': 2085, 'award': 366, 'if': 2222, 'actually': 109, 'died': 1244, 'so': 4046, 'dont': 1324, 'know': 2489, 'soon': 4074, 'awards': 367, 'thats': 4425, 'even': 1533, 'possible': 3350, 'stupidity': 4248, 'and': 226, 'hey': 2095, 'produced': 3414, 'by': 642, 'kim': 2475, 'did': 1241, 'not': 3040, 'script': 3834, 'but': 636, 'also': 199, 'responsible': 3656, 'bringing': 586, 'this': 4457, 'waste': 4808, 'money': 2888, 'us': 4690, 'people': 3221, 'consider': 949, 'humans': 2190, 'who': 4871, 'considerable': 950, 'amounts': 220, 'be': 418, 'could': 1007, 'used': 4693, 'feed': 1683, 'quite': 3495, 'few': 1700, 'instead': 2307, '80': 58, 'those': 4460, 'saw': 3798, 'cinema': 816, 'giving': 1915, '20': 29, 'are': 285, 'idiots': 2220, 'good': 1937, 'opportunity': 3121, 'show': 3953, 'just': 2437, 'how': 2181, 'much': 2934, 'an': 223, 'idiot': 2218, 'they': 4442, 'marie': 2737, 'carries': 699, 'depression': 1189, 'era': 1513, 'drama': 1346, 'about': 67, 'bank': 394, 'owner': 3159, 'recently': 3567, 'aired': 165, 'on': 3105, 'during': 1387, 'their': 4431, 'april': 284, 'comedy': 890, 'month': 2896, 'you': 4986, 'with': 4911, 'big': 478, 'laughs': 2534, 'team': 4378, 'youll': 4988, 'disappointed': 1273, 'as': 311, 'very': 4723, 'film': 1716, 'its': 2370, 'poorly': 3329, 'made': 2697, 'surprisingly': 4316, 'considering': 952, 'came': 656, 'from': 1840, 'mgm': 2828, 'leonard': 2572, 'bare': 398, 'cinematography': 820, 'strictly': 4223, 'set': 3898, 'up': 4683, 'camera': 659, 'move': 2921, 'school': 3813, 'frequently': 1832, 'cast': 710, 'find': 1726, 'themselves': 4435, 'delivering': 1171, 'lines': 2612, 'off': 3084, 'screen': 3829, 'like': 2599, 'pan': 3180, 'print': 3399, 'such': 4268, 'existed': 1570, 'or': 3124, 'having': 2054, 'heads': 2059, 'cut': 1089, 'doesnt': 1309, 'director': 1264, 'underlying': 4641, 'apparent': 269, 'fly': 1763, 'night': 3013, 'nature': 2975, 'production': 3419, 'overall': 3150, 'mess': 2818, 'over': 3148, 'bizarre': 492, 'final': 1722, 'reel': 3581, 'bathroom': 412, 'apart': 264, 'seed': 3856, 'torture': 4529, 'doubt': 1332, 'strangely': 4212, 'uwe': 4703, 'boll': 529, 'written': 4972, 'directed': 1259, 'polished': 3323, 'any': 256, 'he': 2056, 'recent': 3566, 'memory': 2804, 'every': 1539, 'time': 4495, 'watch': 4811, 'feel': 1684, 'pages': 3168, 'must': 2950, 'gone': 1935, 'missing': 2869, 'there': 4438, 'simply': 3986, 'huge': 2185, 'story': 4207, 'dialogue': 1234, 'course': 1019, 'nothing': 3047, 'makes': 2716, 'sense': 3877, 'either': 1438, 'films': 1721, 'somewhat': 4068, 'surreal': 4317, 'respect': 3652, 'spoilers': 4124, 'why': 4878, 'do': 1302, 'six': 4010, 'cops': 993, 'go': 1924, 'split': 4120, 'separate': 3883, 'ways': 4822, 'when': 4862, 'get': 1899, 'unlike': 4670, 'real': 3547, 'enter': 1494, 'clear': 839, 'house': 2178, 'ever': 1538, 'use': 4692, 'can': 665, 'bodies': 526, 'quickly': 3491, 'process': 3412, 'normally': 3034, 'take': 4349, 'many': 2732, 'months': 2897, 'never': 3001, 'able': 66, 'stay': 4166, 'killing': 2472, 'always': 203, 'waited': 4771, 'around': 297, 'previous': 3387, 'victim': 4729, 'shown': 3959, 'gets': 1900, 'wear': 4830, 'mask': 2752, 'hes': 2093, 'waiting': 4772, 'death': 1141, 'row': 3744, 'typical': 4623, 'prison': 3401, 'security': 3854, 'cell': 730, 'block': 508, 'then': 4436, 'walk': 4775, 'again': 146, 'without': 4913, 'being': 448, 'stopped': 4202, 'noticed': 3049, 'nearly': 2981, 'according': 88, 'newspaper': 3006, 'movie': 2926, 'murdered': 2940, 'working': 4944, 'case': 707, 'suddenly': 4273, 'decide': 1148, 'should': 3951, 'look': 2646, 'where': 4864, 'originally': 3131, 'arrested': 298, 'his': 2118, 'victims': 4730, 'didnt': 1242, 'think': 4452, 'doing': 1312, 'does': 1308, 'police': 3322, 'detective': 1220, 'solo': 4058, 'back': 378, 'letting': 2583, 'headed': 2058, 'particularly': 3195, 'obviously': 3072, 'goes': 1930, 'far': 1653, 'way': 4820, 'make': 2713, 'sure': 4308, 'we': 4823, 'understand': 4643, 'chair': 742, 'fails': 1628, 'work': 4940, 'properly': 3437, 'spends': 4107, 'several': 3905, 'minutes': 2859, 'setting': 3900, 'spent': 4108, 'them': 4432, 'making': 2718, 'aspects': 322, 'least': 2554, 'bit': 488, 'logical': 2639, 'end': 1468, 'short': 3946, 'sort': 4077, 'serves': 3895, 'scenes': 3811, 'perhaps': 3235, 'these': 4441, 'brutal': 603, 'head': 2057, 'execution': 1566, 'live': 2625, 'animals': 240, 'raised': 3508, 'opening': 3114, 'were': 4848, 'indeed': 2271, 'unnecessary': 4672, 'disturbing': 1300, 'purpose': 3474, 'context': 968, 'undoubtedly': 4648, 'middle': 2833, 'aged': 149, 'using': 4698, 'obvious': 3071, 'vaguely': 4706, 'reminds': 3620, 'me': 2778, 'classic': 835, 'scene': 3809, 'dogs': 1311, 'though': 4461, 'dan': 1102, 'soundtrack': 4085, 'no': 3020, 'worth': 4953, 'seeing': 3857, 'dedicated': 1153, 'fan': 1648, 'porn': 3336, 'genre': 1888, 'absolutely': 72, 'determined': 1221, 'see': 3855, 'start': 4156, 'review': 3676, 'pretty': 3384, 'disgusting': 1286, 'points': 3319, 'truly': 4597, 'competent': 917, 'most': 2909, 'movies': 2927, 'will': 4886, 'continue': 969, 'improve': 2254, 'filmmaker': 1719, 'hope': 2155, 'progresses': 3426, 'beyond': 476, 'continues': 971, 'dark': 1115, 'humor': 2192, 'murder': 2939, 'business': 633, 'viewer': 4738, 'required': 3641, 'let': 2579, 'moral': 2902, 'values': 4710, 'laugh': 2529, 'antics': 255, 'man': 2721, 'kills': 2474, 'rock': 3720, 'solid': 4057, 'reality': 3551, 'order': 3126, 'brosnan': 597, 'answer': 251, 'chain': 741, 'smoking': 4040, 'sex': 3907, 'alcoholic': 177, 'living': 2629, 'life': 2592, 'crisis': 1060, 'meets': 2795, 'struggling': 4236, 'businessman': 634, 'after': 143, 'rocky': 3723, 'beginning': 443, 'learns': 2553, 'needs': 2990, 'friend': 1835, 'happily': 2030, 'married': 2744, 'davis': 1126, 'sees': 3866, 'him': 2110, 'basic': 406, 'things': 4451, 'love': 2669, 'home': 2142, 'character': 758, 'actor': 103, 'philip': 3252, 'baker': 385, 'hall': 2009, 'hit': 2122, 'mans': 2730, 'manager': 2724, 'wonderfully': 4929, 'crude': 1069, 'anti': 254, 'hero': 2088, 'delightful': 1168, 'human': 2188, 'adds': 119, 'conventional': 979, 'wife': 4884, 'fascinated': 1657, 'into': 2332, 'lives': 2628, 'ending': 1471, 'surprise': 4312, 'leave': 2555, 'theater': 4427, 'partly': 3197, 'youre': 4992, 'suspend': 4329, 'well': 4843, 'definitely': 1162, 'anything': 260, 'else': 1448, 'lynch': 2691, 'supernatural': 4302, 'stuff': 4243, 'violence': 4747, 'nevertheless': 3002, 'beautiful': 428, 'flick': 1754, 'little': 2624, 'slow': 4031, 'old': 3100, 'best': 469, 'journey': 2421, 'characters': 760, 'everyday': 1541, 'thus': 4486, 'believable': 453, 'performances': 3229, 'incredibly': 2270, 'touching': 4536, 'everyone': 1542, 'relate': 3593, 'say': 3799, 'moment': 2886, 'fighting': 1709, 'forgotten': 1797, 'trailer': 4554, 'prom': 3429, 'admit': 122, 'looked': 2647, 'fun': 1848, 'horror': 2168, 'last': 2521, 'growing': 1983, 'mention': 2810, 'sick': 3963, 'tired': 4501, 'slasher': 4020, 'loud': 2664, 'excuse': 1564, 'scare': 3803, 'tension': 4404, 'supposed': 4306, 'care': 684, 'had': 2003, 'development': 1225, 'killer': 2470, 'oh': 3096, 'god': 1926, 'possibly': 3351, 'stupid': 4247, 'serial': 3889, 'killed': 2469, 'kill': 2468, 'girls': 1911, 'family': 1645, 'friends': 1837, 'obsessed': 3069, 'mean': 2779, 'going': 1931, 'idea': 2213, 'too': 4522, 'predictable': 3367, 'insulting': 2310, 'true': 4596, 'fans': 1650, 'brutally': 604, 'teacher': 4375, 'become': 433, 'captured': 677, 'put': 3480, 'jail': 2376, 'years': 4979, 'shes': 3930, 'getting': 1901, 'peace': 3219, 'escaped': 1518, 'still': 4188, 'donna': 1323, 'follows': 1775, 'means': 2783, 'bad': 382, 'news': 3005, 'hotel': 2175, 'bell': 458, 'boy': 557, 'suspicious': 4332, 'enough': 1491, 'check': 777, 'trouble': 4592, 'clearly': 840, 'apparently': 270, 'houses': 2180, 'un': 4630, 'wow': 4962, 'im': 2232, 'sorry': 4076, 'want': 4788, 'havent': 2053, 'long': 2644, 'impressed': 2251, 'situations': 4009, 'unbelievable': 4634, 'actors': 104, 'obnoxious': 3067, 'pg': 3250, '13': 4, 'someone': 4064, 'blood': 512, 'clothes': 860, 'holes': 2133, 'wouldnt': 4958, 'recommend': 3571, 'anyone': 259, 'unless': 4669, 'teen': 4388, 'teenagers': 4391, 'adults': 126, 'enjoy': 1484, '10': 0, 'reading': 3544, 'comics': 895, 'since': 3990, 'child': 789, 'found': 1811, 'earlier': 1399, 'our': 3139, 'heroine': 2091, 'fail': 1625, 'rocks': 3722, 'here': 2086, 'ms': 2931, 'gang': 1867, 'comes': 891, 'along': 195, 'starts': 4159, 'wins': 4899, 'round': 3742, 'shell': 3927, 'tell': 4395, 'herself': 2092, 'times': 4497, 'staff': 4138, 'members': 2801, 'free': 1827, 'sounds': 4084, 'yeah': 4977, 'explaining': 1588, 'tells': 4397, 'zone': 4999, 'parents': 3188, 'helping': 2081, 'camp': 662, 'escape': 1517, 'own': 3158, 'rules': 3754, 'hunt': 2198, 'food': 1778, 'read': 3543, 'fight': 1707, 'approach': 282, 'civilization': 827, 'caught': 722, 'taken': 4350, 'shot': 3949, 'dies': 1245, 'leaves': 2556, 'meet': 2793, 'city': 825, 'whos': 4876, 'ends': 1474, 'follow': 1772, 'theres': 4440, 'awesome': 371, 'totally': 4532, 'cool': 989, 'terrific': 4409, 'modesty': 2883, 'strong': 4229, 'intellectual': 2312, 'comic': 893, 'feels': 1687, 'awkward': 374, 'hear': 2061, 'speak': 4094, 'slightly': 4029, 'broken': 594, 'accent': 78, 'relevant': 3604, 'book': 535, 'cant': 671, 'certainly': 738, 'weird': 4841, 'speaking': 4095, 'english': 1483, 'acting': 99, 'young': 4989, 'favorite': 1671, 'part': 3193, 'dress': 1357, 'kick': 2460, 'ass': 323, 'wait': 4770, 'until': 4680, 'adventure': 130, 'begins': 444, 'next': 3007, 'wont': 4932, 'seen': 3865, 'forget': 1793, 'hollywood': 2137, 'sucked': 4270, 'art': 304, 'moon': 2900, 'japanese': 2382, 'vampire': 4711, 'wish': 4904, 'leads': 2548, 'asian': 314, 'countries': 1013, 'street': 4216, 'intense': 2316, 'experience': 1580, 'visual': 4757, 'emotional': 1459, 'everything': 1544, 'cry': 1073, 'angry': 238, 'excited': 1561, 'sad': 3767, 'happy': 2032, 'touched': 4534, 'amazing': 209, 'heard': 2062, 'sounding': 4083, 'strange': 4211, 'praise': 3364, 'editor': 1423, 'creating': 1039, 'masterpiece': 2759, 'comment': 898, 'brilliant': 583, 'stars': 4155, 'ex': 1549, 'hyde': 2206, 'excellent': 1555, 'roles': 3727, 'amazed': 208, 'change': 749, 'age': 148, 'lee': 2559, 'newly': 3004, 'released': 3603, 'fantasy': 1652, 'children': 792, 'original': 3129, 'rather': 3528, 'nasty': 2968, 'piece': 3272, 'featuring': 1681, 'bela': 450, 'lugosi': 2686, 'mad': 2696, 'scientist': 3818, 'yes': 4982, 'assistant': 326, 'mother': 2911, 'scientists': 3819, 'lol': 2640, 'gives': 1914, 'knows': 2493, 'keep': 2449, 'looking': 2648, 'clever': 841, 'trick': 4582, 'another': 250, 'bride': 577, 'dust': 1388, 'reporter': 3636, 'happens': 2029, 'decides': 1150, 'sorts': 4078, 'clues': 865, 'heaven': 2068, 'doctor': 1304, 'may': 2775, 'fetched': 1698, 'plan': 3287, 'fake': 1635, 'wedding': 4836, 'capture': 676, 'seems': 3864, 'ray': 3533, 'vision': 4754, 'plans': 3292, 'happen': 2026, 'liked': 2600, 'guilty': 1995, 'pleasure': 3306, 'great': 1964, 'places': 3284, 'watchable': 4812, 'view': 4736, 'morality': 2903, 'troubled': 4593, 'hunter': 2199, 'taylor': 4372, 'near': 2979, 'deeply': 1156, 'cost': 1003, 'indians': 2275, 'land': 2511, 'itself': 2371, 'hand': 2015, 'admittedly': 123, 'role': 3726, 'tortured': 4530, 'superb': 4296, 'steals': 4172, 'demented': 1176, 'fast': 1661, 'buck': 605, 'lot': 2661, 'bang': 393, 'moves': 2925, 'treated': 4573, 'fine': 1729, 'performance': 3228, 'theme': 4433, 'poignant': 3315, 'today': 4508, 'relationship': 3597, 'whats': 4860, 'racism': 3502, 'although': 201, 'western': 4853, 'picture': 3269, 'usual': 4699, 'suspects': 4328, 'total': 4531, 'bunch': 623, 'away': 369, 'chance': 747, 'better': 472, 'william': 4887, 'macy': 2695, 'portraying': 3343, 'heart': 2064, 'down': 1335, 'probably': 3407, 'played': 3297, 'rest': 3657, 'brought': 600, 'relief': 3605, 'george': 1893, 'stole': 4194, 'cameo': 657, 'hilarious': 2106, 'direction': 1261, 'spot': 4131, 'brothers': 599, 'throughout': 4478, 'interesting': 2325, 'develop': 1222, 'match': 2762, 'forward': 1808, 'celluloid': 731, 'high': 2100, 'number': 3060, 'star': 4150, 'reviews': 3679, 'imdb': 2240, 'given': 1913, 'low': 2676, 'average': 362, 'rating': 3529, 'draw': 1349, 'your': 4991, 'ill': 2228, 'thought': 4462, 'concept': 930, 'kind': 2476, 'cute': 1090, 'pleased': 3305, 'actresses': 106, 'eve': 1532, 'angel': 231, 'sheer': 3925, 'known': 2492, 'seemed': 3862, 'terrible': 4407, 'plot': 3309, 'full': 1846, 'drive': 1363, 'truck': 4595, 'through': 4477, 'non': 3027, 'existent': 1572, 'humour': 2194, 'eye': 1611, 'candy': 668, 'ok': 3098, 'women': 4923, 'three': 4469, 'main': 2707, 'female': 1693, 'right': 3696, 'across': 96, 'board': 522, 'producers': 3416, 'hoped': 2156, 'scenery': 3810, 'male': 2719, 'viewers': 4739, 'notice': 3048, 'failed': 1626, 'miserably': 2864, 'hands': 2020, 'funny': 1852, 'wasnt': 4807, 'close': 853, 'nightmare': 3014, 'jack': 2373, 'causing': 726, 'try': 4600, 'isnt': 2362, 'wrong': 4973, 'new': 3003, 'york': 4985, 'place': 3282, 'nobody': 3022, 'writer': 4968, 'talented': 4355, 'potential': 3355, 'future': 1856, 'constantly': 958, 'uncomfortable': 4637, 'between': 475, 'music': 2946, 'bleak': 503, 'realistic': 3550, 'portrayal': 3341, 'desperately': 1209, 'wanted': 4789, 'turn': 4605, 'lose': 2654, 'honesty': 2148, 'comedies': 889, 'ive': 2372, 'year': 4978, 'express': 1600, 'step': 4175, 'gross': 1978, 'heavily': 2069, 'relies': 3606, 'jokes': 2415, 'toilet': 4512, 'pace': 3161, 'easily': 1406, 'attached': 336, 'narrative': 2966, 'simon': 3982, 'fish': 1738, 'water': 4816, 'himself': 2111, 'once': 3106, 'england': 1482, 'nick': 3012, 'edgar': 1417, 'yourself': 4993, 'top': 4525, 'hard': 2033, 'lead': 2545, 'david': 1124, 'run': 3755, 'received': 3564, 'critics': 1064, 'audiences': 353, 'alike': 185, 'second': 3846, 'got': 1944, 'fairly': 1631, 'positive': 3346, 'majority': 2712, 'flop': 1760, 'box': 555, 'office': 3091, 'lost': 2660, 'faith': 1633, 'whenever': 4863, 'wants': 4791, 'third': 4455, 'glory': 1922, 'jeff': 2390, 'danny': 1112, 'anderson': 227, 'opinion': 3118, 'angle': 236, 'however': 2183, 'interview': 2329, 'might': 2835, 'suffer': 4275, 'consequences': 947, 'forever': 1792, 'vote': 4766, 'zero': 4996, 'lower': 2677, 'loved': 2670, 'commentary': 899, 'worst': 4952, 'perfect': 3224, 'word': 4937, 'something': 4066, 'loss': 2659, 'negative': 2991, 'describe': 1194, 'bo': 521, 'derek': 1192, 'consistent': 953, 'often': 3095, 'unfortunate': 4653, 'reputation': 3640, 'depth': 1190, 'arms': 294, 'proves': 3447, 'notion': 3050, 'false': 1641, 'play': 3296, 'comedic': 888, 'entertaining': 1499, 'philosophical': 3253, 'level': 2584, 'successful': 4266, 'unique': 4662, 'romantic': 3733, 'melodramatic': 2798, 'superficial': 4298, 'military': 2844, 'involved': 2346, 'father': 1666, 'both': 547, 'officers': 3093, 'shocked': 3939, 'arrival': 299, 'enemy': 1477, 'soldier': 4053, 'knowing': 2490, 'incident': 2260, 'secret': 3849, 'eventually': 1537, 'each': 1395, 'primary': 3394, 'relationships': 3598, 'meaning': 2780, 'within': 4912, 'standard': 4144, 'manages': 2725, 'class': 833, 'wit': 4908, 'satisfying': 3791, 'missed': 2867, 'single': 3996, 'viewing': 4740, 'works': 4945, 'amusing': 221, 'provoking': 3452, 'century': 736, 'conceived': 929, 'popular': 3333, 'satire': 3788, 'structure': 4233, 'bitter': 491, 'example': 1553, 'dialog': 1232, 'statement': 4162, 'captain': 674, 'professional': 3421, 'glad': 1916, 'amateur': 206, 'son': 4070, 'reason': 3557, 'questions': 3489, 'whole': 4873, 'sides': 3967, 'struggle': 4234, 'shows': 3960, 'feelings': 1686, 'different': 1248, 'towards': 4540, 'common': 906, 'gentle': 1890, 'movement': 2923, 'lovers': 2673, 'essence': 1521, 'image': 2233, 'universal': 4665, 'appeal': 271, 'appropriate': 283, 'marriage': 2743, 'changed': 750, 'maintain': 2710, 'late': 2523, 'convince': 983, 'fact': 1621, 'boxing': 556, 'double': 1331, 'faced': 1617, 'society': 4050, 'beating': 425, 'felt': 1692, 'alright': 198, 'especially': 1520, 'scott': 3824, 'books': 536, 'went': 4847, 'charm': 767, 'interest': 2323, 'managed': 2723, 'awake': 365, 'hour': 2176, 'gritty': 1977, 'streets': 4217, 'balls': 390, 'fell': 1690, 'lifestyle': 2593, 'member': 2800, 'joined': 2413, 'adapted': 114, 'same': 3778, 'commit': 904, 'credit': 1049, 'card': 681, 'fabulous': 1615, 'desired': 1206, 'learned': 2551, 'cash': 709, 'states': 4163, 'jealous': 2388, 'queen': 3485, 'called': 652, 'service': 3896, 'highly': 2105, 'grew': 1972, 'criminal': 1057, 'identity': 2217, 'available': 361, 'trust': 4598, 'paris': 3189, 'burning': 627, '2005': 35, 'cannot': 670, 'believe': 454, 'comparing': 913, 'moved': 2922, 'attempt': 340, 'success': 4265, 'appalling': 268, 'authentic': 358, 'compelling': 916, 'storyline': 4208, 'ridiculous': 3693, 'french': 1830, 'laughable': 2530, 'mile': 2842, 'drug': 1373, 'person': 3238, 'ease': 1404, 'finds': 1728, 'guy': 2000, 'pathetic': 3210, 'drinking': 1362, 'coffee': 870, 'turns': 4609, 'america': 212, 'joke': 2414, 'foreign': 1790, 'biggest': 480, 'travel': 4567, 'map': 2733, 'awful': 372, 'sequel': 3885, 'thinks': 4454, 'otherwise': 3137, 'crazy': 1035, 'twice': 4613, 'dvd': 1391, 'impress': 2250, 'attitude': 346, 'depiction': 1185, 'fare': 1655, 'topic': 4526, 'sticks': 4186, 'closely': 855, 'southern': 4088, 'question': 3487, 'sentence': 3881, 'passed': 3202, 'matter': 2769, 'outstanding': 3147, 'nowadays': 3055, 'mainstream': 2709, 'enjoyable': 1485, 'expectations': 1576, 'terribly': 4408, 'spirited': 4114, 'wanting': 4790, 'effect': 1428, 'emotion': 1458, 'intelligence': 2313, 'generally': 1881, 'light': 2595, 'handed': 2016, 'flaws': 1752, 'situation': 4008, 'widow': 4883, 'somehow': 4063, 'normal': 3033, 'taking': 4352, 'weak': 4824, 'stronger': 4230, 'control': 977, 'men': 2805, 'die': 1243, 'minor': 2857, 'dying': 1393, 'surely': 4309, 'seem': 3861, 'build': 614, 'ones': 3108, 'intelligent': 2314, 'mood': 2898, 'stop': 4201, 'action': 100, 'renting': 3629, 'bat': 410, 'deserved': 1200, 'mst3k': 2932, 'treatment': 4574, 'terror': 4412, 'flying': 1764, 'station': 4164, 'chases': 771, 'room': 3735, 'plus': 3311, 'cheesy': 781, '1970s': 17, 'mitchell': 2875, 'mystery': 2956, 'science': 3816, '3000': 43, 'episodes': 1508, 'series': 3890, 'avoided': 364, 'plague': 3285, 'tom': 4514, 'less': 2575, 'screenplay': 3831, 'writing': 4971, 'juvenile': 2441, 'corny': 997, 'performers': 3232, 'desperate': 1208, 'stayed': 4167, 'spend': 4105, 'hadnt': 2004, 'forced': 1787, 'reasons': 3560, 'past': 3207, 'parts': 3199, 'version': 4720, 'superior': 4300, 'faithful': 1634, 'wise': 4903, 'drags': 1345, 'songs': 4072, 'boring': 543, 'kids': 2467, 'parent': 3187, 'horrible': 2163, 'ripped': 3701, 'shirt': 3937, 'sexy': 3911, 'dance': 1103, 'sing': 3992, 'tune': 4602, 'elvis': 1451, 'career': 686, 'began': 441, 'kept': 2456, 'fall': 1637, 'executed': 1565, 'timing': 4498, 'tv': 4610, 'need': 2987, 'stinker': 4191, 'gave': 1875, 'plenty': 3307, 'suspense': 4330, 'deep': 1154, 'shocking': 3940, 'secrets': 3852, 'revealed': 3671, 'threat': 4467, 'slight': 4027, 'raising': 3509, 'voices': 4763, 'couldnt': 1008, 'anybody': 257, 'revolves': 3682, 'named': 2961, 'artist': 307, 'hired': 2117, 'paint': 3173, 'vast': 4716, 'mansion': 2731, 'wealthy': 4827, 'older': 3101, 'daughter': 1121, 'type': 4621, 'womans': 4922, 'fit': 1740, 'pieces': 3273, 'together': 4511, 'mysterious': 2955, 'menacing': 2807, 'advance': 127, 'fear': 1676, 'safety': 3772, 'maybe': 2776, 'hanging': 2023, 'butler': 637, 'serving': 3897, 'door': 1328, 'except': 1556, 'explanation': 1590, 'walks': 4780, 'edge': 1418, 'seat': 3845, 'bland': 500, 'paced': 3162, 'scripted': 3835, 'black': 493, 'premise': 3370, 'worked': 4941, 'twilight': 4614, 'tales': 4357, 'episode': 1507, 'done': 1322, 'already': 197, '2007': 37, 'adam': 111, 'sandler': 3781, 'don': 1320, 'smith': 4038, 'donald': 1321, 'sutherland': 4333, 'robert': 3713, 'mike': 2838, 'jonathan': 2417, 'allen': 188, 'thoroughly': 4459, 'depressed': 1187, '11': 2, 'punch': 3466, 'drunk': 1375, 'winds': 4895, 're': 3535, 'united': 4664, 'college': 875, 'impressive': 2253, 'date': 1118, 'dentist': 1180, 'wealth': 4826, 'happiness': 2031, 'freedom': 1828, 'personal': 3240, 'co': 867, 'former': 1800, 'equal': 1509, 'genuine': 1891, 'share': 3920, 'act': 97, 'falls': 1640, 'almost': 193, 'week': 4837, 'solution': 4059, 'matters': 2770, 'sum': 4289, 'batman': 413, 'cartoons': 705, 'based': 404, 'compared': 912, 'yet': 4984, 'damn': 1100, 'justice': 2438, 'league': 2549, 'hold': 2129, 'against': 147, 'besides': 468, 'problems': 3409, 'younger': 4990, 'experienced': 1581, 'crime': 1055, 'nice': 3008, 'worthless': 4954, 'designed': 1203, 'jackie': 2374, 'chan': 746, 'adventures': 131, 'id': 2212, 'wall': 4781, 'mentally': 2809, 'clown': 862, 'suit': 4284, 'uses': 4697, 'resort': 3650, 'cheap': 774, 'meant': 2784, 'monkey': 2890, 'kung': 2498, 'fu': 1844, 'twenty': 4612, 'feet': 1688, 'air': 164, 'accompanied': 86, 'speed': 4103, 'villain': 4744, 'important': 2247, 'created': 1037, 'entirely': 1503, 'took': 4523, 'mr': 2929, 'memorable': 2802, 'complex': 923, 'exactly': 1551, 'performed': 3230, 'stands': 4147, 'takes': 4351, 'large': 2517, 'eating': 1413, 'stand': 4143, 'legs': 2566, 'plots': 3310, 'arent': 288, 'theyve': 4446, 'under': 4639, 'twelve': 4611, 'shouldnt': 3952, 'adult': 125, 'nudity': 3059, 'gratuitous': 1961, 'mark': 2739, 'enjoyed': 1486, 'levels': 2585, 'ages': 152, 'misses': 2868, 'problem': 3408, 'personality': 3242, 'shots': 3950, 'allowed': 190, 'themes': 4434, 'ideas': 2215, 'symbolism': 4341, 'discussion': 1284, 'sound': 4081, 'editing': 1421, 'proper': 3436, 'interested': 2324, 'suggest': 4280, 'buying': 641, 'program': 3424, 'overrated': 3156, 'hot': 2174, 'rubber': 3747, 'gun': 1996, 'judge': 2424, 'whose': 4877, 'actions': 101, 'decades': 1145, 'standards': 4145, 'vietnam': 4735, 'veteran': 4724, 'turned': 4606, 'murderer': 2941, 'white': 4870, 'boss': 546, 'race': 3499, 'frame': 1815, 'kid': 2464, 'naturally': 2974, 'rich': 3685, 'committed': 905, 'propaganda': 3435, 'poor': 3328, 'upper': 4685, '70s': 56, '80s': 59, '90s': 61, 'crimes': 1056, '50': 51, '60': 53, 'da': 1094, 'push': 3477, 'state': 4160, 'stuck': 4237, 'medical': 2790, 'finally': 1724, 'families': 1644, 'favor': 1670, 'serve': 3893, 'day': 1129, 'criminals': 1058, 'figures': 1713, 'nazis': 2978, 'careers': 687, 'contain': 962, 'studio': 4240, 'traditional': 4550, 'animation': 242, 'mentioned': 2811, 'save': 3794, 'baby': 376, 'bring': 585, 'begin': 442, 'enemies': 1476, 'disney': 1289, '20th': 38, 'fox': 1814, 'lie': 2590, 'makers': 2715, 'target': 4366, 'audience': 352, 'mostly': 2910, 'aimed': 162, '90': 60, 'childrens': 793, 'attention': 345, 'focused': 1767, 'backgrounds': 381, 'voice': 4761, 'personally': 3243, 'footage': 1782, '60s': 54, 'fascinating': 1658, 'learn': 2550, 'essentially': 1523, 'became': 431, 'pop': 3330, 'culture': 1079, 'force': 1786, 'interviews': 2330, 'humorous': 2193, 'familiar': 1643, 'segments': 3868, 'present': 3374, 'including': 2264, 'politics': 3326, 'history': 2121, 'saying': 3800, 'contains': 964, 'spoiler': 4123, 'safe': 3771, 'early': 1400, 'later': 2525, 'abc': 63, 'aware': 368, 'lasted': 2522, 'season': 3843, 'curious': 1083, 'changes': 751, 'described': 1195, 'hours': 2177, 'searching': 3842, 'efforts': 1433, 'web': 4833, 'endless': 1473, 'difference': 1246, 'scripts': 3836, 'remain': 3609, 'largely': 2518, 'dvds': 1392, 'list': 2617, 'special': 4097, 'features': 1680, 'shed': 3924, 'theyd': 4443, 'self': 3869, 'world': 4946, 'drop': 1369, 'sister': 4001, 'entire': 1502, 'playing': 3300, 'ask': 316, 'says': 3801, 'turner': 4607, 'running': 3756, 'left': 2561, 'aunt': 355, 'finale': 1723, 'favorites': 1672, 'reunion': 3669, 'famous': 1647, 'spanish': 4092, 'ian': 2209, 'mexico': 2827, 'claim': 828, 'name': 2960, 'steal': 4170, 'gold': 1932, 'sight': 3969, 'local': 2634, 'held': 2074, 'prisoner': 3402, 'couple': 1016, 'rex': 3683, 'eat': 1411, 'effort': 1432, 'win': 4892, 'offer': 3087, 'help': 2079, 'rid': 3690, 'monster': 2892, 'various': 4715, 'hidden': 2096, 'motives': 2916, 'dinosaurs': 1256, 'brian': 576, 'favourite': 1673, 'turkey': 4604, 'shoot': 3942, 'spoof': 4127, 'title': 4504, 'sci': 3815, 'fi': 1701, 'channel': 753, 'idiotic': 2219, 'creature': 1045, 'feature': 1678, 'tries': 4585, 'ultimately': 4628, 'cgi': 740, 'computer': 927, 'graphic': 1958, 'despite': 1211, 'period': 3236, 'clichés': 846, 'cardboard': 682, 'decisions': 1152, 'selfish': 3870, 'heroic': 2090, 'exists': 1573, 'eaten': 1412, 'easy': 1410, 'silly': 3976, 'dull': 1384, 'entertain': 1497, 'decent': 1147, 'moments': 2887, 'gore': 1941, 'completely': 922, 'commented': 900, 'usually': 4700, 'effects': 1431, 'ruined': 3751, 'straight': 4210, 'afterwards': 145, 'leg': 2562, 'splatter': 4118, 'holding': 2130, 'attacked': 338, 'dinosaur': 1255, 'looks': 2649, 'park': 3190, 'cinematic': 818, 'supposedly': 4307, 'keeping': 2450, 'budget': 610, 'fifteen': 1706, 'unusual': 4681, 'basically': 407, 'whether': 4866, 'michael': 2829, 'expected': 1577, 'similar': 3978, 'psychological': 3458, 'material': 2766, 'vs': 4767, 'fair': 1630, 'remains': 3611, 'intriguing': 2335, 'charge': 761, 'scares': 3806, 'amongst': 218, 'busy': 635, 'atmospheric': 334, 'climax': 849, 'revelation': 3674, 'dressed': 1358, 'ensemble': 1492, 'holds': 2131, 'faces': 1618, 'scheme': 3812, 'others': 3136, 'doubts': 1333, 'names': 2963, 'miles': 2843, 'creepy': 1052, 'likewise': 2603, 'christopher': 811, 'walken': 4777, 'neat': 2982, 'jerry': 2396, 'mild': 2839, 'chris': 806, 'gorgeous': 1942, 'offering': 3089, 'support': 4303, 'martin': 2748, 'john': 2409, 'carradine': 695, 'arthur': 305, 'kennedy': 2454, 'throw': 4479, 'surrounding': 4319, 'emphasis': 1463, 'mainly': 2708, 'built': 618, 'upon': 4684, 'moody': 2899, 'slowly': 4032, 'inner': 2292, 'experiences': 1582, 'encounters': 1467, 'apartment': 265, 'winner': 4897, 'pull': 3461, 'eerie': 1427, 'projects': 3428, 'grand': 1953, 'score': 3822, 'richard': 3686, 'scope': 3821, 'photography': 3260, 'spider': 4109, 'superhero': 4299, 'game': 1864, 'costumes': 1006, 'covers': 1024, 'hang': 2022, 'beat': 423, 'deadly': 1133, 'villains': 4745, '3rd': 47, 'difficult': 1249, 'battle': 414, 'harder': 2035, 'guessed': 1990, 'cartoon': 704, 'spoil': 4121, 'give': 1912, 'accurate': 90, 'green': 1971, 'hopefully': 2157, 'video': 4733, 'justin': 2440, 'coming': 896, 'freeman': 1829, 'aka': 168, 'morgan': 2905, 'wasted': 4809, 'kevin': 2457, 'american': 213, 'beauty': 430, 'signed': 3971, 'thinking': 4453, 'fresh': 1833, 'rotten': 3740, 'tomatoes': 4515, 'bother': 548, '15': 7, 'dimensional': 1253, 'bible': 477, 'liners': 2611, 'bite': 489, 'worthy': 4956, 'belong': 459, 'speaks': 4096, 'tone': 4517, 'crappy': 1032, 'complete': 921, 'becoming': 435, 'lots': 2662, 'fire': 1734, 'rocket': 3721, 'kidding': 2465, 'bottom': 551, 'line': 2610, 'thumbs': 4485, 'longer': 2645, 'sucks': 4271, 'badly': 383, 'frustration': 1843, 'yelling': 4980, 'happening': 2028, 'singer': 3993, 'mix': 2876, '30': 42, '16': 8, 'teens': 4392, 'remember': 3616, 'devil': 1228, 'dog': 1310, 'laughing': 2533, 'lack': 2502, 'blow': 514, 'lucky': 2683, 'eyes': 1613, 'hilariously': 2107, 'threatening': 4468, 'climactic': 848, 'blue': 518, 'giant': 1905, 'side': 3965, 'toward': 4539, 'stretch': 4221, 'imagination': 2236, 'warning': 4800, 'wouldve': 4959, 'fitting': 1742, 'words': 4938, 'hell': 2077, 'stolen': 4195, 'minute': 2858, 'bugs': 613, 'stretched': 4222, 'fantastic': 1651, 'painful': 3171, 'produce': 3413, 'blame': 499, 'rate': 3526, 'offended': 3085, 'thin': 4449, 'face': 1616, 'body': 527, 'resolution': 3649, 'actual': 108, 'stood': 4199, 'walked': 4776, 'deserves': 1201, 'deserve': 1199, 'paying': 3217, 'reasonable': 3558, 'avoid': 363, 'costs': 1004, 'warned': 4798, 'sunshine': 4294, 'marks': 2742, 'return': 3665, 'multi': 2935, 'absence': 70, 'winning': 4898, 'talents': 4356, 'tragedy': 4551, 'exploration': 1593, 'becomes': 434, 'specific': 4099, 'picks': 3268, 'necessary': 2984, 'convey': 982, 'husband': 2204, 'born': 544, 'opens': 3115, 'piano': 3264, 'shop': 3945, 'bumbling': 622, 'song': 4071, 'fate': 1665, 'store': 4204, 'grasp': 1960, 'onto': 3111, 'strength': 4219, 'overcome': 3151, 'dramatic': 1348, 'pulls': 3464, 'imagery': 2234, 'satisfied': 3789, 'melodrama': 2797, 'captures': 678, 'attempts': 343, 'deal': 1135, 'subtlety': 4261, 'smaller': 4034, 'performs': 3234, 'stage': 4139, 'technically': 4382, 'classical': 836, 'complaint': 920, 'distance': 1294, 'empathy': 1462, 'pushed': 3478, 'plight': 3308, 'tears': 4380, 'increasingly': 2268, 'behavior': 446, 'further': 1853, 'credits': 1050, 'finished': 1733, 'honestly': 2147, 'novel': 3052, 'wooden': 4934, 'blatant': 502, 'brilliance': 582, 'impression': 2252, 'shallow': 3917, 'key': 2458, 'resulting': 3661, 'romance': 3732, 'rochester': 3719, 'jane': 2380, 'eyre': 1614, 'appears': 278, 'interaction': 2322, 'imagine': 2238, 'quirky': 3493, 'cheek': 779, 'portrayed': 3342, 'namely': 2962, 'mrs': 2930, 'grace': 1950, 'timothy': 4499, 'dalton': 1098, 'hopes': 2159, 'claims': 830, 'post': 3352, 'plain': 3286, 'perfection': 3225, 'suitable': 4285, 'meaningful': 2781, 'message': 2819, 'south': 4087, 'expecting': 1578, 'basketball': 409, 'nowhere': 3056, 'matt': 2768, 'stone': 4197, 'parker': 3191, 'value': 4709, 'seriously': 3892, 'slap': 4018, 'stick': 4185, 'style': 4249, 'mixed': 2877, 'release': 3602, 'critical': 1062, 'brain': 562, 'expect': 1575, 'youve': 4995, 'chemistry': 782, 'particular': 3194, 'appealing': 272, 'likable': 2598, 'james': 2378, 'catherine': 719, 'theyre': 4445, 'surviving': 4323, 'holiday': 2134, 'unfortunately': 4654, 'disturbed': 1299, 'viewed': 4737, 'fully': 1847, 'buy': 640, 'border': 539, 'discovered': 1280, 'naked': 2959, 'pictures': 3270, 'colors': 879, 'fourth': 1813, 'string': 4227, 'girl': 1909, 'damage': 1099, 'aint': 163, 'anyway': 261, 'highest': 2102, 'rated': 3527, 'nicholson': 3011, 'greatest': 1966, 'moving': 2928, 'isolated': 2363, 'winter': 4900, 'possessed': 3347, 'horrors': 2169, 'tense': 4403, 'messages': 2820, 'constant': 957, 'references': 3583, 'danger': 1109, 'red': 3576, 'kubrick': 2496, 'loves': 2674, 'talking': 4360, 'conclusion': 936, 'sleep': 4024, 'british': 589, 'notably': 3042, 'novels': 3053, 'exceptional': 1558, 'actress': 105, 'richardson': 3688, 'appeared': 276, 'jeremy': 2394, 'discovers': 1281, 'affair': 135, 'terrorist': 4413, 'crying': 1074, 'plays': 3301, 'quiet': 3492, 'rose': 3739, 'lawrence': 2539, 'trip': 4588, 'filled': 1715, 'discovery': 1282, 'unlikely': 4671, 'pair': 3176, 'ladies': 2506, 'walker': 4778, 'resembles': 3646, 'louise': 2666, 'brooks': 596, 'hair': 2005, 'wears': 4832, 'fisher': 1739, 'joan': 2404, 'spring': 4134, 'overwhelming': 3157, 'alfred': 181, 'jim': 2402, 'relatively': 3600, 'fill': 1714, 'husbands': 2205, 'magical': 2704, 'elements': 1443, 'wonder': 4926, 'hook': 2152, 'revealing': 3672, 'importantly': 2248, 'tie': 4488, 'related': 3594, 'press': 3379, 'happened': 2027, 'result': 3660, 'tons': 4520, 'scary': 3807, 'stranger': 4213, 'calls': 654, 'lame': 2510, 'gonna': 1936, 'explain': 1586, 'crew': 1053, 'cause': 723, 'job': 2405, 'lets': 2580, 'okay': 3099, 'enjoyment': 1488, 'mundane': 2938, 'rachel': 3500, 'franchise': 1817, 'guest': 1992, 'appearance': 274, 'arnold': 296, 'clue': 864, 'wrote': 4974, 'disappointing': 1274, 'garbage': 1870, 'tried': 4584, 'popcorn': 3331, 'resemblance': 3645, 'contrived': 976, '3d': 46, 'equivalent': 1512, 'heres': 2087, 'replaced': 3634, 'detailed': 1218, 'burn': 625, 'skin': 4015, 'changing': 752, 'makeup': 2717, 'freddy': 1826, 'rent': 3626, 'promises': 3432, 'writers': 4969, 'witty': 4917, 'sadly': 3769, 'grab': 1949, 'ready': 3546, 'suspenseful': 4331, 'hearing': 2063, 'decided': 1149, 'cable': 644, 'struggles': 4235, 'focusing': 1769, 'stories': 4205, 'womens': 4924, 'private': 3404, 'needless': 2989, 'certain': 737, 'minded': 2850, 'sell': 3871, 'copy': 994, 'holy': 2140, 'crack': 1027, 'perfectly': 3226, 'latter': 2528, 'collection': 874, 'protagonists': 3442, 'los': 2653, 'angeles': 233, 'legendary': 2565, 'drag': 1342, 'smoke': 4039, 'tommy': 4516, 'spite': 4117, 'design': 1202, 'touches': 4535, 'thick': 4447, 'cop': 991, 'anywhere': 263, 'global': 1920, 'disaster': 1276, 'chicago': 785, 'robots': 3718, 'crowd': 1067, 'overdone': 3152, 'destroy': 1213, 'due': 1382, 'utterly': 4702, 'forty': 1807, 'victor': 4731, 'finest': 1730, 'weve': 4856, 'major': 2711, 'radio': 3504, 'joseph': 2419, 'stunning': 4244, 'portion': 3338, 'overlooked': 3154, 'receive': 3563, 'oscar': 3133, 'nomination': 3026, 'philosophy': 3254, 'sadness': 3770, 'television': 4394, 'streisand': 4218, 'entertainment': 1500, 'lifetime': 2594, 'group': 1980, 'christians': 809, 'christian': 808, 'drawn': 1351, 'lousy': 2667, 'knew': 2486, 'hated': 2047, 'placed': 3283, 'cheese': 780, 'none': 3028, 'rented': 3628, 'werewolf': 4850, '1996': 26, 'wars': 4804, 'saga': 3773, 'ended': 1470, '1983': 22, 'entry': 1504, 'creatures': 1046, 'woods': 4935, 'among': 217, 'space': 4090, 'ships': 3935, 'individual': 2277, 'luke': 2687, 'carrie': 697, 'ford': 1789, 'page': 3167, 'wonderful': 4928, 'tale': 4353, 'musicals': 2948, 'wild': 4885, 'lover': 2672, 'helps': 2082, 'fellow': 1691, 'oliver': 3102, 'reed': 3580, 'bill': 481, 'starred': 4153, 'mine': 2853, '12': 3, 'engaging': 1481, 'tape': 4365, 'nor': 3032, 'estate': 1525, 'hart': 2041, 'producer': 3415, 'presented': 3376, 'wwii': 4975, 'showing': 3958, 'vhs': 4725, 'quality': 3484, 'audio': 354, 'correct': 1000, 'aspect': 321, 'starting': 4158, 'motion': 2913, 'eg': 1434, 'judy': 2426, 'barry': 401, 'nelson': 2997, 'peter': 3247, 'superman': 4301, 'gary': 1873, '24': 39, 'details': 1219, 'insight': 2298, 'training': 4558, 'pilot': 3276, 'assigned': 325, 'gender': 1878, 'hardly': 2036, 'acceptable': 81, 'todays': 4509, 'generation': 1883, 'fbi': 1675, 'starring': 4154, 'usa': 4691, 'break': 569, 'violent': 4748, 'ralph': 3510, 'sent': 3880, 'following': 1774, 'jr': 2423, 'charles': 764, 'magazine': 2701, 'honest': 2146, 'reveals': 3673, 'miss': 2866, 'howard': 2182, 'hurt': 2202, 'anymore': 258, 'taste': 4369, 'clean': 838, 'ups': 4686, 'tragic': 4552, 'loser': 2655, 'current': 1084, 'hardy': 2037, 'handsome': 2021, 'dad': 1095, 'featured': 1679, 'arrogant': 303, 'horrifying': 2167, 'sequence': 3887, 'plant': 3293, 'wacky': 4769, 'government': 1948, 'agent': 150, 'provides': 3450, 'inevitable': 2282, 'pops': 3332, 'prisoners': 3403, 'company': 910, 'product': 3418, '2000': 30, 'soft': 4051, 'drink': 1361, 'location': 2635, 'guide': 1993, 'cover': 1022, 'elephant': 1444, 'dislike': 1288, 'realized': 3553, 'shooting': 3943, 'extent': 1605, 'progress': 3425, 'mature': 2773, 'needed': 2988, 'dry': 1377, 'recall': 3562, 'walking': 4779, 'annoying': 249, 'base': 402, 'gotten': 1947, 'darker': 1116, 'monkeys': 2891, 'insane': 2296, 'packed': 3166, 'bruce': 602, 'willis': 4890, 'cole': 873, 'information': 2288, 'ensues': 1493, '1990': 24, 'believes': 456, 'thrilling': 4474, 'brad': 560, 'pitt': 3280, 'terry': 4415, 'ted': 4386, 'corpse': 999, 'casting': 711, 'lesson': 2577, 'sleeping': 4025, 'financial': 1725, 'gordon': 1940, 'lewis': 2586, 'gods': 1928, 'fashion': 1659, 'afford': 138, 'rights': 3697, 'cat': 713, 'aliens': 184, 'planet': 3289, 'painted': 3174, 'machine': 2693, 'capable': 672, 'aside': 315, 'paid': 3169, 'five': 1743, 'dollars': 1315, 'hideous': 2098, 'access': 83, 'mail': 2706, 'mel': 2796, 'epic': 1506, 'poem': 3312, 'modern': 2882, 'literature': 2623, 'versions': 4721, 'filmmakers': 1720, 'mountains': 2918, 'crap': 1031, 'industry': 2280, 'jackson': 2375, 'roman': 3731, 'model': 2880, 'please': 3304, 'spare': 4093, 'stephen': 4176, 'king': 2479, 'productions': 3420, 'desperation': 1210, 'storm': 4206, 'brady': 561, 'mary': 2751, 'shape': 3919, 'cats': 721, 'town': 4541, 'lay': 2542, 'catch': 714, 'latest': 2526, 'seek': 3858, 'virgin': 4749, 'therefore': 4439, 'sake': 3775, 'small': 4033, 'tends': 4402, 'uk': 4626, 'sky': 4017, 'thriller': 4472, 'channels': 754, 'keeps': 2451, 'seasons': 3844, 'dean': 1139, 'addition': 118, 'ben': 463, 'direct': 1258, 'atlantis': 332, 'spin': 4112, 'stargate': 4151, 'genres': 1889, 'wide': 4880, 'range': 3516, 'types': 4622, 'four': 1812, 'extreme': 1609, 'abuse': 74, 'reviewer': 3677, 'eva': 1531, 'chick': 786, 'kiss': 2483, 'talks': 4361, 'crush': 1072, 'acted': 98, 'virtually': 4751, 'hoping': 2160, '40': 48, 'myself': 2953, 'listed': 2618, 'above': 68, 'wasting': 4810, 'funniest': 1851, 'laurel': 2537, 'ghost': 1902, 'texas': 4418, 'front': 1841, 'count': 1010, 'impact': 2244, 'pure': 3471, 'nude': 3058, 'cult': 1077, 'status': 4165, 'discover': 1279, 'lights': 2597, 'million': 2847, 'disjointed': 1287, 'laughed': 2532, '25': 40, 'jennifer': 2392, 'seven': 3903, 'currently': 1085, 'led': 2558, 'realize': 3552, 'massacre': 2754, 'worry': 4950, 'killers': 2471, 'blew': 505, 'fashioned': 1660, 'twists': 4619, 'suffice': 4279, 'hurts': 2203, 'brings': 587, 'caused': 724, 'anger': 235, 'cheating': 776, 'unable': 4631, 'open': 3112, 'souls': 4080, 'degree': 1164, 'trapped': 4564, 'emotionally': 1460, 'alone': 194, 'heavy': 2070, 'subject': 4253, 'political': 3324, 'serious': 3891, 'bits': 490, 'allowing': 191, 'scale': 3802, 'event': 1535, 'trite': 4589, 'vehicle': 4718, 'opinions': 3119, 'connection': 946, 'regret': 3591, 'paul': 3214, 'thomas': 4458, 'childish': 791, 'billy': 482, 'allows': 192, 'shy': 3962, 'confidence': 938, 'charlie': 765, 'trade': 4547, 'center': 732, 'delivers': 1172, 'portrait': 3339, 'alan': 171, 'johnson': 2411, 'practice': 3363, 'hasnt': 2044, 'met': 2822, 'allow': 189, 'grow': 1982, 'rule': 3753, 'creep': 1051, 'test': 4416, 'supporting': 4304, 'appearances': 275, 'tough': 4537, 'nicely': 3009, 'phone': 3255, 'showed': 3956, 'element': 1442, 'psychiatrist': 3455, 'cameos': 658, 'effective': 1429, 'everywhere': 1545, 'crafted': 1029, 'flawless': 1751, 'cuts': 1091, 'background': 380, 'annoyed': 248, 'tied': 4489, 'inferior': 2285, 'eddie': 1416, 'remake': 3612, 'beats': 426, 'comparison': 914, 'horrific': 2166, 'considered': 951, 'existence': 1571, 'earth': 1403, 'ourselves': 3140, 'species': 4098, 'universe': 4666, 'ashamed': 312, 'responsibility': 3655, 'prevent': 3385, 'creation': 1040, 'embarrassment': 1455, 'loaded': 2632, 'monsters': 2893, 'shark': 3921, 'attack': 337, 'rush': 3759, 'jump': 2429, 'fancy': 1649, 'repetitive': 3633, 'amount': 219, 'shake': 3914, 'form': 1798, 'suicide': 4283, 'methods': 2825, 'sitting': 4007, 'everybody': 1540, 'creative': 1041, 'convoluted': 987, 'religious': 3608, 'gabriel': 1859, 'price': 3389, 'rental': 3627, 'players': 3299, 'murphy': 2944, 'glenn': 1918, 'ii': 2226, 'disappeared': 1271, 'literally': 2622, 'nurse': 3063, 'birth': 486, 'showdown': 3955, 'occasionally': 3075, 'manage': 2722, 'overlook': 3153, 'multiple': 2936, 'errors': 1516, 'continuity': 972, 'tedious': 4387, 'luckily': 2682, 'regarding': 3589, 'worthwhile': 4955, 'sequences': 3888, 'note': 3044, 'futuristic': 1857, 'steel': 4173, 'factory': 1623, 'checking': 778, 'charisma': 762, 'advise': 134, 'bore': 540, 'choreographed': 801, 'convincing': 985, 'hong': 2149, 'kong': 2494, 'listening': 2620, 'ninja': 3018, 'frankly': 1823, 'golden': 1934, 'disappointment': 1275, 'atmosphere': 333, 'notch': 3043, 'locations': 2636, 'kenneth': 2455, 'driven': 1365, 'unreal': 4676, 'outside': 3146, 'somebody': 4062, 'necessarily': 2983, 'stereotypical': 4180, 'cynical': 1093, 'appreciation': 281, 'ten': 4399, 'loose': 2650, 'interpretation': 2328, 'sexual': 3908, 'ego': 1435, 'dinner': 1254, 'european': 1530, 'reviewers': 3678, 'karen': 2444, 'simple': 3983, 'army': 295, 'bomb': 531, 'unit': 4663, 'acts': 107, 'sometimes': 4067, 'ability': 65, 'fame': 1642, 'adequate': 120, 'grows': 1985, 'popularity': 3334, 'bar': 396, 'oscars': 3134, 'won': 4925, 'mistakes': 2873, 'core': 995, 'filming': 1718, 'werent': 4849, 'attempting': 342, 'sit': 4003, 'pulp': 3465, 'fiction': 1702, 'jason': 2383, 'engaged': 1480, 'princess': 3397, 'blair': 497, 'chooses': 800, 'daily': 1097, 'party': 3200, 'dancer': 1104, 'julia': 2427, 'duo': 1386, 'wake': 4774, 'bed': 436, 'behind': 447, 'ahead': 159, 'runs': 3757, 'learning': 2552, 'cousin': 1021, 'talk': 4358, 'stomach': 4196, 'charming': 768, 'natural': 2973, 'julie': 2428, 'california': 650, 'settings': 3901, 'imaginative': 2237, 'inspired': 2301, 'tonight': 4519, 'academy': 77, 'china': 795, 'occasional': 3074, 'floating': 1758, 'copies': 992, 'issues': 2365, 'italy': 2368, 'la': 2500, 'confusing': 942, 'elsewhere': 1449, 'germany': 1898, 'demons': 1178, 'shut': 3961, 'regardless': 3590, 'senseless': 3878, 'island': 2361, 'picked': 3266, 'german': 1896, 'witch': 4909, 'photographer': 3259, 'girlfriend': 1910, 'leslie': 2574, 'rick': 3689, 'property': 3438, 'annie': 247, 'pregnant': 3369, 'grown': 1984, 'linda': 2609, 'sullivan': 4288, 'inside': 2297, 'boat': 523, 'driver': 1366, 'hung': 2197, 'lady': 2507, 'lips': 2615, 'accidentally': 85, 'witches': 4910, 'raped': 3522, 'demon': 1177, 'thanks': 4423, 'doll': 1313, 'technical': 4381, 'screaming': 3827, 'distracting': 1297, 'horse': 2170, 'appreciate': 279, 'riding': 3695, 'enjoys': 1489, 'horses': 2171, 'ridden': 3691, 'ride': 3692, 'dangerous': 1110, 'al': 170, 'theory': 4437, 'warming': 4795, 'oil': 3097, 'risk': 3704, 'told': 4513, 'truth': 4599, 'branagh': 564, 'obscure': 3068, 'rarely': 3524, '1930s': 11, 'musical': 2947, 'shakespeare': 3915, 'styles': 4250, 'cases': 708, 'lane': 2515, 'hysterical': 2208, 'mistaken': 2872, 'language': 2516, 'authority': 360, 'valley': 4707, 'numbers': 3061, 'staged': 4140, 'sea': 3838, 'leaving': 2557, 'amateurish': 207, 'singing': 3995, 'dancing': 1107, 'lone': 2642, 'exception': 1557, 'splendid': 4119, 'saving': 3797, 'emily': 1456, 'youd': 4987, 'titles': 4506, 'pass': 3201, 'fortune': 1806, 'susan': 4326, 'chosen': 805, 'waitress': 4773, 'petty': 3249, 'thief': 4448, 'moore': 2901, 'worlds': 4947, 'endearing': 1469, 'agree': 155, 'sir': 4000, 'portrays': 3344, 'advice': 133, 'closing': 859, 'roll': 3728, 'illegal': 2229, 'loses': 2657, 'nominated': 3025, 'extremely': 1610, 'catchy': 717, 'edited': 1420, 'text': 4419, 'events': 1536, 'louis': 2665, 'fred': 1825, 'parody': 3192, 'warm': 4794, 'watches': 4814, 'finish': 1732, 'curiosity': 1082, 'button': 639, 'studios': 4241, 'suffered': 4276, 'sidney': 3968, 'delight': 1167, 'nervous': 2999, 'ruthless': 3764, 'daddy': 1096, 'ultimate': 4627, 'country': 1014, 'comfortable': 892, 'sunday': 4293, 'color': 877, 'tradition': 4549, 'household': 2179, 'breathtaking': 574, 'lake': 2509, 'followed': 1773, 'reflection': 3585, 'survival': 4320, 'americans': 214, 'enjoying': 1487, 'account': 89, 'sixties': 4011, 'established': 1524, 'cultural': 1078, 'surface': 4310, 'nation': 2969, 'debut': 1143, 'market': 2740, 'rough': 3741, 'classics': 837, 'angels': 234, 'guilt': 1994, 'author': 359, 'intended': 2315, 'public': 3460, 'jumped': 2430, 'dr': 1340, 'bloody': 513, 'convincingly': 986, 'fields': 1705, 'evidence': 1546, 'appear': 273, 'beliefs': 452, 'investigate': 2342, 'counter': 1011, 'trial': 4580, 'finding': 1727, 'sam': 3777, 'identify': 2216, 'haunting': 2051, 'lived': 2626, 'wave': 4818, 'surfing': 4311, 'sport': 4129, 'videos': 4734, 'images': 2235, 'perspective': 3245, 'pretentious': 3383, 'nonsense': 3030, 'listen': 2619, 'unfunny': 4655, 'woody': 4936, 'imitation': 2241, '70': 55, 'impossible': 2249, 'afternoon': 144, 'position': 3345, 'car': 680, 'germans': 1897, 'theatre': 4429, '1960s': 15, 'broadway': 592, 'genuinely': 1892, 'revenge': 3675, 'gay': 1876, 'social': 4049, 'removed': 3624, 'hate': 2046, 'pig': 3274, 'bigger': 479, 'international': 2326, 'europe': 1529, 'influenced': 2287, 'jesus': 2399, 'christ': 807, 'unsettling': 4679, 'glorious': 1921, 'storytelling': 4209, 'sweet': 4336, 'threw': 4470, 'trash': 4565, 'tim': 4494, 'robbins': 3712, 'smart': 4035, 'morning': 2906, 'graphics': 1959, 'dreadful': 1353, 'facial': 1619, 'empty': 1465, 'soul': 4079, 'lacks': 2505, 'likes': 2602, 'intrigued': 2334, 'previously': 3388, 'unseen': 4678, 'mistake': 2871, 'hospital': 2172, 'personalities': 3241, 'soap': 4047, 'opera': 3116, 'stereotype': 4178, 'racist': 3503, 'raymond': 3534, 'hill': 2108, 'hip': 2114, 'helen': 2075, 'anna': 245, 'caring': 691, 'loving': 2675, 'leading': 2547, 'eric': 1514, 'folks': 1771, 'sleazy': 4023, 'mall': 2720, 'figure': 1711, 'subjects': 4254, 'experiment': 1583, 'scientific': 3817, 'study': 4242, 'environment': 1505, 'general': 1880, 'wishes': 4906, 'call': 651, 'guard': 1988, 'project': 3427, 'treasure': 4571, 'technology': 4385, 'repeated': 3631, 'size': 4012, 'quit': 3494, 'basis': 408, 'alternate': 200, 'suggested': 4281, 'titled': 4505, 'stress': 4220, 'asks': 319, 'weapon': 4828, 'boom': 537, 'visible': 4753, 'seconds': 3848, 'pretend': 3381, 'mysteries': 2954, 'whom': 4875, 'manner': 2729, 'mini': 2854, 'regard': 3588, 'absurd': 73, 'telling': 4396, 'finger': 1731, 'pseudo': 3454, 'pointless': 3318, 'substance': 4258, 'frustrated': 1842, 'blowing': 515, 'elm': 1447, 'grade': 1951, '75': 57, 'explained': 1587, 'thankfully': 4422, 'detail': 1217, 'underrated': 4642, 'berlin': 467, 'von': 4765, 'artistic': 308, 'paper': 3183, 'testament': 4417, 'rare': 3523, 'nazi': 2977, 'peoples': 3222, 'search': 3841, 'mothers': 2912, 'capital': 673, 'ruth': 3763, 'surprising': 4315, 'jewish': 2401, 'sits': 4006, 'deceased': 1146, 'maria': 2736, 'brother': 598, 'pitch': 3279, 'presence': 3373, 'van': 4713, 'domestic': 1318, 'arrives': 302, 'pay': 3216, 'drops': 1372, 'childhood': 790, 'mom': 2885, 'refuses': 3587, 'discuss': 1283, 'saved': 3795, 'pretending': 3382, 'lena': 2568, 'memories': 2803, 'sarah': 3785, 'included': 2262, 'population': 3335, 'frightening': 1839, 'intensity': 2317, 'building': 615, 'builds': 617, 'seeking': 3859, 'aid': 160, 'subplot': 4255, 'eight': 1436, 'manhattan': 2726, 'handful': 2017, 'defeat': 1157, 'mental': 2808, 'aging': 153, 'suspect': 4327, 'dealing': 1136, 'ordinary': 3128, 'provide': 3448, 'bears': 421, 'likely': 2601, 'understood': 4647, 'fathers': 1667, 'familys': 1646, 'critic': 1061, 'hitler': 2124, 'relatives': 3601, 'central': 735, 'understandable': 4644, 'argument': 291, 'somewhere': 4069, 'willing': 4889, 'pre': 3365, '1933': 12, 'elderly': 1440, 'remarks': 3615, 'accomplished': 87, 'survived': 4322, 'courage': 1018, 'occasion': 3073, 'attractive': 351, 'curse': 1086, 'involves': 2348, 'spirit': 4113, 'attraction': 350, 'miike': 2837, 'pushing': 3479, 'alive': 186, 'overly': 3155, 'merits': 2817, 'suits': 4287, 'johnny': 2410, 'downright': 1337, 'instance': 2304, 'intent': 2318, 'concerned': 932, 'ratings': 3530, 'includes': 2263, 'enthusiasm': 1501, 'directing': 1260, '100': 1, 'odd': 3080, 'sitcom': 4004, 'strike': 4224, 'molly': 2884, 'fat': 1663, 'wives': 4918, 'politically': 3325, 'suppose': 4305, 'sequels': 3886, 'goodness': 1938, 'recognized': 3570, 'robinson': 3716, 'chorus': 803, 'club': 863, 'stereotypes': 4179, 'animated': 241, 'disneys': 1290, 'mickey': 2831, 'mouse': 2919, 'loads': 2633, 'uncle': 4636, 'clips': 852, 'claire': 831, 'arrived': 301, 'jean': 2389, 'nancy': 2964, 'seeks': 3860, 'abandoned': 62, 'viewings': 4741, 'pacing': 3163, 'advanced': 128, 'gripping': 1976, 'jon': 2416, 'pink': 3277, 'blonde': 511, 'worried': 4949, 'laid': 2508, 'stock': 4193, 'lisa': 2616, 'partner': 3198, 'introduced': 2337, 'russian': 3762, 'sole': 4055, 'talked': 4359, 'ignorant': 2223, 'amazingly': 210, 'luck': 2681, 'lesbian': 2573, 'christmas': 810, 'throwing': 4480, 'upset': 4687, 'hitting': 2126, 'thank': 4421, 'combined': 885, 'spooky': 4128, 'adding': 117, 'steven': 4182, 'seagal': 3839, 'promised': 3431, 'attempted': 341, 'gas': 1874, 'successfully': 4267, 'fighter': 1708, 'territory': 4411, 'ground': 1979, 'kidnapped': 2466, 'jones': 2418, 'command': 897, 'rescue': 3643, 'trained': 4557, 'navy': 2976, 'area': 286, 'guns': 1998, 'dropping': 1371, 'write': 4967, 'understated': 4646, 'fights': 1710, 'combat': 882, 'chief': 788, 'shame': 3918, 'neck': 2985, 'crash': 1033, 'law': 2538, 'jesse': 2397, 'joey': 2408, 'raise': 3507, 'michelle': 2830, 'bob': 524, 'dave': 1123, 'kate': 2446, 'ashley': 313, 'physical': 3262, 'massive': 2756, 'neither': 2996, 'incoherent': 2265, 'initially': 2291, 'flesh': 1753, 'suggests': 4282, 'involvement': 2347, 'sympathetic': 4342, 'aforementioned': 139, 'sheriff': 3929, 'ireland': 2352, 'solve': 4060, 'destroying': 1215, 'murders': 2943, 'concert': 935, 'effectively': 1430, 'prior': 3400, 'trailers': 4555, 'weeks': 4839, 'keaton': 2448, 'answers': 252, 'cliché': 844, 'sudden': 4272, 'receives': 3565, 'reaching': 3539, 'exact': 1550, 'spirits': 4115, 'menace': 2806, 'forgettable': 1794, 'noise': 3024, 'throat': 4476, 'blown': 516, 'opposite': 3123, 'commercials': 903, 'ghosts': 1903, 'beach': 419, 'documentary': 1307, 'attitudes': 347, 'babe': 375, 'models': 2881, 'blows': 517, 'stylish': 4251, 'results': 3662, 'cold': 872, 'wished': 4905, 'mill': 2845, 'guts': 1999, 'term': 4405, 'loosely': 2651, 'muslim': 2949, 'lying': 2690, 'ludicrous': 2685, 'selling': 3873, 'west': 4852, 'east': 1407, 'sean': 3840, 'reached': 3537, 'intention': 2319, 'train': 4556, 'wreck': 4965, 'dumb': 1385, 'legend': 2564, 'inevitably': 2283, 'consists': 955, 'journalist': 2420, 'record': 3573, 'extended': 1604, 'afraid': 140, 'losing': 2658, 'anne': 246, 'deeper': 1155, 'dramas': 1347, 'whilst': 4869, 'buried': 624, 'cheated': 775, 'investigation': 2343, 'witnesses': 4916, 'significant': 3972, 'prime': 3395, 'focus': 1766, 'individuals': 2278, 'extraordinary': 1607, 'tour': 4538, 'de': 1131, 'prepared': 3371, 'subtle': 4260, 'powerful': 3360, 'touch': 4533, 'explored': 1595, 'exposed': 1598, 'angles': 237, 'wondering': 4930, 'facts': 1624, 'guessing': 1991, 'dialogues': 1235, 'saturday': 3792, 'flicks': 1755, 'flight': 1757, 'kelly': 2452, 'caliber': 649, 'abilities': 64, 'directors': 1266, 'ran': 3513, '1980s': 21, 'groups': 1981, 'staring': 4152, 'soviet': 4089, 'draws': 1352, 'locked': 2637, 'deliberately': 1166, 'vague': 4705, 'experiments': 1584, 'underground': 4640, 'twist': 4617, 'clichéd': 845, 'neighbor': 2992, 'system': 4345, 'punk': 3468, 'noted': 3045, 'teenage': 4389, 'kudos': 2497, 'civil': 826, 'widely': 4881, 'length': 2569, 'beloved': 461, 'frank': 1821, 'returns': 3668, 'neighbors': 2994, '1973': 19, 'silver': 3977, 'village': 4743, 'deaths': 1142, 'demands': 1175, 'attacks': 339, 'vampires': 4712, 'returning': 3667, 'synopsis': 4344, 'perform': 3227, 'douglas': 1334, 'fay': 1674, 'shall': 3916, 'pulled': 3462, 'officer': 3092, 'jay': 2386, 'standing': 4146, 'added': 116, 'twisted': 4618, 'inventive': 2341, 'tiresome': 4502, 'lately': 2524, 'magic': 2703, 'routine': 3743, 'doctors': 1305, 'limited': 2606, 'segment': 3867, 'lyrics': 2692, 'understanding': 4645, 'drives': 1367, 'racial': 3501, 'san': 3780, 'francisco': 1819, 'passion': 3205, 'affected': 137, 'treat': 4572, 'physically': 3263, 'speech': 4102, 'dream': 1354, 'bin': 483, 'foster': 1809, 'river': 3707, 'believing': 457, 'performing': 3233, 'fortunately': 1805, 'lowest': 2678, 'causes': 725, 'prize': 3405, 'tony': 4521, 'domino': 1319, 'harvey': 2042, 'dropped': 1370, 'rubbish': 3748, 'source': 4086, 'scores': 3823, 'sets': 3899, 'vegas': 4717, 'potentially': 3356, 'exciting': 1563, 'exercise': 1568, 'brave': 567, 'failure': 1629, 'embarrassing': 1454, 'fooled': 1780, 'library': 2589, 'cary': 706, 'grant': 1956, 'stanley': 4148, 'developed': 1223, 'characterization': 759, 'uneven': 4649, 'criticism': 1063, 'quick': 3490, 'portray': 3340, 'persona': 3239, 'delivery': 1173, 'initial': 2290, 'dignity': 1252, 'elegant': 1441, 'heroes': 2089, 'assumed': 329, 'tag': 4348, 'pie': 3271, 'junk': 2436, 'citizen': 824, 'kane': 2442, 'beneath': 464, '45': 50, 'uninteresting': 4660, 'compare': 911, 'breasts': 572, 'choose': 799, 'dragon': 1344, 'immensely': 2243, 'merely': 2815, 'overacting': 3149, 'boredom': 542, 'buff': 611, 'gotta': 1946, 'pile': 3275, 'insult': 2309, 'precious': 3366, 'manipulative': 2727, 'mid': 2832, 'sloppy': 4030, 'wandering': 4785, 'reference': 3582, 'ignored': 2225, 'assume': 328, 'offers': 3090, 'poetry': 3314, 'stale': 4141, 'poetic': 3313, 'device': 1227, 'choice': 797, 'ie': 2221, 'doomed': 1327, 'sports': 4130, 'sign': 3970, 'suffering': 4277, 'despair': 1207, 'connect': 944, 'gag': 1861, 'solely': 4056, 'fits': 1741, 'laughter': 2535, 'larry': 2520, 'miller': 2846, 'talent': 4354, 'anthony': 253, 'plane': 3288, 'mexican': 2826, 'meeting': 2794, 'knife': 2487, 'doc': 1303, 'countless': 1012, 'band': 391, 'super': 4295, 'powers': 3361, 'ron': 3734, 'italian': 2367, 'caine': 647, 'bought': 552, 'devoid': 1230, 'lighting': 2596, 'horrid': 2165, 'introduction': 2339, 'tad': 4347, 'bet': 470, 'higher': 2101, 'improved': 2255, 'knowledge': 2491, 'granted': 1957, 'birds': 485, 'ship': 3934, 'ocean': 3079, 'joe': 2407, 'forth': 1804, 'robot': 3717, 'weapons': 4829, 'include': 2261, 'dude': 1381, 'revolution': 3680, 'tribute': 4581, 'remarkably': 3614, 'power': 3359, 'henry': 2084, 'fonda': 1777, 'fault': 1668, 'lies': 2591, 'nicholas': 3010, 'ham': 2011, 'proved': 3446, 'jeffrey': 2391, 'contract': 973, 'player': 3298, 'borrowed': 545, 'colour': 880, 'lacking': 2504, 'displayed': 1292, 'flashbacks': 1747, 'robin': 3715, 'hood': 2151, 'whatsoever': 4861, 'mentioning': 2812, 'barely': 399, 'alert': 178, 'rap': 3520, 'offensive': 3086, 'historical': 2119, 'reminded': 3619, 'justify': 2439, 'description': 1197, 'rage': 3505, 'department': 1182, 'horribly': 2164, 'meat': 2787, 'scared': 3805, 'network': 3000, 'reasonably': 3559, 'till': 4493, 'someones': 4065, 'nine': 3017, 'clothing': 861, 'dated': 1119, 'timeless': 4496, 'heston': 2094, 'believed': 455, 'peters': 3248, 'cake': 648, 'stiff': 4187, 'cutting': 1092, 'floor': 1759, 'flawed': 1750, 'distribution': 1298, 'dozens': 1339, 'absolute': 71, 'max': 2774, 'stooges': 4200, 'ed': 1415, 'wood': 4933, 'describes': 1196, 'depressing': 1188, 'warmth': 4796, 'liberal': 2588, 'chilling': 794, 'thirty': 4456, 'chose': 804, 'covered': 1023, 'bbc': 417, 'inspector': 2299, 'holmes': 2139, 'dickens': 1240, 'london': 2641, 'sounded': 4082, 'poverty': 3357, 'raw': 3532, 'generous': 1886, 'court': 1020, 'retired': 3664, 'closer': 856, 'practically': 3362, 'ideal': 2214, 'wonders': 4931, 'faster': 1662, 'shadows': 3913, 'easier': 1405, 'phantom': 3251, 'screenwriter': 3833, 'goal': 1925, 'appearing': 277, 'mtv': 2933, 'similarities': 3979, 'der': 1191, 'africa': 141, 'content': 966, 'issue': 2364, 'quest': 3486, 'contact': 961, 'extra': 1606, 'disbelief': 1277, 'asked': 317, 'contest': 967, 'spoke': 4125, 'titanic': 4503, 'cameron': 661, 'rising': 3703, 'panic': 3181, 'stealing': 4171, 'expert': 1585, 'fictional': 1703, 'accept': 80, 'classes': 834, 'silent': 3975, 'carry': 700, 'beautifully': 429, 'reminiscent': 3621, 'montage': 2894, 'workers': 4943, 'flaw': 1749, 'belongs': 460, 'korean': 2495, 'ha': 2002, 'innocent': 2294, 'exaggerated': 1552, 'funnier': 1850, 'props': 3439, 'stiller': 4189, 'blacks': 494, 'disappear': 1270, 'lesser': 2576, 'nostalgic': 3039, 'emotions': 1461, 'dare': 1113, 'bettie': 473, 'demand': 1174, 'depicts': 1186, 'combination': 883, 'visits': 4756, 'gray': 1963, 'students': 4239, 'photos': 3261, 'persons': 3244, 'concerning': 933, 'costume': 1005, 'pointed': 3317, 'wearing': 4831, 'outfit': 3144, 'seventies': 3904, 'appreciated': 280, 'intrigue': 2333, 'dick': 1239, 'mixture': 2878, 'amanda': 205, 'steve': 4181, 'capturing': 679, 'americas': 215, 'royal': 3746, 'france': 1816, 'sisters': 4002, 'defend': 1158, 'gain': 1863, 'circle': 821, 'buildings': 616, 'deals': 1137, 'concerns': 934, 'barbara': 397, 'stanwyck': 4149, 'closet': 858, 'noble': 3021, 'huh': 2187, 'warner': 4799, 'sympathy': 4343, 'gene': 1879, 'flashback': 1746, 'whatever': 4859, 'conflict': 939, 'involve': 2345, '1950s': 14, 'spoken': 4126, 'gangster': 1868, 'godfather': 1927, 'pacino': 3164, 'dubbed': 1379, 'accents': 79, 'spoiled': 4122, 'ah': 158, 'smiling': 4037, 'wed': 4835, 'gadget': 1860, 'earned': 1401, 'humanity': 2189, 'toys': 4543, 'em': 1452, 'alien': 183, 'cars': 702, 'create': 1036, 'semi': 3874, 'mafia': 2700, 'protagonist': 3441, 'innovative': 2295, 'commercial': 902, 'teeth': 4393, 'edward': 1426, 'albert': 174, 'haunted': 2050, 'outcome': 3142, 'painfully': 3172, 'priest': 3392, 'chances': 748, 'highlight': 2103, 'invasion': 2340, 'remembered': 3617, 'nostalgia': 3038, 'explains': 1589, 'surprised': 4313, 'minimal': 2855, 'dolph': 1317, 'fallen': 1638, 'unwatchable': 4682, 'coherent': 871, 'unconvincing': 4638, 'rip': 3700, 'warrior': 4802, 'masters': 2761, 'traveling': 4568, 'hello': 2078, 'acid': 95, 'directly': 1263, 'challenge': 743, 'burned': 626, 'ward': 4793, 'gags': 1862, 'flat': 1748, 'thrown': 4481, 'whereas': 4865, 'broad': 590, 'church': 813, 'site': 4005, 'bear': 420, 'indian': 2274, 'summer': 4291, 'explosions': 1597, 'williams': 4888, 'summary': 4290, 'track': 4544, 'lovely': 2671, 'alas': 172, 'ignore': 2224, 'trap': 4563, 'beer': 439, 'catches': 715, 'reactions': 3542, 'rape': 3521, 'broadcast': 591, 'depicted': 1183, 'official': 3094, 'brooklyn': 595, 'vice': 4727, 'godzilla': 1929, 'franco': 1820, 'sharp': 3922, 'exist': 1569, 'lonely': 2643, 'bay': 416, 'internet': 2327, 'urge': 4689, 'frankenstein': 1822, 'research': 3644, 'dire': 1257, 'developing': 1224, 'corporate': 998, 'media': 2789, 'artificial': 306, 'agents': 151, 'masses': 2755, 'mentions': 2813, 'pet': 3246, 'ironically': 2356, 'pro': 3406, 'conservative': 948, 'equally': 1510, 'utter': 4701, 'handle': 2018, 'circumstances': 822, 'punishment': 3467, 'spending': 4106, 'contrary': 974, 'voight': 4764, 'jake': 2377, 'accident': 84, 'saves': 3796, 'genius': 1887, 'transfer': 4559, 'thoughts': 4464, 'adaptation': 113, 'spiritual': 4116, 'task': 4368, 'mass': 2753, 'lacked': 2503, 'jazz': 2387, 'spike': 4111, 'washington': 4806, 'below': 462, 'incompetent': 2266, 'bands': 392, 'greedy': 1969, 'loyal': 2679, 'prove': 3445, 'ambitious': 211, 'arm': 292, 'centered': 733, 'suited': 4286, 'mouth': 2920, 'lees': 2560, 'hits': 2125, 'abysmal': 76, 'mirror': 2861, 'midnight': 2834, 'cowboy': 1025, 'taxi': 4371, 'clumsy': 866, 'conversations': 981, 'ad': 110, 'travesty': 4570, 'blues': 519, 'letter': 2581, 'sentimental': 3882, 'served': 3894, 'bird': 484, 'reveal': 3670, 'campy': 664, 'dancers': 1105, 'mate': 2765, 'victoria': 4732, 'blunt': 520, 'incredible': 2269, 'passionate': 3206, 'metal': 2823, 'recording': 3575, 'australian': 357, 'andy': 230, 'stunt': 4245, 'driving': 1368, 'darkness': 1117, 'bus': 631, 'comedian': 887, 'rob': 3710, 'moronic': 2907, 'retarded': 3663, 'dorothy': 1330, 'tree': 4576, 'exceptionally': 1559, 'oddly': 3081, 'table': 4346, 'concern': 931, 'unforgettable': 4652, 'wind': 4893, 'stays': 4169, 'breaks': 571, 'bottle': 550, 'health': 2060, 'brief': 579, 'notable': 3041, 'creator': 1043, '2003': 33, '2004': 34, '2006': 36, 'marvelous': 2750, 'kinds': 2478, 'colorful': 878, 'unexpected': 4650, 'gift': 1906, 'ned': 2986, 'stops': 4203, 'instantly': 2306, 'chuck': 812, 'burton': 630, 'hole': 2132, 'magnificent': 2705, 'thru': 4483, 'charismatic': 763, 'tender': 4401, 'contained': 963, 'ellen': 1446, 'shines': 3932, 'dialogs': 1233, 'expressions': 1603, 'bright': 581, 'claimed': 829, 'minds': 2852, 'daring': 1114, 'community': 908, 'naive': 2958, 'aids': 161, 'puts': 3481, 'formulaic': 1803, 'immediately': 2242, 'mayor': 2777, 'duty': 1390, 'honor': 2150, 'bone': 533, 'funeral': 1849, 'brilliantly': 584, 'delivered': 1170, 'cusack': 1088, 'mediocre': 2791, 'attorney': 348, 'ties': 4490, 'walter': 4784, 'evident': 1547, 'confused': 941, 'conspiracy': 956, 'shining': 3933, 'messed': 2821, 'factor': 1622, '2001': 31, 'orange': 3125, 'disappoint': 1272, 'matches': 2764, 'falling': 1639, 'hide': 2097, 'blank': 501, 'nonsensical': 3031, 'gory': 1943, 'survivor': 4324, 'sexually': 3910, 'explicit': 1591, 'yesterday': 4983, 'adams': 112, 'pat': 3208, 'drivel': 1364, 'brenda': 575, 'ugly': 4625, 'mindless': 2851, 'buddy': 609, 'chase': 769, 'fed': 1682, 'greatly': 1967, 'couldve': 1009, 'psychic': 3456, 'fond': 1776, 'chasing': 772, 'meaningless': 2782, 'forgot': 1796, 'ruin': 3750, 'formula': 1802, 'involving': 2349, 'zombie': 4997, 'gem': 1877, 'accepted': 82, 'distinct': 1296, 'paranoia': 3186, 'surprises': 4314, 'wisdom': 4902, 'tend': 4400, 'jimmy': 2403, 'passes': 3203, 'hudson': 2184, 'stewart': 4184, 'winters': 4901, 'jungle': 2434, 'tarzan': 4367, 'bound': 553, 'hollywoods': 2138, 'youth': 4994, 'condition': 937, '17': 9, '35': 45, 'transition': 4561, 'advantage': 129, 'cliff': 847, 'temple': 4398, 'returned': 3666, 'sings': 3997, 'tunes': 4603, 'con': 928, 'pearl': 3220, 'reaches': 3538, 'ape': 266, 'road': 3709, 'ancient': 225, 'mission': 2870, 'proof': 3434, 'meanwhile': 2785, 'remotely': 3623, '1984': 23, 'desert': 1198, 'dolls': 1316, 'achieve': 92, 'user': 4696, 'fever': 1699, 'mars': 2746, 'blob': 507, 'toy': 4542, 'psychotic': 3459, 'mere': 2814, 'et': 1526, 'respected': 3653, 'tiny': 4500, '14': 6, 'rushed': 3760, 'controversial': 978, 'remarkable': 3613, 'filmed': 1717, 'perry': 3237, 'blake': 498, 'profound': 3423, 'shock': 3938, 'masterful': 2758, 'wilson': 4891, 'flash': 1745, 'occurred': 3077, 'introduce': 2336, 'weakest': 4825, 'amitabh': 216, 'pulling': 3463, 'dubbing': 1380, 'matched': 2763, 'akshay': 169, 'florida': 1761, 'rise': 3702, 'indie': 2276, 'hbo': 2055, 'boys': 559, 'infamous': 2284, 'corner': 996, 'encounter': 1466, 'unknown': 4668, 'ya': 4976, 'sally': 3776, 'plastic': 3294, 'rooms': 3736, 'staying': 4168, 'pot': 3354, 'banned': 395, 'reaction': 3541, 'poster': 3353, 'cross': 1066, 'ball': 388, 'complain': 919, 'typically': 4624, 'associated': 327, 'travels': 4569, 'japan': 2381, 'bush': 632, 'trail': 4553, 'dollar': 1314, 'buddies': 608, 'cabin': 643, 'mann': 2728, 'turning': 4608, 'gothic': 1945, 'nail': 2957, 'secretary': 3850, 'calling': 653, 'nearby': 2980, 'planning': 3291, 'refreshing': 3586, 'lord': 2652, 'rings': 3699, 'bakshi': 386, 'trilogy': 4586, 'possibilities': 3348, 'realise': 3548, 'shortly': 3947, 'ring': 3698, 'wizard': 4919, 'master': 2757, 'protect': 3443, 'doom': 1326, 'planned': 3290, 'variety': 4714, 'goofy': 1939, 'parallel': 3185, 'spell': 4104, 'cure': 1081, 'halloween': 2010, 'simmons': 3981, 'cinderella': 815, 'wanna': 4786, 'smooth': 4041, 'zombies': 4998, 'dracula': 1341, 'marry': 2745, 'entertained': 1498, 'scottish': 3825, 'jobs': 2406, 'nights': 3016, 'via': 4726, 'thoughtful': 4463, 'random': 3514, 'prostitute': 3440, 'flow': 1762, 'bothered': 549, 'warn': 4797, 'equipment': 1511, 'harry': 2039, 'relative': 3599, 'cave': 727, 'tall': 4362, 'logic': 2638, 'hire': 2116, 'hed': 2072, 'amy': 222, 'restaurant': 3658, 'airplane': 166, 'bonus': 534, 'cage': 645, 'proud': 3444, 'theaters': 4428, 'furthermore': 1854, 'realism': 3549, 'succeeds': 4264, 'credible': 1048, 'bridge': 578, 'motivation': 2914, 'bollywood': 530, 'bullets': 621, 'assault': 324, 'bullet': 620, 'rambo': 3511, 'influence': 2286, 'motivations': 2915, 'omen': 3104, 'bucks': 606, 'putting': 3482, 'disc': 1278, 'skills': 4014, 'foot': 1781, 'columbo': 881, 'format': 1799, 'falk': 1636, 'belief': 451, 'witness': 4914, 'inspiration': 2300, 'ho': 2127, 'hunting': 2201, 'gradually': 1952, 'convinced': 984, 'balance': 387, 'airport': 167, 'dreams': 1355, 'steps': 4177, 'confusion': 943, 'wicked': 4879, 'brazil': 568, 'forgive': 1795, 'ryan': 3765, 'category': 718, 'briefly': 580, 'cruise': 1071, 'jaw': 2384, 'chest': 784, 'breath': 573, 'resist': 3648, 'calm': 655, 'throws': 4482, 'merit': 2816, 'website': 4834, 'shirley': 3936, 'rain': 3506, 'birthday': 487, 'homeless': 2143, 'iron': 2354, 'tracks': 4545, 'smile': 4036, 'jumps': 2432, 'chaplin': 756, 'field': 1704, 'goldberg': 1933, 'gangsters': 1869, 'niro': 3019, 'brando': 566, 'generations': 1884, 'superbly': 4297, 'bored': 541, 'explore': 1594, 'vulnerable': 4768, 'possibility': 3349, 'opposed': 3122, 'iraq': 2351, 'curtis': 1087, 'intentions': 2321, 'canadian': 667, 'comical': 894, 'neo': 2998, 'wing': 4896, 'homer': 2144, 'simpson': 3987, 'showcase': 3954, 'stellar': 4174, 'bergman': 466, 'directorial': 1265, 'patient': 3211, 'technique': 4383, 'hoffman': 2128, 'homage': 2141, 'orson': 3132, 'dragged': 1343, 'prefer': 3368, 'educational': 1425, 'purely': 3472, 'sun': 4292, 'exotic': 1574, 'african': 142, 'slave': 4022, 'pursuit': 3476, 'displays': 1293, 'inspiring': 2302, 'purchased': 3470, 'pamela': 3179, 'pants': 3182, 'decade': 1144, 'unpleasant': 4674, 'irritating': 2359, 'ice': 2210, 'nuts': 3064, 'sat': 3786, 'witnessed': 4915, 'harsh': 2040, 'cares': 690, 'square': 4136, 'benefit': 465, 'kurt': 2499, 'picking': 3267, 'accused': 91, 'integrity': 2311, 'pick': 3265, 'breaking': 570, 'glass': 1917, 'downhill': 1336, 'lucy': 2684, 'feminist': 1695, 'hates': 2048, 'complicated': 925, 'shower': 3957, 'skip': 4016, 'australia': 356, '1968': 16, 'neighborhood': 2993, 'redemption': 3578, 'dynamic': 1394, 'choreography': 802, 'fatal': 1664, 'desire': 1205, 'hatred': 2049, 'rebel': 3561, 'cameras': 660, 'screams': 3828, 'eighties': 1437, 'views': 4742, 'khan': 2459, 'gandhi': 1866, 'cleverly': 842, 'larger': 2519, 'differences': 1247, 'send': 3875, 'sends': 3876, 'tame': 4363, 'mechanical': 2788, 'friday': 1834, 'independent': 2272, 'maker': 2714, 'presents': 3377, 'develops': 1226, 'sacrifice': 3766, 'achieved': 93, 'snake': 4042, 'sin': 3988, 'figured': 1712, 'shelf': 3926, 'highlights': 2104, 'forest': 1791, 'recorded': 3574, 'section': 3853, 'blond': 510, 'drew': 1360, 'jerk': 2395, 'lovable': 2668, 'lily': 2605, 'wrap': 4963, 'jamie': 2379, 'dig': 1250, 'craft': 1028, 'randomly': 3515, 'dawn': 1127, 'shorts': 3948, 'glover': 1923, 'clark': 832, 'chased': 770, 'drunken': 1376, 'realizes': 3554, 'shine': 3931, 'useless': 4695, 'root': 3737, 'friendly': 1836, 'subtitles': 4259, 'useful': 4694, 'homosexual': 2145, 'hanks': 2025, 'focuses': 1768, 'madness': 2698, 'rabbit': 3498, 'thrill': 4471, 'argue': 290, 'regular': 3592, 'pack': 3165, 'skill': 4013, 'imagined': 2239, 'unhappy': 4656, 'dozen': 1338, 'noir': 3023, '40s': 49, '50s': 52, 'couples': 1017, 'writes': 4970, 'trek': 4578, 'creates': 1038, 'crocodile': 1065, 'clip': 851, 'scream': 3826, 'captivating': 675, 'brand': 565, 'sincere': 3991, 'eyed': 1612, 'opened': 3113, 'per': 3223, 'thousands': 4466, 'scooby': 3820, 'doo': 1325, 'endure': 1475, '30s': 44, 'intimate': 2331, 'sue': 4274, 'recognition': 3568, 'national': 2970, 'achievement': 94, 'explosion': 1596, 'pit': 3278, 'providing': 3451, 'importance': 2246, 'invisible': 2344, 'movements': 2924, 'numerous': 3062, 'triumph': 4590, 'carefully': 689, 'admire': 121, 'mighty': 2836, 'eager': 1396, 'leo': 2571, 'rival': 3706, 'myers': 2952, 'dealt': 1138, 'ticket': 4487, 'dances': 1106, 'blend': 504, 'ballet': 389, '18': 10, 'pool': 3327, 'oz': 3160, 'st': 4137, 'georges': 1894, 'divorce': 1301, 'rendition': 3625, 'shoes': 3941, 'vincent': 4746, 'roger': 3724, 'qualities': 3483, 'represents': 3639, 'artists': 309, 'screening': 3830, 'specifically': 4100, 'generic': 1885, 'represent': 3637, 'object': 3066, 'enters': 1496, 'wrestling': 4966, 'laura': 2536, 'cannibal': 669, 'dub': 1378, 'waves': 4819, 'pleasant': 3302, 'gruesome': 1986, 'minimum': 2856, 'originality': 3130, 'succeed': 4262, 'kicked': 2461, 'fx': 1858, 'suck': 4269, 'lumet': 2688, 'tight': 4492, 'grim': 1974, 'robbery': 3711, 'carrying': 701, 'ethan': 1528, 'abraham': 69, 'halfway': 2008, 'losers': 2656, 'deliver': 1169, 'silence': 3974, 'embarrassed': 1453, 'presumably': 3380, 'succeeded': 4263, 'struck': 4232, 'strongly': 4231, 'arrive': 300, 'excitement': 1562, 'farm': 1656, 'expensive': 1579, 'exploitation': 1592, 'irony': 2357, 'mummy': 2937, 'conversation': 980, 'ranks': 3519, 'brown': 601, 'notes': 3046, 'helicopter': 2076, 'orders': 3127, 'escapes': 1519, 'sub': 4252, 'par': 3184, 'sophisticated': 4075, 'medium': 2792, 'welles': 4844, 'sinister': 3998, 'chinese': 796, 'obsession': 3070, 'incomprehensible': 2267, 'techniques': 4384, 'joy': 2422, 'irish': 2353, 'torn': 4528, 'implausible': 2245, 'corrupt': 1001, 'purchase': 3469, 'dirty': 1268, 'india': 2273, 'troubles': 4594, 'contrast': 975, 'shadow': 3912, 'grandmother': 1955, 'nightmares': 3015, 'daniel': 1111, 'definite': 1161, 'hearted': 2065, '1st': 28, 'teach': 4374, 'forbidden': 1785, 'kings': 2481, 'fairy': 1632, 'kapoor': 2443, 'repeat': 3630, 'teenager': 4390, 'bobby': 525, 'promising': 3433, 'marketing': 2741, 'rangers': 3517, 'kingdom': 2480, 'lust': 2689, 'bedroom': 437, 'catching': 716, 'glimpse': 1919, 'cook': 988, 'museum': 2945, 'inappropriate': 2259, 'composed': 926, 'humble': 2191, 'cruel': 1070, 'revolutionary': 3681, 'destroyed': 1214, 'itll': 2369, 'bond': 532, 'ken': 2453, 'spielberg': 4110, 'shoots': 3944, 'empire': 1464, 'enterprise': 1495, 'lazy': 2543, 'evening': 1534, 'cinemas': 817, 'screens': 3832, 'proceeds': 3411, 'opportunities': 3120, 'bag': 384, 'photographed': 3258, 'president': 3378, 'elaborate': 1439, 'hints': 2113, 'blockbuster': 509, 'urban': 4688, 'disease': 1285, 'bath': 411, 'plausible': 3295, 'represented': 3638, 'unintentionally': 4659, 'unpredictable': 4675, 'wound': 4960, 'performer': 3231, 'festival': 1697, 'boot': 538, 'soldiers': 4054, 'hopeless': 2158, 'unoriginal': 4673, 'lab': 2501, 'nose': 3037, 'inept': 2281, 'bargain': 400, 'diane': 1238, 'flynn': 1765, 'slightest': 4028, 'liking': 2604, 'slapstick': 4019, 'dennis': 1179, 'damon': 1101, 'craig': 1030, 'wannabe': 4787, 'cards': 683, 'blind': 506, 'connected': 945, 'kicks': 2463, 'psycho': 3457, 'thrillers': 4473, 'terrifying': 4410, 'tremendous': 4579, 'animal': 239, 'path': 3209, 'alex': 179, 'alexander': 180, 'lessons': 2578, 'photo': 3257, 'killings': 2473, 'roberts': 3714, 'landscapes': 2514, 'contemporary': 965, 'landing': 2512, 'prince': 3396, 'daughters': 1122, 'passing': 3204, 'occurs': 3078, 'reach': 3536, 'riveting': 3708, 'subsequent': 4257, 'unaware': 4632, 'folk': 1770, 'lit': 2621, 'trees': 4577, 'hooked': 2153, 'asleep': 320, 'endings': 1472, 'sappy': 3784, 'native': 2972, 'narration': 2965, 'thrills': 4475, 'unintentional': 4658, 'hat': 2045, 'generated': 1882, 'uninspired': 4657, 'ears': 1402, 'troops': 4591, 'agrees': 157, 'boyfriend': 558, 'attracted': 349, 'heat': 2067, 'bull': 619, 'limits': 2607, 'visually': 4758, 'forces': 1788, 'union': 4661, 'join': 2412, 'directs': 1267, 'cube': 1076, 'combine': 884, 'burns': 628, 'matthau': 2771, 'lemmon': 2567, 'rolling': 3730, 'spectacular': 4101, 'elizabeth': 1445, 'females': 1694, 'grave': 1962, 'ruby': 3749, 'buffs': 612, 'wes': 4851, 'swimming': 4338, 'teachers': 4376, 'friendship': 1838, 'dating': 1120, 'sexuality': 3909, 'sensitive': 3879, 'drugs': 1374, 'kinda': 2477, 'teaching': 4377, 'firstly': 1737, 'switch': 4339, 'sword': 4340, 'visuals': 4759, 'hippie': 2115, 'paulie': 3215, 'companion': 909, 'mistress': 2874, 'spy': 4135, 'machines': 2694, 'welcome': 4842, 'satan': 3787, 'lucas': 2680, 'excessive': 1560, 'extras': 1608, 'behave': 445, 'surrounded': 4318, 'hundreds': 2196, 'snl': 4044, 'garden': 1872, 'miscast': 2862, 'anyways': 262, 'bette': 471, 'tea': 4373, 'mildred': 2841, 'rogers': 3725, 'remind': 3618, 'facing': 1620, 'march': 2734, 'catholic': 720, 'engage': 1479, 'stones': 4198, 'foul': 1810, 'kicking': 2462, '1940s': 13, 'construction': 960, 'stilted': 4190, '2nd': 41, 'whoever': 4872, 'weight': 4840, 'hunters': 2200, 'adorable': 124, 'mob': 2879, 'complexity': 924, 'ridiculously': 3694, 'hopper': 2161, 'painting': 3175, 'margaret': 2735, 'helped': 2080, 'rank': 3518, 'lawyer': 2541, 'pleasantly': 3303, 'redeeming': 3577, 'principal': 3398, 'ramones': 3512, 'pal': 3177, 'clint': 850, 'chaos': 755, 'forms': 1801, 'designs': 1204, 'provided': 3449, 'castle': 712, 'primarily': 3393, 'constructed': 959, 'reduced': 3579, 'consistently': 954, 'vivid': 4760, 'virus': 4752, 'hank': 2024, 'expression': 1602, 'hal': 2006, 'fool': 1779, 'cia': 814, 'heights': 2073, '1990s': 25, 'creativity': 1042, 'unfolds': 4651, 'alongside': 196, 'irrelevant': 2358, 'display': 1291, 'descent': 1193, 'tricks': 4583, 'blade': 495, 'quotes': 3497, 'patrick': 3213, 'altogether': 202, 'cinematographer': 819, 'expressed': 1601, 'challenging': 744, 'documentaries': 1306, 'satisfy': 3790, 'digital': 1251, 'recognize': 3569, 'ought': 3138, 'mildly': 2840, 'albeit': 173, 'distant': 1295, 'arts': 310, 'hardcore': 2034, 'taught': 4370, 'virginia': 4750, 'schools': 3814, 'defined': 1160, 'butt': 638, 'handled': 2019, 'lloyd': 2630, 'harris': 2038, 'armed': 293, 'innocence': 2293, 'fest': 1696, 'charlotte': 766, 'drawing': 1350, 'backdrop': 379, 'sink': 3999, 'tear': 4379, 'greater': 1965, 'eccentric': 1414, 'university': 4667, 'reads': 3545, 'purposes': 3475, 'greed': 1968, 'wayne': 4821, 'fears': 1677, 'response': 3654, 'legal': 2563, 'pity': 3281, 'react': 3540, 'examples': 1554, 'cared': 685, 'closest': 857, 'destruction': 1216, 'horrendous': 2162, 'wishing': 4907, 'millions': 2848, 'religion': 3607, 'spread': 4133, 'definition': 1163, 'matrix': 2767, 'choices': 798, 'landscape': 2513, 'continued': 970, 'championship': 745, 'broke': 593, 'rolled': 3729, 'knock': 2488, 'vengeance': 4719, 'walls': 4783, 'icon': 2211, 'repeatedly': 3632, 'tap': 4364, 'instant': 2305, 'promise': 3430, 'activities': 102, 'stated': 4161, 'producing': 3417, 'hugh': 2186, 'angela': 232, 'conflicts': 940, 'anime': 243, 'parties': 3196, 'proceedings': 3410, 'treats': 4575, 'masterpieces': 2760, 'bacall': 377, 'carol': 693, 'seemingly': 3863, 'swear': 4334, 'devils': 1229, 'carl': 692, 'settle': 3902, 'cuba': 1075, 'baseball': 403, 'widmark': 4882, 'battles': 415, 'russell': 3761, 'executive': 1567, 'dressing': 1359, 'beaten': 424, 'ruins': 3752, 'danes': 1108, 'hundred': 2195, 'nyc': 3065, 'ritter': 3705, 'andrew': 228, 'exposure': 1599, 'essential': 1522, 'theatrical': 4430, 'richards': 3687, 'scenario': 3808, 'method': 2824, 'heck': 2071, 'agreed': 156, 'lion': 2614, 'remote': 3622, 'ginger': 1908, 'astaire': 330, 'everyones': 1543, 'twins': 4616, 'tongue': 4518, 'sadistic': 3768, 'careful': 688, 'historically': 2120, 'denzel': 1181, 'window': 4894, 'severe': 3906, 'suffers': 4278, 'creators': 1044, 'ingredients': 2289, 'melting': 2799, 'relations': 3596, 'reflect': 3584, '1980': 20, 'le': 2544, 'september': 3884, 'erotic': 1515, 'ann': 244, 'westerns': 4854, 'kay': 2447, 'powell': 3358, 'rural': 3758, 'kissing': 2484, 'earl': 1398, 'visit': 4755, 'report': 3635, 'north': 3036, 'lively': 2627, 'doors': 1329, '2002': 32, 'hype': 2207, 'stan': 4142, 'gifted': 1907, 'chicks': 787, 'fury': 1855, 'rat': 3525, 'wallace': 4782, 'beast': 422, 'purple': 3473, 'phony': 3256, 'leader': 2546, 'asking': 318, 'basement': 405, 'alcohol': 176, 'murderous': 2942, 'survive': 4321, 'countryside': 1015, 'versus': 4722, 'misery': 2865, 'sons': 4073, 'santa': 3783, 'trashy': 4566, 'student': 4238, 'vicious': 4728, 'nonetheless': 3029, 'inane': 2258, 'tooth': 4524, 'felix': 1689, 'quote': 3496, 'neil': 2995, 'strikes': 4225, 'hollow': 2135, 'offered': 3088, 'secretly': 3851, 'yellow': 4981, 'paltrow': 3178, 'emma': 1457, 'jaws': 2385, 'slick': 4026, 'advertising': 132, 'gerard': 1895, 'hitchcock': 2123, 'dreary': 1356, 'sid': 3964, 'notorious': 3051, 'translation': 4562, 'lengthy': 2570, 'mountain': 2917, 'greek': 1970, 'sinatra': 3989, 'transformation': 4560, 'sold': 4052, 'thousand': 4465, 'dutch': 1389, 'freak': 1824, 'jessica': 2398, 'requires': 3642, 'strangers': 4214, 'worn': 4948, 'hearts': 2066, 'abusive': 75, 'madonna': 2699, 'vacation': 4704, 'simplistic': 3985, 'measure': 2786, 'attend': 344, 'cooper': 990, 'cities': 823, 'slaughter': 4021, 'outrageous': 3145, '13th': 5, 'olivier': 3103, 'stunts': 4246, 'alice': 182, 'beings': 449, 'kitchen': 2485, 'roots': 3738, 'carried': 698, 'laws': 2540, 'football': 1783, 'crucial': 1068, 'cup': 1080, 'iran': 2350, 'wells': 4845, 'striking': 4226, 'matthew': 2772, 'carter': 703, 'carrey': 696, 'waters': 4817, 'remaining': 3610, 'survivors': 4325, 'pays': 3218, '1972': 18, 'signs': 3973, 'maggie': 2702, 'wounded': 4961, 'snow': 4045, 'closed': 854, 'ironic': 2355, 'chess': 783, 'jumping': 2431, 'host': 2173, 'hammer': 2014, 'sandra': 3782, 'farce': 1654, 'centers': 734, 'devoted': 1231, 'del': 1165, 'pokemon': 3320, 'valuable': 4708, 'defense': 1159, 'unbearable': 4633, 'britain': 588, 'instinct': 2308, 'norman': 3035, 'subplots': 4256, 'theyll': 4444, 'failing': 1627, 'lincoln': 2608, 'narrator': 2967, 'twin': 4615, 'warriors': 4803, 'savage': 3793, 'hills': 2109, 'roy': 3745, 'francis': 1818, 'chapter': 757, 'samurai': 3779, 'junior': 2435, 'arguably': 289, 'monk': 2889, 'topless': 4527, 'enormous': 1490, 'warren': 4801, 'beatty': 427, 'andrews': 229, 'burt': 629, 'link': 2613, 'credibility': 1047, 'hint': 2112, 'grandfather': 1954, 'competition': 918, 'resources': 3651, 'grey': 1973, 'canada': 666, 'voiced': 4762, 'montana': 2895, 'reynolds': 3684, 'cox': 1026, 'prequel': 3372, 'nations': 2971, 'atrocious': 335, 'destiny': 1212, 'duke': 1383, 'load': 2631, 'outer': 3143, 'todd': 4510, 'dear': 1140, 'judging': 2425, 'pride': 3391, 'whale': 4857, 'installment': 2303, 'swedish': 4335, 'tiger': 4491, 'ear': 1397, 'martial': 2747, 'swim': 4337, 'morris': 2908, 'coach': 868, 'diana': 1237, 'priceless': 3390, 'introduces': 2338, 'awe': 370, 'strip': 4228, '1999': 27, 'guarantee': 1987, 'jet': 2400, 'li': 2587, 'shelley': 3928, 'awfully': 373, 'wet': 4855, 'secondly': 3847, 'realizing': 3555, 'depicting': 1184, 'wolf': 4920, 'brains': 563, 'odds': 3082, 'corruption': 1002, 'betty': 474, 'worker': 4942, 'similarly': 3980, 'improvement': 2256, 'hence': 2083, 'fix': 1744, 'che': 773, 'energy': 1478, 'operation': 3117, 'album': 175, 'resident': 3647, 'hiding': 2099, 'patients': 3212, 'scarecrow': 3804, 'presentation': 3375, 'wondered': 4927, 'hop': 2154, 'trademark': 4548, 'soccer': 4048, 'spots': 4132, 'communist': 907, 'terrorists': 4414, 'davies': 1125, 'polanski': 3321, 'occur': 3076, 'trio': 4587, 'cliche': 843, 'cringe': 1059, 'inducing': 2279, 'hamlet': 2013, 'flies': 1756, 'june': 2433, 'porno': 3337, 'unbelievably': 4635, 'questionable': 3488, 'streep': 4215, 'cried': 1054, 'professor': 3422, 'deaf': 1134, 'eastwood': 1409, 'cd': 728, 'relation': 3595, 'frequent': 1831, 'edie': 1419, 'disagree': 1269, 'miracle': 2860, 'eastern': 1408, 'craven': 1034, 'latin': 2527, 'areas': 287, 'stinks': 4192, 'restored': 3659, 'kirk': 2482, 'dawson': 1128, 'online': 3109, 'singers': 3994, 'bud': 607, 'fired': 1735, 'wholly': 4874, 'education': 1424, 'hamilton': 2012, 'fulci': 1845, 'campbell': 663, 'letters': 2582, 'iii': 2227, 'wore': 4939, 'faults': 1669, 'bold': 528, 'jenny': 2393, 'simplicity': 3984, 'spain': 4091, 'thugs': 4484, 'sneak': 4043, 'cg': 739, 'blah': 496, 'compelled': 915, 'mario': 2738, 'wrapped': 4964, 'karloff': 2445, 'laughably': 2531, 'ps': 3453, 'ultra': 4629, 'diamond': 1236, 'holly': 2136, 'rats': 3531, 'tracy': 4546, 'affect': 136, 'stevens': 4183, 'celebrity': 729, 'scrooge': 3837, 'analysis': 224, 'directions': 1262, 'lou': 2663, 'intentionally': 2320, 'giallo': 1904, 'garbo': 1871, 'nuclear': 3057, 'illness': 2230, 'preview': 3386, 'carpenter': 694, 'colonel': 876, 'miserable': 2863, 'sidekick': 3966, 'wendy': 4846, 'bourne': 554, 'grinch': 1975, 'apes': 267, 'sellers': 3872, 'edition': 1422, 'gundam': 1997, 'marty': 2749, 'cagney': 646, 'elvira': 1450}\n"
     ]
    }
   ],
   "source": [
    "print(str(vocabulary))"
   ]
  },
  {
   "cell_type": "markdown",
   "metadata": {},
   "source": [
    "Once you have added the endpoint name to the Lambda function, click on **Save**. Your Lambda function is now up and running. Next we need to create a way for our web app to execute the Lambda function."
   ]
  },
  {
   "cell_type": "markdown",
   "metadata": {},
   "source": [
    "### Setting up API Gateway\n",
    "\n",
    "Now that our Lambda function is set up, it is time to create a new API using API Gateway that will trigger the Lambda function we have just created.\n",
    "\n",
    "Using AWS Console, navigate to **Amazon API Gateway** and then click on **Get started**.\n",
    "\n",
    "On the next page, make sure that **New API** is selected and give the new api a name, for example, `sentiment_analysis_web_app`. Then, click on **Create API**.\n",
    "\n",
    "Now we have created an API, however it doesn't currently do anything. What we want it to do is to trigger the Lambda function that we created earlier.\n",
    "\n",
    "Select the **Actions** dropdown menu and click **Create Method**. A new blank method will be created, select its dropdown menu and select **POST**, then click on the check mark beside it.\n",
    "\n",
    "For the integration point, make sure that **Lambda Function** is selected and click on the **Use Lambda Proxy integration**. This option makes sure that the data that is sent to the API is then sent directly to the Lambda function with no processing. It also means that the return value must be a proper response object as it will also not be processed by API Gateway.\n",
    "\n",
    "Type the name of the Lambda function you created earlier into the **Lambda Function** text entry box and then click on **Save**. Click on **OK** in the pop-up box that then appears, giving permission to API Gateway to invoke the Lambda function you created.\n",
    "\n",
    "The last step in creating the API Gateway is to select the **Actions** dropdown and click on **Deploy API**. You will need to create a new Deployment stage and name it anything you like, for example `prod`.\n",
    "\n",
    "You have now successfully set up a public API to access your SageMaker model. Make sure to copy or write down the URL provided to invoke your newly created public API as this will be needed in the next step. This URL can be found at the top of the page, highlighted in blue next to the text **Invoke URL**."
   ]
  },
  {
   "cell_type": "markdown",
   "metadata": {},
   "source": [
    "## Step 7: Deploying our web app\n",
    "\n",
    "Now that we have a publicly available API, we can start using it in a web app. For our purposes, we have provided a simple static html file which can make use of the public api you created earlier.\n",
    "\n",
    "In the `website` folder there should be a file called `index.html`. Download the file to your computer and open that file up in a text editor of your choice. There should be a line which contains **\\*\\*REPLACE WITH PUBLIC API URL\\*\\***. Replace this string with the url that you wrote down in the last step and then save the file.\n",
    "\n",
    "Now, if you open `index.html` on your local computer, your browser will behave as a local web server and you can use the provided site to interact with your SageMaker model.\n",
    "\n",
    "If you'd like to go further, you can host this html file anywhere you'd like, for example using github or hosting a static site on Amazon's S3. Once you have done this you can share the link with anyone you'd like and have them play with it too!\n",
    "\n",
    "> **Important Note** In order for the web app to communicate with the SageMaker endpoint, the endpoint has to actually be deployed and running. This means that you are paying for it. Make sure that the endpoint is running when you want to use the web app but that you shut it down when you don't need it, otherwise you will end up with a surprisingly large AWS bill."
   ]
  },
  {
   "cell_type": "markdown",
   "metadata": {},
   "source": [
    "### Delete the endpoint\n",
    "\n",
    "Remember to always shut down your endpoint if you are no longer using it. You are charged for the length of time that the endpoint is running so if you forget and leave it on you could end up with an unexpectedly large bill."
   ]
  },
  {
   "cell_type": "code",
   "execution_count": 52,
   "metadata": {},
   "outputs": [
    {
     "name": "stderr",
     "output_type": "stream",
     "text": [
      "INFO:sagemaker:Deleting endpoint configuration with name: xgboost-2019-04-05-13-29-32-676\n",
      "INFO:sagemaker:Deleting endpoint with name: xgboost-2019-04-05-13-29-32-676\n"
     ]
    }
   ],
   "source": [
    "xgb_predictor.delete_endpoint()"
   ]
  },
  {
   "cell_type": "markdown",
   "metadata": {},
   "source": [
    "## Optional: Clean up\n",
    "\n",
    "The default notebook instance on SageMaker doesn't have a lot of excess disk space available. As you continue to complete and execute notebooks you will eventually fill up this disk space, leading to errors which can be difficult to diagnose. Once you are completely finished using a notebook it is a good idea to remove the files that you created along the way. Of course, you can do this from the terminal or from the notebook hub if you would like. The cell below contains some commands to clean up the created files from within the notebook."
   ]
  },
  {
   "cell_type": "code",
   "execution_count": null,
   "metadata": {},
   "outputs": [],
   "source": [
    "# First we will remove all of the files contained in the data_dir directory\n",
    "!rm $data_dir/*\n",
    "\n",
    "# And then we delete the directory itself\n",
    "!rmdir $data_dir\n",
    "\n",
    "# Similarly we remove the files in the cache_dir directory and the directory itself\n",
    "!rm $cache_dir/*\n",
    "!rmdir $cache_dir"
   ]
  },
  {
   "cell_type": "code",
   "execution_count": null,
   "metadata": {},
   "outputs": [],
   "source": []
  }
 ],
 "metadata": {
  "kernelspec": {
   "display_name": "conda_python3",
   "language": "python",
   "name": "conda_python3"
  },
  "language_info": {
   "codemirror_mode": {
    "name": "ipython",
    "version": 3
   },
   "file_extension": ".py",
   "mimetype": "text/x-python",
   "name": "python",
   "nbconvert_exporter": "python",
   "pygments_lexer": "ipython3",
   "version": "3.6.5"
  }
 },
 "nbformat": 4,
 "nbformat_minor": 2
}
